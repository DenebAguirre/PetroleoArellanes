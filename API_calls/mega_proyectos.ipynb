{
 "metadata": {
  "language_info": {
   "codemirror_mode": {
    "name": "ipython",
    "version": 3
   },
   "file_extension": ".py",
   "mimetype": "text/x-python",
   "name": "python",
   "nbconvert_exporter": "python",
   "pygments_lexer": "ipython3",
   "version": "3.7.7-final"
  },
  "orig_nbformat": 2,
  "kernelspec": {
   "name": "python3",
   "display_name": "Python 3.7.7 64-bit ('base': conda)",
   "metadata": {
    "interpreter": {
     "hash": "aa7583ab6350143d4e9d2780c62a9c5e1694c574a0517b8a7c25e1096bbf9afb"
    }
   }
  }
 },
 "nbformat": 4,
 "nbformat_minor": 2,
 "cells": [
  {
   "source": [
    "# API CALL links\n",
    "## Proyectos:\n",
    "\"https://reconnectingasia.csis.org/api/projects/?format=json\"\n",
    "\n",
    "## Iniciativas:\n",
    "https://reconnectingasia.csis.org/api/initiatives/?format=json\n",
    "\n",
    "## Organizaciones:\n",
    "https://reconnectingasia.csis.org/api/organizations/?format=json\n",
    "\n",
    "\n",
    "## Datos geograficos\n",
    "Vienen distribuidos segun tengan una linea, poligono o cualquier otra figura geometrica\n",
    "El identifier es el id del proyecto en la db\n",
    "https://reconnectingasia.csis.org/api/geostore/{identifier}.json?format=json\n",
    "Aca un ejemplo\n",
    "https://reconnectingasia.csis.org/api/geostore/be74ab4c-8342-4b2e-ac95-1d2bcca784f2.json?format=json\n",
    "\n",
    "Pero aparentemente es mejor usar esta otra base de datos donde estan todos los centroides en una sola llamada:\n",
    "\"https://reconnectingasia.csis.org/api/geostore-centroids/?format=json\"\n",
    "\n",
    "\n",
    "# To Webscrape\n",
    "This data was unavailable in the dbs, so I need to webscrape them:\n",
    "\n",
    "- Status [in page]\n",
    "- Description text [in page] (algunas tienen imágenes y links) \n",
    "ORGANIZATIONS TYPE\n",
    "- Contractors [in page]\n",
    "- Consultants [in page]\n",
    "- Implementers [in page]\n",
    "- Operators [in page]\n",
    "\n",
    "Note> I may need to change user agent, use timesleep, use proxy serves (VPNs), clear cookies, and be careful with honey traps links\n",
    "https://www.octoparse.com/blog/scrape-websites-without-being-blocked"
   ],
   "cell_type": "markdown",
   "metadata": {}
  },
  {
   "cell_type": "code",
   "execution_count": 1,
   "metadata": {},
   "outputs": [],
   "source": [
    "import requests \n",
    "import json\n",
    "import pandas as pd\n",
    "\n",
    "#This other API is related to the last one by an ID and has additional info\n",
    "#The main problem is that it is segmented in groups of 75 features by link \n",
    "main_data = \"https://reconnectingasia.csis.org/api/projects/?format=json\""
   ]
  },
  {
   "cell_type": "code",
   "execution_count": 2,
   "metadata": {},
   "outputs": [],
   "source": [
    "response = requests.get(main_data)\n",
    "#json format\n",
    "response = response.json()"
   ]
  },
  {
   "cell_type": "code",
   "execution_count": 3,
   "metadata": {},
   "outputs": [],
   "source": [
    "#get rid of\n",
    "data = response[\"results\"]"
   ]
  },
  {
   "cell_type": "code",
   "execution_count": 47,
   "metadata": {},
   "outputs": [],
   "source": [
    "#### Here we create the lists to fill ######\n",
    "db_id = []\n",
    "geo_id = [] #In order to match data with the geostore db\n",
    "name = [] \n",
    "planed_completition_date = [] #need to get the day, month and year, from different entrance and save it in text format because some are incomplete\n",
    "start_date = [] # same as completition  (aparently the start of project)\n",
    "commencement_date = [] #Aparently the start of works\n",
    "total_cost = []\n",
    "total_cost_currency = []\n",
    "\n",
    "initiatives = [] #Note: some have 2 and others don't have (I should make a list comprehension with and error handle)\n",
    "funding_sources = [] #Same as initiatives, as there is a db with ORGANIZATIONS and initiatives I may create a 2NF db to save them?\n",
    "funding_sources_slug = []\n",
    "funding_amount = []  # Same\n",
    "funding_currency = [] # Same\n",
    "project_page_url = []"
   ]
  },
  {
   "cell_type": "code",
   "execution_count": 48,
   "metadata": {},
   "outputs": [],
   "source": [
    "for x in range(len(data)):\n",
    "    db_id.append(data[x][\"identifier\"])\n",
    "    geo_id.append(data[x][\"geo\"])\n",
    "    name.append(data[x][\"name\"]) \n",
    "    planed_completition_date.append([data[x][\"planned_completion_day\"],data[x][\"planned_completion_month\"],data[x][\"planned_completion_year\"]])\n",
    "    commencement_date.append([data[x][\"commencement_day\"], data[x][\"commencement_month\"], data[x][\"commencement_year\"]])\n",
    "    start_date.append([data[x][\"start_day\"], data[x][\"start_month\"], data[x][\"start_year\"]])\n",
    "   \n",
    "    total_cost.append(data[x][\"total_cost\"])\n",
    "    total_cost_currency.append(data[x][\"total_cost_currency\"])\n",
    "\n",
    "    initiatives.append([y[\"name\"] for y in data[x][\"initiatives\"]])\n",
    "    funding_sources.append([y[\"sources\"][0][\"name\"] for y in data[x][\"funding\"] if y[\"sources\"]])\n",
    "    funding_sources_slug.append([y[\"sources\"][0][\"slug\"] for y in data[x][\"funding\"] if y[\"sources\"]])\n",
    "    funding_amount.append([y[\"amount\"] for y in data[x][\"funding\"]])\n",
    "    funding_currency.append([y[\"currency\"] for y in data[x][\"funding\"]])\n",
    "    project_page_url.append(data[x][\"page_url\"])"
   ]
  },
  {
   "cell_type": "code",
   "execution_count": 49,
   "metadata": {},
   "outputs": [],
   "source": [
    "data_base = {\n",
    "         \"id\" : db_id,\n",
    "        \"geo\" : geo_id,\n",
    "        \"project\" : name,\n",
    "        \"planed_completition\" : planed_completition_date,\n",
    "        \"start\" : start_date,\n",
    "        \"comencement\" : commencement_date,\n",
    "        \"cost\" : total_cost,\n",
    "        \"cost_currency\" : total_cost_currency,\n",
    "        \"initiatives\" : initiatives,\n",
    "        \"funders\" : funding_sources,\n",
    "        \"funders_slug\" : funding_sources_slug,\n",
    "        \"fund\" : funding_amount,\n",
    "        \"fund_currency\" : funding_currency,\n",
    "        \"page\" : project_page_url,\n",
    "}"
   ]
  },
  {
   "cell_type": "code",
   "execution_count": 51,
   "metadata": {
    "tags": []
   },
   "outputs": [],
   "source": [
    "panda = pd.DataFrame(data_base)\n",
    "###Queda pendiente ver como impedir que los elemntos queden dentro de corchetes"
   ]
  },
  {
   "cell_type": "code",
   "execution_count": 52,
   "metadata": {},
   "outputs": [
    {
     "output_type": "execute_result",
     "data": {
      "text/plain": [
       "                                     id                                   geo  \\\n",
       "0  3b92029a-1f75-402a-adf5-8d9cf7b3786e                                  None   \n",
       "1  0b0dd2d6-8b39-44d8-8057-58c88bd74dfd                                  None   \n",
       "2  01b53e04-dd3f-40f3-9e35-2faca340255a  be74ab4c-8342-4b2e-ac95-1d2bcca784f2   \n",
       "3  21aacd5c-b12b-4048-9e69-343a57c63ee2  23d82ba3-0183-46f3-8536-b71ed70aa43a   \n",
       "4  d86f26cd-178d-4dbd-a60e-562852c617fb                                  None   \n",
       "\n",
       "                                             project planed_completition  \\\n",
       "0        1520mm Broad Gauge-Connection Kosice-Vienna  [None, None, 2033]   \n",
       "1  300MW Imported Coal Based Power Project At Gwadar  [None, None, None]   \n",
       "2    4/6 Laning of Ghaziabad-Aligarh section of NH91     [None, 8, 2017]   \n",
       "3  4/6-Laning of Solapur-Bijapur section of NH-13...  [None, None, None]   \n",
       "4                 4 Laning of Amravati-Jalgaon (PPP)  [None, None, None]   \n",
       "\n",
       "                start         comencement          cost cost_currency  \\\n",
       "0  [None, None, None]  [None, None, None]  6.490000e+09           EUR   \n",
       "1  [None, None, 2017]  [None, None, None]  5.423600e+08           USD   \n",
       "2       [20, 5, 2010]  [None, None, None]  1.141000e+10           INR   \n",
       "3  [None, None, 2012]  [None, None, None]  3.840000e+08           USD   \n",
       "4  [None, None, 2012]  [None, None, None]  9.189000e+08           USD   \n",
       "\n",
       "                                         initiatives  \\\n",
       "0                                    [Belt and Road]   \n",
       "1  [Belt and Road, China-Pakistan Economic Corrid...   \n",
       "2                                                 []   \n",
       "3                                                 []   \n",
       "4                                                 []   \n",
       "\n",
       "                                    funders  \\\n",
       "0                                [Slovakia]   \n",
       "1                                        []   \n",
       "2  [Ghaziabad Aligarh Expressway Pvt. Ltd.]   \n",
       "3    [IndusInd Bank Limited, Bank of India]   \n",
       "4                      [ICICI Bank Limited]   \n",
       "\n",
       "                             funders_slug                  fund fund_currency  \\\n",
       "0                   [government-slovakia]                [None]         [USD]   \n",
       "1                                      []                    []            []   \n",
       "2  [ghaziabad-aligarh-expressway-pvt-ltd]           [516700000]         [USD]   \n",
       "3     [indusind-bank-limited, bank-india]  [74730000, 74730000]    [USD, USD]   \n",
       "4                    [icici-bank-limited]           [459800000]         [USD]   \n",
       "\n",
       "                                                page  \n",
       "0  /database/projects/kosice-vienna-railway-const...  \n",
       "1  /database/projects/gwadar-coal-fired-power-pla...  \n",
       "2  /database/projects/ghaziabad-aligarh-laning-co...  \n",
       "3  /database/projects/solapur-bijapur-road-constr...  \n",
       "4  /database/projects/amravati-jalgaon-road-toll-...  "
      ],
      "text/html": "<div>\n<style scoped>\n    .dataframe tbody tr th:only-of-type {\n        vertical-align: middle;\n    }\n\n    .dataframe tbody tr th {\n        vertical-align: top;\n    }\n\n    .dataframe thead th {\n        text-align: right;\n    }\n</style>\n<table border=\"1\" class=\"dataframe\">\n  <thead>\n    <tr style=\"text-align: right;\">\n      <th></th>\n      <th>id</th>\n      <th>geo</th>\n      <th>project</th>\n      <th>planed_completition</th>\n      <th>start</th>\n      <th>comencement</th>\n      <th>cost</th>\n      <th>cost_currency</th>\n      <th>initiatives</th>\n      <th>funders</th>\n      <th>funders_slug</th>\n      <th>fund</th>\n      <th>fund_currency</th>\n      <th>page</th>\n    </tr>\n  </thead>\n  <tbody>\n    <tr>\n      <th>0</th>\n      <td>3b92029a-1f75-402a-adf5-8d9cf7b3786e</td>\n      <td>None</td>\n      <td>1520mm Broad Gauge-Connection Kosice-Vienna</td>\n      <td>[None, None, 2033]</td>\n      <td>[None, None, None]</td>\n      <td>[None, None, None]</td>\n      <td>6.490000e+09</td>\n      <td>EUR</td>\n      <td>[Belt and Road]</td>\n      <td>[Slovakia]</td>\n      <td>[government-slovakia]</td>\n      <td>[None]</td>\n      <td>[USD]</td>\n      <td>/database/projects/kosice-vienna-railway-const...</td>\n    </tr>\n    <tr>\n      <th>1</th>\n      <td>0b0dd2d6-8b39-44d8-8057-58c88bd74dfd</td>\n      <td>None</td>\n      <td>300MW Imported Coal Based Power Project At Gwadar</td>\n      <td>[None, None, None]</td>\n      <td>[None, None, 2017]</td>\n      <td>[None, None, None]</td>\n      <td>5.423600e+08</td>\n      <td>USD</td>\n      <td>[Belt and Road, China-Pakistan Economic Corrid...</td>\n      <td>[]</td>\n      <td>[]</td>\n      <td>[]</td>\n      <td>[]</td>\n      <td>/database/projects/gwadar-coal-fired-power-pla...</td>\n    </tr>\n    <tr>\n      <th>2</th>\n      <td>01b53e04-dd3f-40f3-9e35-2faca340255a</td>\n      <td>be74ab4c-8342-4b2e-ac95-1d2bcca784f2</td>\n      <td>4/6 Laning of Ghaziabad-Aligarh section of NH91</td>\n      <td>[None, 8, 2017]</td>\n      <td>[20, 5, 2010]</td>\n      <td>[None, None, None]</td>\n      <td>1.141000e+10</td>\n      <td>INR</td>\n      <td>[]</td>\n      <td>[Ghaziabad Aligarh Expressway Pvt. Ltd.]</td>\n      <td>[ghaziabad-aligarh-expressway-pvt-ltd]</td>\n      <td>[516700000]</td>\n      <td>[USD]</td>\n      <td>/database/projects/ghaziabad-aligarh-laning-co...</td>\n    </tr>\n    <tr>\n      <th>3</th>\n      <td>21aacd5c-b12b-4048-9e69-343a57c63ee2</td>\n      <td>23d82ba3-0183-46f3-8536-b71ed70aa43a</td>\n      <td>4/6-Laning of Solapur-Bijapur section of NH-13...</td>\n      <td>[None, None, None]</td>\n      <td>[None, None, 2012]</td>\n      <td>[None, None, None]</td>\n      <td>3.840000e+08</td>\n      <td>USD</td>\n      <td>[]</td>\n      <td>[IndusInd Bank Limited, Bank of India]</td>\n      <td>[indusind-bank-limited, bank-india]</td>\n      <td>[74730000, 74730000]</td>\n      <td>[USD, USD]</td>\n      <td>/database/projects/solapur-bijapur-road-constr...</td>\n    </tr>\n    <tr>\n      <th>4</th>\n      <td>d86f26cd-178d-4dbd-a60e-562852c617fb</td>\n      <td>None</td>\n      <td>4 Laning of Amravati-Jalgaon (PPP)</td>\n      <td>[None, None, None]</td>\n      <td>[None, None, 2012]</td>\n      <td>[None, None, None]</td>\n      <td>9.189000e+08</td>\n      <td>USD</td>\n      <td>[]</td>\n      <td>[ICICI Bank Limited]</td>\n      <td>[icici-bank-limited]</td>\n      <td>[459800000]</td>\n      <td>[USD]</td>\n      <td>/database/projects/amravati-jalgaon-road-toll-...</td>\n    </tr>\n  </tbody>\n</table>\n</div>"
     },
     "metadata": {},
     "execution_count": 52
    }
   ],
   "source": [
    "panda.head()"
   ]
  },
  {
   "cell_type": "code",
   "execution_count": null,
   "metadata": {},
   "outputs": [],
   "source": []
  },
  {
   "cell_type": "code",
   "execution_count": null,
   "metadata": {},
   "outputs": [],
   "source": []
  },
  {
   "cell_type": "code",
   "execution_count": null,
   "metadata": {},
   "outputs": [],
   "source": []
  },
  {
   "source": [
    "# Geodata call"
   ],
   "cell_type": "markdown",
   "metadata": {}
  },
  {
   "cell_type": "code",
   "execution_count": null,
   "metadata": {},
   "outputs": [],
   "source": [
    "#This API storage all the centroids of the projects\n",
    "#Centroids are just points, if we want to get the lines from a railroad we need to call api-geostore/identifier\n",
    "geodata = \"https://reconnectingasia.csis.org/api/geostore-centroids/?format=json\""
   ]
  },
  {
   "cell_type": "code",
   "execution_count": 2,
   "metadata": {},
   "outputs": [],
   "source": [
    "#Make the call the basic geodata first\n",
    "response = requests.get(all_geodata)\n",
    "#Save the call in a variable\n",
    "response_json = response.json()\n",
    "#Save the straight info\n",
    "data = response_json[\"features\"]"
   ]
  },
  {
   "cell_type": "code",
   "execution_count": 3,
   "metadata": {},
   "outputs": [],
   "source": [
    "#Create a series of lists to save the info\n",
    "geostore_id = []\n",
    "project_name = []\n",
    "locations = []\n",
    "infraestructure_type = []\n",
    "coordinates = []\n",
    "\n",
    "#Use a for loop to add the data to the lists\n",
    "for x in range(len(data)):\n",
    "    geoestore_id.append(data[x][\"id\"])\n",
    "    project_name.append(data[x]['properties']['label'])\n",
    "    locations.append(data[x]['properties']['locations'])\n",
    "    infraestructure_type.append(data[x]['properties']['infrastructureType'])\n",
    "    cost.append(data[x]['properties']['total_cost'])\n",
    "    currency.append(data[x]['properties']['currency'])\n",
    "    coordinates.append(data[x]['geometry']['coordinates'])"
   ]
  },
  {
   "cell_type": "code",
   "execution_count": 4,
   "metadata": {},
   "outputs": [],
   "source": [
    "#Create a dictionary where to put toghether the data\n",
    "db = {\n",
    "    \"id\" : geostore_id,\n",
    "    \"Project\" : project_name,\n",
    "    \"Locations\" : locations,\n",
    "    \"Infraestructure_type\" : infraestructure_type,\n",
    "    \"Cost\" : cost,\n",
    "    \"Currency\" : currency,\n",
    "    \"Coordinates\" : coordinates\n",
    "}"
   ]
  },
  {
   "cell_type": "code",
   "execution_count": 5,
   "metadata": {},
   "outputs": [],
   "source": [
    "data_base = pd.DataFrame(db)\n",
    "#Show the complet float numbers not in cientific notation\n",
    "pd.options.display.float_format = '{:,.0f}'.format"
   ]
  },
  {
   "cell_type": "code",
   "execution_count": null,
   "metadata": {},
   "outputs": [],
   "source": []
  },
  {
   "cell_type": "code",
   "execution_count": null,
   "metadata": {},
   "outputs": [],
   "source": []
  }
 ]
}