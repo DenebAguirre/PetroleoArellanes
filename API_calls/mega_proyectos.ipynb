{
 "metadata": {
  "language_info": {
   "codemirror_mode": {
    "name": "ipython",
    "version": 3
   },
   "file_extension": ".py",
   "mimetype": "text/x-python",
   "name": "python",
   "nbconvert_exporter": "python",
   "pygments_lexer": "ipython3",
   "version": "3.7.7-final"
  },
  "orig_nbformat": 2,
  "kernelspec": {
   "name": "python3",
   "display_name": "Python 3.7.7 64-bit ('base': conda)",
   "metadata": {
    "interpreter": {
     "hash": "aa7583ab6350143d4e9d2780c62a9c5e1694c574a0517b8a7c25e1096bbf9afb"
    }
   }
  }
 },
 "nbformat": 4,
 "nbformat_minor": 2,
 "cells": [
  {
   "cell_type": "code",
   "execution_count": 1,
   "metadata": {},
   "outputs": [],
   "source": [
    "import requests \n",
    "import json\n",
    "import pandas as pd\n",
    "\n",
    "#This API storage all the centroids of the projects\n",
    "#Centroids are just points, if we want to get the lines from a railroad we need to call api-geostore/identifier\n",
    "all_geodata = \"https://reconnectingasia.csis.org/api/geostore-centroids/?format=json\"\n",
    "#This other API is related to the last one by an ID and has additional info\n",
    "#The main problem is that it is segmented in groups of 75 features by link \n",
    "extra_data_divided = \"https://reconnectingasia.csis.org/api/projects/?format=json\""
   ]
  },
  {
   "cell_type": "code",
   "execution_count": 2,
   "metadata": {},
   "outputs": [],
   "source": [
    "#Make the call the basic geodata first\n",
    "response = requests.get(all_geodata)\n",
    "#Save the call in a variable\n",
    "response_json = response.json()\n",
    "#Save the straight info\n",
    "data = response_json[\"features\"]"
   ]
  },
  {
   "cell_type": "code",
   "execution_count": 3,
   "metadata": {},
   "outputs": [],
   "source": [
    "#Create a series of lists to save the info\n",
    "geostore_id = []\n",
    "project_name = []\n",
    "locations = []\n",
    "infraestructure_type = []\n",
    "cost  = []\n",
    "currency =  []\n",
    "coordinates = []\n",
    "\n",
    "#Use a for loop to add the data to the lists\n",
    "for x in range(len(data)):\n",
    "    geoestore_id.append(data[x][\"id\"])\n",
    "    project_name.append(data[x]['properties']['label'])\n",
    "    locations.append(data[x]['properties']['locations'])\n",
    "    infraestructure_type.append(data[x]['properties']['infrastructureType'])\n",
    "    cost.append(data[x]['properties']['total_cost'])\n",
    "    currency.append(data[x]['properties']['currency'])\n",
    "    coordinates.append(data[x]['geometry']['coordinates'])"
   ]
  },
  {
   "cell_type": "code",
   "execution_count": 4,
   "metadata": {},
   "outputs": [],
   "source": [
    "#Create a dictionary where to put toghether the data\n",
    "db = {\n",
    "    \"id\" : geostore_id,\n",
    "    \"Project\" : project_name,\n",
    "    \"Locations\" : locations,\n",
    "    \"Infraestructure_type\" : infraestructure_type,\n",
    "    \"Cost\" : cost,\n",
    "    \"Currency\" : currency,\n",
    "    \"Coordinates\" : coordinates\n",
    "}"
   ]
  },
  {
   "cell_type": "code",
   "execution_count": 5,
   "metadata": {},
   "outputs": [],
   "source": [
    "data_base = pd.DataFrame(db)\n",
    "#Show the complet float numbers not in cientific notation\n",
    "pd.options.display.float_format = '{:,.0f}'.format"
   ]
  },
  {
   "source": [
    "# Second call\n",
    "\n",
    "\n",
    "Datos pendientes de obtener: \n",
    "- Status [in page]\n",
    "- Initiatives [in projects json]\n",
    "\n",
    "-Start date [in projects json]\n",
    "-Planned end up [in projects json]\n",
    "\n",
    "DESCRIPTION\n",
    "-Description text [in page] (algunas tienen imágenes y links) \n",
    "\n",
    "ORGANIZATIONS\n",
    "- Contractors [in page]\n",
    "- Consultants [in page]\n",
    "- Implementers [in page]\n",
    "- Operators [in page]\n",
    "- Founders (finance) [in projects json]\n",
    "\n",
    "\n",
    "--- \n",
    "Identifier: to get coordenates\n",
    "if we use the geo identifier in projects json we can get to the coordenates line, polygons or whatever\n",
    "\n",
    "https://reconnectingasia.csis.org/api/geostore/{identifier}.json?format=json\n",
    "\n",
    "https://reconnectingasia.csis.org/api/geostore/be74ab4c-8342-4b2e-ac95-1d2bcca784f2.json?format=json\n",
    "\n",
    "\n",
    "\n",
    "Las iniciativas vienen con su propio listado de que proyectos tienen asociados\n",
    "https://reconnectingasia.csis.org/api/initiatives/?format=json\n",
    "\n",
    "\n"
   ],
   "cell_type": "markdown",
   "metadata": {}
  },
  {
   "cell_type": "code",
   "execution_count": 7,
   "metadata": {},
   "outputs": [],
   "source": [
    "response_2 = requests.get(extra_data_divided)\n",
    "\n",
    "resp_json = response_2.json()\n",
    "\n",
    "extra_data = resp_json[\"results\"] "
   ]
  },
  {
   "cell_type": "code",
   "execution_count": null,
   "metadata": {},
   "outputs": [],
   "source": [
    "db_id = []\n",
    "geo_id = []\n",
    "project_name_two = []\n",
    "planed_completition_date = [] #need to get the day, month and year for each  and aply to datate time ()\n",
    "start_date = []\n",
    "initiatives = [] #Note: some have 2 and others don't have\n",
    "funding_sources = [] #May have more than one this means the db with ORGANIZATIONS\n",
    "founding_amount = []  # May have more than one\n",
    "founding_currency = [] # May have more than one\n",
    "project_page_url = \n",
    "\n",
    "\n",
    "\n",
    "\n",
    "\n",
    "\n"
   ]
  },
  {
   "cell_type": "code",
   "execution_count": null,
   "metadata": {},
   "outputs": [],
   "source": []
  },
  {
   "cell_type": "code",
   "execution_count": null,
   "metadata": {},
   "outputs": [],
   "source": []
  }
 ]
}