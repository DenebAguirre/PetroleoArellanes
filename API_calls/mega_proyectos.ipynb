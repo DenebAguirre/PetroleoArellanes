{
 "metadata": {
  "language_info": {
   "codemirror_mode": {
    "name": "ipython",
    "version": 3
   },
   "file_extension": ".py",
   "mimetype": "text/x-python",
   "name": "python",
   "nbconvert_exporter": "python",
   "pygments_lexer": "ipython3",
   "version": "3.7.7-final"
  },
  "orig_nbformat": 2,
  "kernelspec": {
   "name": "python3",
   "display_name": "Python 3.7.7 64-bit ('base': conda)",
   "metadata": {
    "interpreter": {
     "hash": "aa7583ab6350143d4e9d2780c62a9c5e1694c574a0517b8a7c25e1096bbf9afb"
    }
   }
  }
 },
 "nbformat": 4,
 "nbformat_minor": 2,
 "cells": [
  {
   "cell_type": "code",
   "execution_count": 20,
   "metadata": {},
   "outputs": [],
   "source": [
    "import requests \n",
    "import json\n",
    "\n",
    "#This API has cordinates and a little info\n",
    "all_geodata = \"https://reconnectingasia.csis.org/api/geostore-centroids/?format=json\"\n",
    "#This other API is related to the last one by an ID and has additional info\n",
    "#The main problem is that it is segmented in groups of 75 features by link \n",
    "extra_data_divided = \"https://reconnectingasia.csis.org/api/projects/?format=json\""
   ]
  },
  {
   "cell_type": "code",
   "execution_count": 24,
   "metadata": {},
   "outputs": [],
   "source": [
    "#Make the call the basic geodata first\n",
    "response = requests.get(all_geodata)\n",
    "#Save the call in a variable\n",
    "response_json = response.json()\n",
    "#Save the straight info\n",
    "data = response_json[\"features\"]"
   ]
  },
  {
   "cell_type": "code",
   "execution_count": 29,
   "metadata": {},
   "outputs": [],
   "source": [
    "data = response_json[\"features\"]"
   ]
  },
  {
   "cell_type": "code",
   "execution_count": 30,
   "metadata": {},
   "outputs": [
    {
     "output_type": "execute_result",
     "data": {
      "text/plain": [
       "{'id': '3b1671df-f213-4650-b21b-e3b6bb7f188c',\n",
       " 'type': 'Feature',\n",
       " 'geometry': {'coordinates': [105.21052383104995, 32.88646400746084],\n",
       "  'type': 'Point'},\n",
       " 'properties': {'geostore': '3b1671df-f213-4650-b21b-e3b6bb7f188c',\n",
       "  'total_cost': 8608900000,\n",
       "  'icon-image': 'Rail',\n",
       "  'locations': 'China',\n",
       "  'infrastructureType': 'Rail',\n",
       "  'label': 'Lanzhou-Chongqing Railway (Construction)',\n",
       "  'currency': 'USD'}}"
      ]
     },
     "metadata": {},
     "execution_count": 30
    }
   ],
   "source": [
    "data[0]"
   ]
  },
  {
   "cell_type": "code",
   "execution_count": 26,
   "metadata": {},
   "outputs": [
    {
     "output_type": "stream",
     "name": "stdout",
     "text": [
      "{'id': '3b1671df-f213-4650-b21b-e3b6bb7f188c', 'type': 'Feature', 'geometry': {'coordinates': [105.21052383104995, 32.88646400746084], 'type': 'Point'}, 'properties': {'geostore': '3b1671df-f213-4650-b21b-e3b6bb7f188c', 'total_cost': 8608900000, 'icon-image': 'Rail', 'locations': 'China', 'infrastructureType': 'Rail', 'label': 'Lanzhou-Chongqing Railway (Construction)', 'currency': 'USD'}}\n"
     ]
    }
   ],
   "source": []
  },
  {
   "cell_type": "code",
   "execution_count": 33,
   "metadata": {},
   "outputs": [],
   "source": [
    "db_id = data[0][\"id\"]\n",
    "project_name = data[0]['properties']['label']\n",
    "locations = data[0]['properties']['locations']\n",
    "infraestructure_type = data[0]['properties']['infrastructureType']\n",
    "cost  = data[0]['properties']['total_cost']\n",
    "currency =  data[0]['properties']['total_cost']\n",
    "coordinates = data[0]['geometry']['coordinates']"
   ]
  },
  {
   "cell_type": "code",
   "execution_count": 38,
   "metadata": {},
   "outputs": [
    {
     "output_type": "execute_result",
     "data": {
      "text/plain": [
       "6512"
      ]
     },
     "metadata": {},
     "execution_count": 38
    }
   ],
   "source": [
    "len(data)"
   ]
  },
  {
   "cell_type": "code",
   "execution_count": 43,
   "metadata": {},
   "outputs": [],
   "source": [
    "#Create a list to save the info\n",
    "db_id = []\n",
    "project_name = []\n",
    "locations = []\n",
    "infraestructure_type = []\n",
    "cost  = []\n",
    "currency =  []\n",
    "coordinates = []\n",
    "\n",
    "for x in range(len(data)):\n",
    "    db_id.append(data[x][\"id\"])\n",
    "    project_name.append(data[x]['properties']['label'])\n",
    "    locations.append(data[x]['properties']['locations'])\n",
    "    infraestructure_type.append(data[x]['properties']['infrastructureType'])\n",
    "    cost.append(data[x]['properties']['total_cost'])\n",
    "    currency.append(data[x]['properties']['total_cost'])\n",
    "    coordinates.append(data[x]['geometry']['coordinates'])"
   ]
  }
 ]
}