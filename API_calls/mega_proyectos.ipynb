{
 "metadata": {
  "language_info": {
   "codemirror_mode": {
    "name": "ipython",
    "version": 3
   },
   "file_extension": ".py",
   "mimetype": "text/x-python",
   "name": "python",
   "nbconvert_exporter": "python",
   "pygments_lexer": "ipython3",
   "version": "3.7.7-final"
  },
  "orig_nbformat": 2,
  "kernelspec": {
   "name": "python3",
   "display_name": "Python 3.7.7 64-bit ('base': conda)",
   "metadata": {
    "interpreter": {
     "hash": "aa7583ab6350143d4e9d2780c62a9c5e1694c574a0517b8a7c25e1096bbf9afb"
    }
   }
  }
 },
 "nbformat": 4,
 "nbformat_minor": 2,
 "cells": [
  {
   "source": [
    "# API CALL links\n",
    "## Proyectos:\n",
    "\"https://reconnectingasia.csis.org/api/projects/?format=json\"\n",
    "\n",
    "## Iniciativas:\n",
    "https://reconnectingasia.csis.org/api/initiatives/?format=json\n",
    "\n",
    "## Organizaciones:\n",
    "https://reconnectingasia.csis.org/api/organizations/?format=json\n",
    "\n",
    "\n",
    "## Datos geograficos\n",
    "Vienen distribuidos segun tengan una linea, poligono o cualquier otra figura geometrica\n",
    "El identifier es el id del proyecto en la db\n",
    "https://reconnectingasia.csis.org/api/geostore/{identifier}.json?format=json\n",
    "Aca un ejemplo\n",
    "https://reconnectingasia.csis.org/api/geostore/be74ab4c-8342-4b2e-ac95-1d2bcca784f2.json?format=json\n",
    "\n",
    "Pero aparentemente es mejor usar esta otra base de datos donde estan todos los centroides en una sola llamada:\n",
    "\"https://reconnectingasia.csis.org/api/geostore-centroids/?format=json\"\n",
    "\n",
    "\n",
    "# To Webscrape\n",
    "This data was unavailable in the dbs, so I need to webscrape them:\n",
    "\n",
    "- Status [in page]\n",
    "- Description text [in page] (algunas tienen imágenes y links) \n",
    "ORGANIZATIONS TYPE\n",
    "- Contractors [in page]\n",
    "- Consultants [in page]\n",
    "- Implementers [in page]\n",
    "- Operators [in page]\n",
    "\n",
    "Note> I may need to change user agent, use timesleep, use proxy serves (VPNs), clear cookies, and be careful with honey traps links\n",
    "https://www.octoparse.com/blog/scrape-websites-without-being-blocked"
   ],
   "cell_type": "markdown",
   "metadata": {}
  },
  {
   "cell_type": "code",
   "execution_count": 12,
   "metadata": {},
   "outputs": [],
   "source": [
    "import requests \n",
    "import json\n",
    "import pandas as pd\n",
    "\n",
    "#This other API is related to the last one by an ID and has additional info\n",
    "#The main problem is that it is segmented in groups of 75 features by link \n",
    "main_data = \"https://reconnectingasia.csis.org/api/projects/?format=json\""
   ]
  },
  {
   "cell_type": "code",
   "execution_count": 17,
   "metadata": {},
   "outputs": [],
   "source": [
    "response = requests.get(main_data)\n",
    "#json format\n",
    "response = response.json()"
   ]
  },
  {
   "cell_type": "code",
   "execution_count": 19,
   "metadata": {},
   "outputs": [],
   "source": [
    "#get rid of\n",
    "data = response[\"results\"]"
   ]
  },
  {
   "cell_type": "code",
   "execution_count": 42,
   "metadata": {},
   "outputs": [],
   "source": [
    "#### Here we create the lists to fill ######\n",
    "db_id = []\n",
    "geo_id = [] #In order to match data with the geostore db\n",
    "name = [] \n",
    "planed_completition_date = [] #need to get the day, month and year, from different entrance and save it in text format because some are incomplete\n",
    "start_date = [] # same as completition  (aparently the start of project)\n",
    "comencement_date = [] #Aparently the start of works\n",
    "total_cost = []\n",
    "total_cost_currency = []\n",
    "\n",
    "initiatives = [] #Note: some have 2 and others don't have (I should make a list comprehension with and error handle)\n",
    "funding_sources = [] #Same as initiatives, as there is a db with ORGANIZATIONS and initiatives I may create a 2NF db to save them?\n",
    "funding_sources_slug = []\n",
    "founding_amount = []  # Same\n",
    "founding_currency = [] # Same\n",
    "project_page_url = []"
   ]
  },
  {
   "cell_type": "code",
   "execution_count": 44,
   "metadata": {},
   "outputs": [],
   "source": [
    "for x in range(len(data)):\n",
    "    db_id.append(data[x][\"identifier\"])\n",
    "    geo_id.append(data[x][\"geo\"])\n",
    "    name.append(data[x][\"name\"]) \n",
    "    planed_completition_date.append([f'{data[x][\"planned_completion_year\"]}/{data[x][\"planned_completion_month\"]}/{data[x][\"planned_completion_day\"]}'])\n",
    "    # start_date\n",
    "    # comencement_date\n",
    "    # total_cost \n",
    "    # total_cost_currency\n",
    "\n",
    "    # initiatives \n",
    "    # funding_sources \n",
    "    # funding_sources_slug\n",
    "    # founding_amount\n",
    "    # founding_currency\n",
    "    # project_page_url"
   ]
  },
  {
   "cell_type": "code",
   "execution_count": 45,
   "metadata": {},
   "outputs": [
    {
     "output_type": "execute_result",
     "data": {
      "text/plain": [
       "['2017/8/None']"
      ]
     },
     "metadata": {},
     "execution_count": 45
    }
   ],
   "source": [
    "planed_completition_date[2]\n",
    "#f'{data[1][\"planned_completion_year\"]}/{data[1][\"planned_completion_month\"]}/{data[1][\"planned_completion_day\"]}'"
   ]
  },
  {
   "cell_type": "code",
   "execution_count": 9,
   "metadata": {},
   "outputs": [],
   "source": [
    "#Save lists to further edit\n",
    "    # db_id \n",
    "    # geo_id \n",
    "    # name \n",
    "    # planed_completition_date\n",
    "    # start_date\n",
    "    # comencement_date\n",
    "    # total_cost \n",
    "    # total_cost_currency\n",
    "\n",
    "    # initiatives \n",
    "    # funding_sources \n",
    "    # funding_sources_slug\n",
    "    # founding_amount\n",
    "    # founding_currency\n",
    "    # project_page_url"
   ]
  },
  {
   "cell_type": "code",
   "execution_count": 11,
   "metadata": {},
   "outputs": [
    {
     "output_type": "execute_result",
     "data": {
      "text/plain": [
       "0    {'sources': [{'name': 'Slovakia', 'slug': 'gov...\n",
       "Name: funding, dtype: object"
      ]
     },
     "metadata": {},
     "execution_count": 11
    }
   ],
   "source": []
  },
  {
   "cell_type": "code",
   "execution_count": null,
   "metadata": {},
   "outputs": [],
   "source": []
  },
  {
   "cell_type": "code",
   "execution_count": null,
   "metadata": {},
   "outputs": [],
   "source": []
  },
  {
   "cell_type": "code",
   "execution_count": null,
   "metadata": {},
   "outputs": [],
   "source": []
  },
  {
   "source": [
    "# Geodata call"
   ],
   "cell_type": "markdown",
   "metadata": {}
  },
  {
   "cell_type": "code",
   "execution_count": null,
   "metadata": {},
   "outputs": [],
   "source": [
    "#This API storage all the centroids of the projects\n",
    "#Centroids are just points, if we want to get the lines from a railroad we need to call api-geostore/identifier\n",
    "geodata = \"https://reconnectingasia.csis.org/api/geostore-centroids/?format=json\""
   ]
  },
  {
   "cell_type": "code",
   "execution_count": 2,
   "metadata": {},
   "outputs": [],
   "source": [
    "#Make the call the basic geodata first\n",
    "response = requests.get(all_geodata)\n",
    "#Save the call in a variable\n",
    "response_json = response.json()\n",
    "#Save the straight info\n",
    "data = response_json[\"features\"]"
   ]
  },
  {
   "cell_type": "code",
   "execution_count": 3,
   "metadata": {},
   "outputs": [],
   "source": [
    "#Create a series of lists to save the info\n",
    "geostore_id = []\n",
    "project_name = []\n",
    "locations = []\n",
    "infraestructure_type = []\n",
    "coordinates = []\n",
    "\n",
    "#Use a for loop to add the data to the lists\n",
    "for x in range(len(data)):\n",
    "    geoestore_id.append(data[x][\"id\"])\n",
    "    project_name.append(data[x]['properties']['label'])\n",
    "    locations.append(data[x]['properties']['locations'])\n",
    "    infraestructure_type.append(data[x]['properties']['infrastructureType'])\n",
    "    cost.append(data[x]['properties']['total_cost'])\n",
    "    currency.append(data[x]['properties']['currency'])\n",
    "    coordinates.append(data[x]['geometry']['coordinates'])"
   ]
  },
  {
   "cell_type": "code",
   "execution_count": 4,
   "metadata": {},
   "outputs": [],
   "source": [
    "#Create a dictionary where to put toghether the data\n",
    "db = {\n",
    "    \"id\" : geostore_id,\n",
    "    \"Project\" : project_name,\n",
    "    \"Locations\" : locations,\n",
    "    \"Infraestructure_type\" : infraestructure_type,\n",
    "    \"Cost\" : cost,\n",
    "    \"Currency\" : currency,\n",
    "    \"Coordinates\" : coordinates\n",
    "}"
   ]
  },
  {
   "cell_type": "code",
   "execution_count": 5,
   "metadata": {},
   "outputs": [],
   "source": [
    "data_base = pd.DataFrame(db)\n",
    "#Show the complet float numbers not in cientific notation\n",
    "pd.options.display.float_format = '{:,.0f}'.format"
   ]
  },
  {
   "cell_type": "code",
   "execution_count": null,
   "metadata": {},
   "outputs": [],
   "source": []
  },
  {
   "cell_type": "code",
   "execution_count": null,
   "metadata": {},
   "outputs": [],
   "source": []
  }
 ]
}