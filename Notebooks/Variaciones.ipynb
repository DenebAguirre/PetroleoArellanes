{
 "metadata": {
  "language_info": {
   "codemirror_mode": {
    "name": "ipython",
    "version": 3
   },
   "file_extension": ".py",
   "mimetype": "text/x-python",
   "name": "python",
   "nbconvert_exporter": "python",
   "pygments_lexer": "ipython3",
   "version": "3.7.7-final"
  },
  "orig_nbformat": 2,
  "kernelspec": {
   "name": "python3",
   "display_name": "Python 3"
  }
 },
 "nbformat": 4,
 "nbformat_minor": 2,
 "cells": [
  {
   "cell_type": "code",
   "execution_count": 2,
   "metadata": {},
   "outputs": [],
   "source": [
    "import pandas as pd \n",
    "import matplotlib.pyplot as plt \n",
    "import numpy as np \n",
    "\n",
    "monthly = pd.read_csv(\"../Databases/EIA USEnergy Information Administration/Monthly INT-Export-07-24-2020_09-31-55.csv\", header=1)\n",
    "yearly = pd.read_csv(\"../Databases/EIA USEnergy Information Administration/Yearly INT-Export-07-24-2020_09-38-32.csv\", header=1)\n",
    "\n",
    "\n",
    "month = pd.DataFrame(monthly)\n",
    "year = pd.DataFrame(yearly)"
   ]
  },
  {
   "source": [
    "# MONTHLY"
   ],
   "cell_type": "markdown",
   "metadata": {}
  },
  {
   "cell_type": "code",
   "execution_count": 3,
   "metadata": {},
   "outputs": [],
   "source": [
    "#Create a different df to manipulate\n",
    "monthly = month\n",
    "#As we are going to use Unnamed column as country, lets change it name by once\n",
    "monthly = monthly.rename(columns={\"Unnamed: 1\" : \"Country\"})\n",
    "#Delete the not useful column API\n",
    "del monthly[\"API\"]"
   ]
  },
  {
   "cell_type": "code",
   "execution_count": 4,
   "metadata": {},
   "outputs": [
    {
     "output_type": "execute_result",
     "data": {
      "text/plain": "(231, 231, 231, 231, 231)"
     },
     "metadata": {},
     "execution_count": 4
    }
   ],
   "source": [
    "# Create especific df for each info we need \n",
    "Crude = monthly.loc[monthly[\"Country\"] == '                Crude oil including lease condensate (Mb/d)']\n",
    "NGPL = monthly.loc[monthly['Country'] == '                NGPL (Mb/d)']\n",
    "Others = monthly.loc[monthly['Country'] == '                Other liquids (Mb/d)']\n",
    "Refinery = monthly.loc[monthly['Country'] == '            Refinery processing gain (Mb/d)']\n",
    "\n",
    "#Get list of countries in the DB:\n",
    "countries = monthly['Country'].unique().tolist()\n",
    "#Delete from list non countries elements\n",
    "del countries[1:8]\n",
    "\n",
    "#Check integrity of the data\n",
    "len(NGPL),len(Crude), len(Others), len(Refinery), len(countries)"
   ]
  },
  {
   "cell_type": "code",
   "execution_count": 5,
   "metadata": {},
   "outputs": [],
   "source": [
    "#Replace Country column values with countries list\n",
    "Crude['Country'] = countries\n",
    "NGPL['Country'] = countries\n",
    "Others[\"Country\"] = countries\n",
    "Refinery[\"Country\"] = countries"
   ]
  },
  {
   "cell_type": "code",
   "execution_count": 108,
   "metadata": {},
   "outputs": [
    {
     "output_type": "execute_result",
     "data": {
      "text/plain": "           Country Jan 1973 Feb 1973 Mar 1973 Apr 1973 May 1973 Jun 1973  \\\n7            World      NaN      NaN      NaN      NaN      NaN      NaN   \n15     Afghanistan      NaN      NaN      NaN      NaN      NaN      NaN   \n23         Albania      NaN      NaN      NaN      NaN      NaN      NaN   \n31         Algeria      NaN      NaN      NaN      NaN      NaN      NaN   \n39  American Samoa      NaN      NaN      NaN      NaN      NaN      NaN   \n\n   Jul 1973 Aug 1973 Sep 1973  ...  Jul 2019 Aug 2019  Sep 2019  Oct 2019  \\\n7       NaN      NaN      NaN  ...  2640.732  2674.99  2592.591  2607.892   \n15      NaN      NaN      NaN  ...         0        0         0         0   \n23      NaN      NaN      NaN  ...     0.069    0.069     0.069     0.069   \n31      NaN      NaN      NaN  ...     1.425    1.425     1.425     1.425   \n39      NaN      NaN      NaN  ...         0        0         0         0   \n\n    Nov 2019  Dec 2019  Jan 2020  Feb 2020  Mar 2020  Apr 2020  \n7   2718.489  2732.828  2712.787  2516.238  2497.174  2230.022  \n15         0         0         0         0         0         0  \n23     0.069     0.069     0.069     0.069     0.069     0.069  \n31     1.425     1.425     1.425     1.425     1.425     1.425  \n39         0         0         0         0         0         0  \n\n[5 rows x 569 columns]",
      "text/html": "<div>\n<style scoped>\n    .dataframe tbody tr th:only-of-type {\n        vertical-align: middle;\n    }\n\n    .dataframe tbody tr th {\n        vertical-align: top;\n    }\n\n    .dataframe thead th {\n        text-align: right;\n    }\n</style>\n<table border=\"1\" class=\"dataframe\">\n  <thead>\n    <tr style=\"text-align: right;\">\n      <th></th>\n      <th>Country</th>\n      <th>Jan 1973</th>\n      <th>Feb 1973</th>\n      <th>Mar 1973</th>\n      <th>Apr 1973</th>\n      <th>May 1973</th>\n      <th>Jun 1973</th>\n      <th>Jul 1973</th>\n      <th>Aug 1973</th>\n      <th>Sep 1973</th>\n      <th>...</th>\n      <th>Jul 2019</th>\n      <th>Aug 2019</th>\n      <th>Sep 2019</th>\n      <th>Oct 2019</th>\n      <th>Nov 2019</th>\n      <th>Dec 2019</th>\n      <th>Jan 2020</th>\n      <th>Feb 2020</th>\n      <th>Mar 2020</th>\n      <th>Apr 2020</th>\n    </tr>\n  </thead>\n  <tbody>\n    <tr>\n      <th>7</th>\n      <td>World</td>\n      <td>NaN</td>\n      <td>NaN</td>\n      <td>NaN</td>\n      <td>NaN</td>\n      <td>NaN</td>\n      <td>NaN</td>\n      <td>NaN</td>\n      <td>NaN</td>\n      <td>NaN</td>\n      <td>...</td>\n      <td>2640.732</td>\n      <td>2674.99</td>\n      <td>2592.591</td>\n      <td>2607.892</td>\n      <td>2718.489</td>\n      <td>2732.828</td>\n      <td>2712.787</td>\n      <td>2516.238</td>\n      <td>2497.174</td>\n      <td>2230.022</td>\n    </tr>\n    <tr>\n      <th>15</th>\n      <td>Afghanistan</td>\n      <td>NaN</td>\n      <td>NaN</td>\n      <td>NaN</td>\n      <td>NaN</td>\n      <td>NaN</td>\n      <td>NaN</td>\n      <td>NaN</td>\n      <td>NaN</td>\n      <td>NaN</td>\n      <td>...</td>\n      <td>0</td>\n      <td>0</td>\n      <td>0</td>\n      <td>0</td>\n      <td>0</td>\n      <td>0</td>\n      <td>0</td>\n      <td>0</td>\n      <td>0</td>\n      <td>0</td>\n    </tr>\n    <tr>\n      <th>23</th>\n      <td>Albania</td>\n      <td>NaN</td>\n      <td>NaN</td>\n      <td>NaN</td>\n      <td>NaN</td>\n      <td>NaN</td>\n      <td>NaN</td>\n      <td>NaN</td>\n      <td>NaN</td>\n      <td>NaN</td>\n      <td>...</td>\n      <td>0.069</td>\n      <td>0.069</td>\n      <td>0.069</td>\n      <td>0.069</td>\n      <td>0.069</td>\n      <td>0.069</td>\n      <td>0.069</td>\n      <td>0.069</td>\n      <td>0.069</td>\n      <td>0.069</td>\n    </tr>\n    <tr>\n      <th>31</th>\n      <td>Algeria</td>\n      <td>NaN</td>\n      <td>NaN</td>\n      <td>NaN</td>\n      <td>NaN</td>\n      <td>NaN</td>\n      <td>NaN</td>\n      <td>NaN</td>\n      <td>NaN</td>\n      <td>NaN</td>\n      <td>...</td>\n      <td>1.425</td>\n      <td>1.425</td>\n      <td>1.425</td>\n      <td>1.425</td>\n      <td>1.425</td>\n      <td>1.425</td>\n      <td>1.425</td>\n      <td>1.425</td>\n      <td>1.425</td>\n      <td>1.425</td>\n    </tr>\n    <tr>\n      <th>39</th>\n      <td>American Samoa</td>\n      <td>NaN</td>\n      <td>NaN</td>\n      <td>NaN</td>\n      <td>NaN</td>\n      <td>NaN</td>\n      <td>NaN</td>\n      <td>NaN</td>\n      <td>NaN</td>\n      <td>NaN</td>\n      <td>...</td>\n      <td>0</td>\n      <td>0</td>\n      <td>0</td>\n      <td>0</td>\n      <td>0</td>\n      <td>0</td>\n      <td>0</td>\n      <td>0</td>\n      <td>0</td>\n      <td>0</td>\n    </tr>\n  </tbody>\n</table>\n<p>5 rows × 569 columns</p>\n</div>"
     },
     "metadata": {},
     "execution_count": 108
    }
   ],
   "source": [
    "Refinery.head()"
   ]
  },
  {
   "cell_type": "code",
   "execution_count": 6,
   "metadata": {
    "tags": []
   },
   "outputs": [],
   "source": [
    "# Myanmar appears as Burma\n",
    "# Republic of the Congo' appears as 'Congo-Brazzaville'\n",
    "# Democratic Republic of the Congo' appears as 'Congo-Kinshasa'\n",
    "\n",
    "netos = ['Albania','Algeria','Angola','Argentina','Azerbaijan','Benin','Bolivia','Brazil','Brunei','Cameroon','Canada','China','Colombia','Congo-Brazzaville', 'Congo-Kinshasa', 'Denmark','Ecuador','Egypt','Estonia','Gabon','Georgia','Ghana','Guatemala','Indonesia','Iran','Iraq','Kazakhstan','Kuwait','Kyrgyzstan','Libya','Malaysia','Mexico','Mongolia', 'Burma','Nigeria','Norway','Oman','Qatar','Russia','Saudi Arabia','South Sudan','Sudan','Trinidad and Tobago','Tunisia','Turkmenistan','United Arab Emirates','United Kingdom','Venezuela','Vietnam','Yemen']\n",
    "\n",
    "# for x in netos:\n",
    "#     if x not in countries:\n",
    "#         print(x)"
   ]
  },
  {
   "cell_type": "code",
   "execution_count": 19,
   "metadata": {},
   "outputs": [],
   "source": [
    "# Final Selection of Data according our required countries\n",
    "Crude = Crude.loc[Crude[\"Country\"].isin(netos)]\n",
    "NGPL = NGPL.loc[NGPL[\"Country\"].isin(netos)]\n",
    "Others = Others.loc[Others[\"Country\"].isin(netos)]\n",
    "Refinery = Refinery.loc[Refinery[\"Country\"].isin(netos)]"
   ]
  },
  {
   "source": [
    "# YEARLY"
   ],
   "cell_type": "markdown",
   "metadata": {}
  },
  {
   "cell_type": "code",
   "execution_count": 10,
   "metadata": {},
   "outputs": [],
   "source": [
    "#Create a different df to manipulate\n",
    "yearly = year\n",
    "#As we are going to use Unnamed column as country, lets change it name by once\n",
    "yearly = yearly.rename(columns={\"Unnamed: 1\" : \"Country\"})\n",
    "#Delete the not useful column API\n",
    "del yearly[\"API\"]"
   ]
  },
  {
   "cell_type": "code",
   "execution_count": 12,
   "metadata": {},
   "outputs": [
    {
     "output_type": "execute_result",
     "data": {
      "text/plain": "(231, 231, 231, 231, 231)"
     },
     "metadata": {},
     "execution_count": 12
    }
   ],
   "source": [
    "# Create especific df for each info we need \n",
    "Crude_Y = yearly.loc[yearly[\"Country\"] == '                Crude oil including lease condensate (Mb/d)']\n",
    "NGPL_Y = yearly.loc[yearly['Country'] == '                NGPL (Mb/d)']\n",
    "Others_Y = yearly.loc[yearly['Country'] == '                Other liquids (Mb/d)']\n",
    "Refinery_Y = yearly.loc[yearly['Country'] == '            Refinery processing gain (Mb/d)']\n",
    "\n",
    "#Get list of countries in the DB:\n",
    "countries_Y = yearly['Country'].unique().tolist()\n",
    "#Delete from list non countries elements\n",
    "del countries_Y[1:8]\n",
    "\n",
    "#Check integrity of the data\n",
    "len(NGPL_Y),len(Crude_Y), len(Others_Y), len(Refinery_Y), len(countries_Y)"
   ]
  },
  {
   "cell_type": "code",
   "execution_count": 13,
   "metadata": {},
   "outputs": [],
   "source": [
    "#Replace Country column values with countries list\n",
    "Crude_Y['Country'] = countries\n",
    "NGPL_Y['Country'] = countries\n",
    "Others_Y[\"Country\"] = countries\n",
    "Refinery_Y[\"Country\"] = countries"
   ]
  },
  {
   "cell_type": "code",
   "execution_count": 16,
   "metadata": {},
   "outputs": [],
   "source": [
    "netos = ['Albania','Algeria','Angola','Argentina','Azerbaijan','Benin','Bolivia','Brazil','Brunei','Cameroon','Canada','China','Colombia','Congo-Brazzaville', 'Congo-Kinshasa', 'Denmark','Ecuador','Egypt','Estonia','Gabon','Georgia','Ghana','Guatemala','Indonesia','Iran','Iraq','Kazakhstan','Kuwait','Kyrgyzstan','Libya','Malaysia','Mexico','Mongolia', 'Burma','Nigeria','Norway','Oman','Qatar','Russia','Saudi Arabia','South Sudan','Sudan','Trinidad and Tobago','Tunisia','Turkmenistan','United Arab Emirates','United Kingdom','Venezuela','Vietnam','Yemen']\n",
    "\n",
    "# Final Selection of Data according our required countries\n",
    "Crude_Y = Crude_Y.loc[Crude_Y[\"Country\"].isin(netos)]\n",
    "NGPL_Y = NGPL_Y.loc[NGPL_Y[\"Country\"].isin(netos)]\n",
    "Others_Y = Others_Y.loc[Others_Y[\"Country\"].isin(netos)]\n",
    "Refinery_Y = Refinery_Y.loc[Refinery_Y[\"Country\"].isin(netos)]"
   ]
  },
  {
   "cell_type": "code",
   "execution_count": 18,
   "metadata": {},
   "outputs": [
    {
     "output_type": "execute_result",
     "data": {
      "text/plain": "        Country  1973    1974   1975    1976    1977  1978  1979  \\\n20      Albania   NaN     NaN    NaN     NaN     NaN   NaN   NaN   \n28      Algeria  1097  1008.6  982.6  1075.1  1152.3  1231  1224   \n44       Angola   162     169    165     108     194   131   147   \n68    Argentina   NaN     NaN    NaN     NaN     NaN   NaN   NaN   \n108  Azerbaijan   NaN     NaN    NaN     NaN     NaN   NaN   NaN   \n\n                   1980                1981  ...                2010  \\\n20                   44                  44  ...  10.843835616438357   \n28   1105.9071038251366  1002.0328767123287  ...                1540   \n44                  150                 130  ...  1908.5205479452054   \n68                  491                 496  ...   626.0560876712328   \n108                  --                  --  ...   1034.627397260274   \n\n                   2011                2012                2013  \\\n20   15.515068493150684   16.83606557377049  17.008219178082193   \n28                 1540  1532.2431693989072  1461.7808219178082   \n44   1755.6164383561643   1787.049180327869  1802.6575342465753   \n68    581.4326739726027   551.1197896174864   539.8485780821918   \n108   982.9945205479452   921.7486338797814   870.5945205479452   \n\n                   2014                2015                2016  \\\n20   20.506849315068493  20.161643835616438   22.74863387978142   \n28                 1420                1429   1348.360655737705   \n44   1741.6164383561643    1801.86301369863  1769.6147540983607   \n68    532.1596794520548   532.2387671232876   510.5601092896175   \n108    846.758904109589   848.4739726027398   833.5382513661202   \n\n                   2017                2018                2019  \n20                   16  15.586301369863014  14.495890410958904  \n28   1305.6328767123289  1258.6575342465753   1258.958904109589  \n44   1665.7452054794521   1593.041095890411  1447.5068493150684  \n68    479.4438356164384  489.27945205479455    507.241095890411  \n108    790.758904109589   798.3068493150685   767.2794520547945  \n\n[5 rows x 48 columns]",
      "text/html": "<div>\n<style scoped>\n    .dataframe tbody tr th:only-of-type {\n        vertical-align: middle;\n    }\n\n    .dataframe tbody tr th {\n        vertical-align: top;\n    }\n\n    .dataframe thead th {\n        text-align: right;\n    }\n</style>\n<table border=\"1\" class=\"dataframe\">\n  <thead>\n    <tr style=\"text-align: right;\">\n      <th></th>\n      <th>Country</th>\n      <th>1973</th>\n      <th>1974</th>\n      <th>1975</th>\n      <th>1976</th>\n      <th>1977</th>\n      <th>1978</th>\n      <th>1979</th>\n      <th>1980</th>\n      <th>1981</th>\n      <th>...</th>\n      <th>2010</th>\n      <th>2011</th>\n      <th>2012</th>\n      <th>2013</th>\n      <th>2014</th>\n      <th>2015</th>\n      <th>2016</th>\n      <th>2017</th>\n      <th>2018</th>\n      <th>2019</th>\n    </tr>\n  </thead>\n  <tbody>\n    <tr>\n      <th>20</th>\n      <td>Albania</td>\n      <td>NaN</td>\n      <td>NaN</td>\n      <td>NaN</td>\n      <td>NaN</td>\n      <td>NaN</td>\n      <td>NaN</td>\n      <td>NaN</td>\n      <td>44</td>\n      <td>44</td>\n      <td>...</td>\n      <td>10.843835616438357</td>\n      <td>15.515068493150684</td>\n      <td>16.83606557377049</td>\n      <td>17.008219178082193</td>\n      <td>20.506849315068493</td>\n      <td>20.161643835616438</td>\n      <td>22.74863387978142</td>\n      <td>16</td>\n      <td>15.586301369863014</td>\n      <td>14.495890410958904</td>\n    </tr>\n    <tr>\n      <th>28</th>\n      <td>Algeria</td>\n      <td>1097</td>\n      <td>1008.6</td>\n      <td>982.6</td>\n      <td>1075.1</td>\n      <td>1152.3</td>\n      <td>1231</td>\n      <td>1224</td>\n      <td>1105.9071038251366</td>\n      <td>1002.0328767123287</td>\n      <td>...</td>\n      <td>1540</td>\n      <td>1540</td>\n      <td>1532.2431693989072</td>\n      <td>1461.7808219178082</td>\n      <td>1420</td>\n      <td>1429</td>\n      <td>1348.360655737705</td>\n      <td>1305.6328767123289</td>\n      <td>1258.6575342465753</td>\n      <td>1258.958904109589</td>\n    </tr>\n    <tr>\n      <th>44</th>\n      <td>Angola</td>\n      <td>162</td>\n      <td>169</td>\n      <td>165</td>\n      <td>108</td>\n      <td>194</td>\n      <td>131</td>\n      <td>147</td>\n      <td>150</td>\n      <td>130</td>\n      <td>...</td>\n      <td>1908.5205479452054</td>\n      <td>1755.6164383561643</td>\n      <td>1787.049180327869</td>\n      <td>1802.6575342465753</td>\n      <td>1741.6164383561643</td>\n      <td>1801.86301369863</td>\n      <td>1769.6147540983607</td>\n      <td>1665.7452054794521</td>\n      <td>1593.041095890411</td>\n      <td>1447.5068493150684</td>\n    </tr>\n    <tr>\n      <th>68</th>\n      <td>Argentina</td>\n      <td>NaN</td>\n      <td>NaN</td>\n      <td>NaN</td>\n      <td>NaN</td>\n      <td>NaN</td>\n      <td>NaN</td>\n      <td>NaN</td>\n      <td>491</td>\n      <td>496</td>\n      <td>...</td>\n      <td>626.0560876712328</td>\n      <td>581.4326739726027</td>\n      <td>551.1197896174864</td>\n      <td>539.8485780821918</td>\n      <td>532.1596794520548</td>\n      <td>532.2387671232876</td>\n      <td>510.5601092896175</td>\n      <td>479.4438356164384</td>\n      <td>489.27945205479455</td>\n      <td>507.241095890411</td>\n    </tr>\n    <tr>\n      <th>108</th>\n      <td>Azerbaijan</td>\n      <td>NaN</td>\n      <td>NaN</td>\n      <td>NaN</td>\n      <td>NaN</td>\n      <td>NaN</td>\n      <td>NaN</td>\n      <td>NaN</td>\n      <td>--</td>\n      <td>--</td>\n      <td>...</td>\n      <td>1034.627397260274</td>\n      <td>982.9945205479452</td>\n      <td>921.7486338797814</td>\n      <td>870.5945205479452</td>\n      <td>846.758904109589</td>\n      <td>848.4739726027398</td>\n      <td>833.5382513661202</td>\n      <td>790.758904109589</td>\n      <td>798.3068493150685</td>\n      <td>767.2794520547945</td>\n    </tr>\n  </tbody>\n</table>\n<p>5 rows × 48 columns</p>\n</div>"
     },
     "metadata": {},
     "execution_count": 18
    }
   ],
   "source": [
    "Crude_Y.head()"
   ]
  },
  {
   "cell_type": "code",
   "execution_count": 21,
   "metadata": {},
   "outputs": [],
   "source": [
    "# EXPORT TO EXCEL\n",
    "\n",
    "# writer = pd.ExcelWriter(\"../Excel_reports/Variaciones_Consumo.xlsx\")\n",
    "\n",
    "# Crude_Y.to_excel(writer, sheet_name='Yearly_Crude', startrow=2)              \n",
    "# NGPL_Y.to_excel(writer, sheet_name='Yearly_NGPL', startrow=2)\n",
    "# Others_Y.to_excel(writer, sheet_name='Yearly_Others', startrow=2)\n",
    "# Refinery_Y.to_excel(writer, sheet_name='Yearly_Refinery', startrow=2)\n",
    "\n",
    "# Crude.to_excel(writer, sheet_name='Monthly_Crude', startrow=2)\n",
    "# NGPL.to_excel(writer, sheet_name='Monthly_NGPL', startrow=2)\n",
    "# Others.to_excel(writer, sheet_name='Monthly_Others', startrow=2)\n",
    "# Refinery.to_excel(writer, sheet_name='Monthly_Refinery', startrow=2)\n",
    "\n",
    "\n",
    "# # Get sheet1\n",
    "# writer.sheets['Yearly_Crude'].write('A1', 'Yearly_Crude oil & lease condensate (Mb/d)')\n",
    "# writer.sheets['Yearly_NGPL'].write('A1', 'Yearly_NGPL (Mb/d)')\n",
    "# writer.sheets['Yearly_Others'].write('A1', 'Yearly_Other liquids (Mb/d)')\n",
    "# writer.sheets['Yearly_Refinery'].write('A1', 'Yearly_Refinery processing gain (Mb/d)')\n",
    "\n",
    "# writer.sheets['Monthly_Crude'].write('A1', 'Monthly_Crude oil & lease condensate (Mb/d)')\n",
    "# writer.sheets['Monthly_NGPL'].write('A1', 'Monthly_NGPL (Mb/d)')\n",
    "# writer.sheets['Monthly_Others'].write('A1', 'Monthly_Other liquids (Mb/d)')\n",
    "# writer.sheets['Monthly_Refinery'].write('A1', 'Monthly_Refinery processing gain (Mb/d)')\n",
    "\n",
    "# writer.save()"
   ]
  }
 ]
}