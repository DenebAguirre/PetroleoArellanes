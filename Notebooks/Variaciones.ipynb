{
 "metadata": {
  "language_info": {
   "codemirror_mode": {
    "name": "ipython",
    "version": 3
   },
   "file_extension": ".py",
   "mimetype": "text/x-python",
   "name": "python",
   "nbconvert_exporter": "python",
   "pygments_lexer": "ipython3",
   "version": "3.7.7-final"
  },
  "orig_nbformat": 2,
  "kernelspec": {
   "name": "python3",
   "display_name": "Python 3"
  }
 },
 "nbformat": 4,
 "nbformat_minor": 2,
 "cells": [
  {
   "cell_type": "code",
   "execution_count": 2,
   "metadata": {},
   "outputs": [],
   "source": [
    "import pandas as pd \n",
    "import matplotlib.pyplot as plt \n",
    "import numpy as np \n",
    "\n",
    "monthly = pd.read_csv(\"../Databases/EIA USEnergy Information Administration/Monthly INT-Export-07-24-2020_09-31-55.csv\", header=1)\n",
    "yearly = pd.read_csv(\"../Databases/EIA USEnergy Information Administration/Yearly INT-Export-07-24-2020_09-38-32.csv\", header=1)\n",
    "\n",
    "\n",
    "month = pd.DataFrame(monthly)\n",
    "year = pd.DataFrame(yearly)"
   ]
  },
  {
   "source": [
    "# MONTHLY"
   ],
   "cell_type": "markdown",
   "metadata": {}
  },
  {
   "cell_type": "code",
   "execution_count": 2,
   "metadata": {},
   "outputs": [],
   "source": [
    "#Create a different df to manipulate\n",
    "monthly = month\n",
    "#As we are going to use Unnamed column as country, lets change it name by once\n",
    "monthly = monthly.rename(columns={\"Unnamed: 1\" : \"Country\"})\n",
    "#Delete the not useful column API\n",
    "del monthly[\"API\"]"
   ]
  },
  {
   "cell_type": "code",
   "execution_count": 3,
   "metadata": {},
   "outputs": [
    {
     "output_type": "execute_result",
     "data": {
      "text/plain": "(231, 231, 231, 231, 231)"
     },
     "metadata": {},
     "execution_count": 3
    }
   ],
   "source": [
    "# Create especific df for each info we need \n",
    "Crude = monthly.loc[monthly[\"Country\"] == '                Crude oil including lease condensate (Mb/d)']\n",
    "NGPL = monthly.loc[monthly['Country'] == '                NGPL (Mb/d)']\n",
    "Others = monthly.loc[monthly['Country'] == '                Other liquids (Mb/d)']\n",
    "Refinery = monthly.loc[monthly['Country'] == '            Refinery processing gain (Mb/d)']\n",
    "\n",
    "#Get list of countries in the DB:\n",
    "countries = monthly['Country'].unique().tolist()\n",
    "#Delete from list non countries elements\n",
    "del countries[1:8]\n",
    "\n",
    "#Check integrity of the data\n",
    "len(NGPL),len(Crude), len(Others), len(Refinery), len(countries)"
   ]
  },
  {
   "cell_type": "code",
   "execution_count": 4,
   "metadata": {},
   "outputs": [],
   "source": [
    "#Replace Country column values with countries list\n",
    "Crude['Country'] = countries\n",
    "NGPL['Country'] = countries\n",
    "Others[\"Country\"] = countries\n",
    "Refinery[\"Country\"] = countries"
   ]
  },
  {
   "cell_type": "code",
   "execution_count": 108,
   "metadata": {},
   "outputs": [
    {
     "output_type": "execute_result",
     "data": {
      "text/plain": "           Country Jan 1973 Feb 1973 Mar 1973 Apr 1973 May 1973 Jun 1973  \\\n7            World      NaN      NaN      NaN      NaN      NaN      NaN   \n15     Afghanistan      NaN      NaN      NaN      NaN      NaN      NaN   \n23         Albania      NaN      NaN      NaN      NaN      NaN      NaN   \n31         Algeria      NaN      NaN      NaN      NaN      NaN      NaN   \n39  American Samoa      NaN      NaN      NaN      NaN      NaN      NaN   \n\n   Jul 1973 Aug 1973 Sep 1973  ...  Jul 2019 Aug 2019  Sep 2019  Oct 2019  \\\n7       NaN      NaN      NaN  ...  2640.732  2674.99  2592.591  2607.892   \n15      NaN      NaN      NaN  ...         0        0         0         0   \n23      NaN      NaN      NaN  ...     0.069    0.069     0.069     0.069   \n31      NaN      NaN      NaN  ...     1.425    1.425     1.425     1.425   \n39      NaN      NaN      NaN  ...         0        0         0         0   \n\n    Nov 2019  Dec 2019  Jan 2020  Feb 2020  Mar 2020  Apr 2020  \n7   2718.489  2732.828  2712.787  2516.238  2497.174  2230.022  \n15         0         0         0         0         0         0  \n23     0.069     0.069     0.069     0.069     0.069     0.069  \n31     1.425     1.425     1.425     1.425     1.425     1.425  \n39         0         0         0         0         0         0  \n\n[5 rows x 569 columns]",
      "text/html": "<div>\n<style scoped>\n    .dataframe tbody tr th:only-of-type {\n        vertical-align: middle;\n    }\n\n    .dataframe tbody tr th {\n        vertical-align: top;\n    }\n\n    .dataframe thead th {\n        text-align: right;\n    }\n</style>\n<table border=\"1\" class=\"dataframe\">\n  <thead>\n    <tr style=\"text-align: right;\">\n      <th></th>\n      <th>Country</th>\n      <th>Jan 1973</th>\n      <th>Feb 1973</th>\n      <th>Mar 1973</th>\n      <th>Apr 1973</th>\n      <th>May 1973</th>\n      <th>Jun 1973</th>\n      <th>Jul 1973</th>\n      <th>Aug 1973</th>\n      <th>Sep 1973</th>\n      <th>...</th>\n      <th>Jul 2019</th>\n      <th>Aug 2019</th>\n      <th>Sep 2019</th>\n      <th>Oct 2019</th>\n      <th>Nov 2019</th>\n      <th>Dec 2019</th>\n      <th>Jan 2020</th>\n      <th>Feb 2020</th>\n      <th>Mar 2020</th>\n      <th>Apr 2020</th>\n    </tr>\n  </thead>\n  <tbody>\n    <tr>\n      <th>7</th>\n      <td>World</td>\n      <td>NaN</td>\n      <td>NaN</td>\n      <td>NaN</td>\n      <td>NaN</td>\n      <td>NaN</td>\n      <td>NaN</td>\n      <td>NaN</td>\n      <td>NaN</td>\n      <td>NaN</td>\n      <td>...</td>\n      <td>2640.732</td>\n      <td>2674.99</td>\n      <td>2592.591</td>\n      <td>2607.892</td>\n      <td>2718.489</td>\n      <td>2732.828</td>\n      <td>2712.787</td>\n      <td>2516.238</td>\n      <td>2497.174</td>\n      <td>2230.022</td>\n    </tr>\n    <tr>\n      <th>15</th>\n      <td>Afghanistan</td>\n      <td>NaN</td>\n      <td>NaN</td>\n      <td>NaN</td>\n      <td>NaN</td>\n      <td>NaN</td>\n      <td>NaN</td>\n      <td>NaN</td>\n      <td>NaN</td>\n      <td>NaN</td>\n      <td>...</td>\n      <td>0</td>\n      <td>0</td>\n      <td>0</td>\n      <td>0</td>\n      <td>0</td>\n      <td>0</td>\n      <td>0</td>\n      <td>0</td>\n      <td>0</td>\n      <td>0</td>\n    </tr>\n    <tr>\n      <th>23</th>\n      <td>Albania</td>\n      <td>NaN</td>\n      <td>NaN</td>\n      <td>NaN</td>\n      <td>NaN</td>\n      <td>NaN</td>\n      <td>NaN</td>\n      <td>NaN</td>\n      <td>NaN</td>\n      <td>NaN</td>\n      <td>...</td>\n      <td>0.069</td>\n      <td>0.069</td>\n      <td>0.069</td>\n      <td>0.069</td>\n      <td>0.069</td>\n      <td>0.069</td>\n      <td>0.069</td>\n      <td>0.069</td>\n      <td>0.069</td>\n      <td>0.069</td>\n    </tr>\n    <tr>\n      <th>31</th>\n      <td>Algeria</td>\n      <td>NaN</td>\n      <td>NaN</td>\n      <td>NaN</td>\n      <td>NaN</td>\n      <td>NaN</td>\n      <td>NaN</td>\n      <td>NaN</td>\n      <td>NaN</td>\n      <td>NaN</td>\n      <td>...</td>\n      <td>1.425</td>\n      <td>1.425</td>\n      <td>1.425</td>\n      <td>1.425</td>\n      <td>1.425</td>\n      <td>1.425</td>\n      <td>1.425</td>\n      <td>1.425</td>\n      <td>1.425</td>\n      <td>1.425</td>\n    </tr>\n    <tr>\n      <th>39</th>\n      <td>American Samoa</td>\n      <td>NaN</td>\n      <td>NaN</td>\n      <td>NaN</td>\n      <td>NaN</td>\n      <td>NaN</td>\n      <td>NaN</td>\n      <td>NaN</td>\n      <td>NaN</td>\n      <td>NaN</td>\n      <td>...</td>\n      <td>0</td>\n      <td>0</td>\n      <td>0</td>\n      <td>0</td>\n      <td>0</td>\n      <td>0</td>\n      <td>0</td>\n      <td>0</td>\n      <td>0</td>\n      <td>0</td>\n    </tr>\n  </tbody>\n</table>\n<p>5 rows × 569 columns</p>\n</div>"
     },
     "metadata": {},
     "execution_count": 108
    }
   ],
   "source": [
    "Refinery.head()"
   ]
  },
  {
   "cell_type": "code",
   "execution_count": 5,
   "metadata": {
    "tags": []
   },
   "outputs": [],
   "source": [
    "# Myanmar appears as Burma\n",
    "# Republic of the Congo' appears as 'Congo-Brazzaville'\n",
    "# Democratic Republic of the Congo' appears as 'Congo-Kinshasa'\n",
    "\n",
    "netos = ['Albania','Algeria','Angola','Argentina','Azerbaijan','Benin','Bolivia','Brazil','Brunei','Cameroon','Canada','China','Colombia','Congo-Brazzaville', 'Congo-Kinshasa', 'Denmark','Ecuador','Egypt','Estonia','Gabon','Georgia','Ghana','Guatemala','Indonesia','Iran','Iraq','Kazakhstan','Kuwait','Kyrgyzstan','Libya','Malaysia','Mexico','Mongolia', 'Burma','Nigeria','Norway','Oman','Qatar','Russia','Saudi Arabia','South Sudan','Sudan','Trinidad and Tobago','Tunisia','Turkmenistan','United Arab Emirates','United Kingdom','Venezuela','Vietnam','Yemen']\n",
    "\n",
    "# for x in netos:\n",
    "#     if x not in countries:\n",
    "#         print(x)"
   ]
  },
  {
   "cell_type": "code",
   "execution_count": 7,
   "metadata": {},
   "outputs": [],
   "source": [
    "# Final Selection of Data according our required countries\n",
    "Crude = Crude.loc[Crude[\"Country\"].isin(netos)]\n",
    "NGPL = NGPL.loc[NGPL[\"Country\"].isin(netos)]\n",
    "Others = Others.loc[Others[\"Country\"].isin(netos)]\n",
    "Refinery = Refinery.loc[Refinery[\"Country\"].isin(netos)]"
   ]
  },
  {
   "cell_type": "code",
   "execution_count": 8,
   "metadata": {},
   "outputs": [],
   "source": [
    "Crude.to_csv('../csv_results/Variaciones_Crudo_Mensual')\n",
    "NGPL.to_csv('../csv_results/Variaciones_NGPL_Mensual')\n",
    "Others.to_csv('../csv_results/Variaciones_Others_Mensual')\n",
    "Refinery.to_csv('../csv_results/Variaciones_Refinery_Mensual')"
   ]
  },
  {
   "source": [
    "# YEARLY"
   ],
   "cell_type": "markdown",
   "metadata": {}
  },
  {
   "cell_type": "code",
   "execution_count": 9,
   "metadata": {},
   "outputs": [],
   "source": [
    "#Create a different df to manipulate\n",
    "yearly = year\n",
    "#As we are going to use Unnamed column as country, lets change it name by once\n",
    "yearly = yearly.rename(columns={\"Unnamed: 1\" : \"Country\"})\n",
    "#Delete the not useful column API\n",
    "del yearly[\"API\"]"
   ]
  },
  {
   "cell_type": "code",
   "execution_count": 10,
   "metadata": {},
   "outputs": [
    {
     "output_type": "execute_result",
     "data": {
      "text/plain": "(231, 231, 231, 231, 231)"
     },
     "metadata": {},
     "execution_count": 10
    }
   ],
   "source": [
    "# Create especific df for each info we need \n",
    "Crude_Y = yearly.loc[yearly[\"Country\"] == '                Crude oil including lease condensate (Mb/d)']\n",
    "NGPL_Y = yearly.loc[yearly['Country'] == '                NGPL (Mb/d)']\n",
    "Others_Y = yearly.loc[yearly['Country'] == '                Other liquids (Mb/d)']\n",
    "Refinery_Y = yearly.loc[yearly['Country'] == '            Refinery processing gain (Mb/d)']\n",
    "\n",
    "#Get list of countries in the DB:\n",
    "countries_Y = yearly['Country'].unique().tolist()\n",
    "#Delete from list non countries elements\n",
    "del countries_Y[1:8]\n",
    "\n",
    "#Check integrity of the data\n",
    "len(NGPL_Y),len(Crude_Y), len(Others_Y), len(Refinery_Y), len(countries_Y)"
   ]
  },
  {
   "cell_type": "code",
   "execution_count": 11,
   "metadata": {},
   "outputs": [],
   "source": [
    "#Replace Country column values with countries list\n",
    "Crude_Y['Country'] = countries\n",
    "NGPL_Y['Country'] = countries\n",
    "Others_Y[\"Country\"] = countries\n",
    "Refinery_Y[\"Country\"] = countries"
   ]
  },
  {
   "cell_type": "code",
   "execution_count": 12,
   "metadata": {},
   "outputs": [],
   "source": [
    "netos = ['Albania','Algeria','Angola','Argentina','Azerbaijan','Benin','Bolivia','Brazil','Brunei','Cameroon','Canada','China','Colombia','Congo-Brazzaville', 'Congo-Kinshasa', 'Denmark','Ecuador','Egypt','Estonia','Gabon','Georgia','Ghana','Guatemala','Indonesia','Iran','Iraq','Kazakhstan','Kuwait','Kyrgyzstan','Libya','Malaysia','Mexico','Mongolia', 'Burma','Nigeria','Norway','Oman','Qatar','Russia','Saudi Arabia','South Sudan','Sudan','Trinidad and Tobago','Tunisia','Turkmenistan','United Arab Emirates','United Kingdom','Venezuela','Vietnam','Yemen']\n",
    "\n",
    "# Final Selection of Data according our required countries\n",
    "Crude_Y = Crude_Y.loc[Crude_Y[\"Country\"].isin(netos)]\n",
    "NGPL_Y = NGPL_Y.loc[NGPL_Y[\"Country\"].isin(netos)]\n",
    "Others_Y = Others_Y.loc[Others_Y[\"Country\"].isin(netos)]\n",
    "Refinery_Y = Refinery_Y.loc[Refinery_Y[\"Country\"].isin(netos)]"
   ]
  },
  {
   "cell_type": "code",
   "execution_count": 13,
   "metadata": {},
   "outputs": [],
   "source": [
    "Crude_Y.to_csv('../csv_results/Variaciones_Crudo_Anual')\n",
    "NGPL_Y.to_csv('../csv_results/Variaciones_NGPL_Anual')\n",
    "Others_Y.to_csv('../csv_results/Variaciones_Others_Anual')\n",
    "Refinery_Y.to_csv('../csv_results/Variaciones_Refinery_Anual')"
   ]
  },
  {
   "cell_type": "code",
   "execution_count": 21,
   "metadata": {},
   "outputs": [],
   "source": [
    "# EXPORT TO EXCEL\n",
    "\n",
    "# writer = pd.ExcelWriter(\"../Excel_reports/Variaciones_Consumo.xlsx\")\n",
    "\n",
    "# Crude_Y.to_excel(writer, sheet_name='Yearly_Crude', startrow=2)              \n",
    "# NGPL_Y.to_excel(writer, sheet_name='Yearly_NGPL', startrow=2)\n",
    "# Others_Y.to_excel(writer, sheet_name='Yearly_Others', startrow=2)\n",
    "# Refinery_Y.to_excel(writer, sheet_name='Yearly_Refinery', startrow=2)\n",
    "\n",
    "# Crude.to_excel(writer, sheet_name='Monthly_Crude', startrow=2)\n",
    "# NGPL.to_excel(writer, sheet_name='Monthly_NGPL', startrow=2)\n",
    "# Others.to_excel(writer, sheet_name='Monthly_Others', startrow=2)\n",
    "# Refinery.to_excel(writer, sheet_name='Monthly_Refinery', startrow=2)\n",
    "\n",
    "\n",
    "# # Get sheet1\n",
    "# writer.sheets['Yearly_Crude'].write('A1', 'Yearly_Crude oil & lease condensate (Mb/d)')\n",
    "# writer.sheets['Yearly_NGPL'].write('A1', 'Yearly_NGPL (Mb/d)')\n",
    "# writer.sheets['Yearly_Others'].write('A1', 'Yearly_Other liquids (Mb/d)')\n",
    "# writer.sheets['Yearly_Refinery'].write('A1', 'Yearly_Refinery processing gain (Mb/d)')\n",
    "\n",
    "# writer.sheets['Monthly_Crude'].write('A1', 'Monthly_Crude oil & lease condensate (Mb/d)')\n",
    "# writer.sheets['Monthly_NGPL'].write('A1', 'Monthly_NGPL (Mb/d)')\n",
    "# writer.sheets['Monthly_Others'].write('A1', 'Monthly_Other liquids (Mb/d)')\n",
    "# writer.sheets['Monthly_Refinery'].write('A1', 'Monthly_Refinery processing gain (Mb/d)')\n",
    "\n",
    "# writer.save()"
   ]
  }
 ]
}