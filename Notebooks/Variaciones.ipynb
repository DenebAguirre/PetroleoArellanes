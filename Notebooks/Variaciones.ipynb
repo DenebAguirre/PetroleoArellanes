{
 "metadata": {
  "language_info": {
   "codemirror_mode": {
    "name": "ipython",
    "version": 3
   },
   "file_extension": ".py",
   "mimetype": "text/x-python",
   "name": "python",
   "nbconvert_exporter": "python",
   "pygments_lexer": "ipython3",
   "version": "3.7.7-final"
  },
  "orig_nbformat": 2,
  "kernelspec": {
   "name": "python3",
   "display_name": "Python 3"
  }
 },
 "nbformat": 4,
 "nbformat_minor": 2,
 "cells": [
  {
   "cell_type": "code",
   "execution_count": 29,
   "metadata": {},
   "outputs": [],
   "source": [
    "import pandas as pd \n",
    "import matplotlib.pyplot as plt \n",
    "import numpy as np \n",
    "\n",
    "monthly = pd.read_csv(\"../Databases/EIA USEnergy Information Administration/Monthly INT-Export-07-24-2020_09-31-55.csv\", header=1)\n",
    "yearly = pd.read_csv(\"../Databases/EIA USEnergy Information Administration/Yearly INT-Export-07-24-2020_09-38-32.csv\", header=1)\n",
    "\n",
    "\n",
    "month = pd.DataFrame(monthly)\n",
    "year = pd.DataFrame(yearly)"
   ]
  },
  {
   "cell_type": "code",
   "execution_count": 32,
   "metadata": {},
   "outputs": [],
   "source": [
    "monthly = month\n",
    "\n",
    "del monthly[\"API\"]\n",
    "\n"
   ]
  },
  {
   "cell_type": "code",
   "execution_count": 12,
   "metadata": {},
   "outputs": [],
   "source": [
    "available = monthly[\"Unnamed: 1\"].unique().tolist()"
   ]
  },
  {
   "cell_type": "code",
   "execution_count": 33,
   "metadata": {},
   "outputs": [
    {
     "output_type": "execute_result",
     "data": {
      "text/plain": "      level_0  level_1                                                  0\n0  Unnamed: 1        0                                              World\n1  Unnamed: 1        1                                         Production\n2  Unnamed: 1        2           Total petroleum and other liquids (Mb/d)\n3  Unnamed: 1        3              Crude oil, NGPL, and other liquids...\n4  Unnamed: 1        4                  Crude oil including lease cond...",
      "text/html": "<div>\n<style scoped>\n    .dataframe tbody tr th:only-of-type {\n        vertical-align: middle;\n    }\n\n    .dataframe tbody tr th {\n        vertical-align: top;\n    }\n\n    .dataframe thead th {\n        text-align: right;\n    }\n</style>\n<table border=\"1\" class=\"dataframe\">\n  <thead>\n    <tr style=\"text-align: right;\">\n      <th></th>\n      <th>level_0</th>\n      <th>level_1</th>\n      <th>0</th>\n    </tr>\n  </thead>\n  <tbody>\n    <tr>\n      <th>0</th>\n      <td>Unnamed: 1</td>\n      <td>0</td>\n      <td>World</td>\n    </tr>\n    <tr>\n      <th>1</th>\n      <td>Unnamed: 1</td>\n      <td>1</td>\n      <td>Production</td>\n    </tr>\n    <tr>\n      <th>2</th>\n      <td>Unnamed: 1</td>\n      <td>2</td>\n      <td>Total petroleum and other liquids (Mb/d)</td>\n    </tr>\n    <tr>\n      <th>3</th>\n      <td>Unnamed: 1</td>\n      <td>3</td>\n      <td>Crude oil, NGPL, and other liquids...</td>\n    </tr>\n    <tr>\n      <th>4</th>\n      <td>Unnamed: 1</td>\n      <td>4</td>\n      <td>Crude oil including lease cond...</td>\n    </tr>\n  </tbody>\n</table>\n</div>"
     },
     "metadata": {},
     "execution_count": 33
    }
   ],
   "source": [
    "monthly = monthly.unstack().reset_index()\n",
    "monthly.head()\n"
   ]
  },
  {
   "cell_type": "code",
   "execution_count": 34,
   "metadata": {},
   "outputs": [
    {
     "output_type": "execute_result",
     "data": {
      "text/plain": "          level_0  level_1      0\n1051507  Apr 2020     1843  0.819\n1051508  Apr 2020     1844      0\n1051509  Apr 2020     1845      0\n1051510  Apr 2020     1846  0.819\n1051511  Apr 2020     1847      0",
      "text/html": "<div>\n<style scoped>\n    .dataframe tbody tr th:only-of-type {\n        vertical-align: middle;\n    }\n\n    .dataframe tbody tr th {\n        vertical-align: top;\n    }\n\n    .dataframe thead th {\n        text-align: right;\n    }\n</style>\n<table border=\"1\" class=\"dataframe\">\n  <thead>\n    <tr style=\"text-align: right;\">\n      <th></th>\n      <th>level_0</th>\n      <th>level_1</th>\n      <th>0</th>\n    </tr>\n  </thead>\n  <tbody>\n    <tr>\n      <th>1051507</th>\n      <td>Apr 2020</td>\n      <td>1843</td>\n      <td>0.819</td>\n    </tr>\n    <tr>\n      <th>1051508</th>\n      <td>Apr 2020</td>\n      <td>1844</td>\n      <td>0</td>\n    </tr>\n    <tr>\n      <th>1051509</th>\n      <td>Apr 2020</td>\n      <td>1845</td>\n      <td>0</td>\n    </tr>\n    <tr>\n      <th>1051510</th>\n      <td>Apr 2020</td>\n      <td>1846</td>\n      <td>0.819</td>\n    </tr>\n    <tr>\n      <th>1051511</th>\n      <td>Apr 2020</td>\n      <td>1847</td>\n      <td>0</td>\n    </tr>\n  </tbody>\n</table>\n</div>"
     },
     "metadata": {},
     "execution_count": 34
    }
   ],
   "source": [
    "monthly.tail()"
   ]
  }
 ]
}