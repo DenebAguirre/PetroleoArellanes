{
 "metadata": {
  "language_info": {
   "codemirror_mode": {
    "name": "ipython",
    "version": 3
   },
   "file_extension": ".py",
   "mimetype": "text/x-python",
   "name": "python",
   "nbconvert_exporter": "python",
   "pygments_lexer": "ipython3",
   "version": "3.7.7-final"
  },
  "orig_nbformat": 2,
  "kernelspec": {
   "name": "python3",
   "display_name": "Python 3"
  }
 },
 "nbformat": 4,
 "nbformat_minor": 2,
 "cells": [
  {
   "cell_type": "code",
   "execution_count": 1,
   "metadata": {},
   "outputs": [],
   "source": [
    "import pandas as pd \n",
    "import matplotlib.pyplot as plt \n",
    "import numpy as np \n",
    "\n",
    "monthly = pd.read_csv(\"../Databases/EIA USEnergy Information Administration/Monthly INT-Export-07-24-2020_09-31-55.csv\", header=1)\n",
    "yearly = pd.read_csv(\"../Databases/EIA USEnergy Information Administration/Yearly INT-Export-07-24-2020_09-38-32.csv\", header=1)\n",
    "\n",
    "\n",
    "month = pd.DataFrame(monthly)\n",
    "year = pd.DataFrame(yearly)"
   ]
  },
  {
   "source": [
    "# MONTHLY"
   ],
   "cell_type": "markdown",
   "metadata": {}
  },
  {
   "cell_type": "code",
   "execution_count": 2,
   "metadata": {},
   "outputs": [],
   "source": [
    "#Create a different df to manipulate\n",
    "monthly = month\n",
    "#As we are going to use Unnamed column as country, lets change it name by once\n",
    "monthly = monthly.rename(columns={\"Unnamed: 1\" : \"Country\"})\n",
    "#Delete the not useful column API\n",
    "del monthly[\"API\"]"
   ]
  },
  {
   "cell_type": "code",
   "execution_count": 3,
   "metadata": {},
   "outputs": [
    {
     "output_type": "execute_result",
     "data": {
      "text/plain": "(231, 231, 231, 231, 231)"
     },
     "metadata": {},
     "execution_count": 3
    }
   ],
   "source": [
    "# Create especific df for each info we need \n",
    "Crude = monthly.loc[monthly[\"Country\"] == '                Crude oil including lease condensate (Mb/d)']\n",
    "NGPL = monthly.loc[monthly['Country'] == '                NGPL (Mb/d)']\n",
    "Others = monthly.loc[monthly['Country'] == '                Other liquids (Mb/d)']\n",
    "Refinery = monthly.loc[monthly['Country'] == '            Refinery processing gain (Mb/d)']\n",
    "\n",
    "#Get list of countries in the DB:\n",
    "countries = monthly['Country'].unique().tolist()\n",
    "#Delete from list non countries elements\n",
    "del countries[1:8]\n",
    "\n",
    "#Check integrity of the data\n",
    "len(NGPL),len(Crude), len(Others), len(Refinery), len(countries)"
   ]
  },
  {
   "cell_type": "code",
   "execution_count": 4,
   "metadata": {},
   "outputs": [],
   "source": [
    "#Replace Country column values with countries list\n",
    "Crude['Country'] = countries\n",
    "NGPL['Country'] = countries\n",
    "Others[\"Country\"] = countries\n",
    "Refinery[\"Country\"] = countries"
   ]
  },
  {
   "cell_type": "code",
   "execution_count": 5,
   "metadata": {
    "tags": []
   },
   "outputs": [],
   "source": [
    "# Myanmar appears as Burma\n",
    "# Republic of the Congo' appears as 'Congo-Brazzaville'\n",
    "# Democratic Republic of the Congo' appears as 'Congo-Kinshasa'\n",
    "\n",
    "netos = ['Albania','Algeria','Angola','Argentina','Azerbaijan','Benin','Bolivia','Brazil','Brunei','Cameroon','Canada','China','Colombia','Congo-Brazzaville', 'Congo-Kinshasa', 'Denmark','Ecuador','Egypt','Estonia','Gabon','Georgia','Ghana','Guatemala','Indonesia','Iran','Iraq','Kazakhstan','Kuwait','Kyrgyzstan','Libya','Malaysia','Mexico','Mongolia', 'Burma','Nigeria','Norway','Oman','Qatar','Russia','Saudi Arabia','South Sudan','Sudan','Trinidad and Tobago','Tunisia','Turkmenistan','United Arab Emirates','United Kingdom','Venezuela','Vietnam','Yemen']\n",
    "\n",
    "# for x in netos:\n",
    "#     if x not in countries:\n",
    "#         print(x)"
   ]
  },
  {
   "cell_type": "code",
   "execution_count": 6,
   "metadata": {},
   "outputs": [],
   "source": [
    "# Final Selection of Data according our required countries\n",
    "Crude = Crude.loc[Crude[\"Country\"].isin(netos)]\n",
    "NGPL = NGPL.loc[NGPL[\"Country\"].isin(netos)]\n",
    "Others = Others.loc[Others[\"Country\"].isin(netos)]\n",
    "Refinery = Refinery.loc[Refinery[\"Country\"].isin(netos)]"
   ]
  },
  {
   "cell_type": "code",
   "execution_count": 7,
   "metadata": {},
   "outputs": [],
   "source": [
    "#Export a Pivot Version\n",
    "\n",
    "# Crude.to_csv('../csv_results/Variaciones_Crudo_Mensual')\n",
    "# NGPL.to_csv('../csv_results/Variaciones_NGPL_Mensual')\n",
    "# Others.to_csv('../csv_results/Variaciones_Others_Mensual')\n",
    "# Refinery.to_csv('../csv_results/Variaciones_Refinery_Mensual')"
   ]
  },
  {
   "cell_type": "code",
   "execution_count": 10,
   "metadata": {},
   "outputs": [],
   "source": [
    "#Undo pivot tables\n",
    "Crude = Crude.set_index(\"Country\").stack().reset_index()\n",
    "NGPL = NGPL.set_index(\"Country\").stack().reset_index()\n",
    "Others = Others.set_index(\"Country\").stack().reset_index()\n",
    "Refinery = Refinery.set_index(\"Country\").stack().reset_index()"
   ]
  },
  {
   "cell_type": "code",
   "execution_count": 80,
   "metadata": {},
   "outputs": [],
   "source": [
    "dataframes = [Crude, NGPL, Others, Refinery]\n",
    "#Join the dataframes in one DB \n",
    "unified = pd.concat(dataframes, join='outer',  axis=1)\n",
    "#Select just the columns that not repeat\n",
    "unified = unified.iloc[:,[0,1,2,5,8,11]]\n",
    "#Change column names\n",
    "unified.columns = ['Country', 'Period', \"Crude\", \"NGPL\", \"Others\", \"Refinery\"]\n",
    "#Transform numeric data to numeric dtype\n",
    "unified[[\"Crude\", \"NGPL\", \"Others\", \"Refinery\"]] =  unified[[\"Crude\", \"NGPL\", \"Others\", \"Refinery\"]].apply(pd.to_numeric, errors='coerce')\n",
    "#period to date time,\n",
    "unified['Period'] = pd.to_datetime(unified['Period']).dt.to_period('M')\n"
   ]
  },
  {
   "cell_type": "code",
   "execution_count": 83,
   "metadata": {},
   "outputs": [],
   "source": [
    "#Variaciones del valor mensual\n",
    "unified.to_csv(\"../csv_results/Variaciones_Valor_Mensual.csv\")"
   ]
  },
  {
   "cell_type": "code",
   "execution_count": 81,
   "metadata": {},
   "outputs": [
    {
     "output_type": "execute_result",
     "data": {
      "text/plain": "Country        object\nPeriod      period[M]\nCrude         float64\nNGPL          float64\nOthers        float64\nRefinery      float64\ndtype: object"
     },
     "metadata": {},
     "execution_count": 81
    }
   ],
   "source": [
    "unified.dtypes"
   ]
  },
  {
   "source": [
    "# YEARLY"
   ],
   "cell_type": "markdown",
   "metadata": {}
  },
  {
   "cell_type": "code",
   "execution_count": 9,
   "metadata": {},
   "outputs": [],
   "source": [
    "#Create a different df to manipulate\n",
    "yearly = year\n",
    "#As we are going to use Unnamed column as country, lets change it name by once\n",
    "yearly = yearly.rename(columns={\"Unnamed: 1\" : \"Country\"})\n",
    "#Delete the not useful column API\n",
    "del yearly[\"API\"]"
   ]
  },
  {
   "cell_type": "code",
   "execution_count": 10,
   "metadata": {},
   "outputs": [
    {
     "output_type": "execute_result",
     "data": {
      "text/plain": "(231, 231, 231, 231, 231)"
     },
     "metadata": {},
     "execution_count": 10
    }
   ],
   "source": [
    "# Create especific df for each info we need \n",
    "Crude_Y = yearly.loc[yearly[\"Country\"] == '                Crude oil including lease condensate (Mb/d)']\n",
    "NGPL_Y = yearly.loc[yearly['Country'] == '                NGPL (Mb/d)']\n",
    "Others_Y = yearly.loc[yearly['Country'] == '                Other liquids (Mb/d)']\n",
    "Refinery_Y = yearly.loc[yearly['Country'] == '            Refinery processing gain (Mb/d)']\n",
    "\n",
    "#Get list of countries in the DB:\n",
    "countries_Y = yearly['Country'].unique().tolist()\n",
    "#Delete from list non countries elements\n",
    "del countries_Y[1:8]\n",
    "\n",
    "#Check integrity of the data\n",
    "len(NGPL_Y),len(Crude_Y), len(Others_Y), len(Refinery_Y), len(countries_Y)"
   ]
  },
  {
   "cell_type": "code",
   "execution_count": 11,
   "metadata": {},
   "outputs": [],
   "source": [
    "#Replace Country column values with countries list\n",
    "Crude_Y['Country'] = countries\n",
    "NGPL_Y['Country'] = countries\n",
    "Others_Y[\"Country\"] = countries\n",
    "Refinery_Y[\"Country\"] = countries"
   ]
  },
  {
   "cell_type": "code",
   "execution_count": 12,
   "metadata": {},
   "outputs": [],
   "source": [
    "netos = ['Albania','Algeria','Angola','Argentina','Azerbaijan','Benin','Bolivia','Brazil','Brunei','Cameroon','Canada','China','Colombia','Congo-Brazzaville', 'Congo-Kinshasa', 'Denmark','Ecuador','Egypt','Estonia','Gabon','Georgia','Ghana','Guatemala','Indonesia','Iran','Iraq','Kazakhstan','Kuwait','Kyrgyzstan','Libya','Malaysia','Mexico','Mongolia', 'Burma','Nigeria','Norway','Oman','Qatar','Russia','Saudi Arabia','South Sudan','Sudan','Trinidad and Tobago','Tunisia','Turkmenistan','United Arab Emirates','United Kingdom','Venezuela','Vietnam','Yemen']\n",
    "\n",
    "# Final Selection of Data according our required countries\n",
    "Crude_Y = Crude_Y.loc[Crude_Y[\"Country\"].isin(netos)]\n",
    "NGPL_Y = NGPL_Y.loc[NGPL_Y[\"Country\"].isin(netos)]\n",
    "Others_Y = Others_Y.loc[Others_Y[\"Country\"].isin(netos)]\n",
    "Refinery_Y = Refinery_Y.loc[Refinery_Y[\"Country\"].isin(netos)]"
   ]
  },
  {
   "cell_type": "code",
   "execution_count": 13,
   "metadata": {},
   "outputs": [],
   "source": [
    "Crude_Y.to_csv('../csv_results/Variaciones_Crudo_Anual')\n",
    "NGPL_Y.to_csv('../csv_results/Variaciones_NGPL_Anual')\n",
    "Others_Y.to_csv('../csv_results/Variaciones_Others_Anual')\n",
    "Refinery_Y.to_csv('../csv_results/Variaciones_Refinery_Anual')"
   ]
  },
  {
   "cell_type": "code",
   "execution_count": 21,
   "metadata": {},
   "outputs": [],
   "source": [
    "# EXPORT TO EXCEL\n",
    "\n",
    "# writer = pd.ExcelWriter(\"../Excel_reports/Variaciones_Consumo.xlsx\")\n",
    "\n",
    "# Crude_Y.to_excel(writer, sheet_name='Yearly_Crude', startrow=2)              \n",
    "# NGPL_Y.to_excel(writer, sheet_name='Yearly_NGPL', startrow=2)\n",
    "# Others_Y.to_excel(writer, sheet_name='Yearly_Others', startrow=2)\n",
    "# Refinery_Y.to_excel(writer, sheet_name='Yearly_Refinery', startrow=2)\n",
    "\n",
    "# Crude.to_excel(writer, sheet_name='Monthly_Crude', startrow=2)\n",
    "# NGPL.to_excel(writer, sheet_name='Monthly_NGPL', startrow=2)\n",
    "# Others.to_excel(writer, sheet_name='Monthly_Others', startrow=2)\n",
    "# Refinery.to_excel(writer, sheet_name='Monthly_Refinery', startrow=2)\n",
    "\n",
    "\n",
    "# # Get sheet1\n",
    "# writer.sheets['Yearly_Crude'].write('A1', 'Yearly_Crude oil & lease condensate (Mb/d)')\n",
    "# writer.sheets['Yearly_NGPL'].write('A1', 'Yearly_NGPL (Mb/d)')\n",
    "# writer.sheets['Yearly_Others'].write('A1', 'Yearly_Other liquids (Mb/d)')\n",
    "# writer.sheets['Yearly_Refinery'].write('A1', 'Yearly_Refinery processing gain (Mb/d)')\n",
    "\n",
    "# writer.sheets['Monthly_Crude'].write('A1', 'Monthly_Crude oil & lease condensate (Mb/d)')\n",
    "# writer.sheets['Monthly_NGPL'].write('A1', 'Monthly_NGPL (Mb/d)')\n",
    "# writer.sheets['Monthly_Others'].write('A1', 'Monthly_Other liquids (Mb/d)')\n",
    "# writer.sheets['Monthly_Refinery'].write('A1', 'Monthly_Refinery processing gain (Mb/d)')\n",
    "\n",
    "# writer.save()"
   ]
  }
 ]
}