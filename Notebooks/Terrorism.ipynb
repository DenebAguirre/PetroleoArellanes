{
 "metadata": {
  "language_info": {
   "codemirror_mode": {
    "name": "ipython",
    "version": 3
   },
   "file_extension": ".py",
   "mimetype": "text/x-python",
   "name": "python",
   "nbconvert_exporter": "python",
   "pygments_lexer": "ipython3",
   "version": "3.7.7-final"
  },
  "orig_nbformat": 2,
  "kernelspec": {
   "name": "python3",
   "display_name": "Python 3"
  }
 },
 "nbformat": 4,
 "nbformat_minor": 2,
 "cells": [
  {
   "cell_type": "code",
   "execution_count": 4,
   "metadata": {},
   "outputs": [],
   "source": [
    "import pandas as pd \n",
    "#Last downloaded on september 10th\n",
    "terrorism = pd.read_excel(\"../Databases/Global Terrorism Database/globalterrorismdb_0919dist.xlsx\")\n",
    "terrorism = pd.DataFrame(terrorism)\n"
   ]
  },
  {
   "cell_type": "code",
   "execution_count": 17,
   "metadata": {},
   "outputs": [],
   "source": [
    "targets = terrorism[[ 'iyear',\n",
    " 'imonth',\n",
    " 'iday',\n",
    " 'approxdate',\n",
    " 'extended',\n",
    " 'resolution',\n",
    " 'country',\n",
    " 'country_txt',\n",
    " 'region',\n",
    " 'region_txt','targtype1',\n",
    " 'targtype1_txt',\n",
    " 'targsubtype1',\n",
    " 'targsubtype1_txt',\n",
    "  'latitude',\n",
    " 'longitude',]]"
   ]
  },
  {
   "cell_type": "code",
   "execution_count": 30,
   "metadata": {},
   "outputs": [],
   "source": [
    "oil = targets.loc[(targets[\"targsubtype1\"] == 59) | (targets[\"targsubtype1\"] == 108) | (targets[\"targsubtype1\"] == 1)]"
   ]
  },
  {
   "cell_type": "code",
   "execution_count": 32,
   "metadata": {},
   "outputs": [
    {
     "output_type": "execute_result",
     "data": {
      "text/plain": "     targtype1 targtype1_txt  targsubtype1  targsubtype1_txt\n129          1      Business           1.0  Gas/Oil/Electric\n422         21     Utilities         108.0               Oil\n495          1      Business           1.0  Gas/Oil/Electric\n765         21     Utilities         108.0               Oil\n792         21     Utilities         108.0               Oil",
      "text/html": "<div>\n<style scoped>\n    .dataframe tbody tr th:only-of-type {\n        vertical-align: middle;\n    }\n\n    .dataframe tbody tr th {\n        vertical-align: top;\n    }\n\n    .dataframe thead th {\n        text-align: right;\n    }\n</style>\n<table border=\"1\" class=\"dataframe\">\n  <thead>\n    <tr style=\"text-align: right;\">\n      <th></th>\n      <th>targtype1</th>\n      <th>targtype1_txt</th>\n      <th>targsubtype1</th>\n      <th>targsubtype1_txt</th>\n    </tr>\n  </thead>\n  <tbody>\n    <tr>\n      <th>129</th>\n      <td>1</td>\n      <td>Business</td>\n      <td>1.0</td>\n      <td>Gas/Oil/Electric</td>\n    </tr>\n    <tr>\n      <th>422</th>\n      <td>21</td>\n      <td>Utilities</td>\n      <td>108.0</td>\n      <td>Oil</td>\n    </tr>\n    <tr>\n      <th>495</th>\n      <td>1</td>\n      <td>Business</td>\n      <td>1.0</td>\n      <td>Gas/Oil/Electric</td>\n    </tr>\n    <tr>\n      <th>765</th>\n      <td>21</td>\n      <td>Utilities</td>\n      <td>108.0</td>\n      <td>Oil</td>\n    </tr>\n    <tr>\n      <th>792</th>\n      <td>21</td>\n      <td>Utilities</td>\n      <td>108.0</td>\n      <td>Oil</td>\n    </tr>\n  </tbody>\n</table>\n</div>"
     },
     "metadata": {},
     "execution_count": 32
    }
   ],
   "source": [
    "oil.head()"
   ]
  },
  {
   "cell_type": "code",
   "execution_count": 18,
   "metadata": {},
   "outputs": [
    {
     "output_type": "execute_result",
     "data": {
      "text/plain": "   targtype1                targtype1_txt  targsubtype1  \\\n0         14  Private Citizens & Property          68.0   \n1          7      Government (Diplomatic)          45.0   \n2         10          Journalists & Media          54.0   \n3          7      Government (Diplomatic)          46.0   \n4          7      Government (Diplomatic)          46.0   \n5          3                       Police          22.0   \n6          3                       Police          25.0   \n7         21                    Utilities         107.0   \n8          4                     Military          28.0   \n9          2         Government (General)          21.0   \n\n                                    targsubtype1_txt  \n0                                     Named Civilian  \n1  Diplomatic Personnel (outside of embassy, cons...  \n2                    Radio Journalist/Staff/Facility  \n3                                  Embassy/Consulate  \n4                                  Embassy/Consulate  \n5    Police Building (headquarters, station, school)  \n6                    Police Security Forces/Officers  \n7                                        Electricity  \n8                Military Recruiting Station/Academy  \n9                Government Building/Facility/Office  ",
      "text/html": "<div>\n<style scoped>\n    .dataframe tbody tr th:only-of-type {\n        vertical-align: middle;\n    }\n\n    .dataframe tbody tr th {\n        vertical-align: top;\n    }\n\n    .dataframe thead th {\n        text-align: right;\n    }\n</style>\n<table border=\"1\" class=\"dataframe\">\n  <thead>\n    <tr style=\"text-align: right;\">\n      <th></th>\n      <th>targtype1</th>\n      <th>targtype1_txt</th>\n      <th>targsubtype1</th>\n      <th>targsubtype1_txt</th>\n    </tr>\n  </thead>\n  <tbody>\n    <tr>\n      <th>0</th>\n      <td>14</td>\n      <td>Private Citizens &amp; Property</td>\n      <td>68.0</td>\n      <td>Named Civilian</td>\n    </tr>\n    <tr>\n      <th>1</th>\n      <td>7</td>\n      <td>Government (Diplomatic)</td>\n      <td>45.0</td>\n      <td>Diplomatic Personnel (outside of embassy, cons...</td>\n    </tr>\n    <tr>\n      <th>2</th>\n      <td>10</td>\n      <td>Journalists &amp; Media</td>\n      <td>54.0</td>\n      <td>Radio Journalist/Staff/Facility</td>\n    </tr>\n    <tr>\n      <th>3</th>\n      <td>7</td>\n      <td>Government (Diplomatic)</td>\n      <td>46.0</td>\n      <td>Embassy/Consulate</td>\n    </tr>\n    <tr>\n      <th>4</th>\n      <td>7</td>\n      <td>Government (Diplomatic)</td>\n      <td>46.0</td>\n      <td>Embassy/Consulate</td>\n    </tr>\n    <tr>\n      <th>5</th>\n      <td>3</td>\n      <td>Police</td>\n      <td>22.0</td>\n      <td>Police Building (headquarters, station, school)</td>\n    </tr>\n    <tr>\n      <th>6</th>\n      <td>3</td>\n      <td>Police</td>\n      <td>25.0</td>\n      <td>Police Security Forces/Officers</td>\n    </tr>\n    <tr>\n      <th>7</th>\n      <td>21</td>\n      <td>Utilities</td>\n      <td>107.0</td>\n      <td>Electricity</td>\n    </tr>\n    <tr>\n      <th>8</th>\n      <td>4</td>\n      <td>Military</td>\n      <td>28.0</td>\n      <td>Military Recruiting Station/Academy</td>\n    </tr>\n    <tr>\n      <th>9</th>\n      <td>2</td>\n      <td>Government (General)</td>\n      <td>21.0</td>\n      <td>Government Building/Facility/Office</td>\n    </tr>\n  </tbody>\n</table>\n</div>"
     },
     "metadata": {},
     "execution_count": 18
    }
   ],
   "source": [
    "targets.head(10)"
   ]
  },
  {
   "cell_type": "code",
   "execution_count": 6,
   "metadata": {},
   "outputs": [
    {
     "output_type": "execute_result",
     "data": {
      "text/plain": "        eventid  iyear  imonth  iday approxdate  extended resolution  country  \\\n0  197000000001   1970       7     2        NaN         0        NaT       58   \n1  197000000002   1970       0     0        NaN         0        NaT      130   \n2  197001000001   1970       1     0        NaN         0        NaT      160   \n3  197001000002   1970       1     0        NaN         0        NaT       78   \n4  197001000003   1970       1     0        NaN         0        NaT      101   \n\n          country_txt  region  ... addnotes scite1 scite2  scite3  dbsource  \\\n0  Dominican Republic       2  ...      NaN    NaN    NaN     NaN      PGIS   \n1              Mexico       1  ...      NaN    NaN    NaN     NaN      PGIS   \n2         Philippines       5  ...      NaN    NaN    NaN     NaN      PGIS   \n3              Greece       8  ...      NaN    NaN    NaN     NaN      PGIS   \n4               Japan       4  ...      NaN    NaN    NaN     NaN      PGIS   \n\n   INT_LOG  INT_IDEO INT_MISC INT_ANY  related  \n0        0         0        0       0      NaN  \n1        0         1        1       1      NaN  \n2       -9        -9        1       1      NaN  \n3       -9        -9        1       1      NaN  \n4       -9        -9        1       1      NaN  \n\n[5 rows x 135 columns]",
      "text/html": "<div>\n<style scoped>\n    .dataframe tbody tr th:only-of-type {\n        vertical-align: middle;\n    }\n\n    .dataframe tbody tr th {\n        vertical-align: top;\n    }\n\n    .dataframe thead th {\n        text-align: right;\n    }\n</style>\n<table border=\"1\" class=\"dataframe\">\n  <thead>\n    <tr style=\"text-align: right;\">\n      <th></th>\n      <th>eventid</th>\n      <th>iyear</th>\n      <th>imonth</th>\n      <th>iday</th>\n      <th>approxdate</th>\n      <th>extended</th>\n      <th>resolution</th>\n      <th>country</th>\n      <th>country_txt</th>\n      <th>region</th>\n      <th>...</th>\n      <th>addnotes</th>\n      <th>scite1</th>\n      <th>scite2</th>\n      <th>scite3</th>\n      <th>dbsource</th>\n      <th>INT_LOG</th>\n      <th>INT_IDEO</th>\n      <th>INT_MISC</th>\n      <th>INT_ANY</th>\n      <th>related</th>\n    </tr>\n  </thead>\n  <tbody>\n    <tr>\n      <th>0</th>\n      <td>197000000001</td>\n      <td>1970</td>\n      <td>7</td>\n      <td>2</td>\n      <td>NaN</td>\n      <td>0</td>\n      <td>NaT</td>\n      <td>58</td>\n      <td>Dominican Republic</td>\n      <td>2</td>\n      <td>...</td>\n      <td>NaN</td>\n      <td>NaN</td>\n      <td>NaN</td>\n      <td>NaN</td>\n      <td>PGIS</td>\n      <td>0</td>\n      <td>0</td>\n      <td>0</td>\n      <td>0</td>\n      <td>NaN</td>\n    </tr>\n    <tr>\n      <th>1</th>\n      <td>197000000002</td>\n      <td>1970</td>\n      <td>0</td>\n      <td>0</td>\n      <td>NaN</td>\n      <td>0</td>\n      <td>NaT</td>\n      <td>130</td>\n      <td>Mexico</td>\n      <td>1</td>\n      <td>...</td>\n      <td>NaN</td>\n      <td>NaN</td>\n      <td>NaN</td>\n      <td>NaN</td>\n      <td>PGIS</td>\n      <td>0</td>\n      <td>1</td>\n      <td>1</td>\n      <td>1</td>\n      <td>NaN</td>\n    </tr>\n    <tr>\n      <th>2</th>\n      <td>197001000001</td>\n      <td>1970</td>\n      <td>1</td>\n      <td>0</td>\n      <td>NaN</td>\n      <td>0</td>\n      <td>NaT</td>\n      <td>160</td>\n      <td>Philippines</td>\n      <td>5</td>\n      <td>...</td>\n      <td>NaN</td>\n      <td>NaN</td>\n      <td>NaN</td>\n      <td>NaN</td>\n      <td>PGIS</td>\n      <td>-9</td>\n      <td>-9</td>\n      <td>1</td>\n      <td>1</td>\n      <td>NaN</td>\n    </tr>\n    <tr>\n      <th>3</th>\n      <td>197001000002</td>\n      <td>1970</td>\n      <td>1</td>\n      <td>0</td>\n      <td>NaN</td>\n      <td>0</td>\n      <td>NaT</td>\n      <td>78</td>\n      <td>Greece</td>\n      <td>8</td>\n      <td>...</td>\n      <td>NaN</td>\n      <td>NaN</td>\n      <td>NaN</td>\n      <td>NaN</td>\n      <td>PGIS</td>\n      <td>-9</td>\n      <td>-9</td>\n      <td>1</td>\n      <td>1</td>\n      <td>NaN</td>\n    </tr>\n    <tr>\n      <th>4</th>\n      <td>197001000003</td>\n      <td>1970</td>\n      <td>1</td>\n      <td>0</td>\n      <td>NaN</td>\n      <td>0</td>\n      <td>NaT</td>\n      <td>101</td>\n      <td>Japan</td>\n      <td>4</td>\n      <td>...</td>\n      <td>NaN</td>\n      <td>NaN</td>\n      <td>NaN</td>\n      <td>NaN</td>\n      <td>PGIS</td>\n      <td>-9</td>\n      <td>-9</td>\n      <td>1</td>\n      <td>1</td>\n      <td>NaN</td>\n    </tr>\n  </tbody>\n</table>\n<p>5 rows × 135 columns</p>\n</div>"
     },
     "metadata": {},
     "execution_count": 6
    }
   ],
   "source": [
    "terrorism.head()"
   ]
  },
  {
   "cell_type": "code",
   "execution_count": 11,
   "metadata": {},
   "outputs": [
    {
     "output_type": "execute_result",
     "data": {
      "text/plain": "['eventid',\n 'iyear',\n 'imonth',\n 'iday',\n 'approxdate',\n 'extended',\n 'resolution',\n 'country',\n 'country_txt',\n 'region',\n 'region_txt',\n 'provstate',\n 'city',\n 'latitude',\n 'longitude',\n 'specificity',\n 'vicinity',\n 'location',\n 'summary',\n 'crit1',\n 'crit2',\n 'crit3',\n 'doubtterr',\n 'alternative',\n 'alternative_txt',\n 'multiple',\n 'success',\n 'suicide',\n 'attacktype1',\n 'attacktype1_txt',\n 'attacktype2',\n 'attacktype2_txt',\n 'attacktype3',\n 'attacktype3_txt',\n 'targtype1',\n 'targtype1_txt',\n 'targsubtype1',\n 'targsubtype1_txt',\n 'corp1',\n 'target1',\n 'natlty1',\n 'natlty1_txt',\n 'targtype2',\n 'targtype2_txt',\n 'targsubtype2',\n 'targsubtype2_txt',\n 'corp2',\n 'target2',\n 'natlty2',\n 'natlty2_txt',\n 'targtype3',\n 'targtype3_txt',\n 'targsubtype3',\n 'targsubtype3_txt',\n 'corp3',\n 'target3',\n 'natlty3',\n 'natlty3_txt',\n 'gname',\n 'gsubname',\n 'gname2',\n 'gsubname2',\n 'gname3',\n 'gsubname3',\n 'motive',\n 'guncertain1',\n 'guncertain2',\n 'guncertain3',\n 'individual',\n 'nperps',\n 'nperpcap',\n 'claimed',\n 'claimmode',\n 'claimmode_txt',\n 'claim2',\n 'claimmode2',\n 'claimmode2_txt',\n 'claim3',\n 'claimmode3',\n 'claimmode3_txt',\n 'compclaim',\n 'weaptype1',\n 'weaptype1_txt',\n 'weapsubtype1',\n 'weapsubtype1_txt',\n 'weaptype2',\n 'weaptype2_txt',\n 'weapsubtype2',\n 'weapsubtype2_txt',\n 'weaptype3',\n 'weaptype3_txt',\n 'weapsubtype3',\n 'weapsubtype3_txt',\n 'weaptype4',\n 'weaptype4_txt',\n 'weapsubtype4',\n 'weapsubtype4_txt',\n 'weapdetail',\n 'nkill',\n 'nkillus',\n 'nkillter',\n 'nwound',\n 'nwoundus',\n 'nwoundte',\n 'property',\n 'propextent',\n 'propextent_txt',\n 'propvalue',\n 'propcomment',\n 'ishostkid',\n 'nhostkid',\n 'nhostkidus',\n 'nhours',\n 'ndays',\n 'divert',\n 'kidhijcountry',\n 'ransom',\n 'ransomamt',\n 'ransomamtus',\n 'ransompaid',\n 'ransompaidus',\n 'ransomnote',\n 'hostkidoutcome',\n 'hostkidoutcome_txt',\n 'nreleased',\n 'addnotes',\n 'scite1',\n 'scite2',\n 'scite3',\n 'dbsource',\n 'INT_LOG',\n 'INT_IDEO',\n 'INT_MISC',\n 'INT_ANY',\n 'related']"
     },
     "metadata": {},
     "execution_count": 11
    }
   ],
   "source": [
    "cols = terrorism.columns.tolist()\n",
    "cols"
   ]
  }
 ]
}