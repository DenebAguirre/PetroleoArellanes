{
 "metadata": {
  "language_info": {
   "codemirror_mode": {
    "name": "ipython",
    "version": 3
   },
   "file_extension": ".py",
   "mimetype": "text/x-python",
   "name": "python",
   "nbconvert_exporter": "python",
   "pygments_lexer": "ipython3",
   "version": "3.7.7-final"
  },
  "orig_nbformat": 2,
  "kernelspec": {
   "name": "python3",
   "display_name": "Python 3"
  }
 },
 "nbformat": 4,
 "nbformat_minor": 2,
 "cells": [
  {
   "cell_type": "code",
   "execution_count": 18,
   "metadata": {},
   "outputs": [],
   "source": [
    "import pandas as pd \n",
    "#Last downloaded on september 10th\n",
    "terrorism = pd.read_excel(\"../Databases/Global Terrorism Database/globalterrorismdb_0919dist.xlsx\")\n",
    "terrorism = pd.DataFrame(terrorism)"
   ]
  },
  {
   "cell_type": "code",
   "execution_count": 40,
   "metadata": {},
   "outputs": [
    {
     "output_type": "execute_result",
     "data": {
      "text/plain": "191464"
     },
     "metadata": {},
     "execution_count": 40
    }
   ],
   "source": [
    "#From the table only get the following columns\n",
    "data = terrorism[[ 'iyear',\n",
    " 'imonth',\n",
    " 'iday',\n",
    " 'approxdate',\n",
    " 'extended',\n",
    " 'resolution',\n",
    " 'country',\n",
    " 'country_txt',\n",
    " 'region',\n",
    " 'region_txt','targtype1',\n",
    " 'targtype1_txt',\n",
    " 'targsubtype1',\n",
    " 'targsubtype1_txt',\n",
    "  'doubtterr',\n",
    " 'alternative',\n",
    " 'alternative_txt',\n",
    " 'multiple',\n",
    " 'success',\n",
    "  'latitude',\n",
    " 'longitude', \n",
    "  'motive']]\n",
    "\n",
    "len(terrorism)"
   ]
  },
  {
   "cell_type": "code",
   "execution_count": 27,
   "metadata": {
    "tags": []
   },
   "outputs": [],
   "source": [
    "#Congo appears as Republic of the Congo,  Democratic Republic of the Congo appears also as People's Republic of the Congo,  Russia appears also as Soviet Union, Yemen also as North Yemen, and Vietnam appears also as South Vietnam\n",
    "\n",
    "#There´s no data for Mongolia and Oman\n",
    "\n",
    "#List of countries of interest as appears in the Data Base\n",
    "netos = ['Albania','Algeria','Angola','Argentina','Azerbaijan','Benin','Bolivia','Brazil','Brunei','Cameroon','Canada','China','Colombia','Republic of the Congo','Democratic Republic of the Congo', \"People's Republic of the Congo\" ,'Denmark','Ecuador','Egypt','Estonia','Gabon','Georgia','Ghana','Guatemala','Indonesia','Iran','Iraq','Kazakhstan','Kuwait','Kyrgyzstan','Libya','Malaysia','Mexico','Mongolia','Myanmar','Nigeria','Norway','Oman','Qatar','Russia', 'Soviet Union','Saudi Arabia','South Sudan','Sudan','Trinidad and Tobago','Tunisia','Turkmenistan','United Arab Emirates','United Kingdom','Venezuela','Vietnam','Yemen' , 'North Yemen']\n",
    "\n",
    "# #Listo of available countries in the Data Base\n",
    "# available = targets[\"country_txt\"].unique().tolist()\n",
    "\n",
    "# #Check which countries of our interest does not appear in de DB\n",
    "# for x in netos:\n",
    "#     if x not in available:\n",
    "#         print(x)"
   ]
  },
  {
   "cell_type": "code",
   "execution_count": 43,
   "metadata": {},
   "outputs": [],
   "source": [
    "#Get only the data for countries we are interested in\n",
    "targets = data.loc[data[\"country_txt\"].isin(netos)]"
   ]
  },
  {
   "cell_type": "code",
   "execution_count": 75,
   "metadata": {},
   "outputs": [
    {
     "output_type": "execute_result",
     "data": {
      "text/plain": "1605"
     },
     "metadata": {},
     "execution_count": 75
    }
   ],
   "source": [
    "#Get only the incidentes related to petroleoum \n",
    "# (check de code book ) 59 = Oil Tanker, 108 = Oil, 1 = Gas/Oil/Electric\n",
    "oil = targets.loc[(targets[\"targsubtype1\"] == 59) | (targets[\"targsubtype1\"] == 108) | (targets[\"targsubtype1\"] == 1)]\n",
    "len(oil)"
   ]
  },
  {
   "cell_type": "code",
   "execution_count": 46,
   "metadata": {},
   "outputs": [
    {
     "output_type": "execute_result",
     "data": {
      "text/plain": "      iyear  imonth  iday approxdate  extended resolution  country  \\\n1124   1972       1     0        NaN         0        NaT      106   \n1430   1972       8    14        NaN         0        NaT       94   \n1449   1972       8    23        NaN         0        NaT       94   \n2102   1973      11    24        NaN         0        NaT      222   \n2123   1973      12     6        NaN         1 1974-04-20       11   \n\n     country_txt  region                  region_txt  ...  targtype1_txt  \\\n1124      Kuwait      10  Middle East & North Africa  ...       Business   \n1430        Iran      10  Middle East & North Africa  ...       Business   \n1449        Iran      10  Middle East & North Africa  ...      Utilities   \n2102   Venezuela       3               South America  ...      Utilities   \n2123   Argentina       3               South America  ...       Business   \n\n     targsubtype1  targsubtype1_txt doubtterr  alternative  alternative_txt  \\\n1124          1.0  Gas/Oil/Electric         0          NaN              NaN   \n1430          1.0  Gas/Oil/Electric         0          NaN              NaN   \n1449        108.0               Oil         0          NaN              NaN   \n2102        108.0               Oil         0          NaN              NaN   \n2123          1.0  Gas/Oil/Electric         0          NaN              NaN   \n\n     multiple  success   latitude  longitude  \n1124        0        1        NaN        NaN  \n1430        0        0  35.724533  51.405190  \n1449        0        0  30.345997  48.287136  \n2102        0        1        NaN        NaN  \n2123        0        1 -34.617680 -58.444435  \n\n[5 rows x 21 columns]",
      "text/html": "<div>\n<style scoped>\n    .dataframe tbody tr th:only-of-type {\n        vertical-align: middle;\n    }\n\n    .dataframe tbody tr th {\n        vertical-align: top;\n    }\n\n    .dataframe thead th {\n        text-align: right;\n    }\n</style>\n<table border=\"1\" class=\"dataframe\">\n  <thead>\n    <tr style=\"text-align: right;\">\n      <th></th>\n      <th>iyear</th>\n      <th>imonth</th>\n      <th>iday</th>\n      <th>approxdate</th>\n      <th>extended</th>\n      <th>resolution</th>\n      <th>country</th>\n      <th>country_txt</th>\n      <th>region</th>\n      <th>region_txt</th>\n      <th>...</th>\n      <th>targtype1_txt</th>\n      <th>targsubtype1</th>\n      <th>targsubtype1_txt</th>\n      <th>doubtterr</th>\n      <th>alternative</th>\n      <th>alternative_txt</th>\n      <th>multiple</th>\n      <th>success</th>\n      <th>latitude</th>\n      <th>longitude</th>\n    </tr>\n  </thead>\n  <tbody>\n    <tr>\n      <th>1124</th>\n      <td>1972</td>\n      <td>1</td>\n      <td>0</td>\n      <td>NaN</td>\n      <td>0</td>\n      <td>NaT</td>\n      <td>106</td>\n      <td>Kuwait</td>\n      <td>10</td>\n      <td>Middle East &amp; North Africa</td>\n      <td>...</td>\n      <td>Business</td>\n      <td>1.0</td>\n      <td>Gas/Oil/Electric</td>\n      <td>0</td>\n      <td>NaN</td>\n      <td>NaN</td>\n      <td>0</td>\n      <td>1</td>\n      <td>NaN</td>\n      <td>NaN</td>\n    </tr>\n    <tr>\n      <th>1430</th>\n      <td>1972</td>\n      <td>8</td>\n      <td>14</td>\n      <td>NaN</td>\n      <td>0</td>\n      <td>NaT</td>\n      <td>94</td>\n      <td>Iran</td>\n      <td>10</td>\n      <td>Middle East &amp; North Africa</td>\n      <td>...</td>\n      <td>Business</td>\n      <td>1.0</td>\n      <td>Gas/Oil/Electric</td>\n      <td>0</td>\n      <td>NaN</td>\n      <td>NaN</td>\n      <td>0</td>\n      <td>0</td>\n      <td>35.724533</td>\n      <td>51.405190</td>\n    </tr>\n    <tr>\n      <th>1449</th>\n      <td>1972</td>\n      <td>8</td>\n      <td>23</td>\n      <td>NaN</td>\n      <td>0</td>\n      <td>NaT</td>\n      <td>94</td>\n      <td>Iran</td>\n      <td>10</td>\n      <td>Middle East &amp; North Africa</td>\n      <td>...</td>\n      <td>Utilities</td>\n      <td>108.0</td>\n      <td>Oil</td>\n      <td>0</td>\n      <td>NaN</td>\n      <td>NaN</td>\n      <td>0</td>\n      <td>0</td>\n      <td>30.345997</td>\n      <td>48.287136</td>\n    </tr>\n    <tr>\n      <th>2102</th>\n      <td>1973</td>\n      <td>11</td>\n      <td>24</td>\n      <td>NaN</td>\n      <td>0</td>\n      <td>NaT</td>\n      <td>222</td>\n      <td>Venezuela</td>\n      <td>3</td>\n      <td>South America</td>\n      <td>...</td>\n      <td>Utilities</td>\n      <td>108.0</td>\n      <td>Oil</td>\n      <td>0</td>\n      <td>NaN</td>\n      <td>NaN</td>\n      <td>0</td>\n      <td>1</td>\n      <td>NaN</td>\n      <td>NaN</td>\n    </tr>\n    <tr>\n      <th>2123</th>\n      <td>1973</td>\n      <td>12</td>\n      <td>6</td>\n      <td>NaN</td>\n      <td>1</td>\n      <td>1974-04-20</td>\n      <td>11</td>\n      <td>Argentina</td>\n      <td>3</td>\n      <td>South America</td>\n      <td>...</td>\n      <td>Business</td>\n      <td>1.0</td>\n      <td>Gas/Oil/Electric</td>\n      <td>0</td>\n      <td>NaN</td>\n      <td>NaN</td>\n      <td>0</td>\n      <td>1</td>\n      <td>-34.617680</td>\n      <td>-58.444435</td>\n    </tr>\n  </tbody>\n</table>\n<p>5 rows × 21 columns</p>\n</div>"
     },
     "metadata": {},
     "execution_count": 46
    }
   ],
   "source": [
    "oil.head()"
   ]
  },
  {
   "cell_type": "code",
   "execution_count": 76,
   "metadata": {},
   "outputs": [],
   "source": [
    "#As we are just interested in month, we will create a fake date for those rows where the day is missing \n",
    "oil[\"iday\"] = oil[\"iday\"].replace({ 0 : 1})"
   ]
  },
  {
   "cell_type": "code",
   "execution_count": 77,
   "metadata": {
    "tags": []
   },
   "outputs": [],
   "source": [
    "#Create a column with datetime format to work with and add create a month year column \n",
    "oil[\"period\"] = pd.to_datetime(oil.iyear.astype(str) + \"/\" + oil.imonth.astype(str) + \"/\" + oil.iday.astype(str)).dt.to_period(\"M\") \n"
   ]
  },
  {
   "cell_type": "code",
   "execution_count": 94,
   "metadata": {},
   "outputs": [],
   "source": [
    "period = oil.groupby([\"period\"]).count()"
   ]
  },
  {
   "cell_type": "code",
   "execution_count": 96,
   "metadata": {},
   "outputs": [
    {
     "output_type": "execute_result",
     "data": {
      "text/plain": "         iyear  imonth  iday  approxdate  extended  resolution  country  \\\nperiod                                                                    \n1972-01      1       1     1           0         1           0        1   \n1972-08      2       2     2           0         2           0        2   \n1973-11      1       1     1           0         1           0        1   \n1973-12      1       1     1           0         1           1        1   \n1974-03      1       1     1           0         1           0        1   \n...        ...     ...   ...         ...       ...         ...      ...   \n2018-08      4       4     4           0         4           0        4   \n2018-09      8       8     8           0         8           0        8   \n2018-10      6       6     6           0         6           0        6   \n2018-11      9       9     9           0         9           1        9   \n2018-12      5       5     5           1         5           0        5   \n\n         country_txt  region  region_txt  ...  targtype1_txt  targsubtype1  \\\nperiod                                    ...                                \n1972-01            1       1           1  ...              1             1   \n1972-08            2       2           2  ...              2             2   \n1973-11            1       1           1  ...              1             1   \n1973-12            1       1           1  ...              1             1   \n1974-03            1       1           1  ...              1             1   \n...              ...     ...         ...  ...            ...           ...   \n2018-08            4       4           4  ...              4             4   \n2018-09            8       8           8  ...              8             8   \n2018-10            6       6           6  ...              6             6   \n2018-11            9       9           9  ...              9             9   \n2018-12            5       5           5  ...              5             5   \n\n         targsubtype1_txt  doubtterr  alternative  alternative_txt  multiple  \\\nperiod                                                                         \n1972-01                 1          1            0                0         1   \n1972-08                 2          2            0                0         2   \n1973-11                 1          1            0                0         1   \n1973-12                 1          1            0                0         1   \n1974-03                 1          1            0                0         1   \n...                   ...        ...          ...              ...       ...   \n2018-08                 4          4            0                0         4   \n2018-09                 8          8            0                0         8   \n2018-10                 6          6            0                0         6   \n2018-11                 9          9            0                0         9   \n2018-12                 5          5            0                0         5   \n\n         success  latitude  longitude  \nperiod                                 \n1972-01        1         0          0  \n1972-08        2         2          2  \n1973-11        1         0          0  \n1973-12        1         1          1  \n1974-03        1         1          1  \n...          ...       ...        ...  \n2018-08        4         4          4  \n2018-09        8         8          8  \n2018-10        6         6          6  \n2018-11        9         9          9  \n2018-12        5         5          5  \n\n[370 rows x 21 columns]",
      "text/html": "<div>\n<style scoped>\n    .dataframe tbody tr th:only-of-type {\n        vertical-align: middle;\n    }\n\n    .dataframe tbody tr th {\n        vertical-align: top;\n    }\n\n    .dataframe thead th {\n        text-align: right;\n    }\n</style>\n<table border=\"1\" class=\"dataframe\">\n  <thead>\n    <tr style=\"text-align: right;\">\n      <th></th>\n      <th>iyear</th>\n      <th>imonth</th>\n      <th>iday</th>\n      <th>approxdate</th>\n      <th>extended</th>\n      <th>resolution</th>\n      <th>country</th>\n      <th>country_txt</th>\n      <th>region</th>\n      <th>region_txt</th>\n      <th>...</th>\n      <th>targtype1_txt</th>\n      <th>targsubtype1</th>\n      <th>targsubtype1_txt</th>\n      <th>doubtterr</th>\n      <th>alternative</th>\n      <th>alternative_txt</th>\n      <th>multiple</th>\n      <th>success</th>\n      <th>latitude</th>\n      <th>longitude</th>\n    </tr>\n    <tr>\n      <th>period</th>\n      <th></th>\n      <th></th>\n      <th></th>\n      <th></th>\n      <th></th>\n      <th></th>\n      <th></th>\n      <th></th>\n      <th></th>\n      <th></th>\n      <th></th>\n      <th></th>\n      <th></th>\n      <th></th>\n      <th></th>\n      <th></th>\n      <th></th>\n      <th></th>\n      <th></th>\n      <th></th>\n      <th></th>\n    </tr>\n  </thead>\n  <tbody>\n    <tr>\n      <th>1972-01</th>\n      <td>1</td>\n      <td>1</td>\n      <td>1</td>\n      <td>0</td>\n      <td>1</td>\n      <td>0</td>\n      <td>1</td>\n      <td>1</td>\n      <td>1</td>\n      <td>1</td>\n      <td>...</td>\n      <td>1</td>\n      <td>1</td>\n      <td>1</td>\n      <td>1</td>\n      <td>0</td>\n      <td>0</td>\n      <td>1</td>\n      <td>1</td>\n      <td>0</td>\n      <td>0</td>\n    </tr>\n    <tr>\n      <th>1972-08</th>\n      <td>2</td>\n      <td>2</td>\n      <td>2</td>\n      <td>0</td>\n      <td>2</td>\n      <td>0</td>\n      <td>2</td>\n      <td>2</td>\n      <td>2</td>\n      <td>2</td>\n      <td>...</td>\n      <td>2</td>\n      <td>2</td>\n      <td>2</td>\n      <td>2</td>\n      <td>0</td>\n      <td>0</td>\n      <td>2</td>\n      <td>2</td>\n      <td>2</td>\n      <td>2</td>\n    </tr>\n    <tr>\n      <th>1973-11</th>\n      <td>1</td>\n      <td>1</td>\n      <td>1</td>\n      <td>0</td>\n      <td>1</td>\n      <td>0</td>\n      <td>1</td>\n      <td>1</td>\n      <td>1</td>\n      <td>1</td>\n      <td>...</td>\n      <td>1</td>\n      <td>1</td>\n      <td>1</td>\n      <td>1</td>\n      <td>0</td>\n      <td>0</td>\n      <td>1</td>\n      <td>1</td>\n      <td>0</td>\n      <td>0</td>\n    </tr>\n    <tr>\n      <th>1973-12</th>\n      <td>1</td>\n      <td>1</td>\n      <td>1</td>\n      <td>0</td>\n      <td>1</td>\n      <td>1</td>\n      <td>1</td>\n      <td>1</td>\n      <td>1</td>\n      <td>1</td>\n      <td>...</td>\n      <td>1</td>\n      <td>1</td>\n      <td>1</td>\n      <td>1</td>\n      <td>0</td>\n      <td>0</td>\n      <td>1</td>\n      <td>1</td>\n      <td>1</td>\n      <td>1</td>\n    </tr>\n    <tr>\n      <th>1974-03</th>\n      <td>1</td>\n      <td>1</td>\n      <td>1</td>\n      <td>0</td>\n      <td>1</td>\n      <td>0</td>\n      <td>1</td>\n      <td>1</td>\n      <td>1</td>\n      <td>1</td>\n      <td>...</td>\n      <td>1</td>\n      <td>1</td>\n      <td>1</td>\n      <td>1</td>\n      <td>0</td>\n      <td>0</td>\n      <td>1</td>\n      <td>1</td>\n      <td>1</td>\n      <td>1</td>\n    </tr>\n    <tr>\n      <th>...</th>\n      <td>...</td>\n      <td>...</td>\n      <td>...</td>\n      <td>...</td>\n      <td>...</td>\n      <td>...</td>\n      <td>...</td>\n      <td>...</td>\n      <td>...</td>\n      <td>...</td>\n      <td>...</td>\n      <td>...</td>\n      <td>...</td>\n      <td>...</td>\n      <td>...</td>\n      <td>...</td>\n      <td>...</td>\n      <td>...</td>\n      <td>...</td>\n      <td>...</td>\n      <td>...</td>\n    </tr>\n    <tr>\n      <th>2018-08</th>\n      <td>4</td>\n      <td>4</td>\n      <td>4</td>\n      <td>0</td>\n      <td>4</td>\n      <td>0</td>\n      <td>4</td>\n      <td>4</td>\n      <td>4</td>\n      <td>4</td>\n      <td>...</td>\n      <td>4</td>\n      <td>4</td>\n      <td>4</td>\n      <td>4</td>\n      <td>0</td>\n      <td>0</td>\n      <td>4</td>\n      <td>4</td>\n      <td>4</td>\n      <td>4</td>\n    </tr>\n    <tr>\n      <th>2018-09</th>\n      <td>8</td>\n      <td>8</td>\n      <td>8</td>\n      <td>0</td>\n      <td>8</td>\n      <td>0</td>\n      <td>8</td>\n      <td>8</td>\n      <td>8</td>\n      <td>8</td>\n      <td>...</td>\n      <td>8</td>\n      <td>8</td>\n      <td>8</td>\n      <td>8</td>\n      <td>0</td>\n      <td>0</td>\n      <td>8</td>\n      <td>8</td>\n      <td>8</td>\n      <td>8</td>\n    </tr>\n    <tr>\n      <th>2018-10</th>\n      <td>6</td>\n      <td>6</td>\n      <td>6</td>\n      <td>0</td>\n      <td>6</td>\n      <td>0</td>\n      <td>6</td>\n      <td>6</td>\n      <td>6</td>\n      <td>6</td>\n      <td>...</td>\n      <td>6</td>\n      <td>6</td>\n      <td>6</td>\n      <td>6</td>\n      <td>0</td>\n      <td>0</td>\n      <td>6</td>\n      <td>6</td>\n      <td>6</td>\n      <td>6</td>\n    </tr>\n    <tr>\n      <th>2018-11</th>\n      <td>9</td>\n      <td>9</td>\n      <td>9</td>\n      <td>0</td>\n      <td>9</td>\n      <td>1</td>\n      <td>9</td>\n      <td>9</td>\n      <td>9</td>\n      <td>9</td>\n      <td>...</td>\n      <td>9</td>\n      <td>9</td>\n      <td>9</td>\n      <td>9</td>\n      <td>0</td>\n      <td>0</td>\n      <td>9</td>\n      <td>9</td>\n      <td>9</td>\n      <td>9</td>\n    </tr>\n    <tr>\n      <th>2018-12</th>\n      <td>5</td>\n      <td>5</td>\n      <td>5</td>\n      <td>1</td>\n      <td>5</td>\n      <td>0</td>\n      <td>5</td>\n      <td>5</td>\n      <td>5</td>\n      <td>5</td>\n      <td>...</td>\n      <td>5</td>\n      <td>5</td>\n      <td>5</td>\n      <td>5</td>\n      <td>0</td>\n      <td>0</td>\n      <td>5</td>\n      <td>5</td>\n      <td>5</td>\n      <td>5</td>\n    </tr>\n  </tbody>\n</table>\n<p>370 rows × 21 columns</p>\n</div>"
     },
     "metadata": {},
     "execution_count": 96
    }
   ],
   "source": [
    "period"
   ]
  },
  {
   "cell_type": "code",
   "execution_count": 11,
   "metadata": {},
   "outputs": [
    {
     "output_type": "execute_result",
     "data": {
      "text/plain": "['eventid',\n 'iyear',\n 'imonth',\n 'iday',\n 'approxdate',\n 'extended',\n 'resolution',\n 'country',\n 'country_txt',\n 'region',\n 'region_txt',\n 'provstate',\n 'city',\n 'latitude',\n 'longitude',\n 'specificity',\n 'vicinity',\n 'location',\n 'summary',\n 'crit1',\n 'crit2',\n 'crit3',\n 'doubtterr',\n 'alternative',\n 'alternative_txt',\n 'multiple',\n 'success',\n 'suicide',\n 'attacktype1',\n 'attacktype1_txt',\n 'attacktype2',\n 'attacktype2_txt',\n 'attacktype3',\n 'attacktype3_txt',\n 'targtype1',\n 'targtype1_txt',\n 'targsubtype1',\n 'targsubtype1_txt',\n 'corp1',\n 'target1',\n 'natlty1',\n 'natlty1_txt',\n 'targtype2',\n 'targtype2_txt',\n 'targsubtype2',\n 'targsubtype2_txt',\n 'corp2',\n 'target2',\n 'natlty2',\n 'natlty2_txt',\n 'targtype3',\n 'targtype3_txt',\n 'targsubtype3',\n 'targsubtype3_txt',\n 'corp3',\n 'target3',\n 'natlty3',\n 'natlty3_txt',\n 'gname',\n 'gsubname',\n 'gname2',\n 'gsubname2',\n 'gname3',\n 'gsubname3',\n 'motive',\n 'guncertain1',\n 'guncertain2',\n 'guncertain3',\n 'individual',\n 'nperps',\n 'nperpcap',\n 'claimed',\n 'claimmode',\n 'claimmode_txt',\n 'claim2',\n 'claimmode2',\n 'claimmode2_txt',\n 'claim3',\n 'claimmode3',\n 'claimmode3_txt',\n 'compclaim',\n 'weaptype1',\n 'weaptype1_txt',\n 'weapsubtype1',\n 'weapsubtype1_txt',\n 'weaptype2',\n 'weaptype2_txt',\n 'weapsubtype2',\n 'weapsubtype2_txt',\n 'weaptype3',\n 'weaptype3_txt',\n 'weapsubtype3',\n 'weapsubtype3_txt',\n 'weaptype4',\n 'weaptype4_txt',\n 'weapsubtype4',\n 'weapsubtype4_txt',\n 'weapdetail',\n 'nkill',\n 'nkillus',\n 'nkillter',\n 'nwound',\n 'nwoundus',\n 'nwoundte',\n 'property',\n 'propextent',\n 'propextent_txt',\n 'propvalue',\n 'propcomment',\n 'ishostkid',\n 'nhostkid',\n 'nhostkidus',\n 'nhours',\n 'ndays',\n 'divert',\n 'kidhijcountry',\n 'ransom',\n 'ransomamt',\n 'ransomamtus',\n 'ransompaid',\n 'ransompaidus',\n 'ransomnote',\n 'hostkidoutcome',\n 'hostkidoutcome_txt',\n 'nreleased',\n 'addnotes',\n 'scite1',\n 'scite2',\n 'scite3',\n 'dbsource',\n 'INT_LOG',\n 'INT_IDEO',\n 'INT_MISC',\n 'INT_ANY',\n 'related']"
     },
     "metadata": {},
     "execution_count": 11
    }
   ],
   "source": [
    "cols = terrorism.columns.tolist()\n",
    "cols"
   ]
  }
 ]
}