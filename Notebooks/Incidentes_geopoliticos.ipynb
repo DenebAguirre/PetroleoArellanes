{
 "metadata": {
  "language_info": {
   "codemirror_mode": {
    "name": "ipython",
    "version": 3
   },
   "file_extension": ".py",
   "mimetype": "text/x-python",
   "name": "python",
   "nbconvert_exporter": "python",
   "pygments_lexer": "ipython3",
   "version": "3.7.7-final"
  },
  "orig_nbformat": 2,
  "kernelspec": {
   "name": "python3",
   "display_name": "Python 3"
  }
 },
 "nbformat": 4,
 "nbformat_minor": 2,
 "cells": [
  {
   "cell_type": "code",
   "execution_count": 1,
   "metadata": {},
   "outputs": [],
   "source": [
    "import pandas as pd\n",
    "incidentes = pd.read_csv(\"../Databases/UCDP Uppsala Conflict Data Program/ged201.csv\")\n",
    "incidentes = pd.DataFrame(incidentes)"
   ]
  },
  {
   "cell_type": "code",
   "execution_count": 2,
   "metadata": {
    "tags": []
   },
   "outputs": [],
   "source": [
    "###Take a look on available countries in the dataset\n",
    "#available = incidentes[\"country\"].unique().tolist()\n",
    "\n",
    "#Myanmar appears as Myanmar (Burma),  Dem. Rep. of the Congo as DR Congo (Zaire), Russia as Russia (Soviet Union), Yemen as Yemen (North Yemen) \n",
    "netos = ['Albania','Angola','Saudi Arabia','Algeria','Argentina','Benin','Azerbaijan','Bolivia','Brazil','Brunei Darussalam','Cameroon','Canada','China','Colombia','Congo','Denmark','Ecuador','Egypt','United Arab Emirates','Estonia','Gabon','Indonesia','Georgia','Ghana','Guatemala','Iran','Iraq','Kazakhstan','Kyrgyzstan','Kuwait','Libya','Malaysia','Mexico','Mongolia','Myanmar (Burma)','Nigeria','Norway','Oman','Qatar','United Kingdom','DR Congo (Zaire)','Russia (Soviet Union)','Trinidad and Tobago','Sudan','South Sudan','Tunisia','Turkmenistan','Viet Nam','Venezuela','Yemen (North Yemen)']\n",
    "\n",
    "#### Check which countries are available\n",
    "# for country in netos:\n",
    "#     if country not in available:\n",
    "#         print(country)\n",
    "\n",
    "#By comparing list we fount that there is not incidents or data for the next countries or our interest:\n",
    "\n",
    "# Brunei Darussalam\n",
    "# Denmark\n",
    "# Estonia\n",
    "# Gabon\n",
    "# Kazakhstan\n",
    "# Mongolia\n",
    "# Norway\n",
    "# Oman\n",
    "# Turkmenistan\n",
    "# Viet Nam"
   ]
  },
  {
   "cell_type": "code",
   "execution_count": 3,
   "metadata": {},
   "outputs": [],
   "source": [
    "#Filter data to our interested countries\n",
    "netos = incidentes.loc[incidentes[\"country\"].isin(netos)]\n",
    "(f'avaliable data: {len(incidentes) - len(netos)}') \n",
    "#Give me just this columns \n",
    "conflictos = netos[['conflict_name', 'year', 'active_year', 'country', 'region', 'date_start', 'date_end', 'best', 'high', 'low', 'latitude', 'longitude']]"
   ]
  },
  {
   "cell_type": "code",
   "execution_count": 4,
   "metadata": {},
   "outputs": [],
   "source": [
    "#transform date columns to datetime in order to manage dates better\n",
    "conflictos[\"date_start\"] = pd.to_datetime(conflictos[\"date_start\"])\n",
    "conflictos[\"date_end\"] = pd.to_datetime(conflictos[\"date_end\"])\n",
    "\n",
    "#Get just month and year from dates\n",
    "conflictos[\"Start_month\"] = pd.to_datetime(conflictos[\"date_start\"]).dt.to_period(\"M\")\n",
    "conflictos[\"End_month\"] = pd.to_datetime(conflictos[\"date_end\"]).dt.to_period(\"M\")\n",
    "\n",
    "#Get rid of exact date\n",
    "conflictos = conflictos.drop(columns=[\"date_start\", \"date_end\"])"
   ]
  },
  {
   "cell_type": "code",
   "execution_count": 5,
   "metadata": {},
   "outputs": [],
   "source": [
    "#conflictos.to_excel(\"../Excel_reports/Conflictos_incidentes.xlsx\")\n",
    "conflictos.to_csv(\"../csv_results/Incidentes_geopoliticos.csv\")"
   ]
  }
 ]
}