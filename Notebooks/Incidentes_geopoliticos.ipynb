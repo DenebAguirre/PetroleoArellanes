{
 "metadata": {
  "language_info": {
   "codemirror_mode": {
    "name": "ipython",
    "version": 3
   },
   "file_extension": ".py",
   "mimetype": "text/x-python",
   "name": "python",
   "nbconvert_exporter": "python",
   "pygments_lexer": "ipython3",
   "version": "3.7.6-final"
  },
  "orig_nbformat": 2,
  "kernelspec": {
   "name": "python3",
   "display_name": "Python 3"
  }
 },
 "nbformat": 4,
 "nbformat_minor": 2,
 "cells": [
  {
   "cell_type": "code",
   "execution_count": 1,
   "metadata": {},
   "outputs": [],
   "source": [
    "import pandas as pd"
   ]
  },
  {
   "cell_type": "code",
   "execution_count": 2,
   "metadata": {},
   "outputs": [],
   "source": [
    "incidentes = pd.read_csv(\"../Databases/UCDP Uppsala Conflict Data Program/ged201.csv\")\n",
    "incidentes = pd.DataFrame(incidentes)"
   ]
  },
  {
   "cell_type": "code",
   "execution_count": 5,
   "metadata": {},
   "outputs": [
    {
     "output_type": "execute_result",
     "data": {
      "text/plain": "Index(['id', 'relid', 'year', 'active_year', 'code_status', 'type_of_violence',\n       'conflict_dset_id', 'conflict_new_id', 'conflict_name', 'dyad_dset_id',\n       'dyad_new_id', 'dyad_name', 'side_a_dset_id', 'side_a_new_id', 'side_a',\n       'side_b_dset_id', 'side_b_new_id', 'side_b', 'number_of_sources',\n       'source_article', 'source_office', 'source_date', 'source_headline',\n       'source_original', 'where_prec', 'where_coordinates',\n       'where_description', 'adm_1', 'adm_2', 'latitude', 'longitude',\n       'geom_wkt', 'priogrid_gid', 'country', 'country_id', 'region',\n       'event_clarity', 'date_prec', 'date_start', 'date_end', 'deaths_a',\n       'deaths_b', 'deaths_civilians', 'deaths_unknown', 'best', 'high', 'low',\n       'gwnoa', 'gwnob'],\n      dtype='object')"
     },
     "metadata": {},
     "execution_count": 5
    }
   ],
   "source": [
    "incidentes.columns"
   ]
  },
  {
   "cell_type": "code",
   "execution_count": 6,
   "metadata": {},
   "outputs": [
    {
     "output_type": "execute_result",
     "data": {
      "text/plain": "225385"
     },
     "metadata": {},
     "execution_count": 6
    }
   ],
   "source": [
    "len(incidentes)"
   ]
  },
  {
   "cell_type": "code",
   "execution_count": 10,
   "metadata": {},
   "outputs": [],
   "source": []
  },
  {
   "cell_type": "code",
   "execution_count": 19,
   "metadata": {
    "tags": []
   },
   "outputs": [
    {
     "output_type": "stream",
     "name": "stdout",
     "text": "Brunei Darussalam\nDenmark\nEstonia\nGabon\nKazakhstan\nMongolia\nNorway\nOman\nTurkmenistan\nViet Nam\n"
    }
   ],
   "source": [
    "\n",
    "available = incidentes[\"country\"].unique().tolist()\n",
    "\n",
    "#Myanmar appears as Myanmar (Burma),  Dem. Rep. of the Congo as DR Congo (Zaire), Russia as Russia (Soviet Union), Yemen as Yemen (North Yemen) \n",
    "netos = ['Albania','Angola','Saudi Arabia','Algeria','Argentina','Benin','Azerbaijan','Bolivia','Brazil','Brunei Darussalam','Cameroon','Canada','China','Colombia','Congo','Denmark','Ecuador','Egypt','United Arab Emirates','Estonia','Gabon','Indonesia','Georgia','Ghana','Guatemala','Iran','Iraq','Kazakhstan','Kyrgyzstan','Kuwait','Libya','Malaysia','Mexico','Mongolia','Myanmar (Burma)','Nigeria','Norway','Oman','Qatar','United Kingdom','DR Congo (Zaire)','Russia (Soviet Union)','Trinidad and Tobago','Sudan','South Sudan','Tunisia','Turkmenistan','Viet Nam','Venezuela','Yemen (North Yemen)']\n",
    "\n",
    "for country in netos:\n",
    "    if country not in available:\n",
    "        print(country)\n",
    "\n",
    "#By comparing list we fount that there is not incidents or data for the next countries or our interest:\n",
    "\n",
    "# Brunei Darussalam\n",
    "# Denmark\n",
    "# Estonia\n",
    "# Gabon\n",
    "# Kazakhstan\n",
    "# Mongolia\n",
    "# Norway\n",
    "# Oman\n",
    "# Turkmenistan\n",
    "# Viet Nam"
   ]
  },
  {
   "cell_type": "code",
   "execution_count": 15,
   "metadata": {},
   "outputs": [
    {
     "output_type": "execute_result",
     "data": {
      "text/plain": "['Afghanistan',\n 'Albania',\n 'Algeria',\n 'Angola',\n 'Argentina',\n 'Armenia',\n 'Australia',\n 'Azerbaijan',\n 'Bahrain',\n 'Bangladesh',\n 'Belgium',\n 'Benin',\n 'Bhutan',\n 'Bolivia',\n 'Bosnia-Herzegovina',\n 'Botswana',\n 'Brazil',\n 'Burkina Faso',\n 'Burundi',\n 'Cambodia (Kampuchea)',\n 'Cameroon',\n 'Canada',\n 'Central African Republic',\n 'Chad',\n 'China',\n 'Colombia',\n 'Comoros',\n 'Congo',\n 'Croatia',\n 'Djibouti',\n 'DR Congo (Zaire)',\n 'Ecuador',\n 'Egypt',\n 'El Salvador',\n 'Eritrea',\n 'Ethiopia',\n 'France',\n 'Gambia',\n 'Georgia',\n 'Germany',\n 'Ghana',\n 'Guatemala',\n 'Guinea',\n 'Guinea-Bissau',\n 'Guyana',\n 'Haiti',\n 'Honduras',\n 'India',\n 'Indonesia',\n 'Iran',\n 'Iraq',\n 'Israel',\n 'Italy',\n 'Ivory Coast',\n 'Jamaica',\n 'Jordan',\n 'Kenya',\n 'Kingdom of eSwatini (Swaziland)',\n 'Kuwait',\n 'Kyrgyzstan',\n 'Laos',\n 'Lebanon',\n 'Lesotho',\n 'Liberia',\n 'Libya',\n 'Macedonia, FYR',\n 'Madagascar (Malagasy)',\n 'Malaysia',\n 'Mali',\n 'Malta',\n 'Mauritania',\n 'Mexico',\n 'Moldova',\n 'Morocco',\n 'Mozambique',\n 'Myanmar (Burma)',\n 'Namibia',\n 'Nepal',\n 'Netherlands',\n 'Nicaragua',\n 'Niger',\n 'Nigeria',\n 'Pakistan',\n 'Panama',\n 'Papua New Guinea',\n 'Paraguay',\n 'Peru',\n 'Philippines',\n 'Qatar',\n 'Romania',\n 'Russia (Soviet Union)',\n 'Rwanda',\n 'Saudi Arabia',\n 'Senegal',\n 'Serbia (Yugoslavia)',\n 'Sierra Leone',\n 'Solomon Islands',\n 'Somalia',\n 'South Africa',\n 'South Sudan',\n 'Spain',\n 'Sri Lanka',\n 'Sudan',\n 'Sweden',\n 'Syria',\n 'Tajikistan',\n 'Tanzania',\n 'Thailand',\n 'Togo',\n 'Trinidad and Tobago',\n 'Tunisia',\n 'Turkey',\n 'Uganda',\n 'Ukraine',\n 'United Arab Emirates',\n 'United Kingdom',\n 'United States of America',\n 'Uzbekistan',\n 'Venezuela',\n 'Yemen (North Yemen)',\n 'Zambia',\n 'Zimbabwe (Rhodesia)']"
     },
     "metadata": {},
     "execution_count": 15
    }
   ],
   "source": [
    "available"
   ]
  }
 ]
}