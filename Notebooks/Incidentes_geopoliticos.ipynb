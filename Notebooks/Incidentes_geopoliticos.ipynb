{
 "metadata": {
  "language_info": {
   "codemirror_mode": {
    "name": "ipython",
    "version": 3
   },
   "file_extension": ".py",
   "mimetype": "text/x-python",
   "name": "python",
   "nbconvert_exporter": "python",
   "pygments_lexer": "ipython3",
   "version": "3.7.7-final"
  },
  "orig_nbformat": 2,
  "kernelspec": {
   "name": "python3",
   "display_name": "Python 3"
  }
 },
 "nbformat": 4,
 "nbformat_minor": 2,
 "cells": [
  {
   "cell_type": "code",
   "execution_count": 4,
   "metadata": {},
   "outputs": [],
   "source": [
    "import pandas as pd\n",
    "incidentes = pd.read_csv(\"../Databases/UCDP Uppsala Conflict Data Program/ged201.csv\")\n",
    "incidentes = pd.DataFrame(incidentes)"
   ]
  },
  {
   "cell_type": "code",
   "execution_count": 5,
   "metadata": {
    "tags": []
   },
   "outputs": [],
   "source": [
    "\n",
    "available = incidentes[\"country\"].unique().tolist()\n",
    "\n",
    "#Myanmar appears as Myanmar (Burma),  Dem. Rep. of the Congo as DR Congo (Zaire), Russia as Russia (Soviet Union), Yemen as Yemen (North Yemen) \n",
    "netos = ['Albania','Angola','Saudi Arabia','Algeria','Argentina','Benin','Azerbaijan','Bolivia','Brazil','Brunei Darussalam','Cameroon','Canada','China','Colombia','Congo','Denmark','Ecuador','Egypt','United Arab Emirates','Estonia','Gabon','Indonesia','Georgia','Ghana','Guatemala','Iran','Iraq','Kazakhstan','Kyrgyzstan','Kuwait','Libya','Malaysia','Mexico','Mongolia','Myanmar (Burma)','Nigeria','Norway','Oman','Qatar','United Kingdom','DR Congo (Zaire)','Russia (Soviet Union)','Trinidad and Tobago','Sudan','South Sudan','Tunisia','Turkmenistan','Viet Nam','Venezuela','Yemen (North Yemen)']\n",
    "\n",
    "#### Check which countries are available\n",
    "# for country in netos:\n",
    "#     if country not in available:\n",
    "#         print(country)\n",
    "\n",
    "#By comparing list we fount that there is not incidents or data for the next countries or our interest:\n",
    "\n",
    "# Brunei Darussalam\n",
    "# Denmark\n",
    "# Estonia\n",
    "# Gabon\n",
    "# Kazakhstan\n",
    "# Mongolia\n",
    "# Norway\n",
    "# Oman\n",
    "# Turkmenistan\n",
    "# Viet Nam"
   ]
  },
  {
   "cell_type": "code",
   "execution_count": 9,
   "metadata": {},
   "outputs": [],
   "source": [
    "conflictos = incidentes[['id', 'year', 'active_year', 'country', 'region', 'date_start', 'date_end', 'best', 'high', 'low', 'latitude', 'longitude']]"
   ]
  },
  {
   "cell_type": "code",
   "execution_count": 6,
   "metadata": {},
   "outputs": [],
   "source": [
    "#Filter data to our interested countries\n",
    "netos = incidentes.loc[incidentes[\"country\"].isin(netos)]\n",
    "len(incidentes) - len(netos)\n"
   ]
  },
  {
   "cell_type": "code",
   "execution_count": 10,
   "metadata": {},
   "outputs": [
    {
     "output_type": "execute_result",
     "data": {
      "text/plain": "       id  year  active_year      country region  best  high  low   latitude  \\\n0  244657  2017            1  Afghanistan   Asia     6     6    6  34.531094   \n1  132140  1989            1  Afghanistan   Asia     6     6    6  34.333330   \n2  130364  1989            1  Afghanistan   Asia     4     4    0  36.750000   \n3  130359  1989            1  Afghanistan   Asia   600   600  600  35.315833   \n4  133883  1989            1  Afghanistan   Asia     2     2    0  34.531094   \n\n   longitude Start_month End_month  \n0  69.162796     2017-07   2017-07  \n1  70.416670     1989-01   1989-01  \n2  68.750000     1989-01   1989-01  \n3  69.038889     1989-01   1989-01  \n4  69.162796     1989-01   1989-02  ",
      "text/html": "<div>\n<style scoped>\n    .dataframe tbody tr th:only-of-type {\n        vertical-align: middle;\n    }\n\n    .dataframe tbody tr th {\n        vertical-align: top;\n    }\n\n    .dataframe thead th {\n        text-align: right;\n    }\n</style>\n<table border=\"1\" class=\"dataframe\">\n  <thead>\n    <tr style=\"text-align: right;\">\n      <th></th>\n      <th>id</th>\n      <th>year</th>\n      <th>active_year</th>\n      <th>country</th>\n      <th>region</th>\n      <th>best</th>\n      <th>high</th>\n      <th>low</th>\n      <th>latitude</th>\n      <th>longitude</th>\n      <th>Start_month</th>\n      <th>End_month</th>\n    </tr>\n  </thead>\n  <tbody>\n    <tr>\n      <th>0</th>\n      <td>244657</td>\n      <td>2017</td>\n      <td>1</td>\n      <td>Afghanistan</td>\n      <td>Asia</td>\n      <td>6</td>\n      <td>6</td>\n      <td>6</td>\n      <td>34.531094</td>\n      <td>69.162796</td>\n      <td>2017-07</td>\n      <td>2017-07</td>\n    </tr>\n    <tr>\n      <th>1</th>\n      <td>132140</td>\n      <td>1989</td>\n      <td>1</td>\n      <td>Afghanistan</td>\n      <td>Asia</td>\n      <td>6</td>\n      <td>6</td>\n      <td>6</td>\n      <td>34.333330</td>\n      <td>70.416670</td>\n      <td>1989-01</td>\n      <td>1989-01</td>\n    </tr>\n    <tr>\n      <th>2</th>\n      <td>130364</td>\n      <td>1989</td>\n      <td>1</td>\n      <td>Afghanistan</td>\n      <td>Asia</td>\n      <td>4</td>\n      <td>4</td>\n      <td>0</td>\n      <td>36.750000</td>\n      <td>68.750000</td>\n      <td>1989-01</td>\n      <td>1989-01</td>\n    </tr>\n    <tr>\n      <th>3</th>\n      <td>130359</td>\n      <td>1989</td>\n      <td>1</td>\n      <td>Afghanistan</td>\n      <td>Asia</td>\n      <td>600</td>\n      <td>600</td>\n      <td>600</td>\n      <td>35.315833</td>\n      <td>69.038889</td>\n      <td>1989-01</td>\n      <td>1989-01</td>\n    </tr>\n    <tr>\n      <th>4</th>\n      <td>133883</td>\n      <td>1989</td>\n      <td>1</td>\n      <td>Afghanistan</td>\n      <td>Asia</td>\n      <td>2</td>\n      <td>2</td>\n      <td>0</td>\n      <td>34.531094</td>\n      <td>69.162796</td>\n      <td>1989-01</td>\n      <td>1989-02</td>\n    </tr>\n  </tbody>\n</table>\n</div>"
     },
     "metadata": {},
     "execution_count": 10
    }
   ],
   "source": [
    "#transform date columns to datetime in order to manage dates better\n",
    "netos[\"date_start\"] = pd.to_datetime(netos[\"date_start\"])\n",
    "netos[\"date_end\"] = pd.to_datetime(netos[\"date_end\"])\n",
    "\n",
    "#Get just month and year from dates\n",
    "netos[\"Start_month\"] = pd.to_datetime(netos[\"date_start\"]).dt.to_period(\"M\")\n",
    "netos[\"End_month\"] = pd.to_datetime(netos[\"date_end\"]).dt.to_period(\"M\")\n",
    "\n",
    "#Get rid of exact date\n",
    "netos = netos.drop(columns=[\"date_start\", \"date_end\"])\n",
    "\n",
    "\n",
    "netos.head()"
   ]
  },
  {
   "cell_type": "code",
   "execution_count": 11,
   "metadata": {},
   "outputs": [
    {
     "output_type": "execute_result",
     "data": {
      "text/plain": "       id               relid  year  active_year code_status  \\\n0  244657  IRQ-2017-1-524-322  2017            1       Clear   \n1  132140    AFG-1989-1-411-2  1989            1       Clear   \n2  130364   AFG-1989-1-411-37  1989            1       Clear   \n3  130359    AFG-1989-1-411-4  1989            1       Clear   \n4  133883   AFG-1989-1-411-39  1989            1       Clear   \n\n   type_of_violence  conflict_dset_id  conflict_new_id  \\\n0                 1               259              259   \n1                 1               333              333   \n2                 1               333              333   \n3                 1               333              333   \n4                 1               333              333   \n\n             conflict_name  dyad_dset_id  ...                 date_end  \\\n0         Iraq: Government           524  ...  2017-07-31 00:00:00.000   \n1  Afghanistan: Government           724  ...  1989-01-13 00:00:00.000   \n2  Afghanistan: Government           724  ...  1989-01-18 00:00:00.000   \n3  Afghanistan: Government           724  ...  1989-01-24 00:00:00.000   \n4  Afghanistan: Government           724  ...  1989-02-05 00:00:00.000   \n\n  deaths_a  deaths_b  deaths_civilians deaths_unknown  best  high  low  gwnoa  \\\n0        0         4                 0              2     6     6    6    645   \n1        6         0                 0              0     6     6    6    700   \n2        0         0                 0              4     4     4    0    700   \n3        0         0                 0            600   600   600  600    700   \n4        0         0                 0              2     2     2    0    700   \n\n  gwnob  \n0   NaN  \n1   NaN  \n2   NaN  \n3   NaN  \n4   NaN  \n\n[5 rows x 49 columns]",
      "text/html": "<div>\n<style scoped>\n    .dataframe tbody tr th:only-of-type {\n        vertical-align: middle;\n    }\n\n    .dataframe tbody tr th {\n        vertical-align: top;\n    }\n\n    .dataframe thead th {\n        text-align: right;\n    }\n</style>\n<table border=\"1\" class=\"dataframe\">\n  <thead>\n    <tr style=\"text-align: right;\">\n      <th></th>\n      <th>id</th>\n      <th>relid</th>\n      <th>year</th>\n      <th>active_year</th>\n      <th>code_status</th>\n      <th>type_of_violence</th>\n      <th>conflict_dset_id</th>\n      <th>conflict_new_id</th>\n      <th>conflict_name</th>\n      <th>dyad_dset_id</th>\n      <th>...</th>\n      <th>date_end</th>\n      <th>deaths_a</th>\n      <th>deaths_b</th>\n      <th>deaths_civilians</th>\n      <th>deaths_unknown</th>\n      <th>best</th>\n      <th>high</th>\n      <th>low</th>\n      <th>gwnoa</th>\n      <th>gwnob</th>\n    </tr>\n  </thead>\n  <tbody>\n    <tr>\n      <th>0</th>\n      <td>244657</td>\n      <td>IRQ-2017-1-524-322</td>\n      <td>2017</td>\n      <td>1</td>\n      <td>Clear</td>\n      <td>1</td>\n      <td>259</td>\n      <td>259</td>\n      <td>Iraq: Government</td>\n      <td>524</td>\n      <td>...</td>\n      <td>2017-07-31 00:00:00.000</td>\n      <td>0</td>\n      <td>4</td>\n      <td>0</td>\n      <td>2</td>\n      <td>6</td>\n      <td>6</td>\n      <td>6</td>\n      <td>645</td>\n      <td>NaN</td>\n    </tr>\n    <tr>\n      <th>1</th>\n      <td>132140</td>\n      <td>AFG-1989-1-411-2</td>\n      <td>1989</td>\n      <td>1</td>\n      <td>Clear</td>\n      <td>1</td>\n      <td>333</td>\n      <td>333</td>\n      <td>Afghanistan: Government</td>\n      <td>724</td>\n      <td>...</td>\n      <td>1989-01-13 00:00:00.000</td>\n      <td>6</td>\n      <td>0</td>\n      <td>0</td>\n      <td>0</td>\n      <td>6</td>\n      <td>6</td>\n      <td>6</td>\n      <td>700</td>\n      <td>NaN</td>\n    </tr>\n    <tr>\n      <th>2</th>\n      <td>130364</td>\n      <td>AFG-1989-1-411-37</td>\n      <td>1989</td>\n      <td>1</td>\n      <td>Clear</td>\n      <td>1</td>\n      <td>333</td>\n      <td>333</td>\n      <td>Afghanistan: Government</td>\n      <td>724</td>\n      <td>...</td>\n      <td>1989-01-18 00:00:00.000</td>\n      <td>0</td>\n      <td>0</td>\n      <td>0</td>\n      <td>4</td>\n      <td>4</td>\n      <td>4</td>\n      <td>0</td>\n      <td>700</td>\n      <td>NaN</td>\n    </tr>\n    <tr>\n      <th>3</th>\n      <td>130359</td>\n      <td>AFG-1989-1-411-4</td>\n      <td>1989</td>\n      <td>1</td>\n      <td>Clear</td>\n      <td>1</td>\n      <td>333</td>\n      <td>333</td>\n      <td>Afghanistan: Government</td>\n      <td>724</td>\n      <td>...</td>\n      <td>1989-01-24 00:00:00.000</td>\n      <td>0</td>\n      <td>0</td>\n      <td>0</td>\n      <td>600</td>\n      <td>600</td>\n      <td>600</td>\n      <td>600</td>\n      <td>700</td>\n      <td>NaN</td>\n    </tr>\n    <tr>\n      <th>4</th>\n      <td>133883</td>\n      <td>AFG-1989-1-411-39</td>\n      <td>1989</td>\n      <td>1</td>\n      <td>Clear</td>\n      <td>1</td>\n      <td>333</td>\n      <td>333</td>\n      <td>Afghanistan: Government</td>\n      <td>724</td>\n      <td>...</td>\n      <td>1989-02-05 00:00:00.000</td>\n      <td>0</td>\n      <td>0</td>\n      <td>0</td>\n      <td>2</td>\n      <td>2</td>\n      <td>2</td>\n      <td>0</td>\n      <td>700</td>\n      <td>NaN</td>\n    </tr>\n  </tbody>\n</table>\n<p>5 rows × 49 columns</p>\n</div>"
     },
     "metadata": {},
     "execution_count": 11
    }
   ],
   "source": [
    "incidentes.head()\n"
   ]
  },
  {
   "cell_type": "code",
   "execution_count": 30,
   "metadata": {},
   "outputs": [
    {
     "output_type": "execute_result",
     "data": {
      "text/plain": "id                 int64\nyear               int64\nactive_year        int64\ncountry           object\nregion            object\nbest               int64\nhigh               int64\nlow                int64\nlatitude         float64\nlongitude        float64\nStart_month    period[M]\nEnd_month      period[M]\ndtype: object"
     },
     "metadata": {},
     "execution_count": 30
    }
   ],
   "source": [
    "netos.dtypes"
   ]
  },
  {
   "cell_type": "code",
   "execution_count": 17,
   "metadata": {},
   "outputs": [
    {
     "output_type": "execute_result",
     "data": {
      "text/plain": "id                      int64\nyear                    int64\nactive_year             int64\ncountry                object\nregion                 object\ndate_start     datetime64[ns]\ndate_end       datetime64[ns]\nbest                    int64\nhigh                    int64\nlow                     int64\nlatitude              float64\nlongitude             float64\ndtype: object"
     },
     "metadata": {},
     "execution_count": 17
    }
   ],
   "source": [
    "netos.dtypes"
   ]
  }
 ]
}