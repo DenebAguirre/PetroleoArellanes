{
 "metadata": {
  "language_info": {
   "codemirror_mode": {
    "name": "ipython",
    "version": 3
   },
   "file_extension": ".py",
   "mimetype": "text/x-python",
   "name": "python",
   "nbconvert_exporter": "python",
   "pygments_lexer": "ipython3",
   "version": "3.7.7-final"
  },
  "orig_nbformat": 2,
  "kernelspec": {
   "name": "python3",
   "display_name": "Python 3"
  }
 },
 "nbformat": 4,
 "nbformat_minor": 2,
 "cells": [
  {
   "cell_type": "code",
   "execution_count": 24,
   "metadata": {},
   "outputs": [],
   "source": [
    "import pandas as pd\n",
    "incidentes = pd.read_csv(\"../Databases/UCDP Uppsala Conflict Data Program/ged201.csv\")\n",
    "incidentes = pd.DataFrame(incidentes)"
   ]
  },
  {
   "cell_type": "code",
   "execution_count": 25,
   "metadata": {
    "tags": []
   },
   "outputs": [],
   "source": [
    "###Take a look on available countries in the dataset\n",
    "#available = incidentes[\"country\"].unique().tolist()\n",
    "\n",
    "#Myanmar appears as Myanmar (Burma),  Dem. Rep. of the Congo as DR Congo (Zaire), Russia as Russia (Soviet Union), Yemen as Yemen (North Yemen) \n",
    "netos = ['Albania','Angola','Saudi Arabia','Algeria','Argentina','Benin','Azerbaijan','Bolivia','Brazil','Brunei Darussalam','Cameroon','Canada','China','Colombia','Congo','Denmark','Ecuador','Egypt','United Arab Emirates','Estonia','Gabon','Indonesia','Georgia','Ghana','Guatemala','Iran','Iraq','Kazakhstan','Kyrgyzstan','Kuwait','Libya','Malaysia','Mexico','Mongolia','Myanmar (Burma)','Nigeria','Norway','Oman','Qatar','United Kingdom','DR Congo (Zaire)','Russia (Soviet Union)','Trinidad and Tobago','Sudan','South Sudan','Tunisia','Turkmenistan','Viet Nam','Venezuela','Yemen (North Yemen)']\n",
    "\n",
    "#### Check which countries are available\n",
    "# for country in netos:\n",
    "#     if country not in available:\n",
    "#         print(country)\n",
    "\n",
    "#By comparing list we fount that there is not incidents or data for the next countries or our interest:\n",
    "\n",
    "# Brunei Darussalam\n",
    "# Denmark\n",
    "# Estonia\n",
    "# Gabon\n",
    "# Kazakhstan\n",
    "# Mongolia\n",
    "# Norway\n",
    "# Oman\n",
    "# Turkmenistan\n",
    "# Viet Nam"
   ]
  },
  {
   "cell_type": "code",
   "execution_count": 26,
   "metadata": {},
   "outputs": [
    {
     "output_type": "execute_result",
     "data": {
      "text/plain": "                     conflict_name  year  active_year  country  region  \\\n33612  Serbia (Yugoslavia): Kosovo  1999            1  Albania  Europe   \n33613  Serbia (Yugoslavia): Kosovo  1999            1  Albania  Europe   \n33614  Serbia (Yugoslavia): Kosovo  1999            1  Albania  Europe   \n33615  Serbia (Yugoslavia): Kosovo  1999            1  Albania  Europe   \n33616          Algeria: Government  1990            0  Algeria  Africa   \n\n                    date_start                 date_end  best  high  low  \\\n33612  1999-04-09 00:00:00.000  1999-04-09 00:00:00.000     4     4    4   \n33613  1999-04-11 00:00:00.000  1999-04-11 00:00:00.000     2     2    2   \n33614  1999-05-26 00:00:00.000  1999-05-26 00:00:00.000     0     2    0   \n33615  1999-06-04 00:00:00.000  1999-06-04 00:00:00.000     0     1    0   \n33616  1990-12-20 00:00:00.000  1990-12-20 00:00:00.000     1     1    1   \n\n        latitude  longitude  \n33612  42.450278  20.184167  \n33613  42.404167  20.166667  \n33614  42.198056  20.473889  \n33615  42.244444  20.342500  \n33616  36.147656   3.691227  ",
      "text/html": "<div>\n<style scoped>\n    .dataframe tbody tr th:only-of-type {\n        vertical-align: middle;\n    }\n\n    .dataframe tbody tr th {\n        vertical-align: top;\n    }\n\n    .dataframe thead th {\n        text-align: right;\n    }\n</style>\n<table border=\"1\" class=\"dataframe\">\n  <thead>\n    <tr style=\"text-align: right;\">\n      <th></th>\n      <th>conflict_name</th>\n      <th>year</th>\n      <th>active_year</th>\n      <th>country</th>\n      <th>region</th>\n      <th>date_start</th>\n      <th>date_end</th>\n      <th>best</th>\n      <th>high</th>\n      <th>low</th>\n      <th>latitude</th>\n      <th>longitude</th>\n    </tr>\n  </thead>\n  <tbody>\n    <tr>\n      <th>33612</th>\n      <td>Serbia (Yugoslavia): Kosovo</td>\n      <td>1999</td>\n      <td>1</td>\n      <td>Albania</td>\n      <td>Europe</td>\n      <td>1999-04-09 00:00:00.000</td>\n      <td>1999-04-09 00:00:00.000</td>\n      <td>4</td>\n      <td>4</td>\n      <td>4</td>\n      <td>42.450278</td>\n      <td>20.184167</td>\n    </tr>\n    <tr>\n      <th>33613</th>\n      <td>Serbia (Yugoslavia): Kosovo</td>\n      <td>1999</td>\n      <td>1</td>\n      <td>Albania</td>\n      <td>Europe</td>\n      <td>1999-04-11 00:00:00.000</td>\n      <td>1999-04-11 00:00:00.000</td>\n      <td>2</td>\n      <td>2</td>\n      <td>2</td>\n      <td>42.404167</td>\n      <td>20.166667</td>\n    </tr>\n    <tr>\n      <th>33614</th>\n      <td>Serbia (Yugoslavia): Kosovo</td>\n      <td>1999</td>\n      <td>1</td>\n      <td>Albania</td>\n      <td>Europe</td>\n      <td>1999-05-26 00:00:00.000</td>\n      <td>1999-05-26 00:00:00.000</td>\n      <td>0</td>\n      <td>2</td>\n      <td>0</td>\n      <td>42.198056</td>\n      <td>20.473889</td>\n    </tr>\n    <tr>\n      <th>33615</th>\n      <td>Serbia (Yugoslavia): Kosovo</td>\n      <td>1999</td>\n      <td>1</td>\n      <td>Albania</td>\n      <td>Europe</td>\n      <td>1999-06-04 00:00:00.000</td>\n      <td>1999-06-04 00:00:00.000</td>\n      <td>0</td>\n      <td>1</td>\n      <td>0</td>\n      <td>42.244444</td>\n      <td>20.342500</td>\n    </tr>\n    <tr>\n      <th>33616</th>\n      <td>Algeria: Government</td>\n      <td>1990</td>\n      <td>0</td>\n      <td>Algeria</td>\n      <td>Africa</td>\n      <td>1990-12-20 00:00:00.000</td>\n      <td>1990-12-20 00:00:00.000</td>\n      <td>1</td>\n      <td>1</td>\n      <td>1</td>\n      <td>36.147656</td>\n      <td>3.691227</td>\n    </tr>\n  </tbody>\n</table>\n</div>"
     },
     "metadata": {},
     "execution_count": 26
    }
   ],
   "source": [
    "#Filter data to our interested countries\n",
    "netos = incidentes.loc[incidentes[\"country\"].isin(netos)]\n",
    "(f'avaliable data: {len(incidentes) - len(netos)}') \n",
    "#Give me just this columns \n",
    "conflictos = netos[['conflict_name', 'year', 'active_year', 'country', 'region', 'date_start', 'date_end', 'best', 'high', 'low', 'latitude', 'longitude']]\n",
    "conflictos.head()"
   ]
  },
  {
   "cell_type": "code",
   "execution_count": 27,
   "metadata": {},
   "outputs": [
    {
     "output_type": "execute_result",
     "data": {
      "text/plain": "                     conflict_name  year  active_year  country  region  best  \\\n33612  Serbia (Yugoslavia): Kosovo  1999            1  Albania  Europe     4   \n33613  Serbia (Yugoslavia): Kosovo  1999            1  Albania  Europe     2   \n33614  Serbia (Yugoslavia): Kosovo  1999            1  Albania  Europe     0   \n33615  Serbia (Yugoslavia): Kosovo  1999            1  Albania  Europe     0   \n33616          Algeria: Government  1990            0  Algeria  Africa     1   \n\n       high  low   latitude  longitude Start_month End_month  \n33612     4    4  42.450278  20.184167     1999-04   1999-04  \n33613     2    2  42.404167  20.166667     1999-04   1999-04  \n33614     2    0  42.198056  20.473889     1999-05   1999-05  \n33615     1    0  42.244444  20.342500     1999-06   1999-06  \n33616     1    1  36.147656   3.691227     1990-12   1990-12  ",
      "text/html": "<div>\n<style scoped>\n    .dataframe tbody tr th:only-of-type {\n        vertical-align: middle;\n    }\n\n    .dataframe tbody tr th {\n        vertical-align: top;\n    }\n\n    .dataframe thead th {\n        text-align: right;\n    }\n</style>\n<table border=\"1\" class=\"dataframe\">\n  <thead>\n    <tr style=\"text-align: right;\">\n      <th></th>\n      <th>conflict_name</th>\n      <th>year</th>\n      <th>active_year</th>\n      <th>country</th>\n      <th>region</th>\n      <th>best</th>\n      <th>high</th>\n      <th>low</th>\n      <th>latitude</th>\n      <th>longitude</th>\n      <th>Start_month</th>\n      <th>End_month</th>\n    </tr>\n  </thead>\n  <tbody>\n    <tr>\n      <th>33612</th>\n      <td>Serbia (Yugoslavia): Kosovo</td>\n      <td>1999</td>\n      <td>1</td>\n      <td>Albania</td>\n      <td>Europe</td>\n      <td>4</td>\n      <td>4</td>\n      <td>4</td>\n      <td>42.450278</td>\n      <td>20.184167</td>\n      <td>1999-04</td>\n      <td>1999-04</td>\n    </tr>\n    <tr>\n      <th>33613</th>\n      <td>Serbia (Yugoslavia): Kosovo</td>\n      <td>1999</td>\n      <td>1</td>\n      <td>Albania</td>\n      <td>Europe</td>\n      <td>2</td>\n      <td>2</td>\n      <td>2</td>\n      <td>42.404167</td>\n      <td>20.166667</td>\n      <td>1999-04</td>\n      <td>1999-04</td>\n    </tr>\n    <tr>\n      <th>33614</th>\n      <td>Serbia (Yugoslavia): Kosovo</td>\n      <td>1999</td>\n      <td>1</td>\n      <td>Albania</td>\n      <td>Europe</td>\n      <td>0</td>\n      <td>2</td>\n      <td>0</td>\n      <td>42.198056</td>\n      <td>20.473889</td>\n      <td>1999-05</td>\n      <td>1999-05</td>\n    </tr>\n    <tr>\n      <th>33615</th>\n      <td>Serbia (Yugoslavia): Kosovo</td>\n      <td>1999</td>\n      <td>1</td>\n      <td>Albania</td>\n      <td>Europe</td>\n      <td>0</td>\n      <td>1</td>\n      <td>0</td>\n      <td>42.244444</td>\n      <td>20.342500</td>\n      <td>1999-06</td>\n      <td>1999-06</td>\n    </tr>\n    <tr>\n      <th>33616</th>\n      <td>Algeria: Government</td>\n      <td>1990</td>\n      <td>0</td>\n      <td>Algeria</td>\n      <td>Africa</td>\n      <td>1</td>\n      <td>1</td>\n      <td>1</td>\n      <td>36.147656</td>\n      <td>3.691227</td>\n      <td>1990-12</td>\n      <td>1990-12</td>\n    </tr>\n  </tbody>\n</table>\n</div>"
     },
     "metadata": {},
     "execution_count": 27
    }
   ],
   "source": [
    "#transform date columns to datetime in order to manage dates better\n",
    "conflictos[\"date_start\"] = pd.to_datetime(conflictos[\"date_start\"])\n",
    "conflictos[\"date_end\"] = pd.to_datetime(conflictos[\"date_end\"])\n",
    "\n",
    "#Get just month and year from dates\n",
    "conflictos[\"Start_month\"] = pd.to_datetime(conflictos[\"date_start\"]).dt.to_period(\"M\")\n",
    "conflictos[\"End_month\"] = pd.to_datetime(conflictos[\"date_end\"]).dt.to_period(\"M\")\n",
    "\n",
    "#Get rid of exact date\n",
    "conflictos = conflictos.drop(columns=[\"date_start\", \"date_end\"])\n",
    "\n",
    "conflictos.head()"
   ]
  }
 ]
}