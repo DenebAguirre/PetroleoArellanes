{
 "metadata": {
  "language_info": {
   "codemirror_mode": {
    "name": "ipython",
    "version": 3
   },
   "file_extension": ".py",
   "mimetype": "text/x-python",
   "name": "python",
   "nbconvert_exporter": "python",
   "pygments_lexer": "ipython3",
   "version": "3.7.6-final"
  },
  "orig_nbformat": 2,
  "kernelspec": {
   "name": "python3",
   "display_name": "Python 3"
  }
 },
 "nbformat": 4,
 "nbformat_minor": 2,
 "cells": [
  {
   "cell_type": "markdown",
   "metadata": {},
   "source": [
    "Usamos los datos de la JODI Oil World Database (Joint Organisations Data Initiative [JODI], 2018). Que se obtiene de aqui: https://www.jodidata.org/oil/database/data-downloads.aspx\n",
    "\n",
    "Fecha de descarga: 1 septiembre de 2020\n",
    "\n",
    "\n",
    "\n"
   ]
  },
  {
   "cell_type": "code",
   "execution_count": 3,
   "metadata": {},
   "outputs": [],
   "source": [
    "import pandas as pd\n",
    "monthly_first = pd.read_csv(\"../Databases/JODI DB/world_Primary_CSV_NewFormat.csv\")\n",
    "monthly_second = pd.read_csv(\"../Databases/JODI DB/world_Secondary_CSV_NewFormat.csv\")\n",
    "\n",
    "monthly_first = pd.DataFrame(monthly_first)\n",
    "monthly_second = pd.DataFrame(monthly_second)\n",
    "\n",
    "# As the DB has country names referd by alpha-2-code I need to use pycountry to get actual names\n",
    "#pip install pycountry\n",
    "import pycountry"
   ]
  },
  {
   "cell_type": "code",
   "execution_count": 41,
   "metadata": {
    "tags": []
   },
   "outputs": [
    {
     "output_type": "execute_result",
     "data": {
      "text/plain": "0"
     },
     "metadata": {},
     "execution_count": 41
    }
   ],
   "source": [
    "\n",
    "\n",
    "# List of countries we are interested in\n",
    "# Netos = ['Albania','Angola','Saudi Arabia','Algeria','Argentina','Benin','Azerbaijan','Bolivia (Plur. State of)','Brazil','Brunei Darussalam','Cameroon','Canada','China','Colombia','Congo','Denmark','Ecuador','Egypt','United Arab Emirates','Estonia','Gabon','Indonesia','Georgia','Ghana','Guatemala','Iran (Islamic Rep. of)','Iraq','Kazakhstan','Kyrgyzstan','Kuwait','Libya','Malaysia','Mexico','Mongolia','Myanmar','Nigeria','Norway','Oman','Qatar','United Kingdom','Dem. Rep. of the Congo','Russian Federation','Trinidad and Tobago','Sudan','South Sudan','Tunisia','Turkmenistan','Viet Nam','Venezuela (Bolivar. Rep.)','Yemen']\n",
    "\n",
    "#While passing the code below we find that names from countries as Bolivia, Iran, DR Congo and Venezuela had different names so we have to manually addapt the names to \"Bolivia, Plurinational State of\", \"Iran, Islamic Republic of\", 'Congo, The Democratic Republic of the' and \"Venezuela, Bolivarian Republic of\"\n",
    "netos = ['Albania','Angola','Saudi Arabia','Algeria','Argentina','Benin','Azerbaijan','Bolivia, Plurinational State of','Brazil','Brunei Darussalam','Cameroon','Canada','China','Colombia','Congo','Denmark','Ecuador','Egypt','United Arab Emirates','Estonia','Gabon','Indonesia','Georgia','Ghana','Guatemala','Iran, Islamic Republic of','Iraq','Kazakhstan','Kyrgyzstan','Kuwait','Libya','Malaysia','Mexico','Mongolia','Myanmar','Nigeria','Norway','Oman','Qatar','United Kingdom','Congo, The Democratic Republic of the','Russian Federation','Trinidad and Tobago','Sudan','South Sudan','Tunisia','Turkmenistan','Viet Nam','Venezuela, Bolivarian Republic of','Yemen']\n",
    "\n",
    "#Create the same list with the alpha_2 code\n",
    "a_codes = []\n",
    "for x in netos:\n",
    "    try:\n",
    "        country = pycountry.countries.get(name=x)\n",
    "        a_codes.append(country.alpha_2)\n",
    "    except AttributeError:\n",
    "        print(f'Theres an error with {x}')\n",
    "        pass\n",
    "\n",
    "#Check lenght\n",
    "len(netos) - len(a_codes)"
   ]
  },
  {
   "cell_type": "code",
   "execution_count": null,
   "metadata": {},
   "outputs": [],
   "source": [
    "available = monthly_first[\"REF_AREA\"].unique().tolist()\n",
    "\n",
    "for x in a_codes:\n",
    "    if x not in available:\n",
    "        country = pycountry.countries.get(alpha_2=x)\n",
    "        print(country.name)\n",
    "#On this data set there are no data for this countries:\n",
    "# Benin\n",
    "# Cameroon\n",
    "# Congo\n",
    "# Ghana\n",
    "# Kyrgyzstan\n",
    "# Mongolia\n",
    "# Congo, The Democratic Republic of the\n",
    "# South Sudan\n",
    "# Turkmenistan\n"
   ]
  },
  {
   "cell_type": "code",
   "execution_count": 26,
   "metadata": {
    "tags": []
   },
   "outputs": [],
   "source": [
    "#Filter the data base: show data only on Thousand Barrels per day (kb/d)(KBD)\n",
    "dayly_barrels = monthly_first.loc[monthly_first[\"UNIT_MEASURE\"] == \"KBD\"]\n",
    "#Conversion factor barrels/ktons \n",
    "ktons = monthly_first.loc[monthly_first[\"UNIT_MEASURE\"] == \"CONVBBL\"]\n",
    "\n",
    "#Filter the data base: show data only from countries we are interested in\n",
    "exportadores = monthly_first.loc[monthly_first[\"REF_AREA\"].isin(a_codes)]\n",
    "\n"
   ]
  },
  {
   "cell_type": "code",
   "execution_count": 28,
   "metadata": {},
   "outputs": [],
   "source": [
    "#divide the data set in three areas of interest crude oil, ngl and total\n",
    "crude_oil = exportadores.loc[exportadores[\"ENERGY_PRODUCT\"] == \"CRUDEOIL\"]\n",
    "NGL = exportadores.loc[exportadores[\"ENERGY_PRODUCT\"] == \"NGL\"]\n",
    "total_crude = exportadores.loc[exportadores[\"ENERGY_PRODUCT\"] == \"TOTCRUDE\"]"
   ]
  },
  {
   "cell_type": "code",
   "execution_count": 43,
   "metadata": {},
   "outputs": [
    {
     "output_type": "execute_result",
     "data": {
      "text/plain": "      REF_AREA TIME_PERIOD ENERGY_PRODUCT FLOW_BREAKDOWN UNIT_MEASURE  \\\n0           AE     2002-01       CRUDEOIL        CLOSTLV      CONVBBL   \n1           AE     2002-01       CRUDEOIL        CLOSTLV         KBBL   \n2           AE     2002-01       CRUDEOIL        CLOSTLV          KBD   \n3           AE     2002-01       CRUDEOIL        CLOSTLV           KL   \n4           AE     2002-01       CRUDEOIL        CLOSTLV        KTONS   \n...        ...         ...            ...            ...          ...   \n11095       AE     2020-06       CRUDEOIL       TRANSBAK      CONVBBL   \n11096       AE     2020-06       CRUDEOIL       TRANSBAK         KBBL   \n11097       AE     2020-06       CRUDEOIL       TRANSBAK          KBD   \n11098       AE     2020-06       CRUDEOIL       TRANSBAK           KL   \n11099       AE     2020-06       CRUDEOIL       TRANSBAK        KTONS   \n\n       OBS_VALUE  ASSESSMENT_CODE  \n0         7596.0                3  \n1            NaN                3  \n2            NaN                3  \n3            NaN                3  \n4            NaN                3  \n...          ...              ...  \n11095     7596.0                3  \n11096        0.0                3  \n11097        0.0                3  \n11098        0.0                3  \n11099        0.0                3  \n\n[11100 rows x 7 columns]",
      "text/html": "<div>\n<style scoped>\n    .dataframe tbody tr th:only-of-type {\n        vertical-align: middle;\n    }\n\n    .dataframe tbody tr th {\n        vertical-align: top;\n    }\n\n    .dataframe thead th {\n        text-align: right;\n    }\n</style>\n<table border=\"1\" class=\"dataframe\">\n  <thead>\n    <tr style=\"text-align: right;\">\n      <th></th>\n      <th>REF_AREA</th>\n      <th>TIME_PERIOD</th>\n      <th>ENERGY_PRODUCT</th>\n      <th>FLOW_BREAKDOWN</th>\n      <th>UNIT_MEASURE</th>\n      <th>OBS_VALUE</th>\n      <th>ASSESSMENT_CODE</th>\n    </tr>\n  </thead>\n  <tbody>\n    <tr>\n      <th>0</th>\n      <td>AE</td>\n      <td>2002-01</td>\n      <td>CRUDEOIL</td>\n      <td>CLOSTLV</td>\n      <td>CONVBBL</td>\n      <td>7596.0</td>\n      <td>3</td>\n    </tr>\n    <tr>\n      <th>1</th>\n      <td>AE</td>\n      <td>2002-01</td>\n      <td>CRUDEOIL</td>\n      <td>CLOSTLV</td>\n      <td>KBBL</td>\n      <td>NaN</td>\n      <td>3</td>\n    </tr>\n    <tr>\n      <th>2</th>\n      <td>AE</td>\n      <td>2002-01</td>\n      <td>CRUDEOIL</td>\n      <td>CLOSTLV</td>\n      <td>KBD</td>\n      <td>NaN</td>\n      <td>3</td>\n    </tr>\n    <tr>\n      <th>3</th>\n      <td>AE</td>\n      <td>2002-01</td>\n      <td>CRUDEOIL</td>\n      <td>CLOSTLV</td>\n      <td>KL</td>\n      <td>NaN</td>\n      <td>3</td>\n    </tr>\n    <tr>\n      <th>4</th>\n      <td>AE</td>\n      <td>2002-01</td>\n      <td>CRUDEOIL</td>\n      <td>CLOSTLV</td>\n      <td>KTONS</td>\n      <td>NaN</td>\n      <td>3</td>\n    </tr>\n    <tr>\n      <th>...</th>\n      <td>...</td>\n      <td>...</td>\n      <td>...</td>\n      <td>...</td>\n      <td>...</td>\n      <td>...</td>\n      <td>...</td>\n    </tr>\n    <tr>\n      <th>11095</th>\n      <td>AE</td>\n      <td>2020-06</td>\n      <td>CRUDEOIL</td>\n      <td>TRANSBAK</td>\n      <td>CONVBBL</td>\n      <td>7596.0</td>\n      <td>3</td>\n    </tr>\n    <tr>\n      <th>11096</th>\n      <td>AE</td>\n      <td>2020-06</td>\n      <td>CRUDEOIL</td>\n      <td>TRANSBAK</td>\n      <td>KBBL</td>\n      <td>0.0</td>\n      <td>3</td>\n    </tr>\n    <tr>\n      <th>11097</th>\n      <td>AE</td>\n      <td>2020-06</td>\n      <td>CRUDEOIL</td>\n      <td>TRANSBAK</td>\n      <td>KBD</td>\n      <td>0.0</td>\n      <td>3</td>\n    </tr>\n    <tr>\n      <th>11098</th>\n      <td>AE</td>\n      <td>2020-06</td>\n      <td>CRUDEOIL</td>\n      <td>TRANSBAK</td>\n      <td>KL</td>\n      <td>0.0</td>\n      <td>3</td>\n    </tr>\n    <tr>\n      <th>11099</th>\n      <td>AE</td>\n      <td>2020-06</td>\n      <td>CRUDEOIL</td>\n      <td>TRANSBAK</td>\n      <td>KTONS</td>\n      <td>0.0</td>\n      <td>3</td>\n    </tr>\n  </tbody>\n</table>\n<p>11100 rows × 7 columns</p>\n</div>"
     },
     "metadata": {},
     "execution_count": 43
    }
   ],
   "source": []
  },
  {
   "cell_type": "code",
   "execution_count": 44,
   "metadata": {},
   "outputs": [
    {
     "output_type": "execute_result",
     "data": {
      "text/plain": "  REF_AREA TIME_PERIOD ENERGY_PRODUCT FLOW_BREAKDOWN UNIT_MEASURE  OBS_VALUE  \\\n0       AE     2002-01       CRUDEOIL        CLOSTLV      CONVBBL     7596.0   \n1       AE     2002-01       CRUDEOIL        CLOSTLV         KBBL        NaN   \n2       AE     2002-01       CRUDEOIL        CLOSTLV          KBD        NaN   \n3       AE     2002-01       CRUDEOIL        CLOSTLV           KL        NaN   \n4       AE     2002-01       CRUDEOIL        CLOSTLV        KTONS        NaN   \n\n   ASSESSMENT_CODE  \n0                3  \n1                3  \n2                3  \n3                3  \n4                3  ",
      "text/html": "<div>\n<style scoped>\n    .dataframe tbody tr th:only-of-type {\n        vertical-align: middle;\n    }\n\n    .dataframe tbody tr th {\n        vertical-align: top;\n    }\n\n    .dataframe thead th {\n        text-align: right;\n    }\n</style>\n<table border=\"1\" class=\"dataframe\">\n  <thead>\n    <tr style=\"text-align: right;\">\n      <th></th>\n      <th>REF_AREA</th>\n      <th>TIME_PERIOD</th>\n      <th>ENERGY_PRODUCT</th>\n      <th>FLOW_BREAKDOWN</th>\n      <th>UNIT_MEASURE</th>\n      <th>OBS_VALUE</th>\n      <th>ASSESSMENT_CODE</th>\n    </tr>\n  </thead>\n  <tbody>\n    <tr>\n      <th>0</th>\n      <td>AE</td>\n      <td>2002-01</td>\n      <td>CRUDEOIL</td>\n      <td>CLOSTLV</td>\n      <td>CONVBBL</td>\n      <td>7596.0</td>\n      <td>3</td>\n    </tr>\n    <tr>\n      <th>1</th>\n      <td>AE</td>\n      <td>2002-01</td>\n      <td>CRUDEOIL</td>\n      <td>CLOSTLV</td>\n      <td>KBBL</td>\n      <td>NaN</td>\n      <td>3</td>\n    </tr>\n    <tr>\n      <th>2</th>\n      <td>AE</td>\n      <td>2002-01</td>\n      <td>CRUDEOIL</td>\n      <td>CLOSTLV</td>\n      <td>KBD</td>\n      <td>NaN</td>\n      <td>3</td>\n    </tr>\n    <tr>\n      <th>3</th>\n      <td>AE</td>\n      <td>2002-01</td>\n      <td>CRUDEOIL</td>\n      <td>CLOSTLV</td>\n      <td>KL</td>\n      <td>NaN</td>\n      <td>3</td>\n    </tr>\n    <tr>\n      <th>4</th>\n      <td>AE</td>\n      <td>2002-01</td>\n      <td>CRUDEOIL</td>\n      <td>CLOSTLV</td>\n      <td>KTONS</td>\n      <td>NaN</td>\n      <td>3</td>\n    </tr>\n  </tbody>\n</table>\n</div>"
     },
     "metadata": {},
     "execution_count": 44
    }
   ],
   "source": []
  }
 ]
}