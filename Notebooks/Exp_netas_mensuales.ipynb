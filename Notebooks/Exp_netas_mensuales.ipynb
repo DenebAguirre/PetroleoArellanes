{
 "metadata": {
  "language_info": {
   "codemirror_mode": {
    "name": "ipython",
    "version": 3
   },
   "file_extension": ".py",
   "mimetype": "text/x-python",
   "name": "python",
   "nbconvert_exporter": "python",
   "pygments_lexer": "ipython3",
   "version": "3.7.6-final"
  },
  "orig_nbformat": 2,
  "kernelspec": {
   "name": "python3",
   "display_name": "Python 3"
  }
 },
 "nbformat": 4,
 "nbformat_minor": 2,
 "cells": [
  {
   "cell_type": "markdown",
   "metadata": {},
   "source": [
    "Usamos los datos de la JODI Oil World Database (Joint Organisations Data Initiative [JODI], 2018). Que se obtiene de aqui: https://www.jodidata.org/oil/database/data-downloads.aspx\n",
    "\n",
    "Fecha de descarga: 1 septiembre de 2020\n",
    "\n",
    "\n",
    "\n"
   ]
  },
  {
   "cell_type": "code",
   "execution_count": 2,
   "metadata": {},
   "outputs": [],
   "source": [
    "import pandas as pd\n",
    "\n",
    "# As the DB has country names referd by alpha-2-code I need to use pycountry to get actual names\n",
    "#pip install pycountry\n",
    "import pycountry \n",
    "\n",
    "#Read the csv files and build a pandas Dataframe\n",
    "monthly = pd.read_csv(\"../Databases/JODI DB/world_Primary_CSV_NewFormat.csv\")\n",
    "monthly_second = pd.read_csv(\"../Databases/JODI DB/world_Secondary_CSV_NewFormat.csv\")\n",
    "\n",
    "monthly = pd.DataFrame(monthly)\n",
    "monthly_second = pd.DataFrame(monthly_second)"
   ]
  },
  {
   "cell_type": "code",
   "execution_count": 3,
   "metadata": {
    "tags": []
   },
   "outputs": [
    {
     "output_type": "execute_result",
     "data": {
      "text/plain": "0"
     },
     "metadata": {},
     "execution_count": 3
    }
   ],
   "source": [
    "\n",
    "# List of countries we are interested in\n",
    "# Netos = ['Albania','Angola','Saudi Arabia','Algeria','Argentina','Benin','Azerbaijan','Bolivia (Plur. State of)','Brazil','Brunei Darussalam','Cameroon','Canada','China','Colombia','Congo','Denmark','Ecuador','Egypt','United Arab Emirates','Estonia','Gabon','Indonesia','Georgia','Ghana','Guatemala','Iran (Islamic Rep. of)','Iraq','Kazakhstan','Kyrgyzstan','Kuwait','Libya','Malaysia','Mexico','Mongolia','Myanmar','Nigeria','Norway','Oman','Qatar','United Kingdom','Dem. Rep. of the Congo','Russian Federation','Trinidad and Tobago','Sudan','South Sudan','Tunisia','Turkmenistan','Viet Nam','Venezuela (Bolivar. Rep.)','Yemen']\n",
    "\n",
    "#While passing the code below we find that names from countries as Bolivia, Iran, DR Congo and Venezuela had different names so we have to manually addapt the names to \"Bolivia, Plurinational State of\", \"Iran, Islamic Republic of\", 'Congo, The Democratic Republic of the' and \"Venezuela, Bolivarian Republic of\"\n",
    "netos = ['Albania','Angola','Saudi Arabia','Algeria','Argentina','Benin','Azerbaijan','Bolivia, Plurinational State of','Brazil','Brunei Darussalam','Cameroon','Canada','China','Colombia','Congo','Denmark','Ecuador','Egypt','United Arab Emirates','Estonia','Gabon','Indonesia','Georgia','Ghana','Guatemala','Iran, Islamic Republic of','Iraq','Kazakhstan','Kyrgyzstan','Kuwait','Libya','Malaysia','Mexico','Mongolia','Myanmar','Nigeria','Norway','Oman','Qatar','United Kingdom','Congo, The Democratic Republic of the','Russian Federation','Trinidad and Tobago','Sudan','South Sudan','Tunisia','Turkmenistan','Viet Nam','Venezuela, Bolivarian Republic of','Yemen']\n",
    "\n",
    "#Create the same list with the alpha_2 code\n",
    "a_codes = []\n",
    "for x in netos:\n",
    "    try:\n",
    "        country = pycountry.countries.get(name=x)\n",
    "        a_codes.append(country.alpha_2)\n",
    "    except AttributeError:\n",
    "        print(f'Theres an error with {x}')\n",
    "        pass\n",
    "\n",
    "#Check lenght\n",
    "len(netos) - len(a_codes)"
   ]
  },
  {
   "cell_type": "code",
   "execution_count": 4,
   "metadata": {
    "tags": []
   },
   "outputs": [],
   "source": [
    "#### Identify which countries of interest are missing from the data set\n",
    "# available = monthly[\"REF_AREA\"].unique().tolist()\n",
    "\n",
    "# for x in a_codes:\n",
    "#     if x not in available:\n",
    "#         country = pycountry.countries.get(alpha_2=x)\n",
    "#         print(country.name)\n",
    "\n",
    "\n",
    "#### On this data set there are no data for this countries:\n",
    "# Benin\n",
    "# Cameroon\n",
    "# Congo\n",
    "# Ghana\n",
    "# Kyrgyzstan\n",
    "# Mongolia\n",
    "# Congo, The Democratic Republic of the\n",
    "# South Sudan\n",
    "# Turkmenistan"
   ]
  },
  {
   "cell_type": "code",
   "execution_count": 5,
   "metadata": {
    "tags": []
   },
   "outputs": [],
   "source": [
    "#Clean the DB from missing values\n",
    "monthly = monthly.dropna(how=\"any\")\n",
    "\n",
    "#Filter the data base: show data only on Thousand Barrels per day (kb/d)(KBD)\n",
    "dayly_barrels = monthly.loc[monthly[\"UNIT_MEASURE\"] == \"KBD\"]\n",
    "\n",
    "#Filter the data base: show data only from countries we are interested in\n",
    "exportadores = dayly_barrels.loc[dayly_barrels[\"REF_AREA\"].isin(a_codes)]\n",
    "\n",
    "#divide the data set in three areas of interest crude oil, ngl and total\n",
    "crude_oil = exportadores.loc[exportadores[\"ENERGY_PRODUCT\"] == \"CRUDEOIL\"]\n",
    "NGL = exportadores.loc[exportadores[\"ENERGY_PRODUCT\"] == \"NGL\"]\n",
    "total_crude = exportadores.loc[exportadores[\"ENERGY_PRODUCT\"] == \"TOTCRUDE\"]"
   ]
  },
  {
   "cell_type": "code",
   "execution_count": 12,
   "metadata": {},
   "outputs": [],
   "source": [
    "#Add the full country name column\n",
    "#Create a function who get the name from alpha 2 encode\n",
    "def country(x):\n",
    "    pais = pycountry.countries.get(alpha_2=x)\n",
    "    return pais.name\n",
    "#Apply that function to the column REF_AREA in order to get the country column\n",
    "crude_oil[\"Country\"] = crude_oil[\"REF_AREA\"].apply(lambda x : country(x))\n",
    "\n",
    "#Filter data to get exports and imports in different datasets\n",
    "imports = crude_oil.loc[crude_oil[\"FLOW_BREAKDOWN\"] == \"TOTIMPSB\"]\n",
    "exports = crude_oil.loc[crude_oil[\"FLOW_BREAKDOWN\"] == \"TOTEXPSB\"]"
   ]
  },
  {
   "cell_type": "code",
   "execution_count": 13,
   "metadata": {},
   "outputs": [],
   "source": [
    "#Rename values column\n",
    "imports = imports.rename(columns={\"OBS_VALUE\" : \"Imports (kb/d)\", \"ASSESSMENT_CODE\" : \"Imp_notes\", \"TIME_PERIOD\" : \"Month\"})\n",
    "exports = exports.rename(columns={\"OBS_VALUE\" : \"Exports (kb/d)\", \"ASSESSMENT_CODE\" : \"Exp_notes\", \"TIME_PERIOD\" : \"Month\"})\n",
    "\n",
    "#drop unecesary data columns \n",
    "imports = imports.drop(columns=[\"ENERGY_PRODUCT\", \"FLOW_BREAKDOWN\", \"UNIT_MEASURE\", \"REF_AREA\"]) \n",
    "exports = exports.drop(columns=[\"ENERGY_PRODUCT\", \"FLOW_BREAKDOWN\", \"UNIT_MEASURE\", \"REF_AREA\"])"
   ]
  },
  {
   "cell_type": "code",
   "execution_count": 14,
   "metadata": {},
   "outputs": [],
   "source": [
    "#Merge both datasets in one\n",
    "exp_netas = exports.merge(imports, how=\"left\", on=[\"Country\", \"Month\"])\n",
    "#Reorder the columns\n",
    "exp_netas = exp_netas[['Country','Month', 'Exports (kb/d)','Exp_notes','Imports (kb/d)', 'Imp_notes']]\n",
    "#Create a column who substract imports from Exports\n",
    "exp_netas[\"Net Exports\"] = (exp_netas[\"Exports (kb/d)\"] - exp_netas[\"Imports (kb/d)\"])"
   ]
  },
  {
   "cell_type": "code",
   "execution_count": 15,
   "metadata": {},
   "outputs": [
    {
     "output_type": "execute_result",
     "data": {
      "text/plain": "                Country    Month  Exports (kb/d)  Exp_notes  Imports (kb/d)  \\\n0  United Arab Emirates  2002-01          1860.0          3             0.0   \n1  United Arab Emirates  2002-02          1989.0          3             0.0   \n2  United Arab Emirates  2002-03          1868.0          3             0.0   \n3  United Arab Emirates  2002-04          1669.0          3             0.0   \n4  United Arab Emirates  2002-05          1821.0          3             0.0   \n\n   Imp_notes  Net Exports  \n0          3       1860.0  \n1          3       1989.0  \n2          3       1868.0  \n3          3       1669.0  \n4          3       1821.0  ",
      "text/html": "<div>\n<style scoped>\n    .dataframe tbody tr th:only-of-type {\n        vertical-align: middle;\n    }\n\n    .dataframe tbody tr th {\n        vertical-align: top;\n    }\n\n    .dataframe thead th {\n        text-align: right;\n    }\n</style>\n<table border=\"1\" class=\"dataframe\">\n  <thead>\n    <tr style=\"text-align: right;\">\n      <th></th>\n      <th>Country</th>\n      <th>Month</th>\n      <th>Exports (kb/d)</th>\n      <th>Exp_notes</th>\n      <th>Imports (kb/d)</th>\n      <th>Imp_notes</th>\n      <th>Net Exports</th>\n    </tr>\n  </thead>\n  <tbody>\n    <tr>\n      <th>0</th>\n      <td>United Arab Emirates</td>\n      <td>2002-01</td>\n      <td>1860.0</td>\n      <td>3</td>\n      <td>0.0</td>\n      <td>3</td>\n      <td>1860.0</td>\n    </tr>\n    <tr>\n      <th>1</th>\n      <td>United Arab Emirates</td>\n      <td>2002-02</td>\n      <td>1989.0</td>\n      <td>3</td>\n      <td>0.0</td>\n      <td>3</td>\n      <td>1989.0</td>\n    </tr>\n    <tr>\n      <th>2</th>\n      <td>United Arab Emirates</td>\n      <td>2002-03</td>\n      <td>1868.0</td>\n      <td>3</td>\n      <td>0.0</td>\n      <td>3</td>\n      <td>1868.0</td>\n    </tr>\n    <tr>\n      <th>3</th>\n      <td>United Arab Emirates</td>\n      <td>2002-04</td>\n      <td>1669.0</td>\n      <td>3</td>\n      <td>0.0</td>\n      <td>3</td>\n      <td>1669.0</td>\n    </tr>\n    <tr>\n      <th>4</th>\n      <td>United Arab Emirates</td>\n      <td>2002-05</td>\n      <td>1821.0</td>\n      <td>3</td>\n      <td>0.0</td>\n      <td>3</td>\n      <td>1821.0</td>\n    </tr>\n  </tbody>\n</table>\n</div>"
     },
     "metadata": {},
     "execution_count": 15
    }
   ],
   "source": [
    "exp_netas.head()"
   ]
  },
  {
   "cell_type": "markdown",
   "metadata": {},
   "source": [
    "# NEXT STEPS\n",
    "- TRANSFORMAR EL TIME PERIOD A datetime\n",
    "- CREAR UNA TABLA EXTRA PARA ANÁLISIS VISUAL\n",
    "- DEJAR LA TABLA ORIGINAL PARA DATA ANALISIS\n",
    "- CREAR UNA GRÁFICA PARA ANALISIS REAL"
   ]
  },
  {
   "cell_type": "code",
   "execution_count": 18,
   "metadata": {},
   "outputs": [
    {
     "output_type": "execute_result",
     "data": {
      "text/plain": "Month        2002-01   2002-02   2002-03   2002-04   2002-05   2002-06  \\\nCountry                                                                  \nAlbania       0.0000    0.0000    0.0000    0.0000    0.0000    0.0000   \nAlgeria     364.0000  403.0000  364.0000  419.0000  419.0000  482.0000   \nAngola        0.0000    0.0000    0.0000    0.0000    0.0000    0.0000   \nArgentina   243.3226  242.1071  212.3226    0.0000    0.0000    0.0000   \nAzerbaijan  179.0197  185.3029  188.7671  171.9667  152.3926  154.5243   \n\nMonth       2002-07   2002-08  2002-09   2002-10  ...   2019-09   2019-10  \\\nCountry                                           ...                       \nAlbania       0.000    0.0000    0.000    0.0000  ...     0.000    0.0000   \nAlgeria     428.000  405.0000  463.000  486.0000  ...   511.000  562.0000   \nAngola        0.000    0.0000    0.000  821.0758  ...  1009.000  998.0000   \nArgentina     0.000    0.0000    0.000    0.0000  ...    60.900   82.7742   \nAzerbaijan  175.929  189.2426  187.935  181.6348  ...   560.857  540.3874   \n\nMonth         2019-11    2019-12    2020-01    2020-02    2020-03    2020-04  \\\nCountry                                                                        \nAlbania        0.0000     0.0000     0.0000     0.0000     0.0000     0.0000   \nAlgeria      470.0000   528.0000   491.0000   418.0000   395.0000   434.0000   \nAngola      1090.0000  1185.0000  1236.0000  1161.0000  1341.0000  1110.0000   \nArgentina     65.0000    53.3226    34.0968    37.7931    50.4516   132.5333   \nAzerbaijan   544.3973   561.5465   540.3874   535.7228   539.6742   575.5970   \n\nMonth         2020-05   2020-06  \nCountry                          \nAlbania        0.0000     0.000  \nAlgeria      377.0000     0.000  \nAngola      1026.0000  1084.000  \nArgentina    132.0968     0.000  \nAzerbaijan   469.5403   453.255  \n\n[5 rows x 222 columns]",
      "text/html": "<div>\n<style scoped>\n    .dataframe tbody tr th:only-of-type {\n        vertical-align: middle;\n    }\n\n    .dataframe tbody tr th {\n        vertical-align: top;\n    }\n\n    .dataframe thead th {\n        text-align: right;\n    }\n</style>\n<table border=\"1\" class=\"dataframe\">\n  <thead>\n    <tr style=\"text-align: right;\">\n      <th>Month</th>\n      <th>2002-01</th>\n      <th>2002-02</th>\n      <th>2002-03</th>\n      <th>2002-04</th>\n      <th>2002-05</th>\n      <th>2002-06</th>\n      <th>2002-07</th>\n      <th>2002-08</th>\n      <th>2002-09</th>\n      <th>2002-10</th>\n      <th>...</th>\n      <th>2019-09</th>\n      <th>2019-10</th>\n      <th>2019-11</th>\n      <th>2019-12</th>\n      <th>2020-01</th>\n      <th>2020-02</th>\n      <th>2020-03</th>\n      <th>2020-04</th>\n      <th>2020-05</th>\n      <th>2020-06</th>\n    </tr>\n    <tr>\n      <th>Country</th>\n      <th></th>\n      <th></th>\n      <th></th>\n      <th></th>\n      <th></th>\n      <th></th>\n      <th></th>\n      <th></th>\n      <th></th>\n      <th></th>\n      <th></th>\n      <th></th>\n      <th></th>\n      <th></th>\n      <th></th>\n      <th></th>\n      <th></th>\n      <th></th>\n      <th></th>\n      <th></th>\n      <th></th>\n    </tr>\n  </thead>\n  <tbody>\n    <tr>\n      <th>Albania</th>\n      <td>0.0000</td>\n      <td>0.0000</td>\n      <td>0.0000</td>\n      <td>0.0000</td>\n      <td>0.0000</td>\n      <td>0.0000</td>\n      <td>0.000</td>\n      <td>0.0000</td>\n      <td>0.000</td>\n      <td>0.0000</td>\n      <td>...</td>\n      <td>0.000</td>\n      <td>0.0000</td>\n      <td>0.0000</td>\n      <td>0.0000</td>\n      <td>0.0000</td>\n      <td>0.0000</td>\n      <td>0.0000</td>\n      <td>0.0000</td>\n      <td>0.0000</td>\n      <td>0.000</td>\n    </tr>\n    <tr>\n      <th>Algeria</th>\n      <td>364.0000</td>\n      <td>403.0000</td>\n      <td>364.0000</td>\n      <td>419.0000</td>\n      <td>419.0000</td>\n      <td>482.0000</td>\n      <td>428.000</td>\n      <td>405.0000</td>\n      <td>463.000</td>\n      <td>486.0000</td>\n      <td>...</td>\n      <td>511.000</td>\n      <td>562.0000</td>\n      <td>470.0000</td>\n      <td>528.0000</td>\n      <td>491.0000</td>\n      <td>418.0000</td>\n      <td>395.0000</td>\n      <td>434.0000</td>\n      <td>377.0000</td>\n      <td>0.000</td>\n    </tr>\n    <tr>\n      <th>Angola</th>\n      <td>0.0000</td>\n      <td>0.0000</td>\n      <td>0.0000</td>\n      <td>0.0000</td>\n      <td>0.0000</td>\n      <td>0.0000</td>\n      <td>0.000</td>\n      <td>0.0000</td>\n      <td>0.000</td>\n      <td>821.0758</td>\n      <td>...</td>\n      <td>1009.000</td>\n      <td>998.0000</td>\n      <td>1090.0000</td>\n      <td>1185.0000</td>\n      <td>1236.0000</td>\n      <td>1161.0000</td>\n      <td>1341.0000</td>\n      <td>1110.0000</td>\n      <td>1026.0000</td>\n      <td>1084.000</td>\n    </tr>\n    <tr>\n      <th>Argentina</th>\n      <td>243.3226</td>\n      <td>242.1071</td>\n      <td>212.3226</td>\n      <td>0.0000</td>\n      <td>0.0000</td>\n      <td>0.0000</td>\n      <td>0.000</td>\n      <td>0.0000</td>\n      <td>0.000</td>\n      <td>0.0000</td>\n      <td>...</td>\n      <td>60.900</td>\n      <td>82.7742</td>\n      <td>65.0000</td>\n      <td>53.3226</td>\n      <td>34.0968</td>\n      <td>37.7931</td>\n      <td>50.4516</td>\n      <td>132.5333</td>\n      <td>132.0968</td>\n      <td>0.000</td>\n    </tr>\n    <tr>\n      <th>Azerbaijan</th>\n      <td>179.0197</td>\n      <td>185.3029</td>\n      <td>188.7671</td>\n      <td>171.9667</td>\n      <td>152.3926</td>\n      <td>154.5243</td>\n      <td>175.929</td>\n      <td>189.2426</td>\n      <td>187.935</td>\n      <td>181.6348</td>\n      <td>...</td>\n      <td>560.857</td>\n      <td>540.3874</td>\n      <td>544.3973</td>\n      <td>561.5465</td>\n      <td>540.3874</td>\n      <td>535.7228</td>\n      <td>539.6742</td>\n      <td>575.5970</td>\n      <td>469.5403</td>\n      <td>453.255</td>\n    </tr>\n  </tbody>\n</table>\n<p>5 rows × 222 columns</p>\n</div>"
     },
     "metadata": {},
     "execution_count": 18
    }
   ],
   "source": [
    "netas_mensuales = exp_netas.pivot_table(\"Net Exports\", [\"Country\"], \"Month\")\n",
    "netas_mensuales.head()"
   ]
  },
  {
   "cell_type": "code",
   "execution_count": 20,
   "metadata": {},
   "outputs": [
    {
     "output_type": "execute_result",
     "data": {
      "text/plain": "Month\n2002-01    24096.2903\n2002-02    24517.5514\n2002-03    26082.4154\n2002-04    24123.4563\n2002-05    24655.2755\n              ...    \n2020-02    16964.5769\n2020-03    18074.2575\n2020-04    21716.7018\n2020-05    14093.6741\n2020-06     3375.3022\nLength: 222, dtype: float64"
     },
     "metadata": {},
     "execution_count": 20
    }
   ],
   "source": [
    "totales = netas_mensuales.sum()\n",
    "totales"
   ]
  },
  {
   "cell_type": "code",
   "execution_count": null,
   "metadata": {},
   "outputs": [],
   "source": []
  }
 ]
}