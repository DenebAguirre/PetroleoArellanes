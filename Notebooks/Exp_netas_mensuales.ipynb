{
 "metadata": {
  "language_info": {
   "codemirror_mode": {
    "name": "ipython",
    "version": 3
   },
   "file_extension": ".py",
   "mimetype": "text/x-python",
   "name": "python",
   "nbconvert_exporter": "python",
   "pygments_lexer": "ipython3",
   "version": "3.7.6-final"
  },
  "orig_nbformat": 2,
  "kernelspec": {
   "name": "python3",
   "display_name": "Python 3"
  }
 },
 "nbformat": 4,
 "nbformat_minor": 2,
 "cells": [
  {
   "cell_type": "markdown",
   "metadata": {},
   "source": [
    "Usamos los datos de la JODI Oil World Database (Joint Organisations Data Initiative [JODI], 2018). Que se obtiene de aqui: https://www.jodidata.org/oil/database/data-downloads.aspx\n",
    "\n",
    "Fecha de descarga: 1 septiembre de 2020\n",
    "\n",
    "\n",
    "\n"
   ]
  },
  {
   "cell_type": "code",
   "execution_count": 28,
   "metadata": {},
   "outputs": [],
   "source": [
    "import pandas as pd\n",
    "monthly = pd.read_csv(\"../Databases/JODI DB/world_Primary_CSV_NewFormat.csv\")\n",
    "monthly_second = pd.read_csv(\"../Databases/JODI DB/world_Secondary_CSV_NewFormat.csv\")\n",
    "\n",
    "monthly = pd.DataFrame(monthly_first)\n",
    "monthly_second = pd.DataFrame(monthly_second)\n",
    "\n",
    "# As the DB has country names referd by alpha-2-code I need to use pycountry to get actual names\n",
    "#pip install pycountry\n",
    "import pycountry"
   ]
  },
  {
   "cell_type": "code",
   "execution_count": 2,
   "metadata": {
    "tags": []
   },
   "outputs": [
    {
     "output_type": "execute_result",
     "data": {
      "text/plain": "0"
     },
     "metadata": {},
     "execution_count": 2
    }
   ],
   "source": [
    "\n",
    "# List of countries we are interested in\n",
    "# Netos = ['Albania','Angola','Saudi Arabia','Algeria','Argentina','Benin','Azerbaijan','Bolivia (Plur. State of)','Brazil','Brunei Darussalam','Cameroon','Canada','China','Colombia','Congo','Denmark','Ecuador','Egypt','United Arab Emirates','Estonia','Gabon','Indonesia','Georgia','Ghana','Guatemala','Iran (Islamic Rep. of)','Iraq','Kazakhstan','Kyrgyzstan','Kuwait','Libya','Malaysia','Mexico','Mongolia','Myanmar','Nigeria','Norway','Oman','Qatar','United Kingdom','Dem. Rep. of the Congo','Russian Federation','Trinidad and Tobago','Sudan','South Sudan','Tunisia','Turkmenistan','Viet Nam','Venezuela (Bolivar. Rep.)','Yemen']\n",
    "\n",
    "#While passing the code below we find that names from countries as Bolivia, Iran, DR Congo and Venezuela had different names so we have to manually addapt the names to \"Bolivia, Plurinational State of\", \"Iran, Islamic Republic of\", 'Congo, The Democratic Republic of the' and \"Venezuela, Bolivarian Republic of\"\n",
    "netos = ['Albania','Angola','Saudi Arabia','Algeria','Argentina','Benin','Azerbaijan','Bolivia, Plurinational State of','Brazil','Brunei Darussalam','Cameroon','Canada','China','Colombia','Congo','Denmark','Ecuador','Egypt','United Arab Emirates','Estonia','Gabon','Indonesia','Georgia','Ghana','Guatemala','Iran, Islamic Republic of','Iraq','Kazakhstan','Kyrgyzstan','Kuwait','Libya','Malaysia','Mexico','Mongolia','Myanmar','Nigeria','Norway','Oman','Qatar','United Kingdom','Congo, The Democratic Republic of the','Russian Federation','Trinidad and Tobago','Sudan','South Sudan','Tunisia','Turkmenistan','Viet Nam','Venezuela, Bolivarian Republic of','Yemen']\n",
    "\n",
    "#Create the same list with the alpha_2 code\n",
    "a_codes = []\n",
    "for x in netos:\n",
    "    try:\n",
    "        country = pycountry.countries.get(name=x)\n",
    "        a_codes.append(country.alpha_2)\n",
    "    except AttributeError:\n",
    "        print(f'Theres an error with {x}')\n",
    "        pass\n",
    "\n",
    "#Check lenght\n",
    "len(netos) - len(a_codes)"
   ]
  },
  {
   "cell_type": "code",
   "execution_count": 3,
   "metadata": {
    "tags": []
   },
   "outputs": [
    {
     "output_type": "stream",
     "name": "stdout",
     "text": "Benin\nCameroon\nCongo\nGhana\nKyrgyzstan\nMongolia\nCongo, The Democratic Republic of the\nSouth Sudan\nTurkmenistan\n"
    }
   ],
   "source": [
    "#### Identify which countries of interest are missing from the data set\n",
    "# available = monthly[\"REF_AREA\"].unique().tolist()\n",
    "\n",
    "# for x in a_codes:\n",
    "#     if x not in available:\n",
    "#         country = pycountry.countries.get(alpha_2=x)\n",
    "#         print(country.name)\n",
    "\n",
    "\n",
    "#### On this data set there are no data for this countries:\n",
    "# Benin\n",
    "# Cameroon\n",
    "# Congo\n",
    "# Ghana\n",
    "# Kyrgyzstan\n",
    "# Mongolia\n",
    "# Congo, The Democratic Republic of the\n",
    "# South Sudan\n",
    "# Turkmenistan"
   ]
  },
  {
   "cell_type": "code",
   "execution_count": 39,
   "metadata": {
    "tags": []
   },
   "outputs": [],
   "source": [
    "#Clean the DB from missing values\n",
    "monthly = monthly.dropna(how=\"any\")\n",
    "\n",
    "#Filter the data base: show data only on Thousand Barrels per day (kb/d)(KBD)\n",
    "dayly_barrels = monthly.loc[monthly[\"UNIT_MEASURE\"] == \"KBD\"]\n",
    "\n",
    "#Filter the data base: show data only from countries we are interested in\n",
    "exportadores = dayly_barrels.loc[dayly_barrels[\"REF_AREA\"].isin(a_codes)]\n",
    "\n",
    "#divide the data set in three areas of interest crude oil, ngl and total\n",
    "crude_oil = exportadores.loc[exportadores[\"ENERGY_PRODUCT\"] == \"CRUDEOIL\"]\n",
    "NGL = exportadores.loc[exportadores[\"ENERGY_PRODUCT\"] == \"NGL\"]\n",
    "total_crude = exportadores.loc[exportadores[\"ENERGY_PRODUCT\"] == \"TOTCRUDE\"]"
   ]
  },
  {
   "cell_type": "code",
   "execution_count": 61,
   "metadata": {},
   "outputs": [],
   "source": [
    "#Add the full country name column\n",
    "#Create a function who get the name from alpha 2 encode\n",
    "def country(x):\n",
    "    pais = pycountry.countries.get(alpha_2=x)\n",
    "    return pais.name\n",
    "#Apply that function to the column REF_AREA in order to get the country column\n",
    "crude_oil[\"Country\"] = crude_oil[\"REF_AREA\"].apply(lambda x : country(x))\n",
    "\n",
    "#Filter data to get exports and imports in different datasets\n",
    "imports = crude_oil.loc[crude_oil[\"FLOW_BREAKDOWN\"] == \"TOTIMPSB\"]\n",
    "exports = crude_oil.loc[crude_oil[\"FLOW_BREAKDOWN\"] == \"TOTEXPSB\"]"
   ]
  },
  {
   "cell_type": "code",
   "execution_count": 62,
   "metadata": {},
   "outputs": [],
   "source": [
    "#Rename values column\n",
    "imports = imports.rename(columns={\"OBS_VALUE\" : \"Imports (kb/d)\", \"ASSESSMENT_CODE\" : \"Imp_notes\"})\n",
    "exports = exports.rename(columns={\"OBS_VALUE\" : \"Exports (kb/d)\", \"ASSESSMENT_CODE\" : \"Exp_notes\"})\n",
    "\n",
    "#drop unecesary data columns \n",
    "imports = imports.drop(columns=[\"ENERGY_PRODUCT\", \"FLOW_BREAKDOWN\", \"UNIT_MEASURE\", \"REF_AREA\"]) \n",
    "exports = exports.drop(columns=[\"ENERGY_PRODUCT\", \"FLOW_BREAKDOWN\", \"UNIT_MEASURE\", \"REF_AREA\"])"
   ]
  },
  {
   "cell_type": "code",
   "execution_count": 65,
   "metadata": {},
   "outputs": [],
   "source": [
    "#Merge both datasets in one\n",
    "exp_netas = exports.merge(imports, how=\"left\", on=[\"Country\", \"TIME_PERIOD\"])\n",
    "#Reorder the columns\n",
    "exp_netas = exp_netas[['Country','TIME_PERIOD', 'Exports (kb/d)','Exp_notes','Imports (kb/d)', 'Imp_notes']]\n",
    "#Create a column who substract imports from Exports\n",
    "exp_netas[\"Net Exports\"] = (exp_netas[\"Exports (kb/d)\"] - exp_netas[\"Imports (kb/d)\"])"
   ]
  },
  {
   "cell_type": "code",
   "execution_count": 70,
   "metadata": {},
   "outputs": [
    {
     "output_type": "execute_result",
     "data": {
      "text/plain": "Country            object\nTIME_PERIOD        object\nExports (kb/d)    float64\nExp_notes           int64\nImports (kb/d)    float64\nImp_notes           int64\nNet Exports       float64\ndtype: object"
     },
     "metadata": {},
     "execution_count": 70
    }
   ],
   "source": [
    "exp_netas.dtypes"
   ]
  },
  {
   "cell_type": "markdown",
   "metadata": {},
   "source": [
    "# NEXT STEPS\n",
    "- TRANSFORMAR EL TIME PERIOD A datetime\n",
    "- CREAR UNA TABLA EXTRA PARA ANÁLISIS VISUAL\n",
    "- DEJAR LA TABLA ORIGINAL PARA DATA ANALISIS\n",
    "- CREAR UNA GRÁFICA PARA ANALISIS REAL"
   ]
  }
 ]
}