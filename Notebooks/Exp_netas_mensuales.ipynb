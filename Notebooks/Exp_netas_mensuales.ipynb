{
 "metadata": {
  "language_info": {
   "codemirror_mode": {
    "name": "ipython",
    "version": 3
   },
   "file_extension": ".py",
   "mimetype": "text/x-python",
   "name": "python",
   "nbconvert_exporter": "python",
   "pygments_lexer": "ipython3",
   "version": "3.7.6-final"
  },
  "orig_nbformat": 2,
  "kernelspec": {
   "name": "python3",
   "display_name": "Python 3"
  }
 },
 "nbformat": 4,
 "nbformat_minor": 2,
 "cells": [
  {
   "cell_type": "markdown",
   "metadata": {},
   "source": [
    "Usamos los datos de la JODI Oil World Database (Joint Organisations Data Initiative [JODI], 2018). Que se obtiene de aqui: https://www.jodidata.org/oil/database/data-downloads.aspx\n",
    "\n",
    "Fecha de descarga: 1 septiembre de 2020\n",
    "\n",
    "\n",
    "\n"
   ]
  },
  {
   "cell_type": "code",
   "execution_count": 3,
   "metadata": {},
   "outputs": [],
   "source": [
    "import pandas as pd\n",
    "monthly_first = pd.read_csv(\"../Databases/JODI DB/world_Primary_CSV_NewFormat.csv\")\n",
    "monthly_second = pd.read_csv(\"../Databases/JODI DB/world_Secondary_CSV_NewFormat.csv\")\n",
    "\n",
    "monthly_first = pd.DataFrame(monthly_first)\n",
    "monthly_second = pd.DataFrame(monthly_second)"
   ]
  },
  {
   "cell_type": "code",
   "execution_count": 24,
   "metadata": {},
   "outputs": [
    {
     "output_type": "execute_result",
     "data": {
      "text/plain": "ntry(alpha_2='KY', alpha_3='CYM', name='Cayman Islands', numeric='136'),\n Country(alpha_2='CY', alpha_3='CYP', name='Cyprus', numeric='196', official_name='Republic of Cyprus'),\n Country(alpha_2='CZ', alpha_3='CZE', name='Czechia', numeric='203', official_name='Czech Republic'),\n Country(alpha_2='DE', alpha_3='DEU', name='Germany', numeric='276', official_name='Federal Republic of Germany'),\n Country(alpha_2='DJ', alpha_3='DJI', name='Djibouti', numeric='262', official_name='Republic of Djibouti'),\n Country(alpha_2='DM', alpha_3='DMA', name='Dominica', numeric='212', official_name='Commonwealth of Dominica'),\n Country(alpha_2='DK', alpha_3='DNK', name='Denmark', numeric='208', official_name='Kingdom of Denmark'),\n Country(alpha_2='DO', alpha_3='DOM', name='Dominican Republic', numeric='214'),\n Country(alpha_2='DZ', alpha_3='DZA', name='Algeria', numeric='012', official_name=\"People's Democratic Republic of Algeria\"),\n Country(alpha_2='EC', alpha_3='ECU', name='Ecuador', numeric='218', official_name='Republic of Ecuador'),\n Country(alpha_2='EG', alpha_3='EGY', name='Egypt', numeric='818', official_name='Arab Republic of Egypt'),\n Country(alpha_2='ER', alpha_3='ERI', name='Eritrea', numeric='232', official_name='the State of Eritrea'),\n Country(alpha_2='EH', alpha_3='ESH', name='Western Sahara', numeric='732'),\n Country(alpha_2='ES', alpha_3='ESP', name='Spain', numeric='724', official_name='Kingdom of Spain'),\n Country(alpha_2='EE', alpha_3='EST', name='Estonia', numeric='233', official_name='Republic of Estonia'),\n Country(alpha_2='ET', alpha_3='ETH', name='Ethiopia', numeric='231', official_name='Federal Democratic Republic of Ethiopia'),\n Country(alpha_2='FI', alpha_3='FIN', name='Finland', numeric='246', official_name='Republic of Finland'),\n Country(alpha_2='FJ', alpha_3='FJI', name='Fiji', numeric='242', official_name='Republic of Fiji'),\n Country(alpha_2='FK', alpha_3='FLK', name='Falkland Islands (Malvinas)', numeric='238'),\n Country(alpha_2='FR', alpha_3='FRA', name='France', numeric='250', official_name='French Republic'),\n Country(alpha_2='FO', alpha_3='FRO', name='Faroe Islands', numeric='234'),\n Country(alpha_2='FM', alpha_3='FSM', name='Micronesia, Federated States of', numeric='583', official_name='Federated States of Micronesia'),\n Country(alpha_2='GA', alpha_3='GAB', name='Gabon', numeric='266', official_name='Gabonese Republic'),\n Country(alpha_2='GB', alpha_3='GBR', name='United Kingdom', numeric='826', official_name='United Kingdom of Great Britain and Northern Ireland'),\n Country(alpha_2='GE', alpha_3='GEO', name='Georgia', numeric='268'),\n Country(alpha_2='GG', alpha_3='GGY', name='Guernsey', numeric='831'),\n Country(alpha_2='GH', alpha_3='GHA', name='Ghana', numeric='288', official_name='Republic of Ghana'),\n Country(alpha_2='GI', alpha_3='GIB', name='Gibraltar', numeric='292'),\n Country(alpha_2='GN', alpha_3='GIN', name='Guinea', numeric='324', official_name='Republic of Guinea'),\n Country(alpha_2='GP', alpha_3='GLP', name='Guadeloupe', numeric='312'),\n Country(alpha_2='GM', alpha_3='GMB', name='Gambia', numeric='270', official_name='Republic of the Gambia'),\n Country(alpha_2='GW', alpha_3='GNB', name='Guinea-Bissau', numeric='624', official_name='Republic of Guinea-Bissau'),\n Country(alpha_2='GQ', alpha_3='GNQ', name='Equatorial Guinea', numeric='226', official_name='Republic of Equatorial Guinea'),\n Country(alpha_2='GR', alpha_3='GRC', name='Greece', numeric='300', official_name='Hellenic Republic'),\n Country(alpha_2='GD', alpha_3='GRD', name='Grenada', numeric='308'),\n Country(alpha_2='GL', alpha_3='GRL', name='Greenland', numeric='304'),\n Country(alpha_2='GT', alpha_3='GTM', name='Guatemala', numeric='320', official_name='Republic of Guatemala'),\n Country(alpha_2='GF', alpha_3='GUF', name='French Guiana', numeric='254'),\n Country(alpha_2='GU', alpha_3='GUM', name='Guam', numeric='316'),\n Country(alpha_2='GY', alpha_3='GUY', name='Guyana', numeric='328', official_name='Republic of Guyana'),\n Country(alpha_2='HK', alpha_3='HKG', name='Hong Kong', numeric='344', official_name='Hong Kong Special Administrative Region of China'),\n Country(alpha_2='HM', alpha_3='HMD', name='Heard Island and McDonald Islands', numeric='334'),\n Country(alpha_2='HN', alpha_3='HND', name='Honduras', numeric='340', official_name='Republic of Honduras'),\n Country(alpha_2='HR', alpha_3='HRV', name='Croatia', numeric='191', official_name='Republic of Croatia'),\n Country(alpha_2='HT', alpha_3='HTI', name='Haiti', numeric='332', official_name='Republic of Haiti'),\n Country(alpha_2='HU', alpha_3='HUN', name='Hungary', numeric='348', official_name='Hungary'),\n Country(alpha_2='ID', alpha_3='IDN', name='Indonesia', numeric='360', official_name='Republic of Indonesia'),\n Country(alpha_2='IM', alpha_3='IMN', name='Isle of Man', numeric='833'),\n Country(alpha_2='IN', alpha_3='IND', name='India', numeric='356', official_name='Republic of India'),\n Country(alpha_2='IO', alpha_3='IOT', name='British Indian Ocean Territory', numeric='086'),\n Country(alpha_2='IE', alpha_3='IRL', name='Ireland', numeric='372'),\n Country(alpha_2='IR', alpha_3='IRN', name='Iran, Islamic Republic of', numeric='364', official_name='Islamic Republic of Iran'),\n Country(alpha_2='IQ', alpha_3='IRQ', name='Iraq', numeric='368', official_name='Republic of Iraq'),\n Country(alpha_2='IS', alpha_3='ISL', name='Iceland', numeric='352', official_name='Republic of Iceland'),\n Country(alpha_2='IL', alpha_3='ISR', name='Israel', numeric='376', official_name='State of Israel'),\n Country(alpha_2='IT', alpha_3='ITA', name='Italy', numeric='380', official_name='Italian Republic'),\n Country(alpha_2='JM', alpha_3='JAM', name='Jamaica', numeric='388'),\n Country(alpha_2='JE', alpha_3='JEY', name='Jersey', numeric='832'),\n Country(alpha_2='JO', alpha_3='JOR', name='Jordan', numeric='400', official_name='Hashemite Kingdom of Jordan'),\n Country(alpha_2='JP', alpha_3='JPN', name='Japan', numeric='392'),\n Country(alpha_2='KZ', alpha_3='KAZ', name='Kazakhstan', numeric='398', official_name='Republic of Kazakhstan'),\n Country(alpha_2='KE', alpha_3='KEN', name='Kenya', numeric='404', official_name='Republic of Kenya'),\n Country(alpha_2='KG', alpha_3='KGZ', name='Kyrgyzstan', numeric='417', official_name='Kyrgyz Republic'),\n Country(alpha_2='KH', alpha_3='KHM', name='Cambodia', numeric='116', official_name='Kingdom of Cambodia'),\n Country(alpha_2='KI', alpha_3='KIR', name='Kiribati', numeric='296', official_name='Republic of Kiribati'),\n Country(alpha_2='KN', alpha_3='KNA', name='Saint Kitts and Nevis', numeric='659'),\n Country(alpha_2='KR', alpha_3='KOR', name='Korea, Republic of', numeric='410'),\n Country(alpha_2='KW', alpha_3='KWT', name='Kuwait', numeric='414', official_name='State of Kuwait'),\n Country(alpha_2='LA', alpha_3='LAO', name=\"Lao People's Democratic Republic\", numeric='418'),\n Country(alpha_2='LB', alpha_3='LBN', name='Lebanon', numeric='422', official_name='Lebanese Republic'),\n Country(alpha_2='LR', alpha_3='LBR', name='Liberia', numeric='430', official_name='Republic of Liberia'),\n Country(alpha_2='LY', alpha_3='LBY', name='Libya', numeric='434', official_name='Libya'),\n Country(alpha_2='LC', alpha_3='LCA', name='Saint Lucia', numeric='662'),\n Country(alpha_2='LI', alpha_3='LIE', name='Liechtenstein', numeric='438', official_name='Principality of Liechtenstein'),\n Country(alpha_2='LK', alpha_3='LKA', name='Sri Lanka', numeric='144', official_name='Democratic Socialist Republic of Sri Lanka'),\n Country(alpha_2='LS', alpha_3='LSO', name='Lesotho', numeric='426', official_name='Kingdom of Lesotho'),\n Country(alpha_2='LT', alpha_3='LTU', name='Lithuania', numeric='440', official_name='Republic of Lithuania'),\n Country(alpha_2='LU', alpha_3='LUX', name='Luxembourg', numeric='442', official_name='Grand Duchy of Luxembourg'),\n Country(alpha_2='LV', alpha_3='LVA', name='Latvia', numeric='428', official_name='Republic of Latvia'),\n Country(alpha_2='MO', alpha_3='MAC', name='Macao', numeric='446', official_name='Macao Special Administrative Region of China'),\n Country(alpha_2='MF', alpha_3='MAF', name='Saint Martin (French part)', numeric='663'),\n Country(alpha_2='MA', alpha_3='MAR', name='Morocco', numeric='504', official_name='Kingdom of Morocco'),\n Country(alpha_2='MC', alpha_3='MCO', name='Monaco', numeric='492', official_name='Principality of Monaco'),\n Country(alpha_2='MD', alpha_3='MDA', common_name='Moldova', name='Moldova, Republic of', numeric='498', official_name='Republic of Moldova'),\n Country(alpha_2='MG', alpha_3='MDG', name='Madagascar', numeric='450', official_name='Republic of Madagascar'),\n Country(alpha_2='MV', alpha_3='MDV', name='Maldives', numeric='462', official_name='Republic of Maldives'),\n Country(alpha_2='MX', alpha_3='MEX', name='Mexico', numeric='484', official_name='United Mexican States'),\n Country(alpha_2='MH', alpha_3='MHL', name='Marshall Islands', numeric='584', official_name='Republic of the Marshall Islands'),\n Country(alpha_2='MK', alpha_3='MKD', name='North Macedonia', numeric='807', official_name='Republic of North Macedonia'),\n Country(alpha_2='ML', alpha_3='MLI', name='Mali', numeric='466', official_name='Republic of Mali'),\n Country(alpha_2='MT', alpha_3='MLT', name='Malta', numeric='470', official_name='Republic of Malta'),\n Country(alpha_2='MM', alpha_3='MMR', name='Myanmar', numeric='104', official_name='Republic of Myanmar'),\n Country(alpha_2='ME', alpha_3='MNE', name='Montenegro', numeric='499', official_name='Montenegro'),\n Country(alpha_2='MN', alpha_3='MNG', name='Mongolia', numeric='496'),\n Country(alpha_2='MP', alpha_3='MNP', name='Northern Mariana Islands', numeric='580', official_name='Commonwealth of the Northern Mariana Islands'),\n Country(alpha_2='MZ', alpha_3='MOZ', name='Mozambique', numeric='508', official_name='Republic of Mozambique'),\n Country(alpha_2='MR', alpha_3='MRT', name='Mauritania', numeric='478', official_name='Islamic Republic of Mauritania'),\n Country(alpha_2='MS', alpha_3='MSR', name='Montserrat', numeric='500'),\n Country(alpha_2='MQ', alpha_3='MTQ', name='Martinique', numeric='474'),\n Country(alpha_2='MU', alpha_3='MUS', name='Mauritius', numeric='480', official_name='Republic of Mauritius'),\n Country(alpha_2='MW', alpha_3='MWI', name='Malawi', numeric='454', official_name='Republic of Malawi'),\n Country(alpha_2='MY', alpha_3='MYS', name='Malaysia', numeric='458'),\n Country(alpha_2='YT', alpha_3='MYT', name='Mayotte', numeric='175'),\n Country(alpha_2='NA', alpha_3='NAM', name='Namibia', numeric='516', official_name='Republic of Namibia'),\n Country(alpha_2='NC', alpha_3='NCL', name='New Caledonia', numeric='540'),\n Country(alpha_2='NE', alpha_3='NER', name='Niger', numeric='562', official_name='Republic of the Niger'),\n Country(alpha_2='NF', alpha_3='NFK', name='Norfolk Island', numeric='574'),\n Country(alpha_2='NG', alpha_3='NGA', name='Nigeria', numeric='566', official_name='Federal Republic of Nigeria'),\n Country(alpha_2='NI', alpha_3='NIC', name='Nicaragua', numeric='558', official_name='Republic of Nicaragua'),\n Country(alpha_2='NU', alpha_3='NIU', name='Niue', numeric='570', official_name='Niue'),\n Country(alpha_2='NL', alpha_3='NLD', name='Netherlands', numeric='528', official_name='Kingdom of the Netherlands'),\n Country(alpha_2='NO', alpha_3='NOR', name='Norway', numeric='578', official_name='Kingdom of Norway'),\n Country(alpha_2='NP', alpha_3='NPL', name='Nepal', numeric='524', official_name='Federal Democratic Republic of Nepal'),\n Country(alpha_2='NR', alpha_3='NRU', name='Nauru', numeric='520', official_name='Republic of Nauru'),\n Country(alpha_2='NZ', alpha_3='NZL', name='New Zealand', numeric='554'),\n Country(alpha_2='OM', alpha_3='OMN', name='Oman', numeric='512', official_name='Sultanate of Oman'),\n Country(alpha_2='PK', alpha_3='PAK', name='Pakistan', numeric='586', official_name='Islamic Republic of Pakistan'),\n Country(alpha_2='PA', alpha_3='PAN', name='Panama', numeric='591', official_name='Republic of Panama'),\n Country(alpha_2='PN', alpha_3='PCN', name='Pitcairn', numeric='612'),\n Country(alpha_2='PE', alpha_3='PER', name='Peru', numeric='604', official_name='Republic of Peru'),\n Country(alpha_2='PH', alpha_3='PHL', name='Philippines', numeric='608', official_name='Republic of the Philippines'),\n Country(alpha_2='PW', alpha_3='PLW', name='Palau', numeric='585', official_name='Republic of Palau'),\n Country(alpha_2='PG', alpha_3='PNG', name='Papua New Guinea', numeric='598', official_name='Independent State of Papua New Guinea'),\n Country(alpha_2='PL', alpha_3='POL', name='Poland', numeric='616', official_name='Republic of Poland'),\n Country(alpha_2='PR', alpha_3='PRI', name='Puerto Rico', numeric='630'),\n Country(alpha_2='KP', alpha_3='PRK', name=\"Korea, Democratic People's Republic of\", numeric='408', official_name=\"Democratic People's Republic of Korea\"),\n Country(alpha_2='PT', alpha_3='PRT', name='Portugal', numeric='620', official_name='Portuguese Republic'),\n Country(alpha_2='PY', alpha_3='PRY', name='Paraguay', numeric='600', official_name='Republic of Paraguay'),\n Country(alpha_2='PS', alpha_3='PSE', name='Palestine, State of', numeric='275', official_name='the State of Palestine'),\n Country(alpha_2='PF', alpha_3='PYF', name='French Polynesia', numeric='258'),\n Country(alpha_2='QA', alpha_3='QAT', name='Qatar', numeric='634', official_name='State of Qatar'),\n Country(alpha_2='RE', alpha_3='REU', name='Réunion', numeric='638'),\n Country(alpha_2='RO', alpha_3='ROU', name='Romania', numeric='642'),\n Country(alpha_2='RU', alpha_3='RUS', name='Russian Federation', numeric='643'),\n Country(alpha_2='RW', alpha_3='RWA', name='Rwanda', numeric='646', official_name='Rwandese Republic'),\n Country(alpha_2='SA', alpha_3='SAU', name='Saudi Arabia', numeric='682', official_name='Kingdom of Saudi Arabia'),\n Country(alpha_2='SD', alpha_3='SDN', name='Sudan', numeric='729', official_name='Republic of the Sudan'),\n Country(alpha_2='SN', alpha_3='SEN', name='Senegal', numeric='686', official_name='Republic of Senegal'),\n Country(alpha_2='SG', alpha_3='SGP', name='Singapore', numeric='702', official_name='Republic of Singapore'),\n Country(alpha_2='GS', alpha_3='SGS', name='South Georgia and the South Sandwich Islands', numeric='239'),\n Country(alpha_2='SH', alpha_3='SHN', name='Saint Helena, Ascension and Tristan da Cunha', numeric='654'),\n Country(alpha_2='SJ', alpha_3='SJM', name='Svalbard and Jan Mayen', numeric='744'),\n Country(alpha_2='SB', alpha_3='SLB', name='Solomon Islands', numeric='090'),\n Country(alpha_2='SL', alpha_3='SLE', name='Sierra Leone', numeric='694', official_name='Republic of Sierra Leone'),\n Country(alpha_2='SV', alpha_3='SLV', name='El Salvador', numeric='222', official_name='Republic of El Salvador'),\n Country(alpha_2='SM', alpha_3='SMR', name='San Marino', numeric='674', official_name='Republic of San Marino'),\n Country(alpha_2='SO', alpha_3='SOM', name='Somalia', numeric='706', official_name='Federal Republic of Somalia'),\n Country(alpha_2='PM', alpha_3='SPM', name='Saint Pierre and Miquelon', numeric='666'),\n Country(alpha_2='RS', alpha_3='SRB', name='Serbia', numeric='688', official_name='Republic of Serbia'),\n Country(alpha_2='SS', alpha_3='SSD', name='South Sudan', numeric='728', official_name='Republic of South Sudan'),\n Country(alpha_2='ST', alpha_3='STP', name='Sao Tome and Principe', numeric='678', official_name='Democratic Republic of Sao Tome and Principe'),\n Country(alpha_2='SR', alpha_3='SUR', name='Suriname', numeric='740', official_name='Republic of Suriname'),\n Country(alpha_2='SK', alpha_3='SVK', name='Slovakia', numeric='703', official_name='Slovak Republic'),\n Country(alpha_2='SI', alpha_3='SVN', name='Slovenia', numeric='705', official_name='Republic of Slovenia'),\n Country(alpha_2='SE', alpha_3='SWE', name='Sweden', numeric='752', official_name='Kingdom of Sweden'),\n Country(alpha_2='SZ', alpha_3='SWZ', name='Eswatini', numeric='748', official_name='Kingdom of Eswatini'),\n Country(alpha_2='SX', alpha_3='SXM', name='Sint Maarten (Dutch part)', numeric='534', official_name='Sint Maarten (Dutch part)'),\n Country(alpha_2='SC', alpha_3='SYC', name='Seychelles', numeric='690', official_name='Republic of Seychelles'),\n Country(alpha_2='SY', alpha_3='SYR', name='Syrian Arab Republic', numeric='760'),\n Country(alpha_2='TC', alpha_3='TCA', name='Turks and Caicos Islands', numeric='796'),\n Country(alpha_2='TD', alpha_3='TCD', name='Chad', numeric='148', official_name='Republic of Chad'),\n Country(alpha_2='TG', alpha_3='TGO', name='Togo', numeric='768', official_name='Togolese Republic'),\n Country(alpha_2='TH', alpha_3='THA', name='Thailand', numeric='764', official_name='Kingdom of Thailand'),\n Country(alpha_2='TJ', alpha_3='TJK', name='Tajikistan', numeric='762', official_name='Republic of Tajikistan'),\n Country(alpha_2='TK', alpha_3='TKL', name='Tokelau', numeric='772'),\n Country(alpha_2='TM', alpha_3='TKM', name='Turkmenistan', numeric='795'),\n Country(alpha_2='TL', alpha_3='TLS', name='Timor-Leste', numeric='626', official_name='Democratic Republic of Timor-Leste'),\n Country(alpha_2='TO', alpha_3='TON', name='Tonga', numeric='776', official_name='Kingdom of Tonga'),\n Country(alpha_2='TT', alpha_3='TTO', name='Trinidad and Tobago', numeric='780', official_name='Republic of Trinidad and Tobago'),\n Country(alpha_2='TN', alpha_3='TUN', name='Tunisia', numeric='788', official_name='Republic of Tunisia'),\n Country(alpha_2='TR', alpha_3='TUR', name='Turkey', numeric='792', official_name='Republic of Turkey'),\n Country(alpha_2='TV', alpha_3='TUV', name='Tuvalu', numeric='798'),\n Country(alpha_2='TW', alpha_3='TWN', common_name='Taiwan', name='Taiwan, Province of China', numeric='158', official_name='Taiwan, Province of China'),\n Country(alpha_2='TZ', alpha_3='TZA', common_name='Tanzania', name='Tanzania, United Republic of', numeric='834', official_name='United Republic of Tanzania'),\n Country(alpha_2='UG', alpha_3='UGA', name='Uganda', numeric='800', official_name='Republic of Uganda'),\n Country(alpha_2='UA', alpha_3='UKR', name='Ukraine', numeric='804'),\n Country(alpha_2='UM', alpha_3='UMI', name='United States Minor Outlying Islands', numeric='581'),\n Country(alpha_2='UY', alpha_3='URY', name='Uruguay', numeric='858', official_name='Eastern Republic of Uruguay'),\n Country(alpha_2='US', alpha_3='USA', name='United States', numeric='840', official_name='United States of America'),\n Country(alpha_2='UZ', alpha_3='UZB', name='Uzbekistan', numeric='860', official_name='Republic of Uzbekistan'),\n Country(alpha_2='VA', alpha_3='VAT', name='Holy See (Vatican City State)', numeric='336'),\n Country(alpha_2='VC', alpha_3='VCT', name='Saint Vincent and the Grenadines', numeric='670'),\n Country(alpha_2='VE', alpha_3='VEN', common_name='Venezuela', name='Venezuela, Bolivarian Republic of', numeric='862', official_name='Bolivarian Republic of Venezuela'),\n Country(alpha_2='VG', alpha_3='VGB', name='Virgin Islands, British', numeric='092', official_name='British Virgin Islands'),\n Country(alpha_2='VI', alpha_3='VIR', name='Virgin Islands, U.S.', numeric='850', official_name='Virgin Islands of the United States'),\n Country(alpha_2='VN', alpha_3='VNM', common_name='Vietnam', name='Viet Nam', numeric='704', official_name='Socialist Republic of Viet Nam'),\n Country(alpha_2='VU', alpha_3='VUT', name='Vanuatu', numeric='548', official_name='Republic of Vanuatu'),\n Country(alpha_2='WF', alpha_3='WLF', name='Wallis and Futuna', numeric='876'),\n Country(alpha_2='WS', alpha_3='WSM', name='Samoa', numeric='882', official_name='Independent State of Samoa'),\n Country(alpha_2='YE', alpha_3='YEM', name='Yemen', numeric='887', official_name='Republic of Yemen'),\n Country(alpha_2='ZA', alpha_3='ZAF', name='South Africa', numeric='710', official_name='Republic of South Africa'),\n Country(alpha_2='ZM', alpha_3='ZMB', name='Zambia', numeric='894', official_name='Republic of Zambia'),\n Country(alpha_2='ZW', alpha_3='ZWE', name='Zimbabwe', numeric='716', official_name='Republic of Zimbabwe')]"
     },
     "metadata": {},
     "execution_count": 24
    }
   ],
   "source": [
    "# As the DB has country names referd by alpha-2-code I need to use pycountry to get actual names\n",
    "#pip install pycountry\n",
    "import pycountry\n",
    "\n",
    "# List of countries we are interested in\n",
    "\n",
    "\n",
    "countries = list(pycountry.countries)\n",
    "countries\n",
    "\n",
    "# exp_netos = ['Albania','Angola','Saudi Arabia','Algeria','Argentina','Benin','Azerbaijan','Bolivia','Brazil','Brunei','Cameroon','Canada','China','Colombia','Congo','Denmark','Ecuador','Egypt','United Arab Emirates','Estonia','Gabon','Indonesia','Georgia','Ghana','Guatemala','Iran','Iraq','Kazakhstan','Kyrgyzstan','Kuwait','Libya','Malaysia','Mexico','Mongolia','Myanmar','Nigeria','Norway','Oman','Qatar','United Kingdom','Democratic Republic of the Congo','Russia','Trinidad and Tobago','Sudan','South Sudan','Tunisia','Turkmenistan','Vietnam','Venezuela','Yemen']\n",
    "\n",
    "# exp_code = []\n",
    "# for x in exp_netos:\n",
    "#     if x is in py\n",
    "#     country = pycountry.countries.get(name=x)\n",
    "#     exp_code.append(country.alpha_2)\n",
    "\n",
    "\n",
    "\n"
   ]
  },
  {
   "cell_type": "code",
   "execution_count": null,
   "metadata": {},
   "outputs": [],
   "source": []
  },
  {
   "cell_type": "code",
   "execution_count": null,
   "metadata": {},
   "outputs": [],
   "source": []
  },
  {
   "cell_type": "code",
   "execution_count": null,
   "metadata": {},
   "outputs": [],
   "source": []
  },
  {
   "cell_type": "code",
   "execution_count": 4,
   "metadata": {},
   "outputs": [
    {
     "output_type": "execute_result",
     "data": {
      "text/plain": "  REF_AREA TIME_PERIOD ENERGY_PRODUCT FLOW_BREAKDOWN UNIT_MEASURE  OBS_VALUE  \\\n0       AE     2002-01       CRUDEOIL        CLOSTLV      CONVBBL     7596.0   \n1       AE     2002-01       CRUDEOIL        CLOSTLV         KBBL        NaN   \n2       AE     2002-01       CRUDEOIL        CLOSTLV          KBD        NaN   \n3       AE     2002-01       CRUDEOIL        CLOSTLV           KL        NaN   \n4       AE     2002-01       CRUDEOIL        CLOSTLV        KTONS        NaN   \n\n   ASSESSMENT_CODE  \n0                3  \n1                3  \n2                3  \n3                3  \n4                3  ",
      "text/html": "<div>\n<style scoped>\n    .dataframe tbody tr th:only-of-type {\n        vertical-align: middle;\n    }\n\n    .dataframe tbody tr th {\n        vertical-align: top;\n    }\n\n    .dataframe thead th {\n        text-align: right;\n    }\n</style>\n<table border=\"1\" class=\"dataframe\">\n  <thead>\n    <tr style=\"text-align: right;\">\n      <th></th>\n      <th>REF_AREA</th>\n      <th>TIME_PERIOD</th>\n      <th>ENERGY_PRODUCT</th>\n      <th>FLOW_BREAKDOWN</th>\n      <th>UNIT_MEASURE</th>\n      <th>OBS_VALUE</th>\n      <th>ASSESSMENT_CODE</th>\n    </tr>\n  </thead>\n  <tbody>\n    <tr>\n      <th>0</th>\n      <td>AE</td>\n      <td>2002-01</td>\n      <td>CRUDEOIL</td>\n      <td>CLOSTLV</td>\n      <td>CONVBBL</td>\n      <td>7596.0</td>\n      <td>3</td>\n    </tr>\n    <tr>\n      <th>1</th>\n      <td>AE</td>\n      <td>2002-01</td>\n      <td>CRUDEOIL</td>\n      <td>CLOSTLV</td>\n      <td>KBBL</td>\n      <td>NaN</td>\n      <td>3</td>\n    </tr>\n    <tr>\n      <th>2</th>\n      <td>AE</td>\n      <td>2002-01</td>\n      <td>CRUDEOIL</td>\n      <td>CLOSTLV</td>\n      <td>KBD</td>\n      <td>NaN</td>\n      <td>3</td>\n    </tr>\n    <tr>\n      <th>3</th>\n      <td>AE</td>\n      <td>2002-01</td>\n      <td>CRUDEOIL</td>\n      <td>CLOSTLV</td>\n      <td>KL</td>\n      <td>NaN</td>\n      <td>3</td>\n    </tr>\n    <tr>\n      <th>4</th>\n      <td>AE</td>\n      <td>2002-01</td>\n      <td>CRUDEOIL</td>\n      <td>CLOSTLV</td>\n      <td>KTONS</td>\n      <td>NaN</td>\n      <td>3</td>\n    </tr>\n  </tbody>\n</table>\n</div>"
     },
     "metadata": {},
     "execution_count": 4
    }
   ],
   "source": [
    "monthly_first.head()"
   ]
  },
  {
   "cell_type": "code",
   "execution_count": null,
   "metadata": {},
   "outputs": [],
   "source": []
  }
 ]
}