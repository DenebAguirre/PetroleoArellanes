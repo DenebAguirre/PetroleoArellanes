{
 "metadata": {
  "language_info": {
   "codemirror_mode": {
    "name": "ipython",
    "version": 3
   },
   "file_extension": ".py",
   "mimetype": "text/x-python",
   "name": "python",
   "nbconvert_exporter": "python",
   "pygments_lexer": "ipython3",
   "version": "3.7.7-final"
  },
  "orig_nbformat": 2,
  "kernelspec": {
   "name": "Python 3.7.7 64-bit ('base': conda)",
   "display_name": "Python 3.7.7 64-bit ('base': conda)",
   "metadata": {
    "interpreter": {
     "hash": "aa7583ab6350143d4e9d2780c62a9c5e1694c574a0517b8a7c25e1096bbf9afb"
    }
   }
  }
 },
 "nbformat": 4,
 "nbformat_minor": 2,
 "cells": [
  {
   "cell_type": "code",
   "execution_count": 1,
   "metadata": {},
   "outputs": [],
   "source": [
    "import pandas as pd\n",
    "import numpy as np\n",
    "import matplotlib.pyplot as plt"
   ]
  },
  {
   "cell_type": "code",
   "execution_count": 2,
   "metadata": {},
   "outputs": [],
   "source": [
    "#Read Data\n",
    "Exportaciones_netas = pd.read_csv(\"../csv_results/Exportaciones_Mensuales_Netas.csv\")\n",
    "Incidentes_geopoliticos = pd.read_csv('../csv_results/incidentes_geopoliticos.csv')\n",
    "Terrorismo = pd.read_csv(\"../csv_results/Terrorism.csv\")\n",
    "Variaciones_valor = pd.read_csv(\"../csv_results/Variaciones_Valor_Mensual.csv\")\n",
    "\n",
    "#Delete unnecesary columns in the Incidentes geopoliticos DB\n",
    "del Incidentes_geopoliticos[\"Unnamed: 0\"]\n",
    "del Variaciones_valor['Unnamed: 0']\n",
    "\n",
    "#Delete unnecesary columns in the Expotaciones_netas DB\n",
    "Exportaciones_netas = Exportaciones_netas.drop(columns=[\"Unnamed: 0\", \"Exp_notes\", 'Imp_notes'])\n",
    "\n",
    "#Delete unnecesary columns in the Terrorismo DB\n",
    "Terrorismo = Terrorismo.drop(columns=['Unnamed: 0', 'imonth', 'approxdate', 'targtype1', 'targsubtype1', 'doubtterr', 'alternative', 'propextent'])\n"
   ]
  },
  {
   "cell_type": "code",
   "execution_count": 3,
   "metadata": {},
   "outputs": [
    {
     "output_type": "execute_result",
     "data": {
      "text/plain": [
       "{'var': ['Burma', 'Congo-Brazzaville', 'Congo-Kinshasa', 'Russia', 'Yemen'],\n",
       " 'exp': ['Brunei Darussalam',\n",
       "  'Bolivia, Plurinational State of',\n",
       "  'Iran, Islamic Republic of',\n",
       "  'Myanmar',\n",
       "  'Russian Federation',\n",
       "  'Venezuela, Bolivarian Republic of',\n",
       "  'Viet Nam',\n",
       "  'Yemen'],\n",
       " 'inc': ['Congo', 'DR Congo (Zaire)'],\n",
       " 'ter': ['Myanmar', 'Yemen', 'Russia']}"
      ]
     },
     "metadata": {},
     "execution_count": 3
    }
   ],
   "source": [
    "###Create a list with definitive countries names \n",
    "#Problematic countries names are marked with a variant in parenthesis\n",
    "countries = ['Albania','Algeria','Angola','Argentina','Azerbaijan','Benin','Bolivia','Brazil','Brunei','Cameroon','Canada','China','Colombia','Republic of the Congo', 'Democratic Republic of the Congo', 'Denmark','Ecuador','Egypt','Estonia','Gabon','Georgia','Ghana','Guatemala','Indonesia','Iran','Iraq','Kazakhstan','Kuwait','Kyrgyzstan','Libya','Malaysia','Mexico','Mongolia', 'Myanmar (Burma)','Nigeria','Norway','Oman','Qatar','Russia (Soviet Union)','Saudi Arabia','South Sudan','Sudan','Trinidad and Tobago','Tunisia','Turkmenistan','United Arab Emirates','United Kingdom','Venezuela','Vietnam','Yemen (North Yemen)']\n",
    "\n",
    "#### Create a dictionary of countries names who may be replaced\n",
    "#First create a dictionary with countries in each db\n",
    "db_countries = { \"var\" : Variaciones_valor[\"Country\"].unique().tolist(),\n",
    "                \"exp\" : Exportaciones_netas['Country'].unique().tolist(),\n",
    "                \"inc\" : Incidentes_geopoliticos['country'].unique().tolist(),\n",
    "                \"ter\" : Terrorismo['country_txt'].unique().tolist() }\n",
    "\n",
    "#Then for each db_list check which countries do not match with our list and put them in a dictionary\n",
    "to_change = {'var' : [x for x in db_countries[\"var\"] if x not in countries], \n",
    "                    'exp' : [x for x in db_countries[\"exp\"] if x not in countries],\n",
    "                    'inc' : [x for x in db_countries[\"inc\"] if x not in countries],\n",
    "                    'ter' : [x for x in db_countries[\"ter\"] if x not in countries] }\n",
    "\n",
    "#Print the dictionary in order to find which names need to be replaced\n",
    "to_change"
   ]
  },
  {
   "cell_type": "code",
   "execution_count": 4,
   "metadata": {},
   "outputs": [],
   "source": [
    "#Now replace the names in each db\n",
    "#Exportaciones netas\n",
    "Exportaciones_netas[\"Country\"] = Exportaciones_netas[\"Country\"].replace({'Brunei Darussalam' : 'Brunei',\n",
    "  'Bolivia, Plurinational State of' : 'Bolivia',\n",
    "  'Iran, Islamic Republic of' : 'Iran' ,\n",
    "  'Myanmar' : 'Myanmar (Burma)',\n",
    "  'Russian Federation' : 'Russia (Soviet Union)',\n",
    "  'Venezuela, Bolivarian Republic of' : 'Venezuela',\n",
    "  'Viet Nam' : 'Vietnam',\n",
    "  'Yemen' : 'Yemen (North Yemen)'}) \n",
    "\n",
    "#Incidentes geopoliticos\n",
    "Incidentes_geopoliticos[\"country\"] = Incidentes_geopoliticos[\"country\"].replace({'Congo' : 'Republic of the Congo', 'DR Congo (Zaire)' : 'Democratic Republic of the Congo'})\n",
    "\n",
    "#Terrorismo\n",
    "Terrorismo[\"country_txt\"] = Terrorismo[\"country_txt\"].replace({'Myanmar' : 'Myanmar (Burma)', 'Yemen' : 'Yemen (North Yemen)' , 'Russia' : 'Russia (Soviet Union)', 'South Vietnam' : 'Vietnam' })\n",
    "\n",
    "#Variaciones en el valor \n",
    "Variaciones_valor[\"Country\"] = Variaciones_valor[\"Country\"].replace({'Burma' : 'Myanmar (Burma)', 'Congo-Brazzaville' : 'Republic of the Congo', 'Congo-Kinshasa' : 'Democratic Republic of the Congo', 'Russia' : 'Russia (Soviet Union)' , 'Yemen' : 'Yemen (North Yemen)'})"
   ]
  },
  {
   "cell_type": "code",
   "execution_count": 5,
   "metadata": {},
   "outputs": [],
   "source": [
    "#Create a version of each DB with selected data\n",
    "#Sum of succesful terrorism acts, people wounded and killed, and damage of proerty in dollars\n",
    "Terrorismo = Terrorismo[['period', 'country_txt',  'targtype1_txt', \"success\", \"nkill\", \"nwound\", 'propvalue', \"latitude\",\t\"longitude\"]]\n",
    "Terrorismo = Terrorismo.rename(columns={'period' : \"Period\", 'country_txt' : \"Country\",  'targtype1_txt': \"Targe_type\", \"success\" : \"Success\", \"nkill\" : \"Kills\", \"nwound\" : \"Wounded\", 'propvalue' : \"Property_damage_value\"})\n",
    "\n",
    "#Sum of values from each period\n",
    "Valores = Variaciones_valor[['Period', 'Country', 'Crude', 'NGPL', 'Others', 'Refinery']]\n",
    "Valores = Valores.rename(columns={'Crude' : 'Value_Crude', 'NGPL' : 'Val_NGPL' , 'Others' : 'Val_Others', \"Refinery\" : 'Val_Refinery'})\n",
    "\n",
    "#count how many incidentes and how many victimes were in the period\n",
    "Incidentes = Incidentes_geopoliticos[['Start_month', 'country', 'conflict_name', 'best', \"latitude\", \"longitude\"]]\n",
    "Incidentes = Incidentes.rename(columns={'Start_month' : \"Period\", 'country' : \"Country\", \"best\" : \"Victims\" })\n",
    "\n",
    "#Sum how many net barrels were exported in the period\n",
    "Exportaciones = Exportaciones_netas[[ \"Month\", \"Country\", 'Exports (kb/d)', 'Imports (kb/d)', 'Net_Exports']]\n",
    "Exportaciones = Exportaciones.rename(columns={\"Month\" : \"Period\"})"
   ]
  },
  {
   "cell_type": "code",
   "execution_count": 6,
   "metadata": {},
   "outputs": [
    {
     "output_type": "execute_result",
     "data": {
      "text/plain": [
       "Index(['Country', 'Month', 'Exports (kb/d)', 'Imports (kb/d)', 'Net_Exports'], dtype='object')"
      ]
     },
     "metadata": {},
     "execution_count": 6
    }
   ],
   "source": [
    "Exportaciones_netas.columns"
   ]
  },
  {
   "cell_type": "code",
   "execution_count": 72,
   "metadata": {},
   "outputs": [
    {
     "output_type": "stream",
     "name": "stdout",
     "text": [
      "21282\n69585\n85604\n"
     ]
    }
   ],
   "source": [
    "dbs = [Exportaciones, Valores, Incidentes, Terrorismo]\n",
    "\n",
    "\n",
    "tableau = pd.merge(Exportaciones, Valores, on=['Period', 'Country'], how=\"outer\")\n",
    "print(len(tableau))\n",
    "tableau = pd.merge(tableau, Incidentes, on=['Period', 'Country'], how=\"outer\")\n",
    "print(len(tableau))\n",
    "tableau = pd.merge(tableau, Terrorismo, on=['Period', 'Country'], how=\"outer\")\n",
    "print(len(tableau))\n",
    "#The problem with merge is that it is inner, and i need outer\n",
    "\n",
    "##COn join me da errores porque no coinciden los indices... debo ver como hacer un outer join con merge\n",
    "\n",
    "#tableau = Exportaciones.join(Valores, on=['Period', 'Country'])\n",
    "#tableau = tableau.join(Incidentes, on=['Period', 'Country'])\n",
    "#tableau = tableau.join(Terrorismo, on=['Period', 'Country'])\n",
    "\n",
    "#dbs = [Exportaciones, Valores, Incidentes, Terrorismo]"
   ]
  },
  {
   "source": [
    "# Next Steps\n",
    "\n",
    "- Probrar la mejor manera de hacer un merge de cada una de las bases de datos\n",
    "- "
   ],
   "cell_type": "markdown",
   "metadata": {}
  },
  {
   "cell_type": "code",
   "execution_count": 74,
   "metadata": {},
   "outputs": [
    {
     "output_type": "execute_result",
     "data": {
      "text/plain": [
       "        Period                Country  Exports (kb/d)  Imports (kb/d)  \\\n",
       "85456  1972-01                 Kuwait             NaN             NaN   \n",
       "85458  1972-08                   Iran             NaN             NaN   \n",
       "85457  1972-08                   Iran             NaN             NaN   \n",
       "80637  1973-01   United Arab Emirates             NaN             NaN   \n",
       "72751  1973-01                   Iran             NaN             NaN   \n",
       "70905  1973-01                  Gabon             NaN             NaN   \n",
       "81446  1973-01              Venezuela             NaN             NaN   \n",
       "78065  1973-01           Saudi Arabia             NaN             NaN   \n",
       "54090  1973-01                Algeria             NaN             NaN   \n",
       "70153  1973-01                  Egypt             NaN             NaN   \n",
       "56637  1973-01                 Angola             NaN             NaN   \n",
       "73165  1973-01                   Iraq             NaN             NaN   \n",
       "75828  1973-01                Nigeria             NaN             NaN   \n",
       "76322  1973-01                 Norway             NaN             NaN   \n",
       "69803  1973-01                Ecuador             NaN             NaN   \n",
       "74672  1973-01                  Libya             NaN             NaN   \n",
       "73924  1973-01                 Kuwait             NaN             NaN   \n",
       "64698  1973-01  Republic of the Congo             NaN             NaN   \n",
       "61969  1973-01                  China             NaN             NaN   \n",
       "61606  1973-01                 Canada             NaN             NaN   \n",
       "76886  1973-01  Russia (Soviet Union)             NaN             NaN   \n",
       "80985  1973-01         United Kingdom             NaN             NaN   \n",
       "75128  1973-01                 Mexico             NaN             NaN   \n",
       "80638  1973-02   United Arab Emirates             NaN             NaN   \n",
       "80986  1973-02         United Kingdom             NaN             NaN   \n",
       "70154  1973-02                  Egypt             NaN             NaN   \n",
       "76887  1973-02  Russia (Soviet Union)             NaN             NaN   \n",
       "73925  1973-02                 Kuwait             NaN             NaN   \n",
       "69804  1973-02                Ecuador             NaN             NaN   \n",
       "75829  1973-02                Nigeria             NaN             NaN   \n",
       "\n",
       "       Net_Exports     Crude        NGPL  Others    Refinery conflict_name  \\\n",
       "85456          NaN       NaN         NaN     NaN         NaN           NaN   \n",
       "85458          NaN       NaN         NaN     NaN         NaN           NaN   \n",
       "85457          NaN       NaN         NaN     NaN         NaN           NaN   \n",
       "80637          NaN  1416.000         NaN     NaN         NaN           NaN   \n",
       "72751          NaN  5808.000   35.000000   0.000   -1.289000           NaN   \n",
       "70905          NaN   150.000   60.000000   0.000    2.000000           NaN   \n",
       "81446          NaN  3272.000         NaN     NaN         NaN           NaN   \n",
       "78065          NaN  6876.000         NaN     NaN         NaN           NaN   \n",
       "54090          NaN  1142.000  145.000000   0.000   -0.600000           NaN   \n",
       "70153          NaN   192.998    0.000000   0.000    0.477410           NaN   \n",
       "56637          NaN   162.000   12.000000   0.000   -0.631000           NaN   \n",
       "73165          NaN  1527.000  322.000000   0.103   29.204000           NaN   \n",
       "75828          NaN  1936.000    3.000000   0.000   -0.416000           NaN   \n",
       "76322          NaN    36.773  160.000000   0.000    8.200000           NaN   \n",
       "69803          NaN   230.000    0.000000   0.000   -0.581000           NaN   \n",
       "74672          NaN  2293.000  200.000000   0.000  -28.000000           NaN   \n",
       "73924          NaN  3768.000  154.827649   0.000    8.410677           NaN   \n",
       "64698          NaN    35.000    0.000000   5.965    2.388000           NaN   \n",
       "61969          NaN  1012.000   12.000000   0.000    0.000000           NaN   \n",
       "61606          NaN  1778.000    2.000000  81.500  178.894000           NaN   \n",
       "76886          NaN       NaN    5.000000   1.217    8.000000           NaN   \n",
       "80985          NaN     2.000         NaN     NaN         NaN           NaN   \n",
       "75128          NaN   453.000    0.000000   0.000    0.000000           NaN   \n",
       "80638          NaN  1597.000         NaN     NaN         NaN           NaN   \n",
       "80986          NaN     2.000         NaN     NaN         NaN           NaN   \n",
       "70154          NaN   191.087    0.000000   0.000    0.477410           NaN   \n",
       "76887          NaN       NaN    5.000000   1.217    8.000000           NaN   \n",
       "73925          NaN  3340.000  189.809629   0.000    8.410677           NaN   \n",
       "69804          NaN   230.000    0.000000   0.000   -0.581000           NaN   \n",
       "75829          NaN  1944.000    3.000000   0.000   -0.416000           NaN   \n",
       "\n",
       "       Victims  latitude_x  longitude_x Targe_type  Success  Kills  Wounded  \\\n",
       "85456      NaN         NaN          NaN   Business      1.0    0.0      0.0   \n",
       "85458      NaN         NaN          NaN  Utilities      0.0    0.0      0.0   \n",
       "85457      NaN         NaN          NaN   Business      0.0    0.0      0.0   \n",
       "80637      NaN         NaN          NaN        NaN      NaN    NaN      NaN   \n",
       "72751      NaN         NaN          NaN        NaN      NaN    NaN      NaN   \n",
       "70905      NaN         NaN          NaN        NaN      NaN    NaN      NaN   \n",
       "81446      NaN         NaN          NaN        NaN      NaN    NaN      NaN   \n",
       "78065      NaN         NaN          NaN        NaN      NaN    NaN      NaN   \n",
       "54090      NaN         NaN          NaN        NaN      NaN    NaN      NaN   \n",
       "70153      NaN         NaN          NaN        NaN      NaN    NaN      NaN   \n",
       "56637      NaN         NaN          NaN        NaN      NaN    NaN      NaN   \n",
       "73165      NaN         NaN          NaN        NaN      NaN    NaN      NaN   \n",
       "75828      NaN         NaN          NaN        NaN      NaN    NaN      NaN   \n",
       "76322      NaN         NaN          NaN        NaN      NaN    NaN      NaN   \n",
       "69803      NaN         NaN          NaN        NaN      NaN    NaN      NaN   \n",
       "74672      NaN         NaN          NaN        NaN      NaN    NaN      NaN   \n",
       "73924      NaN         NaN          NaN        NaN      NaN    NaN      NaN   \n",
       "64698      NaN         NaN          NaN        NaN      NaN    NaN      NaN   \n",
       "61969      NaN         NaN          NaN        NaN      NaN    NaN      NaN   \n",
       "61606      NaN         NaN          NaN        NaN      NaN    NaN      NaN   \n",
       "76886      NaN         NaN          NaN        NaN      NaN    NaN      NaN   \n",
       "80985      NaN         NaN          NaN        NaN      NaN    NaN      NaN   \n",
       "75128      NaN         NaN          NaN        NaN      NaN    NaN      NaN   \n",
       "80638      NaN         NaN          NaN        NaN      NaN    NaN      NaN   \n",
       "80986      NaN         NaN          NaN        NaN      NaN    NaN      NaN   \n",
       "70154      NaN         NaN          NaN        NaN      NaN    NaN      NaN   \n",
       "76887      NaN         NaN          NaN        NaN      NaN    NaN      NaN   \n",
       "73925      NaN         NaN          NaN        NaN      NaN    NaN      NaN   \n",
       "69804      NaN         NaN          NaN        NaN      NaN    NaN      NaN   \n",
       "75829      NaN         NaN          NaN        NaN      NaN    NaN      NaN   \n",
       "\n",
       "       Property_damage_value  latitude_y  longitude_y  \n",
       "85456                    NaN         NaN          NaN  \n",
       "85458                    NaN   30.345997    48.287136  \n",
       "85457                    NaN   35.724533    51.405190  \n",
       "80637                    NaN         NaN          NaN  \n",
       "72751                    NaN         NaN          NaN  \n",
       "70905                    NaN         NaN          NaN  \n",
       "81446                    NaN         NaN          NaN  \n",
       "78065                    NaN         NaN          NaN  \n",
       "54090                    NaN         NaN          NaN  \n",
       "70153                    NaN         NaN          NaN  \n",
       "56637                    NaN         NaN          NaN  \n",
       "73165                    NaN         NaN          NaN  \n",
       "75828                    NaN         NaN          NaN  \n",
       "76322                    NaN         NaN          NaN  \n",
       "69803                    NaN         NaN          NaN  \n",
       "74672                    NaN         NaN          NaN  \n",
       "73924                    NaN         NaN          NaN  \n",
       "64698                    NaN         NaN          NaN  \n",
       "61969                    NaN         NaN          NaN  \n",
       "61606                    NaN         NaN          NaN  \n",
       "76886                    NaN         NaN          NaN  \n",
       "80985                    NaN         NaN          NaN  \n",
       "75128                    NaN         NaN          NaN  \n",
       "80638                    NaN         NaN          NaN  \n",
       "80986                    NaN         NaN          NaN  \n",
       "70154                    NaN         NaN          NaN  \n",
       "76887                    NaN         NaN          NaN  \n",
       "73925                    NaN         NaN          NaN  \n",
       "69804                    NaN         NaN          NaN  \n",
       "75829                    NaN         NaN          NaN  "
      ],
      "text/html": "<div>\n<style scoped>\n    .dataframe tbody tr th:only-of-type {\n        vertical-align: middle;\n    }\n\n    .dataframe tbody tr th {\n        vertical-align: top;\n    }\n\n    .dataframe thead th {\n        text-align: right;\n    }\n</style>\n<table border=\"1\" class=\"dataframe\">\n  <thead>\n    <tr style=\"text-align: right;\">\n      <th></th>\n      <th>Period</th>\n      <th>Country</th>\n      <th>Exports (kb/d)</th>\n      <th>Imports (kb/d)</th>\n      <th>Net_Exports</th>\n      <th>Crude</th>\n      <th>NGPL</th>\n      <th>Others</th>\n      <th>Refinery</th>\n      <th>conflict_name</th>\n      <th>Victims</th>\n      <th>latitude_x</th>\n      <th>longitude_x</th>\n      <th>Targe_type</th>\n      <th>Success</th>\n      <th>Kills</th>\n      <th>Wounded</th>\n      <th>Property_damage_value</th>\n      <th>latitude_y</th>\n      <th>longitude_y</th>\n    </tr>\n  </thead>\n  <tbody>\n    <tr>\n      <th>85456</th>\n      <td>1972-01</td>\n      <td>Kuwait</td>\n      <td>NaN</td>\n      <td>NaN</td>\n      <td>NaN</td>\n      <td>NaN</td>\n      <td>NaN</td>\n      <td>NaN</td>\n      <td>NaN</td>\n      <td>NaN</td>\n      <td>NaN</td>\n      <td>NaN</td>\n      <td>NaN</td>\n      <td>Business</td>\n      <td>1.0</td>\n      <td>0.0</td>\n      <td>0.0</td>\n      <td>NaN</td>\n      <td>NaN</td>\n      <td>NaN</td>\n    </tr>\n    <tr>\n      <th>85458</th>\n      <td>1972-08</td>\n      <td>Iran</td>\n      <td>NaN</td>\n      <td>NaN</td>\n      <td>NaN</td>\n      <td>NaN</td>\n      <td>NaN</td>\n      <td>NaN</td>\n      <td>NaN</td>\n      <td>NaN</td>\n      <td>NaN</td>\n      <td>NaN</td>\n      <td>NaN</td>\n      <td>Utilities</td>\n      <td>0.0</td>\n      <td>0.0</td>\n      <td>0.0</td>\n      <td>NaN</td>\n      <td>30.345997</td>\n      <td>48.287136</td>\n    </tr>\n    <tr>\n      <th>85457</th>\n      <td>1972-08</td>\n      <td>Iran</td>\n      <td>NaN</td>\n      <td>NaN</td>\n      <td>NaN</td>\n      <td>NaN</td>\n      <td>NaN</td>\n      <td>NaN</td>\n      <td>NaN</td>\n      <td>NaN</td>\n      <td>NaN</td>\n      <td>NaN</td>\n      <td>NaN</td>\n      <td>Business</td>\n      <td>0.0</td>\n      <td>0.0</td>\n      <td>0.0</td>\n      <td>NaN</td>\n      <td>35.724533</td>\n      <td>51.405190</td>\n    </tr>\n    <tr>\n      <th>80637</th>\n      <td>1973-01</td>\n      <td>United Arab Emirates</td>\n      <td>NaN</td>\n      <td>NaN</td>\n      <td>NaN</td>\n      <td>1416.000</td>\n      <td>NaN</td>\n      <td>NaN</td>\n      <td>NaN</td>\n      <td>NaN</td>\n      <td>NaN</td>\n      <td>NaN</td>\n      <td>NaN</td>\n      <td>NaN</td>\n      <td>NaN</td>\n      <td>NaN</td>\n      <td>NaN</td>\n      <td>NaN</td>\n      <td>NaN</td>\n      <td>NaN</td>\n    </tr>\n    <tr>\n      <th>72751</th>\n      <td>1973-01</td>\n      <td>Iran</td>\n      <td>NaN</td>\n      <td>NaN</td>\n      <td>NaN</td>\n      <td>5808.000</td>\n      <td>35.000000</td>\n      <td>0.000</td>\n      <td>-1.289000</td>\n      <td>NaN</td>\n      <td>NaN</td>\n      <td>NaN</td>\n      <td>NaN</td>\n      <td>NaN</td>\n      <td>NaN</td>\n      <td>NaN</td>\n      <td>NaN</td>\n      <td>NaN</td>\n      <td>NaN</td>\n      <td>NaN</td>\n    </tr>\n    <tr>\n      <th>70905</th>\n      <td>1973-01</td>\n      <td>Gabon</td>\n      <td>NaN</td>\n      <td>NaN</td>\n      <td>NaN</td>\n      <td>150.000</td>\n      <td>60.000000</td>\n      <td>0.000</td>\n      <td>2.000000</td>\n      <td>NaN</td>\n      <td>NaN</td>\n      <td>NaN</td>\n      <td>NaN</td>\n      <td>NaN</td>\n      <td>NaN</td>\n      <td>NaN</td>\n      <td>NaN</td>\n      <td>NaN</td>\n      <td>NaN</td>\n      <td>NaN</td>\n    </tr>\n    <tr>\n      <th>81446</th>\n      <td>1973-01</td>\n      <td>Venezuela</td>\n      <td>NaN</td>\n      <td>NaN</td>\n      <td>NaN</td>\n      <td>3272.000</td>\n      <td>NaN</td>\n      <td>NaN</td>\n      <td>NaN</td>\n      <td>NaN</td>\n      <td>NaN</td>\n      <td>NaN</td>\n      <td>NaN</td>\n      <td>NaN</td>\n      <td>NaN</td>\n      <td>NaN</td>\n      <td>NaN</td>\n      <td>NaN</td>\n      <td>NaN</td>\n      <td>NaN</td>\n    </tr>\n    <tr>\n      <th>78065</th>\n      <td>1973-01</td>\n      <td>Saudi Arabia</td>\n      <td>NaN</td>\n      <td>NaN</td>\n      <td>NaN</td>\n      <td>6876.000</td>\n      <td>NaN</td>\n      <td>NaN</td>\n      <td>NaN</td>\n      <td>NaN</td>\n      <td>NaN</td>\n      <td>NaN</td>\n      <td>NaN</td>\n      <td>NaN</td>\n      <td>NaN</td>\n      <td>NaN</td>\n      <td>NaN</td>\n      <td>NaN</td>\n      <td>NaN</td>\n      <td>NaN</td>\n    </tr>\n    <tr>\n      <th>54090</th>\n      <td>1973-01</td>\n      <td>Algeria</td>\n      <td>NaN</td>\n      <td>NaN</td>\n      <td>NaN</td>\n      <td>1142.000</td>\n      <td>145.000000</td>\n      <td>0.000</td>\n      <td>-0.600000</td>\n      <td>NaN</td>\n      <td>NaN</td>\n      <td>NaN</td>\n      <td>NaN</td>\n      <td>NaN</td>\n      <td>NaN</td>\n      <td>NaN</td>\n      <td>NaN</td>\n      <td>NaN</td>\n      <td>NaN</td>\n      <td>NaN</td>\n    </tr>\n    <tr>\n      <th>70153</th>\n      <td>1973-01</td>\n      <td>Egypt</td>\n      <td>NaN</td>\n      <td>NaN</td>\n      <td>NaN</td>\n      <td>192.998</td>\n      <td>0.000000</td>\n      <td>0.000</td>\n      <td>0.477410</td>\n      <td>NaN</td>\n      <td>NaN</td>\n      <td>NaN</td>\n      <td>NaN</td>\n      <td>NaN</td>\n      <td>NaN</td>\n      <td>NaN</td>\n      <td>NaN</td>\n      <td>NaN</td>\n      <td>NaN</td>\n      <td>NaN</td>\n    </tr>\n    <tr>\n      <th>56637</th>\n      <td>1973-01</td>\n      <td>Angola</td>\n      <td>NaN</td>\n      <td>NaN</td>\n      <td>NaN</td>\n      <td>162.000</td>\n      <td>12.000000</td>\n      <td>0.000</td>\n      <td>-0.631000</td>\n      <td>NaN</td>\n      <td>NaN</td>\n      <td>NaN</td>\n      <td>NaN</td>\n      <td>NaN</td>\n      <td>NaN</td>\n      <td>NaN</td>\n      <td>NaN</td>\n      <td>NaN</td>\n      <td>NaN</td>\n      <td>NaN</td>\n    </tr>\n    <tr>\n      <th>73165</th>\n      <td>1973-01</td>\n      <td>Iraq</td>\n      <td>NaN</td>\n      <td>NaN</td>\n      <td>NaN</td>\n      <td>1527.000</td>\n      <td>322.000000</td>\n      <td>0.103</td>\n      <td>29.204000</td>\n      <td>NaN</td>\n      <td>NaN</td>\n      <td>NaN</td>\n      <td>NaN</td>\n      <td>NaN</td>\n      <td>NaN</td>\n      <td>NaN</td>\n      <td>NaN</td>\n      <td>NaN</td>\n      <td>NaN</td>\n      <td>NaN</td>\n    </tr>\n    <tr>\n      <th>75828</th>\n      <td>1973-01</td>\n      <td>Nigeria</td>\n      <td>NaN</td>\n      <td>NaN</td>\n      <td>NaN</td>\n      <td>1936.000</td>\n      <td>3.000000</td>\n      <td>0.000</td>\n      <td>-0.416000</td>\n      <td>NaN</td>\n      <td>NaN</td>\n      <td>NaN</td>\n      <td>NaN</td>\n      <td>NaN</td>\n      <td>NaN</td>\n      <td>NaN</td>\n      <td>NaN</td>\n      <td>NaN</td>\n      <td>NaN</td>\n      <td>NaN</td>\n    </tr>\n    <tr>\n      <th>76322</th>\n      <td>1973-01</td>\n      <td>Norway</td>\n      <td>NaN</td>\n      <td>NaN</td>\n      <td>NaN</td>\n      <td>36.773</td>\n      <td>160.000000</td>\n      <td>0.000</td>\n      <td>8.200000</td>\n      <td>NaN</td>\n      <td>NaN</td>\n      <td>NaN</td>\n      <td>NaN</td>\n      <td>NaN</td>\n      <td>NaN</td>\n      <td>NaN</td>\n      <td>NaN</td>\n      <td>NaN</td>\n      <td>NaN</td>\n      <td>NaN</td>\n    </tr>\n    <tr>\n      <th>69803</th>\n      <td>1973-01</td>\n      <td>Ecuador</td>\n      <td>NaN</td>\n      <td>NaN</td>\n      <td>NaN</td>\n      <td>230.000</td>\n      <td>0.000000</td>\n      <td>0.000</td>\n      <td>-0.581000</td>\n      <td>NaN</td>\n      <td>NaN</td>\n      <td>NaN</td>\n      <td>NaN</td>\n      <td>NaN</td>\n      <td>NaN</td>\n      <td>NaN</td>\n      <td>NaN</td>\n      <td>NaN</td>\n      <td>NaN</td>\n      <td>NaN</td>\n    </tr>\n    <tr>\n      <th>74672</th>\n      <td>1973-01</td>\n      <td>Libya</td>\n      <td>NaN</td>\n      <td>NaN</td>\n      <td>NaN</td>\n      <td>2293.000</td>\n      <td>200.000000</td>\n      <td>0.000</td>\n      <td>-28.000000</td>\n      <td>NaN</td>\n      <td>NaN</td>\n      <td>NaN</td>\n      <td>NaN</td>\n      <td>NaN</td>\n      <td>NaN</td>\n      <td>NaN</td>\n      <td>NaN</td>\n      <td>NaN</td>\n      <td>NaN</td>\n      <td>NaN</td>\n    </tr>\n    <tr>\n      <th>73924</th>\n      <td>1973-01</td>\n      <td>Kuwait</td>\n      <td>NaN</td>\n      <td>NaN</td>\n      <td>NaN</td>\n      <td>3768.000</td>\n      <td>154.827649</td>\n      <td>0.000</td>\n      <td>8.410677</td>\n      <td>NaN</td>\n      <td>NaN</td>\n      <td>NaN</td>\n      <td>NaN</td>\n      <td>NaN</td>\n      <td>NaN</td>\n      <td>NaN</td>\n      <td>NaN</td>\n      <td>NaN</td>\n      <td>NaN</td>\n      <td>NaN</td>\n    </tr>\n    <tr>\n      <th>64698</th>\n      <td>1973-01</td>\n      <td>Republic of the Congo</td>\n      <td>NaN</td>\n      <td>NaN</td>\n      <td>NaN</td>\n      <td>35.000</td>\n      <td>0.000000</td>\n      <td>5.965</td>\n      <td>2.388000</td>\n      <td>NaN</td>\n      <td>NaN</td>\n      <td>NaN</td>\n      <td>NaN</td>\n      <td>NaN</td>\n      <td>NaN</td>\n      <td>NaN</td>\n      <td>NaN</td>\n      <td>NaN</td>\n      <td>NaN</td>\n      <td>NaN</td>\n    </tr>\n    <tr>\n      <th>61969</th>\n      <td>1973-01</td>\n      <td>China</td>\n      <td>NaN</td>\n      <td>NaN</td>\n      <td>NaN</td>\n      <td>1012.000</td>\n      <td>12.000000</td>\n      <td>0.000</td>\n      <td>0.000000</td>\n      <td>NaN</td>\n      <td>NaN</td>\n      <td>NaN</td>\n      <td>NaN</td>\n      <td>NaN</td>\n      <td>NaN</td>\n      <td>NaN</td>\n      <td>NaN</td>\n      <td>NaN</td>\n      <td>NaN</td>\n      <td>NaN</td>\n    </tr>\n    <tr>\n      <th>61606</th>\n      <td>1973-01</td>\n      <td>Canada</td>\n      <td>NaN</td>\n      <td>NaN</td>\n      <td>NaN</td>\n      <td>1778.000</td>\n      <td>2.000000</td>\n      <td>81.500</td>\n      <td>178.894000</td>\n      <td>NaN</td>\n      <td>NaN</td>\n      <td>NaN</td>\n      <td>NaN</td>\n      <td>NaN</td>\n      <td>NaN</td>\n      <td>NaN</td>\n      <td>NaN</td>\n      <td>NaN</td>\n      <td>NaN</td>\n      <td>NaN</td>\n    </tr>\n    <tr>\n      <th>76886</th>\n      <td>1973-01</td>\n      <td>Russia (Soviet Union)</td>\n      <td>NaN</td>\n      <td>NaN</td>\n      <td>NaN</td>\n      <td>NaN</td>\n      <td>5.000000</td>\n      <td>1.217</td>\n      <td>8.000000</td>\n      <td>NaN</td>\n      <td>NaN</td>\n      <td>NaN</td>\n      <td>NaN</td>\n      <td>NaN</td>\n      <td>NaN</td>\n      <td>NaN</td>\n      <td>NaN</td>\n      <td>NaN</td>\n      <td>NaN</td>\n      <td>NaN</td>\n    </tr>\n    <tr>\n      <th>80985</th>\n      <td>1973-01</td>\n      <td>United Kingdom</td>\n      <td>NaN</td>\n      <td>NaN</td>\n      <td>NaN</td>\n      <td>2.000</td>\n      <td>NaN</td>\n      <td>NaN</td>\n      <td>NaN</td>\n      <td>NaN</td>\n      <td>NaN</td>\n      <td>NaN</td>\n      <td>NaN</td>\n      <td>NaN</td>\n      <td>NaN</td>\n      <td>NaN</td>\n      <td>NaN</td>\n      <td>NaN</td>\n      <td>NaN</td>\n      <td>NaN</td>\n    </tr>\n    <tr>\n      <th>75128</th>\n      <td>1973-01</td>\n      <td>Mexico</td>\n      <td>NaN</td>\n      <td>NaN</td>\n      <td>NaN</td>\n      <td>453.000</td>\n      <td>0.000000</td>\n      <td>0.000</td>\n      <td>0.000000</td>\n      <td>NaN</td>\n      <td>NaN</td>\n      <td>NaN</td>\n      <td>NaN</td>\n      <td>NaN</td>\n      <td>NaN</td>\n      <td>NaN</td>\n      <td>NaN</td>\n      <td>NaN</td>\n      <td>NaN</td>\n      <td>NaN</td>\n    </tr>\n    <tr>\n      <th>80638</th>\n      <td>1973-02</td>\n      <td>United Arab Emirates</td>\n      <td>NaN</td>\n      <td>NaN</td>\n      <td>NaN</td>\n      <td>1597.000</td>\n      <td>NaN</td>\n      <td>NaN</td>\n      <td>NaN</td>\n      <td>NaN</td>\n      <td>NaN</td>\n      <td>NaN</td>\n      <td>NaN</td>\n      <td>NaN</td>\n      <td>NaN</td>\n      <td>NaN</td>\n      <td>NaN</td>\n      <td>NaN</td>\n      <td>NaN</td>\n      <td>NaN</td>\n    </tr>\n    <tr>\n      <th>80986</th>\n      <td>1973-02</td>\n      <td>United Kingdom</td>\n      <td>NaN</td>\n      <td>NaN</td>\n      <td>NaN</td>\n      <td>2.000</td>\n      <td>NaN</td>\n      <td>NaN</td>\n      <td>NaN</td>\n      <td>NaN</td>\n      <td>NaN</td>\n      <td>NaN</td>\n      <td>NaN</td>\n      <td>NaN</td>\n      <td>NaN</td>\n      <td>NaN</td>\n      <td>NaN</td>\n      <td>NaN</td>\n      <td>NaN</td>\n      <td>NaN</td>\n    </tr>\n    <tr>\n      <th>70154</th>\n      <td>1973-02</td>\n      <td>Egypt</td>\n      <td>NaN</td>\n      <td>NaN</td>\n      <td>NaN</td>\n      <td>191.087</td>\n      <td>0.000000</td>\n      <td>0.000</td>\n      <td>0.477410</td>\n      <td>NaN</td>\n      <td>NaN</td>\n      <td>NaN</td>\n      <td>NaN</td>\n      <td>NaN</td>\n      <td>NaN</td>\n      <td>NaN</td>\n      <td>NaN</td>\n      <td>NaN</td>\n      <td>NaN</td>\n      <td>NaN</td>\n    </tr>\n    <tr>\n      <th>76887</th>\n      <td>1973-02</td>\n      <td>Russia (Soviet Union)</td>\n      <td>NaN</td>\n      <td>NaN</td>\n      <td>NaN</td>\n      <td>NaN</td>\n      <td>5.000000</td>\n      <td>1.217</td>\n      <td>8.000000</td>\n      <td>NaN</td>\n      <td>NaN</td>\n      <td>NaN</td>\n      <td>NaN</td>\n      <td>NaN</td>\n      <td>NaN</td>\n      <td>NaN</td>\n      <td>NaN</td>\n      <td>NaN</td>\n      <td>NaN</td>\n      <td>NaN</td>\n    </tr>\n    <tr>\n      <th>73925</th>\n      <td>1973-02</td>\n      <td>Kuwait</td>\n      <td>NaN</td>\n      <td>NaN</td>\n      <td>NaN</td>\n      <td>3340.000</td>\n      <td>189.809629</td>\n      <td>0.000</td>\n      <td>8.410677</td>\n      <td>NaN</td>\n      <td>NaN</td>\n      <td>NaN</td>\n      <td>NaN</td>\n      <td>NaN</td>\n      <td>NaN</td>\n      <td>NaN</td>\n      <td>NaN</td>\n      <td>NaN</td>\n      <td>NaN</td>\n      <td>NaN</td>\n    </tr>\n    <tr>\n      <th>69804</th>\n      <td>1973-02</td>\n      <td>Ecuador</td>\n      <td>NaN</td>\n      <td>NaN</td>\n      <td>NaN</td>\n      <td>230.000</td>\n      <td>0.000000</td>\n      <td>0.000</td>\n      <td>-0.581000</td>\n      <td>NaN</td>\n      <td>NaN</td>\n      <td>NaN</td>\n      <td>NaN</td>\n      <td>NaN</td>\n      <td>NaN</td>\n      <td>NaN</td>\n      <td>NaN</td>\n      <td>NaN</td>\n      <td>NaN</td>\n      <td>NaN</td>\n    </tr>\n    <tr>\n      <th>75829</th>\n      <td>1973-02</td>\n      <td>Nigeria</td>\n      <td>NaN</td>\n      <td>NaN</td>\n      <td>NaN</td>\n      <td>1944.000</td>\n      <td>3.000000</td>\n      <td>0.000</td>\n      <td>-0.416000</td>\n      <td>NaN</td>\n      <td>NaN</td>\n      <td>NaN</td>\n      <td>NaN</td>\n      <td>NaN</td>\n      <td>NaN</td>\n      <td>NaN</td>\n      <td>NaN</td>\n      <td>NaN</td>\n      <td>NaN</td>\n      <td>NaN</td>\n    </tr>\n  </tbody>\n</table>\n</div>"
     },
     "metadata": {},
     "execution_count": 74
    }
   ],
   "source": [
    "tableau.sort_values(\"Period\").head(30)"
   ]
  },
  {
   "cell_type": "code",
   "execution_count": 58,
   "metadata": {},
   "outputs": [
    {
     "output_type": "error",
     "ename": "TypeError",
     "evalue": "Index must be DatetimeIndex",
     "traceback": [
      "\u001b[0;31m---------------------------------------------------------------------------\u001b[0m",
      "\u001b[0;31mAttributeError\u001b[0m                            Traceback (most recent call last)",
      "\u001b[0;32m~/opt/anaconda3/lib/python3.7/site-packages/pandas/core/generic.py\u001b[0m in \u001b[0;36mbetween_time\u001b[0;34m(self, start_time, end_time, include_start, include_end, axis)\u001b[0m\n\u001b[1;32m   7812\u001b[0m         \u001b[0;32mtry\u001b[0m\u001b[0;34m:\u001b[0m\u001b[0;34m\u001b[0m\u001b[0;34m\u001b[0m\u001b[0m\n\u001b[0;32m-> 7813\u001b[0;31m             indexer = index.indexer_between_time(\n\u001b[0m\u001b[1;32m   7814\u001b[0m                 \u001b[0mstart_time\u001b[0m\u001b[0;34m,\u001b[0m\u001b[0;34m\u001b[0m\u001b[0;34m\u001b[0m\u001b[0m\n",
      "\u001b[0;31mAttributeError\u001b[0m: 'Int64Index' object has no attribute 'indexer_between_time'",
      "\nDuring handling of the above exception, another exception occurred:\n",
      "\u001b[0;31mTypeError\u001b[0m                                 Traceback (most recent call last)",
      "\u001b[0;32m<ipython-input-58-fc841158c0a2>\u001b[0m in \u001b[0;36m<module>\u001b[0;34m\u001b[0m\n\u001b[0;32m----> 1\u001b[0;31m \u001b[0mtableau\u001b[0m\u001b[0;34m.\u001b[0m\u001b[0mbetween_time\u001b[0m\u001b[0;34m(\u001b[0m\u001b[0;34m'2002-01'\u001b[0m\u001b[0;34m,\u001b[0m \u001b[0;34m'2002-01'\u001b[0m\u001b[0;34m)\u001b[0m\u001b[0;34m\u001b[0m\u001b[0;34m\u001b[0m\u001b[0m\n\u001b[0m",
      "\u001b[0;32m~/opt/anaconda3/lib/python3.7/site-packages/pandas/core/generic.py\u001b[0m in \u001b[0;36mbetween_time\u001b[0;34m(self, start_time, end_time, include_start, include_end, axis)\u001b[0m\n\u001b[1;32m   7818\u001b[0m             )\n\u001b[1;32m   7819\u001b[0m         \u001b[0;32mexcept\u001b[0m \u001b[0mAttributeError\u001b[0m\u001b[0;34m:\u001b[0m\u001b[0;34m\u001b[0m\u001b[0;34m\u001b[0m\u001b[0m\n\u001b[0;32m-> 7820\u001b[0;31m             \u001b[0;32mraise\u001b[0m \u001b[0mTypeError\u001b[0m\u001b[0;34m(\u001b[0m\u001b[0;34m\"Index must be DatetimeIndex\"\u001b[0m\u001b[0;34m)\u001b[0m\u001b[0;34m\u001b[0m\u001b[0;34m\u001b[0m\u001b[0m\n\u001b[0m\u001b[1;32m   7821\u001b[0m \u001b[0;34m\u001b[0m\u001b[0m\n\u001b[1;32m   7822\u001b[0m         \u001b[0;32mreturn\u001b[0m \u001b[0mself\u001b[0m\u001b[0;34m.\u001b[0m\u001b[0m_take_with_is_copy\u001b[0m\u001b[0;34m(\u001b[0m\u001b[0mindexer\u001b[0m\u001b[0;34m,\u001b[0m \u001b[0maxis\u001b[0m\u001b[0;34m=\u001b[0m\u001b[0maxis\u001b[0m\u001b[0;34m)\u001b[0m\u001b[0;34m\u001b[0m\u001b[0;34m\u001b[0m\u001b[0m\n",
      "\u001b[0;31mTypeError\u001b[0m: Index must be DatetimeIndex"
     ]
    }
   ],
   "source": []
  },
  {
   "cell_type": "code",
   "execution_count": 25,
   "metadata": {},
   "outputs": [
    {
     "output_type": "execute_result",
     "data": {
      "text/plain": [
       "0    2002-01\n",
       "1    2002-02\n",
       "2    2002-03\n",
       "3    2002-04\n",
       "4    2002-05\n",
       "Name: Period, dtype: object"
      ]
     },
     "metadata": {},
     "execution_count": 25
    }
   ],
   "source": []
  },
  {
   "cell_type": "code",
   "execution_count": 53,
   "metadata": {},
   "outputs": [
    {
     "output_type": "execute_result",
     "data": {
      "text/plain": [
       "9020"
      ]
     },
     "metadata": {},
     "execution_count": 53
    }
   ],
   "source": [
    "len(tableau)"
   ]
  },
  {
   "cell_type": "code",
   "execution_count": 12,
   "metadata": {},
   "outputs": [
    {
     "output_type": "execute_result",
     "data": {
      "text/plain": [
       "    Period               Country  Exports (kb/d)  Imports (kb/d)  Net_Exports\n",
       "0  2002-01  United Arab Emirates          1860.0             0.0       1860.0\n",
       "1  2002-02  United Arab Emirates          1989.0             0.0       1989.0\n",
       "2  2002-03  United Arab Emirates          1868.0             0.0       1868.0\n",
       "3  2002-04  United Arab Emirates          1669.0             0.0       1669.0\n",
       "4  2002-05  United Arab Emirates          1821.0             0.0       1821.0"
      ],
      "text/html": "<div>\n<style scoped>\n    .dataframe tbody tr th:only-of-type {\n        vertical-align: middle;\n    }\n\n    .dataframe tbody tr th {\n        vertical-align: top;\n    }\n\n    .dataframe thead th {\n        text-align: right;\n    }\n</style>\n<table border=\"1\" class=\"dataframe\">\n  <thead>\n    <tr style=\"text-align: right;\">\n      <th></th>\n      <th>Period</th>\n      <th>Country</th>\n      <th>Exports (kb/d)</th>\n      <th>Imports (kb/d)</th>\n      <th>Net_Exports</th>\n    </tr>\n  </thead>\n  <tbody>\n    <tr>\n      <th>0</th>\n      <td>2002-01</td>\n      <td>United Arab Emirates</td>\n      <td>1860.0</td>\n      <td>0.0</td>\n      <td>1860.0</td>\n    </tr>\n    <tr>\n      <th>1</th>\n      <td>2002-02</td>\n      <td>United Arab Emirates</td>\n      <td>1989.0</td>\n      <td>0.0</td>\n      <td>1989.0</td>\n    </tr>\n    <tr>\n      <th>2</th>\n      <td>2002-03</td>\n      <td>United Arab Emirates</td>\n      <td>1868.0</td>\n      <td>0.0</td>\n      <td>1868.0</td>\n    </tr>\n    <tr>\n      <th>3</th>\n      <td>2002-04</td>\n      <td>United Arab Emirates</td>\n      <td>1669.0</td>\n      <td>0.0</td>\n      <td>1669.0</td>\n    </tr>\n    <tr>\n      <th>4</th>\n      <td>2002-05</td>\n      <td>United Arab Emirates</td>\n      <td>1821.0</td>\n      <td>0.0</td>\n      <td>1821.0</td>\n    </tr>\n  </tbody>\n</table>\n</div>"
     },
     "metadata": {},
     "execution_count": 12
    }
   ],
   "source": [
    "Exportaciones.head()"
   ]
  },
  {
   "cell_type": "code",
   "execution_count": 14,
   "metadata": {},
   "outputs": [
    {
     "output_type": "execute_result",
     "data": {
      "text/plain": [
       "   Unnamed: 0  Country   Period  Crude  NGPL  Others  Refinery\n",
       "0           0  Albania  1993-01  11.26   0.0     0.0      -0.1\n",
       "1           1  Albania  1993-02  11.26   0.0     0.0      -0.1\n",
       "2           2  Albania  1993-03  11.26   0.0     0.0      -0.1\n",
       "3           3  Albania  1993-04  11.26   0.0     0.0      -0.1\n",
       "4           4  Albania  1993-05  11.26   0.0     0.0      -0.1"
      ],
      "text/html": "<div>\n<style scoped>\n    .dataframe tbody tr th:only-of-type {\n        vertical-align: middle;\n    }\n\n    .dataframe tbody tr th {\n        vertical-align: top;\n    }\n\n    .dataframe thead th {\n        text-align: right;\n    }\n</style>\n<table border=\"1\" class=\"dataframe\">\n  <thead>\n    <tr style=\"text-align: right;\">\n      <th></th>\n      <th>Unnamed: 0</th>\n      <th>Country</th>\n      <th>Period</th>\n      <th>Crude</th>\n      <th>NGPL</th>\n      <th>Others</th>\n      <th>Refinery</th>\n    </tr>\n  </thead>\n  <tbody>\n    <tr>\n      <th>0</th>\n      <td>0</td>\n      <td>Albania</td>\n      <td>1993-01</td>\n      <td>11.26</td>\n      <td>0.0</td>\n      <td>0.0</td>\n      <td>-0.1</td>\n    </tr>\n    <tr>\n      <th>1</th>\n      <td>1</td>\n      <td>Albania</td>\n      <td>1993-02</td>\n      <td>11.26</td>\n      <td>0.0</td>\n      <td>0.0</td>\n      <td>-0.1</td>\n    </tr>\n    <tr>\n      <th>2</th>\n      <td>2</td>\n      <td>Albania</td>\n      <td>1993-03</td>\n      <td>11.26</td>\n      <td>0.0</td>\n      <td>0.0</td>\n      <td>-0.1</td>\n    </tr>\n    <tr>\n      <th>3</th>\n      <td>3</td>\n      <td>Albania</td>\n      <td>1993-04</td>\n      <td>11.26</td>\n      <td>0.0</td>\n      <td>0.0</td>\n      <td>-0.1</td>\n    </tr>\n    <tr>\n      <th>4</th>\n      <td>4</td>\n      <td>Albania</td>\n      <td>1993-05</td>\n      <td>11.26</td>\n      <td>0.0</td>\n      <td>0.0</td>\n      <td>-0.1</td>\n    </tr>\n  </tbody>\n</table>\n</div>"
     },
     "metadata": {},
     "execution_count": 14
    }
   ],
   "source": [
    "Variaciones_valor.head()"
   ]
  },
  {
   "cell_type": "code",
   "execution_count": 12,
   "metadata": {},
   "outputs": [
    {
     "output_type": "execute_result",
     "data": {
      "text/plain": [
       "                 conflict_name  year  active_year  country  region  best  \\\n",
       "0  Serbia (Yugoslavia): Kosovo  1999            1  Albania  Europe     4   \n",
       "1  Serbia (Yugoslavia): Kosovo  1999            1  Albania  Europe     2   \n",
       "2  Serbia (Yugoslavia): Kosovo  1999            1  Albania  Europe     0   \n",
       "3  Serbia (Yugoslavia): Kosovo  1999            1  Albania  Europe     0   \n",
       "4          Algeria: Government  1990            0  Algeria  Africa     1   \n",
       "\n",
       "   high  low   latitude  longitude Start_month End_month  \n",
       "0     4    4  42.450278  20.184167     1999-04   1999-04  \n",
       "1     2    2  42.404167  20.166667     1999-04   1999-04  \n",
       "2     2    0  42.198056  20.473889     1999-05   1999-05  \n",
       "3     1    0  42.244444  20.342500     1999-06   1999-06  \n",
       "4     1    1  36.147656   3.691227     1990-12   1990-12  "
      ],
      "text/html": "<div>\n<style scoped>\n    .dataframe tbody tr th:only-of-type {\n        vertical-align: middle;\n    }\n\n    .dataframe tbody tr th {\n        vertical-align: top;\n    }\n\n    .dataframe thead th {\n        text-align: right;\n    }\n</style>\n<table border=\"1\" class=\"dataframe\">\n  <thead>\n    <tr style=\"text-align: right;\">\n      <th></th>\n      <th>conflict_name</th>\n      <th>year</th>\n      <th>active_year</th>\n      <th>country</th>\n      <th>region</th>\n      <th>best</th>\n      <th>high</th>\n      <th>low</th>\n      <th>latitude</th>\n      <th>longitude</th>\n      <th>Start_month</th>\n      <th>End_month</th>\n    </tr>\n  </thead>\n  <tbody>\n    <tr>\n      <th>0</th>\n      <td>Serbia (Yugoslavia): Kosovo</td>\n      <td>1999</td>\n      <td>1</td>\n      <td>Albania</td>\n      <td>Europe</td>\n      <td>4</td>\n      <td>4</td>\n      <td>4</td>\n      <td>42.450278</td>\n      <td>20.184167</td>\n      <td>1999-04</td>\n      <td>1999-04</td>\n    </tr>\n    <tr>\n      <th>1</th>\n      <td>Serbia (Yugoslavia): Kosovo</td>\n      <td>1999</td>\n      <td>1</td>\n      <td>Albania</td>\n      <td>Europe</td>\n      <td>2</td>\n      <td>2</td>\n      <td>2</td>\n      <td>42.404167</td>\n      <td>20.166667</td>\n      <td>1999-04</td>\n      <td>1999-04</td>\n    </tr>\n    <tr>\n      <th>2</th>\n      <td>Serbia (Yugoslavia): Kosovo</td>\n      <td>1999</td>\n      <td>1</td>\n      <td>Albania</td>\n      <td>Europe</td>\n      <td>0</td>\n      <td>2</td>\n      <td>0</td>\n      <td>42.198056</td>\n      <td>20.473889</td>\n      <td>1999-05</td>\n      <td>1999-05</td>\n    </tr>\n    <tr>\n      <th>3</th>\n      <td>Serbia (Yugoslavia): Kosovo</td>\n      <td>1999</td>\n      <td>1</td>\n      <td>Albania</td>\n      <td>Europe</td>\n      <td>0</td>\n      <td>1</td>\n      <td>0</td>\n      <td>42.244444</td>\n      <td>20.342500</td>\n      <td>1999-06</td>\n      <td>1999-06</td>\n    </tr>\n    <tr>\n      <th>4</th>\n      <td>Algeria: Government</td>\n      <td>1990</td>\n      <td>0</td>\n      <td>Algeria</td>\n      <td>Africa</td>\n      <td>1</td>\n      <td>1</td>\n      <td>1</td>\n      <td>36.147656</td>\n      <td>3.691227</td>\n      <td>1990-12</td>\n      <td>1990-12</td>\n    </tr>\n  </tbody>\n</table>\n</div>"
     },
     "metadata": {},
     "execution_count": 12
    }
   ],
   "source": [
    "Incidentes_geopoliticos.head()"
   ]
  },
  {
   "cell_type": "code",
   "execution_count": 13,
   "metadata": {},
   "outputs": [
    {
     "output_type": "execute_result",
     "data": {
      "text/plain": [
       "   iyear  iday  extended  resolution country_txt                  region_txt  \\\n",
       "0   1972     1         0         NaN      Kuwait  Middle East & North Africa   \n",
       "1   1972    14         0         NaN        Iran  Middle East & North Africa   \n",
       "2   1972    23         0         NaN        Iran  Middle East & North Africa   \n",
       "3   1973    24         0         NaN   Venezuela               South America   \n",
       "4   1973     6         1  1974-04-20   Argentina               South America   \n",
       "\n",
       "  targtype1_txt  targsubtype1_txt alternative_txt  multiple  success motive  \\\n",
       "0      Business  Gas/Oil/Electric             NaN         0        1    NaN   \n",
       "1      Business  Gas/Oil/Electric             NaN         0        0    NaN   \n",
       "2     Utilities               Oil             NaN         0        0    NaN   \n",
       "3     Utilities               Oil             NaN         0        1    NaN   \n",
       "4      Business  Gas/Oil/Electric             NaN         0        1    NaN   \n",
       "\n",
       "   nkill  nwound  property propextent_txt  propvalue   latitude  longitude  \\\n",
       "0    0.0     0.0         1        Unknown        NaN        NaN        NaN   \n",
       "1    0.0     0.0         1            NaN        NaN  35.724533  51.405190   \n",
       "2    0.0     0.0         0            NaN        NaN  30.345997  48.287136   \n",
       "3    NaN     NaN         1            NaN        NaN        NaN        NaN   \n",
       "4    0.0     0.0         0            NaN        NaN -34.617680 -58.444435   \n",
       "\n",
       "    period  \n",
       "0  1972-01  \n",
       "1  1972-08  \n",
       "2  1972-08  \n",
       "3  1973-11  \n",
       "4  1973-12  "
      ],
      "text/html": "<div>\n<style scoped>\n    .dataframe tbody tr th:only-of-type {\n        vertical-align: middle;\n    }\n\n    .dataframe tbody tr th {\n        vertical-align: top;\n    }\n\n    .dataframe thead th {\n        text-align: right;\n    }\n</style>\n<table border=\"1\" class=\"dataframe\">\n  <thead>\n    <tr style=\"text-align: right;\">\n      <th></th>\n      <th>iyear</th>\n      <th>iday</th>\n      <th>extended</th>\n      <th>resolution</th>\n      <th>country_txt</th>\n      <th>region_txt</th>\n      <th>targtype1_txt</th>\n      <th>targsubtype1_txt</th>\n      <th>alternative_txt</th>\n      <th>multiple</th>\n      <th>success</th>\n      <th>motive</th>\n      <th>nkill</th>\n      <th>nwound</th>\n      <th>property</th>\n      <th>propextent_txt</th>\n      <th>propvalue</th>\n      <th>latitude</th>\n      <th>longitude</th>\n      <th>period</th>\n    </tr>\n  </thead>\n  <tbody>\n    <tr>\n      <th>0</th>\n      <td>1972</td>\n      <td>1</td>\n      <td>0</td>\n      <td>NaN</td>\n      <td>Kuwait</td>\n      <td>Middle East &amp; North Africa</td>\n      <td>Business</td>\n      <td>Gas/Oil/Electric</td>\n      <td>NaN</td>\n      <td>0</td>\n      <td>1</td>\n      <td>NaN</td>\n      <td>0.0</td>\n      <td>0.0</td>\n      <td>1</td>\n      <td>Unknown</td>\n      <td>NaN</td>\n      <td>NaN</td>\n      <td>NaN</td>\n      <td>1972-01</td>\n    </tr>\n    <tr>\n      <th>1</th>\n      <td>1972</td>\n      <td>14</td>\n      <td>0</td>\n      <td>NaN</td>\n      <td>Iran</td>\n      <td>Middle East &amp; North Africa</td>\n      <td>Business</td>\n      <td>Gas/Oil/Electric</td>\n      <td>NaN</td>\n      <td>0</td>\n      <td>0</td>\n      <td>NaN</td>\n      <td>0.0</td>\n      <td>0.0</td>\n      <td>1</td>\n      <td>NaN</td>\n      <td>NaN</td>\n      <td>35.724533</td>\n      <td>51.405190</td>\n      <td>1972-08</td>\n    </tr>\n    <tr>\n      <th>2</th>\n      <td>1972</td>\n      <td>23</td>\n      <td>0</td>\n      <td>NaN</td>\n      <td>Iran</td>\n      <td>Middle East &amp; North Africa</td>\n      <td>Utilities</td>\n      <td>Oil</td>\n      <td>NaN</td>\n      <td>0</td>\n      <td>0</td>\n      <td>NaN</td>\n      <td>0.0</td>\n      <td>0.0</td>\n      <td>0</td>\n      <td>NaN</td>\n      <td>NaN</td>\n      <td>30.345997</td>\n      <td>48.287136</td>\n      <td>1972-08</td>\n    </tr>\n    <tr>\n      <th>3</th>\n      <td>1973</td>\n      <td>24</td>\n      <td>0</td>\n      <td>NaN</td>\n      <td>Venezuela</td>\n      <td>South America</td>\n      <td>Utilities</td>\n      <td>Oil</td>\n      <td>NaN</td>\n      <td>0</td>\n      <td>1</td>\n      <td>NaN</td>\n      <td>NaN</td>\n      <td>NaN</td>\n      <td>1</td>\n      <td>NaN</td>\n      <td>NaN</td>\n      <td>NaN</td>\n      <td>NaN</td>\n      <td>1973-11</td>\n    </tr>\n    <tr>\n      <th>4</th>\n      <td>1973</td>\n      <td>6</td>\n      <td>1</td>\n      <td>1974-04-20</td>\n      <td>Argentina</td>\n      <td>South America</td>\n      <td>Business</td>\n      <td>Gas/Oil/Electric</td>\n      <td>NaN</td>\n      <td>0</td>\n      <td>1</td>\n      <td>NaN</td>\n      <td>0.0</td>\n      <td>0.0</td>\n      <td>0</td>\n      <td>NaN</td>\n      <td>NaN</td>\n      <td>-34.617680</td>\n      <td>-58.444435</td>\n      <td>1973-12</td>\n    </tr>\n  </tbody>\n</table>\n</div>"
     },
     "metadata": {},
     "execution_count": 13
    }
   ],
   "source": [
    "Terrorismo.head()"
   ]
  },
  {
   "cell_type": "code",
   "execution_count": null,
   "metadata": {},
   "outputs": [],
   "source": []
  }
 ]
}