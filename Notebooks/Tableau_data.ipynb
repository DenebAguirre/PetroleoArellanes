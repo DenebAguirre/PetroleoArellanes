{
 "metadata": {
  "language_info": {
   "codemirror_mode": {
    "name": "ipython",
    "version": 3
   },
   "file_extension": ".py",
   "mimetype": "text/x-python",
   "name": "python",
   "nbconvert_exporter": "python",
   "pygments_lexer": "ipython3",
   "version": "3.7.7-final"
  },
  "orig_nbformat": 2,
  "kernelspec": {
   "name": "Python 3.7.7 64-bit ('base': conda)",
   "display_name": "Python 3.7.7 64-bit ('base': conda)",
   "metadata": {
    "interpreter": {
     "hash": "aa7583ab6350143d4e9d2780c62a9c5e1694c574a0517b8a7c25e1096bbf9afb"
    }
   }
  }
 },
 "nbformat": 4,
 "nbformat_minor": 2,
 "cells": [
  {
   "cell_type": "code",
   "execution_count": 1,
   "metadata": {},
   "outputs": [],
   "source": [
    "import pandas as pd\n",
    "import numpy as np\n",
    "import matplotlib.pyplot as plt"
   ]
  },
  {
   "cell_type": "code",
   "execution_count": 2,
   "metadata": {},
   "outputs": [],
   "source": [
    "#Read Data\n",
    "Exportaciones_netas = pd.read_csv(\"../csv_results/Exportaciones_Mensuales_Netas.csv\")\n",
    "Incidentes_geopoliticos = pd.read_csv('../csv_results/incidentes_geopoliticos.csv')\n",
    "Terrorismo = pd.read_csv(\"../csv_results/Terrorism.csv\")\n",
    "Variaciones_valor = pd.read_csv(\"../csv_results/Variaciones_Valor_Mensual.csv\")\n",
    "\n",
    "#Delete unnecesary columns in the Incidentes geopoliticos DB\n",
    "del Incidentes_geopoliticos[\"Unnamed: 0\"]\n",
    "del Variaciones_valor['Unnamed: 0']\n",
    "\n",
    "#Delete unnecesary columns in the Expotaciones_netas DB\n",
    "Exportaciones_netas = Exportaciones_netas.drop(columns=[\"Unnamed: 0\", \"Exp_notes\", 'Imp_notes'])\n",
    "\n",
    "#Delete unnecesary columns in the Terrorismo DB\n",
    "Terrorismo = Terrorismo.drop(columns=['Unnamed: 0', 'imonth', 'approxdate', 'targtype1', 'targsubtype1', 'doubtterr', 'alternative', 'propextent'])\n"
   ]
  },
  {
   "cell_type": "code",
   "execution_count": 3,
   "metadata": {},
   "outputs": [
    {
     "output_type": "execute_result",
     "data": {
      "text/plain": [
       "{'var': ['Burma', 'Congo-Brazzaville', 'Congo-Kinshasa', 'Russia', 'Yemen'],\n",
       " 'exp': ['Brunei Darussalam',\n",
       "  'Bolivia, Plurinational State of',\n",
       "  'Iran, Islamic Republic of',\n",
       "  'Myanmar',\n",
       "  'Russian Federation',\n",
       "  'Venezuela, Bolivarian Republic of',\n",
       "  'Viet Nam',\n",
       "  'Yemen'],\n",
       " 'inc': ['Congo', 'DR Congo (Zaire)'],\n",
       " 'ter': ['Myanmar', 'Yemen', 'Russia']}"
      ]
     },
     "metadata": {},
     "execution_count": 3
    }
   ],
   "source": [
    "###Create a list with definitive countries names \n",
    "#Problematic countries names are marked with a variant in parenthesis\n",
    "countries = ['Albania','Algeria','Angola','Argentina','Azerbaijan','Benin','Bolivia','Brazil','Brunei','Cameroon','Canada','China','Colombia','Republic of the Congo', 'Democratic Republic of the Congo', 'Denmark','Ecuador','Egypt','Estonia','Gabon','Georgia','Ghana','Guatemala','Indonesia','Iran','Iraq','Kazakhstan','Kuwait','Kyrgyzstan','Libya','Malaysia','Mexico','Mongolia', 'Myanmar (Burma)','Nigeria','Norway','Oman','Qatar','Russia (Soviet Union)','Saudi Arabia','South Sudan','Sudan','Trinidad and Tobago','Tunisia','Turkmenistan','United Arab Emirates','United Kingdom','Venezuela','Vietnam','Yemen (North Yemen)']\n",
    "\n",
    "#### Create a dictionary of countries names who may be replaced\n",
    "#First create a dictionary with countries in each db\n",
    "db_countries = { \"var\" : Variaciones_valor[\"Country\"].unique().tolist(),\n",
    "                \"exp\" : Exportaciones_netas['Country'].unique().tolist(),\n",
    "                \"inc\" : Incidentes_geopoliticos['country'].unique().tolist(),\n",
    "                \"ter\" : Terrorismo['country_txt'].unique().tolist() }\n",
    "\n",
    "#Then for each db_list check which countries do not match with our list and put them in a dictionary\n",
    "to_change = {'var' : [x for x in db_countries[\"var\"] if x not in countries], \n",
    "                    'exp' : [x for x in db_countries[\"exp\"] if x not in countries],\n",
    "                    'inc' : [x for x in db_countries[\"inc\"] if x not in countries],\n",
    "                    'ter' : [x for x in db_countries[\"ter\"] if x not in countries] }\n",
    "\n",
    "#Print the dictionary in order to find which names need to be replaced\n",
    "to_change"
   ]
  },
  {
   "cell_type": "code",
   "execution_count": 4,
   "metadata": {},
   "outputs": [],
   "source": [
    "#Now replace the names in each db\n",
    "#Exportaciones netas\n",
    "Exportaciones_netas[\"Country\"] = Exportaciones_netas[\"Country\"].replace({'Brunei Darussalam' : 'Brunei',\n",
    "  'Bolivia, Plurinational State of' : 'Bolivia',\n",
    "  'Iran, Islamic Republic of' : 'Iran' ,\n",
    "  'Myanmar' : 'Myanmar (Burma)',\n",
    "  'Russian Federation' : 'Russia (Soviet Union)',\n",
    "  'Venezuela, Bolivarian Republic of' : 'Venezuela',\n",
    "  'Viet Nam' : 'Vietnam',\n",
    "  'Yemen' : 'Yemen (North Yemen)'}) \n",
    "\n",
    "#Incidentes geopoliticos\n",
    "Incidentes_geopoliticos[\"country\"] = Incidentes_geopoliticos[\"country\"].replace({'Congo' : 'Republic of the Congo', 'DR Congo (Zaire)' : 'Democratic Republic of the Congo'})\n",
    "\n",
    "#Terrorismo\n",
    "Terrorismo[\"country_txt\"] = Terrorismo[\"country_txt\"].replace({'Myanmar' : 'Myanmar (Burma)', 'Yemen' : 'Yemen (North Yemen)' , 'Russia' : 'Russia (Soviet Union)', 'South Vietnam' : 'Vietnam' })\n",
    "\n",
    "#Variaciones en el valor \n",
    "Variaciones_valor[\"Country\"] = Variaciones_valor[\"Country\"].replace({'Burma' : 'Myanmar (Burma)', 'Congo-Brazzaville' : 'Republic of the Congo', 'Congo-Kinshasa' : 'Democratic Republic of the Congo', 'Russia' : 'Russia (Soviet Union)' , 'Yemen' : 'Yemen (North Yemen)'})"
   ]
  },
  {
   "cell_type": "code",
   "execution_count": 44,
   "metadata": {},
   "outputs": [],
   "source": [
    "#Create a version of each DB with selected data\n",
    "#Sum of succesful terrorism acts, people wounded and killed, and damage of proerty in dollars\n",
    "Terrorismo = Terrorismo[['period', 'country_txt',  'targtype1_txt', \"success\", \"nkill\", \"nwound\", 'propvalue', \"latitude\",\t\"longitude\"]]\n",
    "Terrorismo = Terrorismo.rename(columns={'period' : \"Period\", 'country_txt' : \"Country\",  'targtype1_txt': \"Targe_type\", \"success\" : \"Success\", \"nkill\" : \"Kills\", \"nwound\" : \"Wounded\", 'propvalue' : \"Property_damage_value\"})\n",
    "\n",
    "#Sum of values from each period\n",
    "Valores = Variaciones_valor[['Period', 'Country', 'Crude', 'NGPL', 'Others', 'Refinery']]\n",
    "\n",
    "#count how many incidentes and how many victimes were in the period\n",
    "Incidentes = Incidentes_geopoliticos[['Start_month', 'country', 'conflict_name', 'best', \"latitude\", \"longitude\"]]\n",
    "Incidentes = Incidentes.rename(columns={'Start_month' : \"Period\", 'country' : \"Country\", \"best\" : \"Victims\" })\n",
    "\n",
    "#Sum how many net barrels were exported in the period\n",
    "Exportaciones = Exportaciones_netas[[ \"Month\", \"Country\", 'Exports (kb/d)', 'Imports (kb/d)', 'Net_Exports']]\n",
    "Exportaciones = Exportaciones.rename(columns={\"Month\" : \"Period\"})"
   ]
  },
  {
   "cell_type": "code",
   "execution_count": 34,
   "metadata": {},
   "outputs": [
    {
     "output_type": "execute_result",
     "data": {
      "text/plain": [
       "Index(['Country', 'Month', 'Exports (kb/d)', 'Imports (kb/d)', 'Net_Exports'], dtype='object')"
      ]
     },
     "metadata": {},
     "execution_count": 34
    }
   ],
   "source": [
    "Exportaciones_netas.columns"
   ]
  },
  {
   "cell_type": "code",
   "execution_count": 45,
   "metadata": {},
   "outputs": [
    {
     "output_type": "error",
     "ename": "TypeError",
     "evalue": "concat() got an unexpected keyword argument 'on'",
     "traceback": [
      "\u001b[0;31m---------------------------------------------------------------------------\u001b[0m",
      "\u001b[0;31mTypeError\u001b[0m                                 Traceback (most recent call last)",
      "\u001b[0;32m<ipython-input-45-3788b2b230d3>\u001b[0m in \u001b[0;36m<module>\u001b[0;34m\u001b[0m\n\u001b[1;32m      1\u001b[0m \u001b[0mdbs\u001b[0m \u001b[0;34m=\u001b[0m \u001b[0;34m[\u001b[0m\u001b[0mExportaciones\u001b[0m\u001b[0;34m,\u001b[0m \u001b[0mValores\u001b[0m\u001b[0;34m,\u001b[0m \u001b[0mIncidentes\u001b[0m\u001b[0;34m,\u001b[0m \u001b[0mTerrorismo\u001b[0m\u001b[0;34m]\u001b[0m\u001b[0;34m\u001b[0m\u001b[0;34m\u001b[0m\u001b[0m\n\u001b[0;32m----> 2\u001b[0;31m \u001b[0mtableau\u001b[0m \u001b[0;34m=\u001b[0m \u001b[0mpd\u001b[0m\u001b[0;34m.\u001b[0m\u001b[0mconcat\u001b[0m\u001b[0;34m(\u001b[0m\u001b[0mdbs\u001b[0m\u001b[0;34m,\u001b[0m \u001b[0maxis\u001b[0m\u001b[0;34m=\u001b[0m\u001b[0;36m1\u001b[0m\u001b[0;34m,\u001b[0m \u001b[0mjoin\u001b[0m\u001b[0;34m=\u001b[0m\u001b[0;34m'outer'\u001b[0m\u001b[0;34m,\u001b[0m \u001b[0mon\u001b[0m\u001b[0;34m=\u001b[0m\u001b[0;34m[\u001b[0m\u001b[0;34m'Period'\u001b[0m\u001b[0;34m,\u001b[0m \u001b[0;34m'Country'\u001b[0m\u001b[0;34m]\u001b[0m\u001b[0;34m)\u001b[0m\u001b[0;34m\u001b[0m\u001b[0;34m\u001b[0m\u001b[0m\n\u001b[0m",
      "\u001b[0;31mTypeError\u001b[0m: concat() got an unexpected keyword argument 'on'"
     ]
    }
   ],
   "source": [
    "dbs = [Exportaciones, Valores, Incidentes, Terrorismo]\n",
    "tableau = pd.concat(dbs, axis=1, join='outer', on=['Period', 'Country'])\n",
    "\n",
    "#now try merge"
   ]
  },
  {
   "source": [
    "# Next Steps\n",
    "\n",
    "- Probrar la mejor manera de hacer un merge de cada una de las bases de datos\n",
    "- "
   ],
   "cell_type": "markdown",
   "metadata": {}
  },
  {
   "cell_type": "code",
   "execution_count": 42,
   "metadata": {},
   "outputs": [
    {
     "output_type": "execute_result",
     "data": {
      "text/plain": [
       "[        Month               Country  Exports (kb/d)  Imports (kb/d)  \\\n",
       " 0     2002-01  United Arab Emirates          1860.0             0.0   \n",
       " 1     2002-02  United Arab Emirates          1989.0             0.0   \n",
       " 2     2002-03  United Arab Emirates          1868.0             0.0   \n",
       " 3     2002-04  United Arab Emirates          1669.0             0.0   \n",
       " 4     2002-05  United Arab Emirates          1821.0             0.0   \n",
       " ...       ...                   ...             ...             ...   \n",
       " 9097  2020-02   Yemen (North Yemen)             0.0             0.0   \n",
       " 9098  2020-03   Yemen (North Yemen)             0.0             0.0   \n",
       " 9099  2020-04   Yemen (North Yemen)             0.0             0.0   \n",
       " 9100  2020-05   Yemen (North Yemen)             0.0             0.0   \n",
       " 9101  2020-06   Yemen (North Yemen)             0.0             0.0   \n",
       " \n",
       "       Net_Exports  \n",
       " 0          1860.0  \n",
       " 1          1989.0  \n",
       " 2          1868.0  \n",
       " 3          1669.0  \n",
       " 4          1821.0  \n",
       " ...           ...  \n",
       " 9097          0.0  \n",
       " 9098          0.0  \n",
       " 9099          0.0  \n",
       " 9100          0.0  \n",
       " 9101          0.0  \n",
       " \n",
       " [9102 rows x 5 columns],\n",
       "         Period              Country  Crude  NGPL  Others  Refinery\n",
       " 0      1993-01              Albania  11.26   0.0     0.0      -0.1\n",
       " 1      1993-02              Albania  11.26   0.0     0.0      -0.1\n",
       " 2      1993-03              Albania  11.26   0.0     0.0      -0.1\n",
       " 3      1993-04              Albania  11.26   0.0     0.0      -0.1\n",
       " 4      1993-05              Albania  11.26   0.0     0.0      -0.1\n",
       " ...        ...                  ...    ...   ...     ...       ...\n",
       " 21195  2019-12  Yemen (North Yemen)  61.00   NaN     NaN       NaN\n",
       " 21196  2020-01  Yemen (North Yemen)  66.00   NaN     NaN       NaN\n",
       " 21197  2020-02  Yemen (North Yemen)  66.00   NaN     NaN       NaN\n",
       " 21198  2020-03  Yemen (North Yemen)  66.00   NaN     NaN       NaN\n",
       " 21199  2020-04  Yemen (North Yemen)  66.00   NaN     NaN       NaN\n",
       " \n",
       " [21200 rows x 6 columns],\n",
       "       Start_month              country                conflict_name  best  \\\n",
       " 0         1999-04              Albania  Serbia (Yugoslavia): Kosovo     4   \n",
       " 1         1999-04              Albania  Serbia (Yugoslavia): Kosovo     2   \n",
       " 2         1999-05              Albania  Serbia (Yugoslavia): Kosovo     0   \n",
       " 3         1999-06              Albania  Serbia (Yugoslavia): Kosovo     0   \n",
       " 4         1990-12              Algeria          Algeria: Government     1   \n",
       " ...           ...                  ...                          ...   ...   \n",
       " 52984     2019-08  Yemen (North Yemen)         Forces of Hadi - STC    10   \n",
       " 52985     2019-08  Yemen (North Yemen)         Forces of Hadi - STC     1   \n",
       " 52986     2019-12  Yemen (North Yemen)         Forces of Hadi - STC     1   \n",
       " 52987     2019-12  Yemen (North Yemen)         Forces of Hadi - STC     0   \n",
       " 52988     2019-12  Yemen (North Yemen)         Forces of Hadi - STC     0   \n",
       " \n",
       "         latitude  longitude  \n",
       " 0      42.450278  20.184167  \n",
       " 1      42.404167  20.166667  \n",
       " 2      42.198056  20.473889  \n",
       " 3      42.244444  20.342500  \n",
       " 4      36.147656   3.691227  \n",
       " ...          ...        ...  \n",
       " 52984  12.779444  45.036667  \n",
       " 52985  12.779444  45.036667  \n",
       " 52986  13.128712  45.380728  \n",
       " 52987  14.058469  46.913285  \n",
       " 52988  14.058469  46.913285  \n",
       " \n",
       " [52989 rows x 6 columns],\n",
       "        period country_txt targtype1_txt  success  nkill  nwound  propvalue  \\\n",
       " 0     1972-01      Kuwait      Business        1    0.0     0.0        NaN   \n",
       " 1     1972-08        Iran      Business        0    0.0     0.0        NaN   \n",
       " 2     1972-08        Iran     Utilities        0    0.0     0.0        NaN   \n",
       " 3     1973-11   Venezuela     Utilities        1    NaN     NaN        NaN   \n",
       " 4     1973-12   Argentina      Business        1    0.0     0.0        NaN   \n",
       " ...       ...         ...           ...      ...    ...     ...        ...   \n",
       " 1600  2018-12        Iraq     Utilities        1    0.0     0.0        NaN   \n",
       " 1601  2018-12       Libya     Utilities        0    0.0     0.0        NaN   \n",
       " 1602  2018-12        Iraq     Utilities        1    2.0     1.0        NaN   \n",
       " 1603  2018-12       Libya     Utilities        1    0.0     1.0      -99.0   \n",
       " 1604  2018-12       Libya     Utilities        1    0.0     0.0      -99.0   \n",
       " \n",
       "        latitude  longitude  \n",
       " 0           NaN        NaN  \n",
       " 1     35.724533  51.405190  \n",
       " 2     30.345997  48.287136  \n",
       " 3           NaN        NaN  \n",
       " 4    -34.617680 -58.444435  \n",
       " ...         ...        ...  \n",
       " 1600  30.977752  47.316225  \n",
       " 1601  26.432213  11.850369  \n",
       " 1602  30.223527  47.385571  \n",
       " 1603  26.431601  11.849502  \n",
       " 1604  26.431601  11.849502  \n",
       " \n",
       " [1605 rows x 9 columns]]"
      ]
     },
     "metadata": {},
     "execution_count": 42
    }
   ],
   "source": [
    "dbs"
   ]
  },
  {
   "cell_type": "code",
   "execution_count": 12,
   "metadata": {},
   "outputs": [
    {
     "output_type": "execute_result",
     "data": {
      "text/plain": [
       "                 conflict_name  year  active_year  country  region  best  \\\n",
       "0  Serbia (Yugoslavia): Kosovo  1999            1  Albania  Europe     4   \n",
       "1  Serbia (Yugoslavia): Kosovo  1999            1  Albania  Europe     2   \n",
       "2  Serbia (Yugoslavia): Kosovo  1999            1  Albania  Europe     0   \n",
       "3  Serbia (Yugoslavia): Kosovo  1999            1  Albania  Europe     0   \n",
       "4          Algeria: Government  1990            0  Algeria  Africa     1   \n",
       "\n",
       "   high  low   latitude  longitude Start_month End_month  \n",
       "0     4    4  42.450278  20.184167     1999-04   1999-04  \n",
       "1     2    2  42.404167  20.166667     1999-04   1999-04  \n",
       "2     2    0  42.198056  20.473889     1999-05   1999-05  \n",
       "3     1    0  42.244444  20.342500     1999-06   1999-06  \n",
       "4     1    1  36.147656   3.691227     1990-12   1990-12  "
      ],
      "text/html": "<div>\n<style scoped>\n    .dataframe tbody tr th:only-of-type {\n        vertical-align: middle;\n    }\n\n    .dataframe tbody tr th {\n        vertical-align: top;\n    }\n\n    .dataframe thead th {\n        text-align: right;\n    }\n</style>\n<table border=\"1\" class=\"dataframe\">\n  <thead>\n    <tr style=\"text-align: right;\">\n      <th></th>\n      <th>conflict_name</th>\n      <th>year</th>\n      <th>active_year</th>\n      <th>country</th>\n      <th>region</th>\n      <th>best</th>\n      <th>high</th>\n      <th>low</th>\n      <th>latitude</th>\n      <th>longitude</th>\n      <th>Start_month</th>\n      <th>End_month</th>\n    </tr>\n  </thead>\n  <tbody>\n    <tr>\n      <th>0</th>\n      <td>Serbia (Yugoslavia): Kosovo</td>\n      <td>1999</td>\n      <td>1</td>\n      <td>Albania</td>\n      <td>Europe</td>\n      <td>4</td>\n      <td>4</td>\n      <td>4</td>\n      <td>42.450278</td>\n      <td>20.184167</td>\n      <td>1999-04</td>\n      <td>1999-04</td>\n    </tr>\n    <tr>\n      <th>1</th>\n      <td>Serbia (Yugoslavia): Kosovo</td>\n      <td>1999</td>\n      <td>1</td>\n      <td>Albania</td>\n      <td>Europe</td>\n      <td>2</td>\n      <td>2</td>\n      <td>2</td>\n      <td>42.404167</td>\n      <td>20.166667</td>\n      <td>1999-04</td>\n      <td>1999-04</td>\n    </tr>\n    <tr>\n      <th>2</th>\n      <td>Serbia (Yugoslavia): Kosovo</td>\n      <td>1999</td>\n      <td>1</td>\n      <td>Albania</td>\n      <td>Europe</td>\n      <td>0</td>\n      <td>2</td>\n      <td>0</td>\n      <td>42.198056</td>\n      <td>20.473889</td>\n      <td>1999-05</td>\n      <td>1999-05</td>\n    </tr>\n    <tr>\n      <th>3</th>\n      <td>Serbia (Yugoslavia): Kosovo</td>\n      <td>1999</td>\n      <td>1</td>\n      <td>Albania</td>\n      <td>Europe</td>\n      <td>0</td>\n      <td>1</td>\n      <td>0</td>\n      <td>42.244444</td>\n      <td>20.342500</td>\n      <td>1999-06</td>\n      <td>1999-06</td>\n    </tr>\n    <tr>\n      <th>4</th>\n      <td>Algeria: Government</td>\n      <td>1990</td>\n      <td>0</td>\n      <td>Algeria</td>\n      <td>Africa</td>\n      <td>1</td>\n      <td>1</td>\n      <td>1</td>\n      <td>36.147656</td>\n      <td>3.691227</td>\n      <td>1990-12</td>\n      <td>1990-12</td>\n    </tr>\n  </tbody>\n</table>\n</div>"
     },
     "metadata": {},
     "execution_count": 12
    }
   ],
   "source": [
    "Incidentes_geopoliticos.head()"
   ]
  },
  {
   "cell_type": "code",
   "execution_count": 13,
   "metadata": {},
   "outputs": [
    {
     "output_type": "execute_result",
     "data": {
      "text/plain": [
       "   iyear  iday  extended  resolution country_txt                  region_txt  \\\n",
       "0   1972     1         0         NaN      Kuwait  Middle East & North Africa   \n",
       "1   1972    14         0         NaN        Iran  Middle East & North Africa   \n",
       "2   1972    23         0         NaN        Iran  Middle East & North Africa   \n",
       "3   1973    24         0         NaN   Venezuela               South America   \n",
       "4   1973     6         1  1974-04-20   Argentina               South America   \n",
       "\n",
       "  targtype1_txt  targsubtype1_txt alternative_txt  multiple  success motive  \\\n",
       "0      Business  Gas/Oil/Electric             NaN         0        1    NaN   \n",
       "1      Business  Gas/Oil/Electric             NaN         0        0    NaN   \n",
       "2     Utilities               Oil             NaN         0        0    NaN   \n",
       "3     Utilities               Oil             NaN         0        1    NaN   \n",
       "4      Business  Gas/Oil/Electric             NaN         0        1    NaN   \n",
       "\n",
       "   nkill  nwound  property propextent_txt  propvalue   latitude  longitude  \\\n",
       "0    0.0     0.0         1        Unknown        NaN        NaN        NaN   \n",
       "1    0.0     0.0         1            NaN        NaN  35.724533  51.405190   \n",
       "2    0.0     0.0         0            NaN        NaN  30.345997  48.287136   \n",
       "3    NaN     NaN         1            NaN        NaN        NaN        NaN   \n",
       "4    0.0     0.0         0            NaN        NaN -34.617680 -58.444435   \n",
       "\n",
       "    period  \n",
       "0  1972-01  \n",
       "1  1972-08  \n",
       "2  1972-08  \n",
       "3  1973-11  \n",
       "4  1973-12  "
      ],
      "text/html": "<div>\n<style scoped>\n    .dataframe tbody tr th:only-of-type {\n        vertical-align: middle;\n    }\n\n    .dataframe tbody tr th {\n        vertical-align: top;\n    }\n\n    .dataframe thead th {\n        text-align: right;\n    }\n</style>\n<table border=\"1\" class=\"dataframe\">\n  <thead>\n    <tr style=\"text-align: right;\">\n      <th></th>\n      <th>iyear</th>\n      <th>iday</th>\n      <th>extended</th>\n      <th>resolution</th>\n      <th>country_txt</th>\n      <th>region_txt</th>\n      <th>targtype1_txt</th>\n      <th>targsubtype1_txt</th>\n      <th>alternative_txt</th>\n      <th>multiple</th>\n      <th>success</th>\n      <th>motive</th>\n      <th>nkill</th>\n      <th>nwound</th>\n      <th>property</th>\n      <th>propextent_txt</th>\n      <th>propvalue</th>\n      <th>latitude</th>\n      <th>longitude</th>\n      <th>period</th>\n    </tr>\n  </thead>\n  <tbody>\n    <tr>\n      <th>0</th>\n      <td>1972</td>\n      <td>1</td>\n      <td>0</td>\n      <td>NaN</td>\n      <td>Kuwait</td>\n      <td>Middle East &amp; North Africa</td>\n      <td>Business</td>\n      <td>Gas/Oil/Electric</td>\n      <td>NaN</td>\n      <td>0</td>\n      <td>1</td>\n      <td>NaN</td>\n      <td>0.0</td>\n      <td>0.0</td>\n      <td>1</td>\n      <td>Unknown</td>\n      <td>NaN</td>\n      <td>NaN</td>\n      <td>NaN</td>\n      <td>1972-01</td>\n    </tr>\n    <tr>\n      <th>1</th>\n      <td>1972</td>\n      <td>14</td>\n      <td>0</td>\n      <td>NaN</td>\n      <td>Iran</td>\n      <td>Middle East &amp; North Africa</td>\n      <td>Business</td>\n      <td>Gas/Oil/Electric</td>\n      <td>NaN</td>\n      <td>0</td>\n      <td>0</td>\n      <td>NaN</td>\n      <td>0.0</td>\n      <td>0.0</td>\n      <td>1</td>\n      <td>NaN</td>\n      <td>NaN</td>\n      <td>35.724533</td>\n      <td>51.405190</td>\n      <td>1972-08</td>\n    </tr>\n    <tr>\n      <th>2</th>\n      <td>1972</td>\n      <td>23</td>\n      <td>0</td>\n      <td>NaN</td>\n      <td>Iran</td>\n      <td>Middle East &amp; North Africa</td>\n      <td>Utilities</td>\n      <td>Oil</td>\n      <td>NaN</td>\n      <td>0</td>\n      <td>0</td>\n      <td>NaN</td>\n      <td>0.0</td>\n      <td>0.0</td>\n      <td>0</td>\n      <td>NaN</td>\n      <td>NaN</td>\n      <td>30.345997</td>\n      <td>48.287136</td>\n      <td>1972-08</td>\n    </tr>\n    <tr>\n      <th>3</th>\n      <td>1973</td>\n      <td>24</td>\n      <td>0</td>\n      <td>NaN</td>\n      <td>Venezuela</td>\n      <td>South America</td>\n      <td>Utilities</td>\n      <td>Oil</td>\n      <td>NaN</td>\n      <td>0</td>\n      <td>1</td>\n      <td>NaN</td>\n      <td>NaN</td>\n      <td>NaN</td>\n      <td>1</td>\n      <td>NaN</td>\n      <td>NaN</td>\n      <td>NaN</td>\n      <td>NaN</td>\n      <td>1973-11</td>\n    </tr>\n    <tr>\n      <th>4</th>\n      <td>1973</td>\n      <td>6</td>\n      <td>1</td>\n      <td>1974-04-20</td>\n      <td>Argentina</td>\n      <td>South America</td>\n      <td>Business</td>\n      <td>Gas/Oil/Electric</td>\n      <td>NaN</td>\n      <td>0</td>\n      <td>1</td>\n      <td>NaN</td>\n      <td>0.0</td>\n      <td>0.0</td>\n      <td>0</td>\n      <td>NaN</td>\n      <td>NaN</td>\n      <td>-34.617680</td>\n      <td>-58.444435</td>\n      <td>1973-12</td>\n    </tr>\n  </tbody>\n</table>\n</div>"
     },
     "metadata": {},
     "execution_count": 13
    }
   ],
   "source": [
    "Terrorismo.head()"
   ]
  },
  {
   "cell_type": "code",
   "execution_count": 14,
   "metadata": {},
   "outputs": [
    {
     "output_type": "execute_result",
     "data": {
      "text/plain": [
       "   Unnamed: 0  Country   Period  Crude  NGPL  Others  Refinery\n",
       "0           0  Albania  1993-01  11.26   0.0     0.0      -0.1\n",
       "1           1  Albania  1993-02  11.26   0.0     0.0      -0.1\n",
       "2           2  Albania  1993-03  11.26   0.0     0.0      -0.1\n",
       "3           3  Albania  1993-04  11.26   0.0     0.0      -0.1\n",
       "4           4  Albania  1993-05  11.26   0.0     0.0      -0.1"
      ],
      "text/html": "<div>\n<style scoped>\n    .dataframe tbody tr th:only-of-type {\n        vertical-align: middle;\n    }\n\n    .dataframe tbody tr th {\n        vertical-align: top;\n    }\n\n    .dataframe thead th {\n        text-align: right;\n    }\n</style>\n<table border=\"1\" class=\"dataframe\">\n  <thead>\n    <tr style=\"text-align: right;\">\n      <th></th>\n      <th>Unnamed: 0</th>\n      <th>Country</th>\n      <th>Period</th>\n      <th>Crude</th>\n      <th>NGPL</th>\n      <th>Others</th>\n      <th>Refinery</th>\n    </tr>\n  </thead>\n  <tbody>\n    <tr>\n      <th>0</th>\n      <td>0</td>\n      <td>Albania</td>\n      <td>1993-01</td>\n      <td>11.26</td>\n      <td>0.0</td>\n      <td>0.0</td>\n      <td>-0.1</td>\n    </tr>\n    <tr>\n      <th>1</th>\n      <td>1</td>\n      <td>Albania</td>\n      <td>1993-02</td>\n      <td>11.26</td>\n      <td>0.0</td>\n      <td>0.0</td>\n      <td>-0.1</td>\n    </tr>\n    <tr>\n      <th>2</th>\n      <td>2</td>\n      <td>Albania</td>\n      <td>1993-03</td>\n      <td>11.26</td>\n      <td>0.0</td>\n      <td>0.0</td>\n      <td>-0.1</td>\n    </tr>\n    <tr>\n      <th>3</th>\n      <td>3</td>\n      <td>Albania</td>\n      <td>1993-04</td>\n      <td>11.26</td>\n      <td>0.0</td>\n      <td>0.0</td>\n      <td>-0.1</td>\n    </tr>\n    <tr>\n      <th>4</th>\n      <td>4</td>\n      <td>Albania</td>\n      <td>1993-05</td>\n      <td>11.26</td>\n      <td>0.0</td>\n      <td>0.0</td>\n      <td>-0.1</td>\n    </tr>\n  </tbody>\n</table>\n</div>"
     },
     "metadata": {},
     "execution_count": 14
    }
   ],
   "source": [
    "Variaciones_valor.head()"
   ]
  },
  {
   "cell_type": "code",
   "execution_count": null,
   "metadata": {},
   "outputs": [],
   "source": []
  }
 ]
}