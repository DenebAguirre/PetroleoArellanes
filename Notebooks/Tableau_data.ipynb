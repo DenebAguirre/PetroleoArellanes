{
 "metadata": {
  "language_info": {
   "codemirror_mode": {
    "name": "ipython",
    "version": 3
   },
   "file_extension": ".py",
   "mimetype": "text/x-python",
   "name": "python",
   "nbconvert_exporter": "python",
   "pygments_lexer": "ipython3",
   "version": "3.7.7-final"
  },
  "orig_nbformat": 2,
  "kernelspec": {
   "name": "Python 3.7.7 64-bit ('base': conda)",
   "display_name": "Python 3.7.7 64-bit ('base': conda)",
   "metadata": {
    "interpreter": {
     "hash": "aa7583ab6350143d4e9d2780c62a9c5e1694c574a0517b8a7c25e1096bbf9afb"
    }
   }
  }
 },
 "nbformat": 4,
 "nbformat_minor": 2,
 "cells": [
  {
   "cell_type": "code",
   "execution_count": 1,
   "metadata": {},
   "outputs": [],
   "source": [
    "import pandas as pd\n",
    "import numpy as np\n",
    "import matplotlib.pyplot as plt"
   ]
  },
  {
   "cell_type": "code",
   "execution_count": 2,
   "metadata": {},
   "outputs": [],
   "source": [
    "#Read Data\n",
    "Exportaciones_netas = pd.read_csv(\"../csv_results/Exportaciones_Mensuales_Netas.csv\")\n",
    "Incidentes_geopoliticos = pd.read_csv('../csv_results/incidentes_geopoliticos.csv')\n",
    "Terrorismo = pd.read_csv(\"../csv_results/Terrorism.csv\")\n",
    "Variaciones_valor = pd.read_csv(\"../csv_results/Variaciones_Valor_Mensual.csv\")\n",
    "\n",
    "#Delete unnecesary columns in the Incidentes geopoliticos DB\n",
    "del Incidentes_geopoliticos[\"Unnamed: 0\"]\n",
    "del Variaciones_valor['Unnamed: 0']\n",
    "\n",
    "#Delete unnecesary columns in the Expotaciones_netas DB\n",
    "Exportaciones_netas = Exportaciones_netas.drop(columns=[\"Unnamed: 0\", \"Exp_notes\", 'Imp_notes'])\n",
    "\n",
    "#Delete unnecesary columns in the Terrorismo DB\n",
    "Terrorismo = Terrorismo.drop(columns=['Unnamed: 0', 'imonth', 'approxdate', 'targtype1', 'targsubtype1', 'doubtterr', 'alternative', 'propextent'])"
   ]
  },
  {
   "cell_type": "code",
   "execution_count": 3,
   "metadata": {},
   "outputs": [
    {
     "output_type": "execute_result",
     "data": {
      "text/plain": [
       "{'var': ['Burma', 'Congo-Brazzaville', 'Congo-Kinshasa', 'Russia', 'Yemen'],\n",
       " 'exp': ['Brunei Darussalam',\n",
       "  'Bolivia, Plurinational State of',\n",
       "  'Iran, Islamic Republic of',\n",
       "  'Myanmar',\n",
       "  'Russian Federation',\n",
       "  'Venezuela, Bolivarian Republic of',\n",
       "  'Viet Nam',\n",
       "  'Yemen'],\n",
       " 'inc': ['Congo', 'DR Congo (Zaire)'],\n",
       " 'ter': ['Myanmar', 'Yemen', 'Russia']}"
      ]
     },
     "metadata": {},
     "execution_count": 3
    }
   ],
   "source": [
    "###Create a list with definitive countries names \n",
    "#Problematic countries names are marked with a variant in parenthesis\n",
    "countries = ['Albania','Algeria','Angola','Argentina','Azerbaijan','Benin','Bolivia','Brazil','Brunei','Cameroon','Canada','China','Colombia','Republic of the Congo', 'Democratic Republic of the Congo', 'Denmark','Ecuador','Egypt','Estonia','Gabon','Georgia','Ghana','Guatemala','Indonesia','Iran','Iraq','Kazakhstan','Kuwait','Kyrgyzstan','Libya','Malaysia','Mexico','Mongolia', 'Myanmar (Burma)','Nigeria','Norway','Oman','Qatar','Russia (Soviet Union)','Saudi Arabia','South Sudan','Sudan','Trinidad and Tobago','Tunisia','Turkmenistan','United Arab Emirates','United Kingdom','Venezuela','Vietnam','Yemen (North Yemen)']\n",
    "\n",
    "#### Create a dictionary of countries names who may be replaced\n",
    "#First create a dictionary with countries in each db\n",
    "db_countries = { \"var\" : Variaciones_valor[\"Country\"].unique().tolist(),\n",
    "                \"exp\" : Exportaciones_netas['Country'].unique().tolist(),\n",
    "                \"inc\" : Incidentes_geopoliticos['country'].unique().tolist(),\n",
    "                \"ter\" : Terrorismo['country_txt'].unique().tolist() }\n",
    "\n",
    "#Then for each db_list check which countries do not match with our list and put them in a dictionary\n",
    "to_change = {'var' : [x for x in db_countries[\"var\"] if x not in countries], \n",
    "                    'exp' : [x for x in db_countries[\"exp\"] if x not in countries],\n",
    "                    'inc' : [x for x in db_countries[\"inc\"] if x not in countries],\n",
    "                    'ter' : [x for x in db_countries[\"ter\"] if x not in countries] }\n",
    "\n",
    "#Print the dictionary in order to find which names need to be replaced\n",
    "to_change"
   ]
  },
  {
   "cell_type": "code",
   "execution_count": 4,
   "metadata": {},
   "outputs": [],
   "source": [
    "#Now replace the names in each db\n",
    "#Exportaciones netas\n",
    "Exportaciones_netas[\"Country\"] = Exportaciones_netas[\"Country\"].replace({'Brunei Darussalam' : 'Brunei',\n",
    "  'Bolivia, Plurinational State of' : 'Bolivia',\n",
    "  'Iran, Islamic Republic of' : 'Iran' ,\n",
    "  'Myanmar' : 'Myanmar (Burma)',\n",
    "  'Russian Federation' : 'Russia (Soviet Union)',\n",
    "  'Venezuela, Bolivarian Republic of' : 'Venezuela',\n",
    "  'Viet Nam' : 'Vietnam',\n",
    "  'Yemen' : 'Yemen (North Yemen)'}) \n",
    "\n",
    "#Incidentes geopoliticos\n",
    "Incidentes_geopoliticos[\"country\"] = Incidentes_geopoliticos[\"country\"].replace({'Congo' : 'Republic of the Congo', 'DR Congo (Zaire)' : 'Democratic Republic of the Congo'})\n",
    "\n",
    "#Terrorismo\n",
    "Terrorismo[\"country_txt\"] = Terrorismo[\"country_txt\"].replace({'Myanmar' : 'Myanmar (Burma)', 'Yemen' : 'Yemen (North Yemen)' , 'Russia' : 'Russia (Soviet Union)', 'South Vietnam' : 'Vietnam' })\n",
    "\n",
    "#Variaciones en el valor \n",
    "Variaciones_valor[\"Country\"] = Variaciones_valor[\"Country\"].replace({'Burma' : 'Myanmar (Burma)', 'Congo-Brazzaville' : 'Republic of the Congo', 'Congo-Kinshasa' : 'Democratic Republic of the Congo', 'Russia' : 'Russia (Soviet Union)' , 'Yemen' : 'Yemen (North Yemen)'})"
   ]
  },
  {
   "cell_type": "code",
   "execution_count": 5,
   "metadata": {},
   "outputs": [],
   "source": [
    "#Create a version of each DB with selected data\n",
    "#Sum of succesful terrorism acts, people wounded and killed, and damage of proerty in dollars\n",
    "Terrorismo = Terrorismo[['period', 'country_txt',  'targtype1_txt', \"success\", \"nkill\", \"nwound\", 'propvalue', \"latitude\",\t\"longitude\"]]\n",
    "Terrorismo = Terrorismo.rename(columns={'period' : \"Period\", 'country_txt' : \"Country\",  'targtype1_txt': \"Targe_type\", \"success\" : \"Success\", \"nkill\" : \"Kills\", \"nwound\" : \"Wounded\", 'propvalue' : \"Property_damage_value\"})\n",
    "\n",
    "#Sum of values from each period\n",
    "Valores = Variaciones_valor[['Period', 'Country', 'Crude', 'NGPL', 'Others', 'Refinery']]\n",
    "Valores = Valores.rename(columns={'Crude' : 'Value_Crude', 'NGPL' : 'Val_NGPL' , 'Others' : 'Val_Others', \"Refinery\" : 'Val_Refinery'})\n",
    "\n",
    "#count how many incidentes and how many victimes were in the period\n",
    "Incidentes = Incidentes_geopoliticos[['Start_month', 'country', 'conflict_name', 'best', \"latitude\", \"longitude\"]]\n",
    "Incidentes = Incidentes.rename(columns={'Start_month' : \"Period\", 'country' : \"Country\", \"best\" : \"Victims\" })\n",
    "\n",
    "#Sum how many net barrels were exported in the period\n",
    "Exportaciones = Exportaciones_netas[[ \"Month\", \"Country\", 'Exports (kb/d)', 'Imports (kb/d)', 'Net_Exports']]\n",
    "Exportaciones = Exportaciones.rename(columns={\"Month\" : \"Period\"})"
   ]
  },
  {
   "cell_type": "code",
   "execution_count": 6,
   "metadata": {},
   "outputs": [
    {
     "output_type": "execute_result",
     "data": {
      "text/plain": [
       "Index(['Country', 'Month', 'Exports (kb/d)', 'Imports (kb/d)', 'Net_Exports'], dtype='object')"
      ]
     },
     "metadata": {},
     "execution_count": 6
    }
   ],
   "source": [
    "Exportaciones_netas.columns"
   ]
  },
  {
   "cell_type": "code",
   "execution_count": 23,
   "metadata": {},
   "outputs": [],
   "source": [
    "dbs = [Exportaciones, Valores, Incidentes, Terrorismo]\n",
    "\n",
    "\n",
    "tableau = pd.merge(Exportaciones, Valores, on=['Period', 'Country'], how=\"outer\")\n",
    "\n",
    "tableau = pd.merge(tableau, Incidentes, on=['Period', 'Country'], how=\"outer\")\n",
    "\n",
    "tableau = pd.merge(tableau, Terrorismo, on=['Period', 'Country'], how=\"outer\")\n",
    "\n",
    "tableau[\"Period\"] = pd.to_datetime(tableau[\"Period\"])\n"
   ]
  },
  {
   "source": [
    "# Next Steps\n",
    "\n",
    "- Probrar la mejor manera de hacer un merge de cada una de las bases de datos\n",
    "- "
   ],
   "cell_type": "markdown",
   "metadata": {}
  },
  {
   "cell_type": "code",
   "execution_count": 31,
   "metadata": {},
   "outputs": [
    {
     "output_type": "execute_result",
     "data": {
      "text/plain": [
       "[nan,\n",
       " -99.0,\n",
       " 6400000.0,\n",
       " 100000.0,\n",
       " 50000.0,\n",
       " 400000.0,\n",
       " 80000.0,\n",
       " 160000.0,\n",
       " 180000.0,\n",
       " 30000.0,\n",
       " 200000.0,\n",
       " 300.0,\n",
       " 20000.0,\n",
       " 1000000.0,\n",
       " 6000000.0,\n",
       " 300000.0,\n",
       " 70000.0,\n",
       " 575000.0,\n",
       " 45000.0,\n",
       " 370000.0,\n",
       " 106000.0,\n",
       " 120000.0,\n",
       " 216000.0,\n",
       " 500000.0,\n",
       " 600000.0,\n",
       " 54000.0,\n",
       " 62000.0,\n",
       " 21400000.0,\n",
       " 6607000.0,\n",
       " 25000.0,\n",
       " 1500000.0,\n",
       " 60000.0,\n",
       " 40000.0,\n",
       " 84000.0,\n",
       " 72000.0,\n",
       " 150000.0,\n",
       " 800000.0,\n",
       " 75000.0,\n",
       " 90000.0,\n",
       " 5000000.0,\n",
       " 70000000.0,\n",
       " 39000.0,\n",
       " 2000.0,\n",
       " 1556000.0,\n",
       " 10000.0,\n",
       " 4000.0,\n",
       " 585.0,\n",
       " 6241.0,\n",
       " 12000.0,\n",
       " 125000.0,\n",
       " 5000.0,\n",
       " 121200.0,\n",
       " 3000.0,\n",
       " 3000000.0,\n",
       " 230000.0,\n",
       " 55000.0,\n",
       " 362000.0]"
      ]
     },
     "metadata": {},
     "execution_count": 31
    }
   ],
   "source": [
    "#tableau.iloc[3500:3550]\n",
    "damage = tableau[\"Property_damage_value\"].unique().tolist()\n",
    "damage"
   ]
  },
  {
   "cell_type": "code",
   "execution_count": 25,
   "metadata": {},
   "outputs": [],
   "source": [
    "tableau.to_csv(\"../csv_results/unified_oil_data.csv\")"
   ]
  },
  {
   "cell_type": "code",
   "execution_count": 29,
   "metadata": {},
   "outputs": [
    {
     "output_type": "execute_result",
     "data": {
      "text/plain": [
       "Period                   datetime64[ns]\n",
       "Country                          object\n",
       "Exports (kb/d)                  float64\n",
       "Imports (kb/d)                  float64\n",
       "Net_Exports                     float64\n",
       "Value_Crude                     float64\n",
       "Val_NGPL                        float64\n",
       "Val_Others                      float64\n",
       "Val_Refinery                    float64\n",
       "conflict_name                    object\n",
       "Victims                         float64\n",
       "latitude_x                      float64\n",
       "longitude_x                     float64\n",
       "Targe_type                       object\n",
       "Success                         float64\n",
       "Kills                           float64\n",
       "Wounded                         float64\n",
       "Property_damage_value           float64\n",
       "latitude_y                      float64\n",
       "longitude_y                     float64\n",
       "dtype: object"
      ]
     },
     "metadata": {},
     "execution_count": 29
    }
   ],
   "source": [
    "tableau.dtypes"
   ]
  },
  {
   "cell_type": "code",
   "execution_count": 10,
   "metadata": {},
   "outputs": [
    {
     "output_type": "execute_result",
     "data": {
      "text/plain": [
       "    Period               Country  Exports (kb/d)  Imports (kb/d)  Net_Exports\n",
       "0  2002-01  United Arab Emirates          1860.0             0.0       1860.0\n",
       "1  2002-02  United Arab Emirates          1989.0             0.0       1989.0\n",
       "2  2002-03  United Arab Emirates          1868.0             0.0       1868.0\n",
       "3  2002-04  United Arab Emirates          1669.0             0.0       1669.0\n",
       "4  2002-05  United Arab Emirates          1821.0             0.0       1821.0"
      ],
      "text/html": "<div>\n<style scoped>\n    .dataframe tbody tr th:only-of-type {\n        vertical-align: middle;\n    }\n\n    .dataframe tbody tr th {\n        vertical-align: top;\n    }\n\n    .dataframe thead th {\n        text-align: right;\n    }\n</style>\n<table border=\"1\" class=\"dataframe\">\n  <thead>\n    <tr style=\"text-align: right;\">\n      <th></th>\n      <th>Period</th>\n      <th>Country</th>\n      <th>Exports (kb/d)</th>\n      <th>Imports (kb/d)</th>\n      <th>Net_Exports</th>\n    </tr>\n  </thead>\n  <tbody>\n    <tr>\n      <th>0</th>\n      <td>2002-01</td>\n      <td>United Arab Emirates</td>\n      <td>1860.0</td>\n      <td>0.0</td>\n      <td>1860.0</td>\n    </tr>\n    <tr>\n      <th>1</th>\n      <td>2002-02</td>\n      <td>United Arab Emirates</td>\n      <td>1989.0</td>\n      <td>0.0</td>\n      <td>1989.0</td>\n    </tr>\n    <tr>\n      <th>2</th>\n      <td>2002-03</td>\n      <td>United Arab Emirates</td>\n      <td>1868.0</td>\n      <td>0.0</td>\n      <td>1868.0</td>\n    </tr>\n    <tr>\n      <th>3</th>\n      <td>2002-04</td>\n      <td>United Arab Emirates</td>\n      <td>1669.0</td>\n      <td>0.0</td>\n      <td>1669.0</td>\n    </tr>\n    <tr>\n      <th>4</th>\n      <td>2002-05</td>\n      <td>United Arab Emirates</td>\n      <td>1821.0</td>\n      <td>0.0</td>\n      <td>1821.0</td>\n    </tr>\n  </tbody>\n</table>\n</div>"
     },
     "metadata": {},
     "execution_count": 10
    }
   ],
   "source": [
    "Exportaciones.head()"
   ]
  },
  {
   "cell_type": "code",
   "execution_count": 11,
   "metadata": {},
   "outputs": [
    {
     "output_type": "execute_result",
     "data": {
      "text/plain": [
       "   Country   Period  Crude  NGPL  Others  Refinery\n",
       "0  Albania  1993-01  11.26   0.0     0.0      -0.1\n",
       "1  Albania  1993-02  11.26   0.0     0.0      -0.1\n",
       "2  Albania  1993-03  11.26   0.0     0.0      -0.1\n",
       "3  Albania  1993-04  11.26   0.0     0.0      -0.1\n",
       "4  Albania  1993-05  11.26   0.0     0.0      -0.1"
      ],
      "text/html": "<div>\n<style scoped>\n    .dataframe tbody tr th:only-of-type {\n        vertical-align: middle;\n    }\n\n    .dataframe tbody tr th {\n        vertical-align: top;\n    }\n\n    .dataframe thead th {\n        text-align: right;\n    }\n</style>\n<table border=\"1\" class=\"dataframe\">\n  <thead>\n    <tr style=\"text-align: right;\">\n      <th></th>\n      <th>Country</th>\n      <th>Period</th>\n      <th>Crude</th>\n      <th>NGPL</th>\n      <th>Others</th>\n      <th>Refinery</th>\n    </tr>\n  </thead>\n  <tbody>\n    <tr>\n      <th>0</th>\n      <td>Albania</td>\n      <td>1993-01</td>\n      <td>11.26</td>\n      <td>0.0</td>\n      <td>0.0</td>\n      <td>-0.1</td>\n    </tr>\n    <tr>\n      <th>1</th>\n      <td>Albania</td>\n      <td>1993-02</td>\n      <td>11.26</td>\n      <td>0.0</td>\n      <td>0.0</td>\n      <td>-0.1</td>\n    </tr>\n    <tr>\n      <th>2</th>\n      <td>Albania</td>\n      <td>1993-03</td>\n      <td>11.26</td>\n      <td>0.0</td>\n      <td>0.0</td>\n      <td>-0.1</td>\n    </tr>\n    <tr>\n      <th>3</th>\n      <td>Albania</td>\n      <td>1993-04</td>\n      <td>11.26</td>\n      <td>0.0</td>\n      <td>0.0</td>\n      <td>-0.1</td>\n    </tr>\n    <tr>\n      <th>4</th>\n      <td>Albania</td>\n      <td>1993-05</td>\n      <td>11.26</td>\n      <td>0.0</td>\n      <td>0.0</td>\n      <td>-0.1</td>\n    </tr>\n  </tbody>\n</table>\n</div>"
     },
     "metadata": {},
     "execution_count": 11
    }
   ],
   "source": [
    "Variaciones_valor.head()"
   ]
  },
  {
   "cell_type": "code",
   "execution_count": 12,
   "metadata": {},
   "outputs": [
    {
     "output_type": "execute_result",
     "data": {
      "text/plain": [
       "                 conflict_name  year  active_year  country  region  best  \\\n",
       "0  Serbia (Yugoslavia): Kosovo  1999            1  Albania  Europe     4   \n",
       "1  Serbia (Yugoslavia): Kosovo  1999            1  Albania  Europe     2   \n",
       "2  Serbia (Yugoslavia): Kosovo  1999            1  Albania  Europe     0   \n",
       "3  Serbia (Yugoslavia): Kosovo  1999            1  Albania  Europe     0   \n",
       "4          Algeria: Government  1990            0  Algeria  Africa     1   \n",
       "\n",
       "   high  low   latitude  longitude Start_month End_month  \n",
       "0     4    4  42.450278  20.184167     1999-04   1999-04  \n",
       "1     2    2  42.404167  20.166667     1999-04   1999-04  \n",
       "2     2    0  42.198056  20.473889     1999-05   1999-05  \n",
       "3     1    0  42.244444  20.342500     1999-06   1999-06  \n",
       "4     1    1  36.147656   3.691227     1990-12   1990-12  "
      ],
      "text/html": "<div>\n<style scoped>\n    .dataframe tbody tr th:only-of-type {\n        vertical-align: middle;\n    }\n\n    .dataframe tbody tr th {\n        vertical-align: top;\n    }\n\n    .dataframe thead th {\n        text-align: right;\n    }\n</style>\n<table border=\"1\" class=\"dataframe\">\n  <thead>\n    <tr style=\"text-align: right;\">\n      <th></th>\n      <th>conflict_name</th>\n      <th>year</th>\n      <th>active_year</th>\n      <th>country</th>\n      <th>region</th>\n      <th>best</th>\n      <th>high</th>\n      <th>low</th>\n      <th>latitude</th>\n      <th>longitude</th>\n      <th>Start_month</th>\n      <th>End_month</th>\n    </tr>\n  </thead>\n  <tbody>\n    <tr>\n      <th>0</th>\n      <td>Serbia (Yugoslavia): Kosovo</td>\n      <td>1999</td>\n      <td>1</td>\n      <td>Albania</td>\n      <td>Europe</td>\n      <td>4</td>\n      <td>4</td>\n      <td>4</td>\n      <td>42.450278</td>\n      <td>20.184167</td>\n      <td>1999-04</td>\n      <td>1999-04</td>\n    </tr>\n    <tr>\n      <th>1</th>\n      <td>Serbia (Yugoslavia): Kosovo</td>\n      <td>1999</td>\n      <td>1</td>\n      <td>Albania</td>\n      <td>Europe</td>\n      <td>2</td>\n      <td>2</td>\n      <td>2</td>\n      <td>42.404167</td>\n      <td>20.166667</td>\n      <td>1999-04</td>\n      <td>1999-04</td>\n    </tr>\n    <tr>\n      <th>2</th>\n      <td>Serbia (Yugoslavia): Kosovo</td>\n      <td>1999</td>\n      <td>1</td>\n      <td>Albania</td>\n      <td>Europe</td>\n      <td>0</td>\n      <td>2</td>\n      <td>0</td>\n      <td>42.198056</td>\n      <td>20.473889</td>\n      <td>1999-05</td>\n      <td>1999-05</td>\n    </tr>\n    <tr>\n      <th>3</th>\n      <td>Serbia (Yugoslavia): Kosovo</td>\n      <td>1999</td>\n      <td>1</td>\n      <td>Albania</td>\n      <td>Europe</td>\n      <td>0</td>\n      <td>1</td>\n      <td>0</td>\n      <td>42.244444</td>\n      <td>20.342500</td>\n      <td>1999-06</td>\n      <td>1999-06</td>\n    </tr>\n    <tr>\n      <th>4</th>\n      <td>Algeria: Government</td>\n      <td>1990</td>\n      <td>0</td>\n      <td>Algeria</td>\n      <td>Africa</td>\n      <td>1</td>\n      <td>1</td>\n      <td>1</td>\n      <td>36.147656</td>\n      <td>3.691227</td>\n      <td>1990-12</td>\n      <td>1990-12</td>\n    </tr>\n  </tbody>\n</table>\n</div>"
     },
     "metadata": {},
     "execution_count": 12
    }
   ],
   "source": [
    "Incidentes_geopoliticos.head()"
   ]
  },
  {
   "cell_type": "code",
   "execution_count": 13,
   "metadata": {},
   "outputs": [
    {
     "output_type": "execute_result",
     "data": {
      "text/plain": [
       "    Period    Country Targe_type  Success  Kills  Wounded  \\\n",
       "0  1972-01     Kuwait   Business        1    0.0      0.0   \n",
       "1  1972-08       Iran   Business        0    0.0      0.0   \n",
       "2  1972-08       Iran  Utilities        0    0.0      0.0   \n",
       "3  1973-11  Venezuela  Utilities        1    NaN      NaN   \n",
       "4  1973-12  Argentina   Business        1    0.0      0.0   \n",
       "\n",
       "   Property_damage_value   latitude  longitude  \n",
       "0                    NaN        NaN        NaN  \n",
       "1                    NaN  35.724533  51.405190  \n",
       "2                    NaN  30.345997  48.287136  \n",
       "3                    NaN        NaN        NaN  \n",
       "4                    NaN -34.617680 -58.444435  "
      ],
      "text/html": "<div>\n<style scoped>\n    .dataframe tbody tr th:only-of-type {\n        vertical-align: middle;\n    }\n\n    .dataframe tbody tr th {\n        vertical-align: top;\n    }\n\n    .dataframe thead th {\n        text-align: right;\n    }\n</style>\n<table border=\"1\" class=\"dataframe\">\n  <thead>\n    <tr style=\"text-align: right;\">\n      <th></th>\n      <th>Period</th>\n      <th>Country</th>\n      <th>Targe_type</th>\n      <th>Success</th>\n      <th>Kills</th>\n      <th>Wounded</th>\n      <th>Property_damage_value</th>\n      <th>latitude</th>\n      <th>longitude</th>\n    </tr>\n  </thead>\n  <tbody>\n    <tr>\n      <th>0</th>\n      <td>1972-01</td>\n      <td>Kuwait</td>\n      <td>Business</td>\n      <td>1</td>\n      <td>0.0</td>\n      <td>0.0</td>\n      <td>NaN</td>\n      <td>NaN</td>\n      <td>NaN</td>\n    </tr>\n    <tr>\n      <th>1</th>\n      <td>1972-08</td>\n      <td>Iran</td>\n      <td>Business</td>\n      <td>0</td>\n      <td>0.0</td>\n      <td>0.0</td>\n      <td>NaN</td>\n      <td>35.724533</td>\n      <td>51.405190</td>\n    </tr>\n    <tr>\n      <th>2</th>\n      <td>1972-08</td>\n      <td>Iran</td>\n      <td>Utilities</td>\n      <td>0</td>\n      <td>0.0</td>\n      <td>0.0</td>\n      <td>NaN</td>\n      <td>30.345997</td>\n      <td>48.287136</td>\n    </tr>\n    <tr>\n      <th>3</th>\n      <td>1973-11</td>\n      <td>Venezuela</td>\n      <td>Utilities</td>\n      <td>1</td>\n      <td>NaN</td>\n      <td>NaN</td>\n      <td>NaN</td>\n      <td>NaN</td>\n      <td>NaN</td>\n    </tr>\n    <tr>\n      <th>4</th>\n      <td>1973-12</td>\n      <td>Argentina</td>\n      <td>Business</td>\n      <td>1</td>\n      <td>0.0</td>\n      <td>0.0</td>\n      <td>NaN</td>\n      <td>-34.617680</td>\n      <td>-58.444435</td>\n    </tr>\n  </tbody>\n</table>\n</div>"
     },
     "metadata": {},
     "execution_count": 13
    }
   ],
   "source": [
    "Terrorismo.head()"
   ]
  },
  {
   "cell_type": "code",
   "execution_count": null,
   "metadata": {},
   "outputs": [],
   "source": []
  }
 ]
}