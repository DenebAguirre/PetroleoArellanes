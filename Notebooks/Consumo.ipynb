{
 "metadata": {
  "language_info": {
   "codemirror_mode": {
    "name": "ipython",
    "version": 3
   },
   "file_extension": ".py",
   "mimetype": "text/x-python",
   "name": "python",
   "nbconvert_exporter": "python",
   "pygments_lexer": "ipython3",
   "version": "3.7.7-final"
  },
  "orig_nbformat": 2,
  "kernelspec": {
   "name": "python3",
   "display_name": "Python 3"
  }
 },
 "nbformat": 4,
 "nbformat_minor": 2,
 "cells": [
  {
   "cell_type": "code",
   "execution_count": 4,
   "metadata": {},
   "outputs": [],
   "source": [
    "import pandas as pd\n",
    "import numpy as np\n",
    "\n",
    "consumo = pd.read_excel('../Databases/IEA International Energy Administration/IEA_HeadlineEnergyData.xlsx', sheet_name=\"TimeSeries_1971-2018\", header=1)\n",
    "consumo = pd.DataFrame(consumo)"
   ]
  },
  {
   "cell_type": "code",
   "execution_count": 6,
   "metadata": {},
   "outputs": [
    {
     "output_type": "execute_result",
     "data": {
      "text/plain": "array(['Australia', 'Austria', 'Belgium', 'Canada', 'Chile',\n       'Czech Republic', 'Denmark', 'Estonia', 'Finland', 'France',\n       'Germany', 'Greece', 'Hungary', 'Iceland', 'Ireland', 'Israel',\n       'Italy', 'Japan', 'Korea', 'Latvia', 'Lithuania', 'Luxembourg',\n       'Mexico', 'Netherlands', 'New Zealand', 'Norway', 'Poland',\n       'Portugal', 'Slovak Republic', 'Slovenia', 'Spain', 'Sweden',\n       'Switzerland', 'Turkey', 'United Kingdom', 'United States',\n       'OECD Total', 'Brazil', \"People's Republic of China\", 'India',\n       'Indonesia', 'Morocco', 'Singapore', 'South Africa', 'Thailand',\n       'Non-OECD Total', 'Africa', 'Non-OECD Americas',\n       'Non-OECD Asia (including China)', 'Non-OECD Europe and Eurasia',\n       'Middle East', 'IEA Total',\n       'IEA and Accession/Association countries', 'World'], dtype=object)"
     },
     "metadata": {},
     "execution_count": 6
    }
   ],
   "source": [
    "\n",
    "consumo[\"Country\"].unique()"
   ]
  },
  {
   "cell_type": "code",
   "execution_count": null,
   "metadata": {},
   "outputs": [],
   "source": [
    "netos = ['Albania','Algeria','Angola','Argentina','Azerbaijan','Benin','Bolivia','Brazil','Brunei','Cameroon','Canada','China','Colombia','Congo-Brazzaville', 'Congo-Kinshasa', 'Denmark','Ecuador','Egypt','Estonia','Gabon','Georgia','Ghana','Guatemala','Indonesia','Iran','Iraq','Kazakhstan','Kuwait','Kyrgyzstan','Libya','Malaysia','Mexico','Mongolia', 'Burma','Nigeria','Norway','Oman','Qatar','Russia','Saudi Arabia','South Sudan','Sudan','Trinidad and Tobago','Tunisia','Turkmenistan','United Arab Emirates','United Kingdom','Venezuela','Vietnam','Yemen']"
   ]
  }
 ]
}