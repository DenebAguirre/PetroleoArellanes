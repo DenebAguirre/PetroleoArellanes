{
 "metadata": {
  "language_info": {
   "codemirror_mode": {
    "name": "ipython",
    "version": 3
   },
   "file_extension": ".py",
   "mimetype": "text/x-python",
   "name": "python",
   "nbconvert_exporter": "python",
   "pygments_lexer": "ipython3",
   "version": "3.7.7-final"
  },
  "orig_nbformat": 2,
  "kernelspec": {
   "name": "Python 3.7.7 64-bit ('base': conda)",
   "display_name": "Python 3.7.7 64-bit ('base': conda)",
   "metadata": {
    "interpreter": {
     "hash": "aa7583ab6350143d4e9d2780c62a9c5e1694c574a0517b8a7c25e1096bbf9afb"
    }
   }
  }
 },
 "nbformat": 4,
 "nbformat_minor": 2,
 "cells": [
  {
   "cell_type": "code",
   "execution_count": 1,
   "metadata": {},
   "outputs": [],
   "source": [
    "import pandas as pd \n",
    "import numpy as np \n",
    "import matplotlib.pyplot as plt"
   ]
  },
  {
   "cell_type": "code",
   "execution_count": 22,
   "metadata": {},
   "outputs": [],
   "source": [
    "#Read Data\n",
    "Exportaciones_netas = pd.read_csv(\"../csv_results/Exportaciones_Mensuales_Netas.csv\")\n",
    "Incidentes_geopoliticos = pd.read_csv('../csv_results/incidentes_geopoliticos.csv')\n",
    "Terrorismo = pd.read_csv(\"../csv_results/Terrorism.csv\")\n",
    "Variaciones_valor = pd.read_csv(\"../csv_results/Variaciones_Valor_Mensual.csv\")\n",
    "\n",
    "#Delete unnecesary columns in the Incidentes geopoliticos DB\n",
    "del Incidentes_geopoliticos[\"Unnamed: 0\"]\n",
    "\n",
    "#Delete unnecesary columns in the Expotaciones_netas DB\n",
    "Exportaciones_netas = Exportaciones_netas.drop(columns=[\"Unnamed: 0\", \"Exp_notes\", 'Imp_notes'])\n",
    "\n",
    "#Delete unnecesary columns in the Terrorismo DB\n",
    "Terrorismo = Terrorismo.drop(columns=['Unnamed: 0', 'imonth', 'approxdate', 'targtype1', 'targsubtype1', 'doubtterr', 'alternative', 'propextent'])"
   ]
  },
  {
   "cell_type": "code",
   "execution_count": 23,
   "metadata": {
    "tags": []
   },
   "outputs": [
    {
     "output_type": "execute_result",
     "data": {
      "text/plain": "{&#39;var&#39;: [&#39;Burma&#39;, &#39;Congo-Brazzaville&#39;, &#39;Congo-Kinshasa&#39;, &#39;Russia&#39;, &#39;Yemen&#39;],\n &#39;exp&#39;: [&#39;Brunei Darussalam&#39;,\n  &#39;Bolivia, Plurinational State of&#39;,\n  &#39;Iran, Islamic Republic of&#39;,\n  &#39;Myanmar&#39;,\n  &#39;Russian Federation&#39;,\n  &#39;Venezuela, Bolivarian Republic of&#39;,\n  &#39;Viet Nam&#39;,\n  &#39;Yemen&#39;],\n &#39;inc&#39;: [&#39;Congo&#39;, &#39;DR Congo (Zaire)&#39;],\n &#39;ter&#39;: [&#39;Myanmar&#39;, &#39;Yemen&#39;, &#39;Russia&#39;]}"
     },
     "metadata": {},
     "execution_count": 23
    }
   ],
   "source": [
    "###Create a list with definitive countries names \n",
    "#Problematic countries names are marked with a variant in parenthesis\n",
    "countries = ['Albania','Algeria','Angola','Argentina','Azerbaijan','Benin','Bolivia','Brazil','Brunei','Cameroon','Canada','China','Colombia','Republic of the Congo', 'Democratic Republic of the Congo', 'Denmark','Ecuador','Egypt','Estonia','Gabon','Georgia','Ghana','Guatemala','Indonesia','Iran','Iraq','Kazakhstan','Kuwait','Kyrgyzstan','Libya','Malaysia','Mexico','Mongolia', 'Myanmar (Burma)','Nigeria','Norway','Oman','Qatar','Russia (Soviet Union)','Saudi Arabia','South Sudan','Sudan','Trinidad and Tobago','Tunisia','Turkmenistan','United Arab Emirates','United Kingdom','Venezuela','Vietnam','Yemen (North Yemen)']\n",
    "\n",
    "#### Create a dictionary of countries names who may be replaced\n",
    "#First create a dictionary with countries in each db\n",
    "db_countries = { \"var\" : Variaciones_valor[\"Country\"].unique().tolist(),\n",
    "                \"exp\" : Exportaciones_netas['Country'].unique().tolist(),\n",
    "                \"inc\" : Incidentes_geopoliticos['country'].unique().tolist(),\n",
    "                \"ter\" : Terrorismo['country_txt'].unique().tolist() }\n",
    "\n",
    "#Then for each db_list check which countries do not match with our list and put them in a dictionary\n",
    "to_change = {'var' : [x for x in db_countries[\"var\"] if x not in countries], \n",
    "                    'exp' : [x for x in db_countries[\"exp\"] if x not in countries],\n",
    "                    'inc' : [x for x in db_countries[\"inc\"] if x not in countries],\n",
    "                    'ter' : [x for x in db_countries[\"ter\"] if x not in countries] }\n",
    "\n",
    "#Print the dictionary in order to find which names need to be replaced\n",
    "to_change"
   ]
  },
  {
   "cell_type": "code",
   "execution_count": 24,
   "metadata": {},
   "outputs": [],
   "source": [
    "#Now replace the names in each db\n",
    "#Exportaciones netas\n",
    "Exportaciones_netas[\"Country\"] = Exportaciones_netas[\"Country\"].replace({'Brunei Darussalam' : 'Brunei',\n",
    "  'Bolivia, Plurinational State of' : 'Bolivia',\n",
    "  'Iran, Islamic Republic of' : 'Iran' ,\n",
    "  'Myanmar' : 'Myanmar (Burma)',\n",
    "  'Russian Federation' : 'Russia (Soviet Union)',\n",
    "  'Venezuela, Bolivarian Republic of' : 'Venezuela',\n",
    "  'Viet Nam' : 'Vietnam',\n",
    "  'Yemen' : 'Yemen (North Yemen)'}) \n",
    "\n",
    "#Incidentes geopoliticos\n",
    "Incidentes_geopoliticos[\"country\"] = Incidentes_geopoliticos[\"country\"].replace({'Congo' : 'Republic of the Congo', 'DR Congo (Zaire)' : 'Democratic Republic of the Congo'})\n",
    "\n",
    "#Terrorismo\n",
    "Terrorismo[\"country_txt\"] = Terrorismo[\"country_txt\"].replace({'Myanmar' : 'Myanmar (Burma)', 'Yemen' : 'Yemen (North Yemen)' , 'Russia' : 'Russia (Soviet Union)', 'South Vietnam' : 'Vietnam' })\n",
    "\n",
    "#Variaciones en el valor \n",
    "Variaciones_valor[\"Country\"] = Variaciones_valor[\"Country\"].replace({'Burma' : 'Myanmar (Burma)', 'Congo-Brazzaville' : 'Republic of the Congo', 'Congo-Kinshasa' : 'Democratic Republic of the Congo', 'Russia' : 'Russia (Soviet Union)' , 'Yemen' : 'Yemen (North Yemen)'})"
   ]
  },
  {
   "cell_type": "code",
   "execution_count": 6,
   "metadata": {
    "tags": []
   },
   "outputs": [
    {
     "output_type": "execute_result",
     "data": {
      "text/plain": "                   nombres  extension    maxima    minima\n2               Terrorismo       1605   2018-12   1972-01\n1  Incidentes_geopoliticos      52989   2019-12   1989-01\n0      Exportaciones_netas       9102   2020-06   2002-01\n3        Variaciones_crudo      21200  Sep 2019  Apr 1973\n4         Variaciones_NGPL      16400  Sep 2019  Apr 1993\n5       Variaciones_Others      16400  Sep 2019  Apr 1993\n6     Variaciones_Refinado      16400  Sep 2019  Apr 1993",
      "text/html": "<div>\n<style scoped>\n    .dataframe tbody tr th:only-of-type {\n        vertical-align: middle;\n    }\n\n    .dataframe tbody tr th {\n        vertical-align: top;\n    }\n\n    .dataframe thead th {\n        text-align: right;\n    }\n</style>\n<table border=\"1\" class=\"dataframe\">\n  <thead>\n    <tr style=\"text-align: right;\">\n      <th></th>\n      <th>nombres</th>\n      <th>extension</th>\n      <th>maxima</th>\n      <th>minima</th>\n    </tr>\n  </thead>\n  <tbody>\n    <tr>\n      <th>2</th>\n      <td>Terrorismo</td>\n      <td>1605</td>\n      <td>2018-12</td>\n      <td>1972-01</td>\n    </tr>\n    <tr>\n      <th>1</th>\n      <td>Incidentes_geopoliticos</td>\n      <td>52989</td>\n      <td>2019-12</td>\n      <td>1989-01</td>\n    </tr>\n    <tr>\n      <th>0</th>\n      <td>Exportaciones_netas</td>\n      <td>9102</td>\n      <td>2020-06</td>\n      <td>2002-01</td>\n    </tr>\n    <tr>\n      <th>3</th>\n      <td>Variaciones_crudo</td>\n      <td>21200</td>\n      <td>Sep 2019</td>\n      <td>Apr 1973</td>\n    </tr>\n    <tr>\n      <th>4</th>\n      <td>Variaciones_NGPL</td>\n      <td>16400</td>\n      <td>Sep 2019</td>\n      <td>Apr 1993</td>\n    </tr>\n    <tr>\n      <th>5</th>\n      <td>Variaciones_Others</td>\n      <td>16400</td>\n      <td>Sep 2019</td>\n      <td>Apr 1993</td>\n    </tr>\n    <tr>\n      <th>6</th>\n      <td>Variaciones_Refinado</td>\n      <td>16400</td>\n      <td>Sep 2019</td>\n      <td>Apr 1993</td>\n    </tr>\n  </tbody>\n</table>\n</div>"
     },
     "metadata": {},
     "execution_count": 6
    }
   ],
   "source": [
    "\n",
    "#Analicemos las distintas bases de datos\n",
    "periods = [Exportaciones_netas['Month'], Incidentes_geopoliticos['Start_month'], Terrorismo['period'], Variaciones_crudo['level_1'], Variaciones_NGPL['level_1'],Variaciones_Others['level_1'], Variaciones_Refinado['level_1']]\n",
    "\n",
    "\n",
    "analisis = pd.DataFrame({'nombres' : ['Exportaciones_netas', 'Incidentes_geopoliticos', 'Terrorismo', 'Variaciones_crudo', 'Variaciones_NGPL', 'Variaciones_Others', 'Variaciones_Refinado'],\n",
    "                                'extension' : [len(x) for x in periods],\n",
    "                                'maxima' : [np.max(x) for x in periods],\n",
    "                                'minima' : [np.min(x) for x in periods] }, \n",
    "                                columns=[\"nombres\",'extension','maxima', 'minima'])\n",
    "analisis.sort_values(\"minima\")"
   ]
  },
  {
   "source": [
    "# Next spets:\n",
    "### DataFrames Globales\n",
    "- Una tabla de terrorismo vs valores de crudo desde abril del 73 hasta diciembre de 2018\n",
    "- Una tabla de terrorismo e incidentes vs todas las variaciones de valores dede abril del 92 hasta diciembre de 2018\n",
    "- Una tabla de exportaciones netas vs valores, incidentes y terroismo desde enero 2002 hasta diciembre de 2018\n",
    "- Un tabla de exportaciones netas vs valores e incidentes desde enero 2002 hasta septiembre de 2019\n",
    "\n",
    "### DataFrames por paises\n",
    "- Pendiente de como se va hacer\n",
    "\n"
   ],
   "cell_type": "markdown",
   "metadata": {}
  },
  {
   "cell_type": "code",
   "execution_count": 77,
   "metadata": {},
   "outputs": [],
   "source": [
    "#Create a version of each DB grouped by period\n",
    "#Sum of succesful terrorism acts, people wounded and killed, and damage of proerty in dollars\n",
    "g_terrorismo = Terrorismo.groupby(\"period\")[\"success\",\"nkill\", \"nwound\", \"propvalue\"].sum()\n",
    "#Sum of values from each period\n",
    "g_valores = Variaciones_valor.groupby(\"Period\").sum()\n",
    "del g_valores[\"Unnamed: 0\"]\n",
    "#count how many incidentes and how many victimes were in the period\n",
    "g_incidentes = Incidentes_geopoliticos.groupby(\"Start_month\").agg(Incidents = (\"best\", \"count\"), Victims = (\"best\", \"sum\"))\n",
    "#Sum how many net barrels were exported in the period\n",
    "g_exportaciones = Exportaciones_netas.groupby(\"Month\")[\"Net_Exports\"].sum()"
   ]
  },
  {
   "cell_type": "code",
   "execution_count": 97,
   "metadata": {},
   "outputs": [],
   "source": [
    "#TERRORISMO VS VALORES DEL CRUDO (1973/2018)\n",
    "valores_crudo_terrorismo = pd.concat([g_valores[\"Crude\"], g_terrorismo,], axis=1)\n",
    "#valores_crudo_terrorismo = valores_crudo_terrorismo.dropna()"
   ]
  },
  {
   "cell_type": "code",
   "execution_count": 98,
   "metadata": {},
   "outputs": [],
   "source": [
    "#TERRORISMO, INCIDENTES GEOPOLITICOS Y VARIACIONES DE VALOR (1992/2018)\n",
    "dataframes = [g_valores, g_terrorismo, g_incidentes]\n",
    "valores_y_geopolitica = pd.concat(dataframes, join='outer', axis=1)\n",
    "#valores_y_geopolitica = valores_y_geopolitica.dropna()"
   ]
  },
  {
   "cell_type": "code",
   "execution_count": 101,
   "metadata": {},
   "outputs": [],
   "source": [
    "#ALL DBS, TERRORISMO, INCIDENTES, VALORES Y EXPORTACIONES NETAS (2002/2018)\n",
    "dataframes = [g_valores, g_exportaciones, g_incidentes, g_terrorismo]\n",
    "all_data = pd.concat(dataframes, join='outer', axis=1)\n",
    "#all_data = all_data.dropna()"
   ]
  },
  {
   "cell_type": "code",
   "execution_count": 102,
   "metadata": {},
   "outputs": [],
   "source": [
    "#EXPORTACIONES, VALORES E INCIDENTES (2002/2019)\n",
    "dataframes = [g_valores, g_exportaciones, g_incidentes]\n",
    "exportaciones_incidentes = pd.concat(dataframes, join='outer', axis=1)"
   ]
  },
  {
   "cell_type": "code",
   "execution_count": 103,
   "metadata": {},
   "outputs": [
    {
     "output_type": "execute_result",
     "data": {
      "text/plain": "             Crude         NGPL   Others    Refinery  Net_Exports  Incidents  \\\n1973-01  32089.771  1110.827649   88.785  206.057087          NaN        NaN   \n1973-02  32355.928  1143.809629   88.785  206.057087          NaN        NaN   \n1973-03  32456.575  1163.822474   88.785  206.057087          NaN        NaN   \n1973-04  32328.209  1164.287773   88.785  206.057087          NaN        NaN   \n1973-05  33456.141  1194.923457  124.285  214.619584          NaN        NaN   \n1973-06  32799.409  1188.836973  124.285  214.619584          NaN        NaN   \n1973-07  34414.320  1194.868505  124.285  214.619584          NaN        NaN   \n1973-08  33796.320  1200.868505  124.285  214.619584          NaN        NaN   \n1973-09  34653.320  1200.908149  123.068  220.219584          NaN        NaN   \n1973-10  33476.099  1176.474811  123.068  220.219584          NaN        NaN   \n1973-11  30775.436  1211.152294  123.068  220.219584          NaN        NaN   \n1973-12  31255.638  1190.443279  123.068  220.219584          NaN        NaN   \n1974-01  32463.135  1103.772994  123.365  217.207584          NaN        NaN   \n1974-02  32818.338  1216.152294  123.365  217.207584          NaN        NaN   \n1974-03  33454.812  1229.427971  123.365  217.207584          NaN        NaN   \n1974-04  33979.262  1235.916260  123.365  217.207584          NaN        NaN   \n1974-05  34057.985  1285.491626  157.365  219.067483          NaN        NaN   \n1974-06  33789.571  1298.274957  157.365  219.067483          NaN        NaN   \n1974-07  32772.651  1321.624950  157.365  219.067483          NaN        NaN   \n1974-08  31569.166  1307.145786  157.365  219.067483          NaN        NaN   \n\n         Victims  \n1973-01      NaN  \n1973-02      NaN  \n1973-03      NaN  \n1973-04      NaN  \n1973-05      NaN  \n1973-06      NaN  \n1973-07      NaN  \n1973-08      NaN  \n1973-09      NaN  \n1973-10      NaN  \n1973-11      NaN  \n1973-12      NaN  \n1974-01      NaN  \n1974-02      NaN  \n1974-03      NaN  \n1974-04      NaN  \n1974-05      NaN  \n1974-06      NaN  \n1974-07      NaN  \n1974-08      NaN  ",
      "text/html": "<div>\n<style scoped>\n    .dataframe tbody tr th:only-of-type {\n        vertical-align: middle;\n    }\n\n    .dataframe tbody tr th {\n        vertical-align: top;\n    }\n\n    .dataframe thead th {\n        text-align: right;\n    }\n</style>\n<table border=\"1\" class=\"dataframe\">\n  <thead>\n    <tr style=\"text-align: right;\">\n      <th></th>\n      <th>Crude</th>\n      <th>NGPL</th>\n      <th>Others</th>\n      <th>Refinery</th>\n      <th>Net_Exports</th>\n      <th>Incidents</th>\n      <th>Victims</th>\n    </tr>\n  </thead>\n  <tbody>\n    <tr>\n      <th>1973-01</th>\n      <td>32089.771</td>\n      <td>1110.827649</td>\n      <td>88.785</td>\n      <td>206.057087</td>\n      <td>NaN</td>\n      <td>NaN</td>\n      <td>NaN</td>\n    </tr>\n    <tr>\n      <th>1973-02</th>\n      <td>32355.928</td>\n      <td>1143.809629</td>\n      <td>88.785</td>\n      <td>206.057087</td>\n      <td>NaN</td>\n      <td>NaN</td>\n      <td>NaN</td>\n    </tr>\n    <tr>\n      <th>1973-03</th>\n      <td>32456.575</td>\n      <td>1163.822474</td>\n      <td>88.785</td>\n      <td>206.057087</td>\n      <td>NaN</td>\n      <td>NaN</td>\n      <td>NaN</td>\n    </tr>\n    <tr>\n      <th>1973-04</th>\n      <td>32328.209</td>\n      <td>1164.287773</td>\n      <td>88.785</td>\n      <td>206.057087</td>\n      <td>NaN</td>\n      <td>NaN</td>\n      <td>NaN</td>\n    </tr>\n    <tr>\n      <th>1973-05</th>\n      <td>33456.141</td>\n      <td>1194.923457</td>\n      <td>124.285</td>\n      <td>214.619584</td>\n      <td>NaN</td>\n      <td>NaN</td>\n      <td>NaN</td>\n    </tr>\n    <tr>\n      <th>1973-06</th>\n      <td>32799.409</td>\n      <td>1188.836973</td>\n      <td>124.285</td>\n      <td>214.619584</td>\n      <td>NaN</td>\n      <td>NaN</td>\n      <td>NaN</td>\n    </tr>\n    <tr>\n      <th>1973-07</th>\n      <td>34414.320</td>\n      <td>1194.868505</td>\n      <td>124.285</td>\n      <td>214.619584</td>\n      <td>NaN</td>\n      <td>NaN</td>\n      <td>NaN</td>\n    </tr>\n    <tr>\n      <th>1973-08</th>\n      <td>33796.320</td>\n      <td>1200.868505</td>\n      <td>124.285</td>\n      <td>214.619584</td>\n      <td>NaN</td>\n      <td>NaN</td>\n      <td>NaN</td>\n    </tr>\n    <tr>\n      <th>1973-09</th>\n      <td>34653.320</td>\n      <td>1200.908149</td>\n      <td>123.068</td>\n      <td>220.219584</td>\n      <td>NaN</td>\n      <td>NaN</td>\n      <td>NaN</td>\n    </tr>\n    <tr>\n      <th>1973-10</th>\n      <td>33476.099</td>\n      <td>1176.474811</td>\n      <td>123.068</td>\n      <td>220.219584</td>\n      <td>NaN</td>\n      <td>NaN</td>\n      <td>NaN</td>\n    </tr>\n    <tr>\n      <th>1973-11</th>\n      <td>30775.436</td>\n      <td>1211.152294</td>\n      <td>123.068</td>\n      <td>220.219584</td>\n      <td>NaN</td>\n      <td>NaN</td>\n      <td>NaN</td>\n    </tr>\n    <tr>\n      <th>1973-12</th>\n      <td>31255.638</td>\n      <td>1190.443279</td>\n      <td>123.068</td>\n      <td>220.219584</td>\n      <td>NaN</td>\n      <td>NaN</td>\n      <td>NaN</td>\n    </tr>\n    <tr>\n      <th>1974-01</th>\n      <td>32463.135</td>\n      <td>1103.772994</td>\n      <td>123.365</td>\n      <td>217.207584</td>\n      <td>NaN</td>\n      <td>NaN</td>\n      <td>NaN</td>\n    </tr>\n    <tr>\n      <th>1974-02</th>\n      <td>32818.338</td>\n      <td>1216.152294</td>\n      <td>123.365</td>\n      <td>217.207584</td>\n      <td>NaN</td>\n      <td>NaN</td>\n      <td>NaN</td>\n    </tr>\n    <tr>\n      <th>1974-03</th>\n      <td>33454.812</td>\n      <td>1229.427971</td>\n      <td>123.365</td>\n      <td>217.207584</td>\n      <td>NaN</td>\n      <td>NaN</td>\n      <td>NaN</td>\n    </tr>\n    <tr>\n      <th>1974-04</th>\n      <td>33979.262</td>\n      <td>1235.916260</td>\n      <td>123.365</td>\n      <td>217.207584</td>\n      <td>NaN</td>\n      <td>NaN</td>\n      <td>NaN</td>\n    </tr>\n    <tr>\n      <th>1974-05</th>\n      <td>34057.985</td>\n      <td>1285.491626</td>\n      <td>157.365</td>\n      <td>219.067483</td>\n      <td>NaN</td>\n      <td>NaN</td>\n      <td>NaN</td>\n    </tr>\n    <tr>\n      <th>1974-06</th>\n      <td>33789.571</td>\n      <td>1298.274957</td>\n      <td>157.365</td>\n      <td>219.067483</td>\n      <td>NaN</td>\n      <td>NaN</td>\n      <td>NaN</td>\n    </tr>\n    <tr>\n      <th>1974-07</th>\n      <td>32772.651</td>\n      <td>1321.624950</td>\n      <td>157.365</td>\n      <td>219.067483</td>\n      <td>NaN</td>\n      <td>NaN</td>\n      <td>NaN</td>\n    </tr>\n    <tr>\n      <th>1974-08</th>\n      <td>31569.166</td>\n      <td>1307.145786</td>\n      <td>157.365</td>\n      <td>219.067483</td>\n      <td>NaN</td>\n      <td>NaN</td>\n      <td>NaN</td>\n    </tr>\n  </tbody>\n</table>\n</div>"
     },
     "metadata": {},
     "execution_count": 103
    }
   ],
   "source": [
    "#valores_crudo_terrorismo.head(20)\n",
    "#valores_y_geopolitica.head(20)\n",
    "#all_data.head(20)\n",
    "exportaciones_incidentes.head(20)\n"
   ]
  },
  {
   "source": [
    "# Yearly Data"
   ],
   "cell_type": "markdown",
   "metadata": {}
  }
 ]
}