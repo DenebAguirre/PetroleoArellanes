{
 "metadata": {
  "language_info": {
   "codemirror_mode": {
    "name": "ipython",
    "version": 3
   },
   "file_extension": ".py",
   "mimetype": "text/x-python",
   "name": "python",
   "nbconvert_exporter": "python",
   "pygments_lexer": "ipython3",
   "version": "3.7.7-final"
  },
  "orig_nbformat": 2,
  "kernelspec": {
   "name": "Python 3.7.7 64-bit ('base': conda)",
   "display_name": "Python 3.7.7 64-bit ('base': conda)",
   "metadata": {
    "interpreter": {
     "hash": "aa7583ab6350143d4e9d2780c62a9c5e1694c574a0517b8a7c25e1096bbf9afb"
    }
   }
  }
 },
 "nbformat": 4,
 "nbformat_minor": 2,
 "cells": [
  {
   "cell_type": "code",
   "execution_count": 1,
   "metadata": {},
   "outputs": [],
   "source": [
    "import pandas as pd \n",
    "import numpy as np \n",
    "import matplotlib.pyplot as plt"
   ]
  },
  {
   "cell_type": "code",
   "execution_count": 2,
   "metadata": {},
   "outputs": [],
   "source": [
    "#Read Data\n",
    "Exportaciones_netas = pd.read_csv(\"../csv_results/Exportaciones_Mensuales_Netas.csv\")\n",
    "Incidentes_geopoliticos = pd.read_csv('../csv_results/incidentes_geopoliticos.csv')\n",
    "Terrorismo = pd.read_csv(\"../csv_results/Terrorism.csv\")\n",
    "Variaciones_valor = pd.read_csv(\"../csv_results/Variaciones_Valor_Mensual.csv\")\n",
    "\n",
    "#Delete unnecesary columns in the Incidentes geopoliticos DB\n",
    "del Incidentes_geopoliticos[\"Unnamed: 0\"]\n",
    "\n",
    "#Delete unnecesary columns in the Expotaciones_netas DB\n",
    "Exportaciones_netas = Exportaciones_netas.drop(columns=[\"Unnamed: 0\", \"Exp_notes\", 'Imp_notes'])\n",
    "\n",
    "#Delete unnecesary columns in the Terrorismo DB\n",
    "Terrorismo = Terrorismo.drop(columns=['Unnamed: 0', 'imonth', 'approxdate', 'targtype1', 'targsubtype1', 'doubtterr', 'alternative', 'propextent'])"
   ]
  },
  {
   "cell_type": "code",
   "execution_count": 3,
   "metadata": {
    "tags": []
   },
   "outputs": [
    {
     "output_type": "execute_result",
     "data": {
      "text/plain": "{&#39;var&#39;: [&#39;Burma&#39;, &#39;Congo-Brazzaville&#39;, &#39;Congo-Kinshasa&#39;, &#39;Russia&#39;, &#39;Yemen&#39;],\n &#39;exp&#39;: [&#39;Brunei Darussalam&#39;,\n  &#39;Bolivia, Plurinational State of&#39;,\n  &#39;Iran, Islamic Republic of&#39;,\n  &#39;Myanmar&#39;,\n  &#39;Russian Federation&#39;,\n  &#39;Venezuela, Bolivarian Republic of&#39;,\n  &#39;Viet Nam&#39;,\n  &#39;Yemen&#39;],\n &#39;inc&#39;: [&#39;Congo&#39;, &#39;DR Congo (Zaire)&#39;],\n &#39;ter&#39;: [&#39;Myanmar&#39;, &#39;Yemen&#39;, &#39;Russia&#39;]}"
     },
     "metadata": {},
     "execution_count": 3
    }
   ],
   "source": [
    "###Create a list with definitive countries names \n",
    "#Problematic countries names are marked with a variant in parenthesis\n",
    "countries = ['Albania','Algeria','Angola','Argentina','Azerbaijan','Benin','Bolivia','Brazil','Brunei','Cameroon','Canada','China','Colombia','Republic of the Congo', 'Democratic Republic of the Congo', 'Denmark','Ecuador','Egypt','Estonia','Gabon','Georgia','Ghana','Guatemala','Indonesia','Iran','Iraq','Kazakhstan','Kuwait','Kyrgyzstan','Libya','Malaysia','Mexico','Mongolia', 'Myanmar (Burma)','Nigeria','Norway','Oman','Qatar','Russia (Soviet Union)','Saudi Arabia','South Sudan','Sudan','Trinidad and Tobago','Tunisia','Turkmenistan','United Arab Emirates','United Kingdom','Venezuela','Vietnam','Yemen (North Yemen)']\n",
    "\n",
    "#### Create a dictionary of countries names who may be replaced\n",
    "#First create a dictionary with countries in each db\n",
    "db_countries = { \"var\" : Variaciones_valor[\"Country\"].unique().tolist(),\n",
    "                \"exp\" : Exportaciones_netas['Country'].unique().tolist(),\n",
    "                \"inc\" : Incidentes_geopoliticos['country'].unique().tolist(),\n",
    "                \"ter\" : Terrorismo['country_txt'].unique().tolist() }\n",
    "\n",
    "#Then for each db_list check which countries do not match with our list and put them in a dictionary\n",
    "to_change = {'var' : [x for x in db_countries[\"var\"] if x not in countries], \n",
    "                    'exp' : [x for x in db_countries[\"exp\"] if x not in countries],\n",
    "                    'inc' : [x for x in db_countries[\"inc\"] if x not in countries],\n",
    "                    'ter' : [x for x in db_countries[\"ter\"] if x not in countries] }\n",
    "\n",
    "#Print the dictionary in order to find which names need to be replaced\n",
    "to_change"
   ]
  },
  {
   "cell_type": "code",
   "execution_count": 4,
   "metadata": {},
   "outputs": [],
   "source": [
    "#Now replace the names in each db\n",
    "#Exportaciones netas\n",
    "Exportaciones_netas[\"Country\"] = Exportaciones_netas[\"Country\"].replace({'Brunei Darussalam' : 'Brunei',\n",
    "  'Bolivia, Plurinational State of' : 'Bolivia',\n",
    "  'Iran, Islamic Republic of' : 'Iran' ,\n",
    "  'Myanmar' : 'Myanmar (Burma)',\n",
    "  'Russian Federation' : 'Russia (Soviet Union)',\n",
    "  'Venezuela, Bolivarian Republic of' : 'Venezuela',\n",
    "  'Viet Nam' : 'Vietnam',\n",
    "  'Yemen' : 'Yemen (North Yemen)'}) \n",
    "\n",
    "#Incidentes geopoliticos\n",
    "Incidentes_geopoliticos[\"country\"] = Incidentes_geopoliticos[\"country\"].replace({'Congo' : 'Republic of the Congo', 'DR Congo (Zaire)' : 'Democratic Republic of the Congo'})\n",
    "\n",
    "#Terrorismo\n",
    "Terrorismo[\"country_txt\"] = Terrorismo[\"country_txt\"].replace({'Myanmar' : 'Myanmar (Burma)', 'Yemen' : 'Yemen (North Yemen)' , 'Russia' : 'Russia (Soviet Union)', 'South Vietnam' : 'Vietnam' })\n",
    "\n",
    "#Variaciones en el valor \n",
    "Variaciones_valor[\"Country\"] = Variaciones_valor[\"Country\"].replace({'Burma' : 'Myanmar (Burma)', 'Congo-Brazzaville' : 'Republic of the Congo', 'Congo-Kinshasa' : 'Democratic Republic of the Congo', 'Russia' : 'Russia (Soviet Union)' , 'Yemen' : 'Yemen (North Yemen)'})"
   ]
  },
  {
   "cell_type": "code",
   "execution_count": 6,
   "metadata": {},
   "outputs": [],
   "source": [
    "#Create a version of each DB grouped by period\n",
    "#Sum of succesful terrorism acts, people wounded and killed, and damage of proerty in dollars\n",
    "g_terrorismo = Terrorismo.groupby(\"period\")[\"success\",\"nkill\", \"nwound\", \"propvalue\"].sum()\n",
    "#Sum of values from each period\n",
    "g_valores = Variaciones_valor.groupby(\"Period\").sum()\n",
    "del g_valores[\"Unnamed: 0\"]\n",
    "#count how many incidentes and how many victimes were in the period\n",
    "g_incidentes = Incidentes_geopoliticos.groupby(\"Start_month\").agg(Incidents = (\"best\", \"count\"), Victims = (\"best\", \"sum\"))\n",
    "#Sum how many net barrels were exported in the period\n",
    "g_exportaciones = Exportaciones_netas.groupby(\"Month\")[\"Net_Exports\"].sum()"
   ]
  },
  {
   "cell_type": "code",
   "execution_count": 59,
   "metadata": {},
   "outputs": [],
   "source": [
    "#ALL DBS, TERRORISMO, INCIDENTES, VALORES Y EXPORTACIONES NETAS (2002/2018)\n",
    "dataframes = [g_valores, g_exportaciones, g_incidentes, g_terrorismo]\n",
    "unify_data = pd.concat(dataframes, join='outer', axis=1)\n",
    "unify_data = unify_data[unify_data[\"Crude\"].notna()].reset_index().sort_values(\"index\")"
   ]
  },
  {
   "source": [
    "# Next spets:\n",
    "### DataFrames Globales\n",
    "- Export to excel and play with pivot tables\n",
    "- How to compare counts with money in petroleum\n",
    "\n",
    "### DataFrames por paises\n",
    "- Pendiente de como se va hacer\n",
    "\n"
   ],
   "cell_type": "markdown",
   "metadata": {}
  }
 ]
}