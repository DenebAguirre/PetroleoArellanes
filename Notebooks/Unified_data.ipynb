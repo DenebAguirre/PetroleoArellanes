{
 "metadata": {
  "language_info": {
   "codemirror_mode": {
    "name": "ipython",
    "version": 3
   },
   "file_extension": ".py",
   "mimetype": "text/x-python",
   "name": "python",
   "nbconvert_exporter": "python",
   "pygments_lexer": "ipython3",
   "version": "3.7.7-final"
  },
  "orig_nbformat": 2,
  "kernelspec": {
   "name": "Python 3.7.7 64-bit ('base': conda)",
   "display_name": "Python 3.7.7 64-bit ('base': conda)",
   "metadata": {
    "interpreter": {
     "hash": "aa7583ab6350143d4e9d2780c62a9c5e1694c574a0517b8a7c25e1096bbf9afb"
    }
   }
  }
 },
 "nbformat": 4,
 "nbformat_minor": 2,
 "cells": [
  {
   "cell_type": "code",
   "execution_count": 1,
   "metadata": {},
   "outputs": [],
   "source": [
    "import pandas as pd \n",
    "import numpy as np \n",
    "import matplotlib.pyplot as plt"
   ]
  },
  {
   "source": [
    "# Monthly Data"
   ],
   "cell_type": "markdown",
   "metadata": {}
  },
  {
   "cell_type": "code",
   "execution_count": 8,
   "metadata": {},
   "outputs": [],
   "source": [
    "#Read Data\n",
    "Exportaciones_netas = pd.read_csv(\"../csv_results/Exportaciones_Mensuales_Netas.csv\")\n",
    "Incidentes_geopoliticos = pd.read_csv('../csv_results/incidentes_geopoliticos.csv')\n",
    "Terrorismo = pd.read_csv(\"../csv_results/Terrorism.csv\")\n",
    "\n",
    "Variaciones_crudo = pd.read_csv(\"../csv_results/Variaciones_Crudo_Mensual\")\n",
    "Variaciones_NGPL = pd.read_csv('../csv_results/Variaciones_NGPL_Mensual')\n",
    "Variaciones_Others = pd.read_csv('../csv_results/Variaciones_Others_Mensual')\n",
    "Variaciones_Refinado = pd.read_csv('../csv_results/Variaciones_Refinery_Mensual')\n",
    "\n",
    "#Delete unnecesary columns in the variaciones Data set\n",
    "del Variaciones_crudo['Unnamed: 0']\n",
    "del Variaciones_NGPL['Unnamed: 0']\n",
    "del Variaciones_Others['Unnamed: 0']\n",
    "del Variaciones_Refinado['Unnamed: 0']\n",
    "\n",
    "#Delete unnecesary columns in the Incidentes geopoliticos DB\n",
    "del Incidentes_geopoliticos[\"Unnamed: 0\"]\n",
    "\n",
    "#Delete unnecesary columns in the Expotaciones_netas DB\n",
    "Exportaciones_netas = Exportaciones_netas.drop(columns=[\"Unnamed: 0\", \"Exp_notes\", 'Imp_notes'])\n",
    "\n",
    "#Delete unnecesary columns in the Terrorismo DB\n",
    "Terrorismo = Terrorismo.drop(columns=['Unnamed: 0', 'imonth', 'approxdate', 'targtype1', 'targsubtype1', 'doubtterr', 'alternative', 'propextent'])"
   ]
  },
  {
   "cell_type": "code",
   "execution_count": 10,
   "metadata": {},
   "outputs": [],
   "source": [
    "#Undo pivot tables\n",
    "Variaciones_crudo = Variaciones_crudo.set_index(\"Country\").stack().reset_index()\n",
    "Variaciones_NGPL = Variaciones_NGPL.set_index(\"Country\").stack().reset_index()\n",
    "Variaciones_Others = Variaciones_Others.set_index(\"Country\").stack().reset_index()\n",
    "Variaciones_Refinado = Variaciones_Refinado.set_index(\"Country\").stack().reset_index()"
   ]
  },
  {
   "cell_type": "code",
   "execution_count": 11,
   "metadata": {
    "tags": []
   },
   "outputs": [
    {
     "output_type": "execute_result",
     "data": {
      "text/plain": "{'var': ['Burma', 'Congo-Brazzaville', 'Congo-Kinshasa', 'Russia', 'Yemen'],\n 'exp': ['Brunei Darussalam',\n  'Bolivia, Plurinational State of',\n  'Iran, Islamic Republic of',\n  'Myanmar',\n  'Russian Federation',\n  'Venezuela, Bolivarian Republic of',\n  'Viet Nam',\n  'Yemen'],\n 'inc': ['Congo', 'DR Congo (Zaire)'],\n 'ter': ['Myanmar', 'Yemen', 'Russia']}"
     },
     "metadata": {},
     "execution_count": 11
    }
   ],
   "source": [
    "###Create a list with definitive countries names \n",
    "#Problematic contries names are marked with a variant in parenthesis\n",
    "countries = ['Albania','Algeria','Angola','Argentina','Azerbaijan','Benin','Bolivia','Brazil','Brunei','Cameroon','Canada','China','Colombia','Republic of the Congo', 'Democratic Republic of the Congo', 'Denmark','Ecuador','Egypt','Estonia','Gabon','Georgia','Ghana','Guatemala','Indonesia','Iran','Iraq','Kazakhstan','Kuwait','Kyrgyzstan','Libya','Malaysia','Mexico','Mongolia', 'Myanmar (Burma)','Nigeria','Norway','Oman','Qatar','Russia (Soviet Union)','Saudi Arabia','South Sudan','Sudan','Trinidad and Tobago','Tunisia','Turkmenistan','United Arab Emirates','United Kingdom','Venezuela','Vietnam','Yemen (North Yemen)']\n",
    "\n",
    "#### Create a dictionary of countries names who may be replaced\n",
    "#First create a dictionary with countries in each db\n",
    "db_countries = { \"var\" : Variaciones_crudo[\"Country\"].unique().tolist(),\n",
    "                \"exp\" : Exportaciones_netas['Country'].unique().tolist(),\n",
    "                \"inc\" : Incidentes_geopoliticos['country'].unique().tolist(),\n",
    "                \"ter\" : Terrorismo['country_txt'].unique().tolist() }\n",
    "\n",
    "#Then for each db_list check which countries do not match with our list and put them in a dictionary\n",
    "to_change = {'var' : [x for x in db_countries[\"var\"] if x not in countries], \n",
    "                    'exp' : [x for x in db_countries[\"exp\"] if x not in countries],\n",
    "                    'inc' : [x for x in db_countries[\"inc\"] if x not in countries],\n",
    "                    'ter' : [x for x in db_countries[\"ter\"] if x not in countries] }\n",
    "\n",
    "#Print the dictionary in order to find which names need to be replaced\n",
    "to_change"
   ]
  },
  {
   "cell_type": "code",
   "execution_count": 12,
   "metadata": {},
   "outputs": [],
   "source": [
    "#Now replace the names in each db\n",
    "\n",
    "#Exportaciones netas\n",
    "Exportaciones_netas[\"Country\"] = Exportaciones_netas[\"Country\"].replace({'Brunei Darussalam' : 'Brunei',\n",
    "  'Bolivia, Plurinational State of' : 'Bolivia',\n",
    "  'Iran, Islamic Republic of' : 'Iran' ,\n",
    "  'Myanmar' : 'Myanmar (Burma)',\n",
    "  'Russian Federation' : 'Russia (Soviet Union)',\n",
    "  'Venezuela, Bolivarian Republic of' : 'Venezuela',\n",
    "  'Viet Nam' : 'Vietnam',\n",
    "  'Yemen' : 'Yemen (North Yemen)'}) \n",
    "\n",
    "#Incidentes geopoliticos\n",
    "Incidentes_geopoliticos[\"country\"] = Incidentes_geopoliticos[\"country\"].replace({'Congo' : 'Republic of the Congo', 'DR Congo (Zaire)' : 'Democratic Republic of the Congo'})\n",
    "\n",
    "#Terrorismo\n",
    "Terrorismo[\"country_txt\"] = Terrorismo[\"country_txt\"].replace({'Myanmar' : 'Myanmar (Burma)', 'Yemen' : 'Yemen (North Yemen)' , 'Russia' : 'Russia (Soviet Union)', 'South Vietnam' : 'Vietnam' })\n",
    "\n",
    "#Variaciones en el valor \n",
    "Variaciones_crudo[\"Country\"] = Variaciones_crudo[\"Country\"].replace({'Burma' : 'Myanmar (Burma)', 'Congo-Brazzaville' : 'Republic of the Congo', 'Congo-Kinshasa' : 'Democratic Republic of the Congo', 'Russia' : 'Russia (Soviet Union)' , 'Yemen' : 'Yemen (North Yemen)'})\n",
    "Variaciones_NGPL[\"Country\"] = Variaciones_NGPL[\"Country\"].replace({'Burma' : 'Myanmar (Burma)', 'Congo-Brazzaville' : 'Republic of the Congo', 'Congo-Kinshasa' : 'Democratic Republic of the Congo', 'Russia' : 'Russia (Soviet Union)' , 'Yemen' : 'Yemen (North Yemen)'})\n",
    "Variaciones_Others[\"Country\"] = Variaciones_Others[\"Country\"].replace({'Burma' : 'Myanmar (Burma)', 'Congo-Brazzaville' : 'Republic of the Congo', 'Congo-Kinshasa' : 'Democratic Republic of the Congo', 'Russia' : 'Russia (Soviet Union)' , 'Yemen' : 'Yemen (North Yemen)'})\n",
    "Variaciones_Refinado[\"Country\"] = Variaciones_Refinado[\"Country\"].replace({'Burma' : 'Myanmar (Burma)', 'Congo-Brazzaville' : 'Republic of the Congo', 'Congo-Kinshasa' : 'Democratic Republic of the Congo', 'Russia' : 'Russia (Soviet Union)' , 'Yemen' : 'Yemen (North Yemen)'})\n"
   ]
  },
  {
   "cell_type": "code",
   "execution_count": 57,
   "metadata": {
    "tags": []
   },
   "outputs": [
    {
     "output_type": "execute_result",
     "data": {
      "text/plain": "                   nombres  extension    maxima    minima\n2               Terrorismo       1605   2018-12   1972-01\n1  Incidentes_geopoliticos      52989   2019-12   1989-01\n0      Exportaciones_netas       9102   2020-06   2002-01\n3        Variaciones_crudo      21200  Sep 2019  Apr 1973\n4         Variaciones_NGPL      16400  Sep 2019  Apr 1993\n5       Variaciones_Others      16400  Sep 2019  Apr 1993\n6     Variaciones_Refinado      16400  Sep 2019  Apr 1993",
      "text/html": "<div>\n<style scoped>\n    .dataframe tbody tr th:only-of-type {\n        vertical-align: middle;\n    }\n\n    .dataframe tbody tr th {\n        vertical-align: top;\n    }\n\n    .dataframe thead th {\n        text-align: right;\n    }\n</style>\n<table border=\"1\" class=\"dataframe\">\n  <thead>\n    <tr style=\"text-align: right;\">\n      <th></th>\n      <th>nombres</th>\n      <th>extension</th>\n      <th>maxima</th>\n      <th>minima</th>\n    </tr>\n  </thead>\n  <tbody>\n    <tr>\n      <th>2</th>\n      <td>Terrorismo</td>\n      <td>1605</td>\n      <td>2018-12</td>\n      <td>1972-01</td>\n    </tr>\n    <tr>\n      <th>1</th>\n      <td>Incidentes_geopoliticos</td>\n      <td>52989</td>\n      <td>2019-12</td>\n      <td>1989-01</td>\n    </tr>\n    <tr>\n      <th>0</th>\n      <td>Exportaciones_netas</td>\n      <td>9102</td>\n      <td>2020-06</td>\n      <td>2002-01</td>\n    </tr>\n    <tr>\n      <th>3</th>\n      <td>Variaciones_crudo</td>\n      <td>21200</td>\n      <td>Sep 2019</td>\n      <td>Apr 1973</td>\n    </tr>\n    <tr>\n      <th>4</th>\n      <td>Variaciones_NGPL</td>\n      <td>16400</td>\n      <td>Sep 2019</td>\n      <td>Apr 1993</td>\n    </tr>\n    <tr>\n      <th>5</th>\n      <td>Variaciones_Others</td>\n      <td>16400</td>\n      <td>Sep 2019</td>\n      <td>Apr 1993</td>\n    </tr>\n    <tr>\n      <th>6</th>\n      <td>Variaciones_Refinado</td>\n      <td>16400</td>\n      <td>Sep 2019</td>\n      <td>Apr 1993</td>\n    </tr>\n  </tbody>\n</table>\n</div>"
     },
     "metadata": {},
     "execution_count": 57
    }
   ],
   "source": [
    "#Analisemos las distintas bases de datos\n",
    "\n",
    "periods = [Exportaciones_netas['Month'], Incidentes_geopoliticos['Start_month'], Terrorismo['period'], Variaciones_crudo['level_1'], Variaciones_NGPL['level_1'],Variaciones_Others['level_1'], Variaciones_Refinado['level_1']]\n",
    "\n",
    "\n",
    "analisis = pd.DataFrame({'nombres' : ['Exportaciones_netas', 'Incidentes_geopoliticos', 'Terrorismo', 'Variaciones_crudo', 'Variaciones_NGPL', 'Variaciones_Others', 'Variaciones_Refinado'],\n",
    "                                'extension' : [len(x) for x in periods],\n",
    "                                'maxima' : [np.max(x) for x in periods],\n",
    "                                'minima' : [np.min(x) for x in periods] }, \n",
    "                                columns=[\"nombres\",'extension','maxima', 'minima'])\n",
    "analisis.sort_values(\"minima\")"
   ]
  },
  {
   "source": [
    "# Next spets:\n",
    "### DataFrames Globales\n",
    "- Una tabla de terrorismo vs valores de crudo desde abril del 73 hasta diciembre de 2018\n",
    "- Una tabla de terrorismo e incidentes vs todas las variaciones de valores dede abril del 92 hasta diciembre de 2018\n",
    "- Una tabla de exportaciones netas vs valores, incidentes y terroismo desde enero 2002 hasta diciembre de 2018\n",
    "- Un tabla de exportaciones netas vs valores e incidentes desde enero 2002 hasta septiembre de 2019\n",
    "\n",
    "### DataFrames por paises\n",
    "- Pendiente de como se va hacer\n",
    "\n"
   ],
   "cell_type": "markdown",
   "metadata": {}
  },
  {
   "source": [
    "# Yearly Data"
   ],
   "cell_type": "markdown",
   "metadata": {}
  }
 ]
}