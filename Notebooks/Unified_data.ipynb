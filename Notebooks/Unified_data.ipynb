{
 "metadata": {
  "language_info": {
   "codemirror_mode": {
    "name": "ipython",
    "version": 3
   },
   "file_extension": ".py",
   "mimetype": "text/x-python",
   "name": "python",
   "nbconvert_exporter": "python",
   "pygments_lexer": "ipython3",
   "version": "3.7.7-final"
  },
  "orig_nbformat": 2,
  "kernelspec": {
   "name": "Python 3.7.7 64-bit ('base')",
   "display_name": "Python 3.7.7 64-bit ('base')",
   "metadata": {
    "interpreter": {
     "hash": "aa7583ab6350143d4e9d2780c62a9c5e1694c574a0517b8a7c25e1096bbf9afb"
    }
   }
  }
 },
 "nbformat": 4,
 "nbformat_minor": 2,
 "cells": [
  {
   "cell_type": "code",
   "execution_count": 1,
   "metadata": {},
   "outputs": [],
   "source": [
    "import pandas as pd \n",
    "import numpy as np \n",
    "import matplotlib.pyplot as plt"
   ]
  },
  {
   "source": [
    "# Monthly Data"
   ],
   "cell_type": "markdown",
   "metadata": {}
  },
  {
   "cell_type": "code",
   "execution_count": 36,
   "metadata": {},
   "outputs": [],
   "source": [
    "#Read Data\n",
    "Exportaciones_netas = pd.read_csv(\"../csv_results/Exportaciones_Mensuales_Netas.csv\")\n",
    "Incidentes_geopoliticos = pd.read_csv('../csv_results/incidentes_geopoliticos.csv')\n",
    "Terrorismo = pd.read_csv(\"../csv_results/Terrorism.csv\")\n",
    "\n",
    "Variaciones_crudo = pd.read_csv(\"../csv_results/Variaciones_Crudo_Mensual\")\n",
    "Variaciones_NGPL = pd.read_csv('../csv_results/Variaciones_NGPL_Mensual')\n",
    "Variaciones_Others = pd.read_csv('../csv_results/Variaciones_Others_Mensual')\n",
    "Variaciones_Refinado = pd.read_csv('../csv_results/Variaciones_Refinery_Mensual')\n",
    "\n",
    "#Delete unnecesary columns in the variaciones Data set\n",
    "del Variaciones_crudo['Unnamed: 0']\n",
    "del Variaciones_NGPL['Unnamed: 0']\n",
    "del Variaciones_Others['Unnamed: 0']\n",
    "del Variaciones_Refinado['Unnamed: 0']\n",
    "\n",
    "#Delete unnecesary columns in the Incidentes geopoliticos DB\n",
    "del Incidentes_geopoliticos[\"Unnamed: 0\"]\n",
    "\n",
    "#Delete unnecesary columns in the Expotaciones_netas DB\n",
    "Exportaciones_netas = Exportaciones_netas.drop(columns=[\"Unnamed: 0\", \"Exp_notes\", 'Imp_notes'])\n",
    "\n",
    "#Delete unnecesary columns in the Terrorismo DB\n",
    "#Terrorismo = Terrorismo.drop(columns=['Unnamed: 0', 'imonth', 'approxdate', 'targtype1', 'targsubtype1', 'doubtterr', 'alternative','alternative_txt'])\n"
   ]
  },
  {
   "cell_type": "code",
   "execution_count": 42,
   "metadata": {},
   "outputs": [
    {
     "output_type": "execute_result",
     "data": {
      "text/plain": "[nan,\n 'Intra/Inter-group Conflict',\n 'Other Crime Type',\n 'Insurgency/Guerilla Action',\n 'Lack of Intentionality',\n 'State Actors']"
     },
     "metadata": {},
     "execution_count": 42
    }
   ],
   "source": [
    "Terrorismo['alternative_txt'].unique().tolist()"
   ]
  },
  {
   "cell_type": "code",
   "execution_count": 35,
   "metadata": {},
   "outputs": [
    {
     "output_type": "execute_result",
     "data": {
      "text/plain": "   iyear  iday  extended  resolution country_txt                  region_txt  \\\n0   1972     1         0         NaN      Kuwait  Middle East & North Africa   \n1   1972    14         0         NaN        Iran  Middle East & North Africa   \n2   1972    23         0         NaN        Iran  Middle East & North Africa   \n3   1973    24         0         NaN   Venezuela               South America   \n4   1973     6         1  1974-04-20   Argentina               South America   \n\n  targtype1_txt  targsubtype1_txt  multiple  success   latitude  longitude  \\\n0      Business  Gas/Oil/Electric         0        1        NaN        NaN   \n1      Business  Gas/Oil/Electric         0        0  35.724533  51.405190   \n2     Utilities               Oil         0        0  30.345997  48.287136   \n3     Utilities               Oil         0        1        NaN        NaN   \n4      Business  Gas/Oil/Electric         0        1 -34.617680 -58.444435   \n\n  motive   period  \n0    NaN  1972-01  \n1    NaN  1972-08  \n2    NaN  1972-08  \n3    NaN  1973-11  \n4    NaN  1973-12  ",
      "text/html": "<div>\n<style scoped>\n    .dataframe tbody tr th:only-of-type {\n        vertical-align: middle;\n    }\n\n    .dataframe tbody tr th {\n        vertical-align: top;\n    }\n\n    .dataframe thead th {\n        text-align: right;\n    }\n</style>\n<table border=\"1\" class=\"dataframe\">\n  <thead>\n    <tr style=\"text-align: right;\">\n      <th></th>\n      <th>iyear</th>\n      <th>iday</th>\n      <th>extended</th>\n      <th>resolution</th>\n      <th>country_txt</th>\n      <th>region_txt</th>\n      <th>targtype1_txt</th>\n      <th>targsubtype1_txt</th>\n      <th>multiple</th>\n      <th>success</th>\n      <th>latitude</th>\n      <th>longitude</th>\n      <th>motive</th>\n      <th>period</th>\n    </tr>\n  </thead>\n  <tbody>\n    <tr>\n      <th>0</th>\n      <td>1972</td>\n      <td>1</td>\n      <td>0</td>\n      <td>NaN</td>\n      <td>Kuwait</td>\n      <td>Middle East &amp; North Africa</td>\n      <td>Business</td>\n      <td>Gas/Oil/Electric</td>\n      <td>0</td>\n      <td>1</td>\n      <td>NaN</td>\n      <td>NaN</td>\n      <td>NaN</td>\n      <td>1972-01</td>\n    </tr>\n    <tr>\n      <th>1</th>\n      <td>1972</td>\n      <td>14</td>\n      <td>0</td>\n      <td>NaN</td>\n      <td>Iran</td>\n      <td>Middle East &amp; North Africa</td>\n      <td>Business</td>\n      <td>Gas/Oil/Electric</td>\n      <td>0</td>\n      <td>0</td>\n      <td>35.724533</td>\n      <td>51.405190</td>\n      <td>NaN</td>\n      <td>1972-08</td>\n    </tr>\n    <tr>\n      <th>2</th>\n      <td>1972</td>\n      <td>23</td>\n      <td>0</td>\n      <td>NaN</td>\n      <td>Iran</td>\n      <td>Middle East &amp; North Africa</td>\n      <td>Utilities</td>\n      <td>Oil</td>\n      <td>0</td>\n      <td>0</td>\n      <td>30.345997</td>\n      <td>48.287136</td>\n      <td>NaN</td>\n      <td>1972-08</td>\n    </tr>\n    <tr>\n      <th>3</th>\n      <td>1973</td>\n      <td>24</td>\n      <td>0</td>\n      <td>NaN</td>\n      <td>Venezuela</td>\n      <td>South America</td>\n      <td>Utilities</td>\n      <td>Oil</td>\n      <td>0</td>\n      <td>1</td>\n      <td>NaN</td>\n      <td>NaN</td>\n      <td>NaN</td>\n      <td>1973-11</td>\n    </tr>\n    <tr>\n      <th>4</th>\n      <td>1973</td>\n      <td>6</td>\n      <td>1</td>\n      <td>1974-04-20</td>\n      <td>Argentina</td>\n      <td>South America</td>\n      <td>Business</td>\n      <td>Gas/Oil/Electric</td>\n      <td>0</td>\n      <td>1</td>\n      <td>-34.617680</td>\n      <td>-58.444435</td>\n      <td>NaN</td>\n      <td>1973-12</td>\n    </tr>\n  </tbody>\n</table>\n</div>"
     },
     "metadata": {},
     "execution_count": 35
    }
   ],
   "source": [
    "Terrorismo.head()"
   ]
  },
  {
   "cell_type": "code",
   "execution_count": 7,
   "metadata": {},
   "outputs": [],
   "source": [
    "#Undo pivot tables\n",
    "Variaciones_crudo = Variaciones_crudo.set_index(\"Country\").stack().reset_index()\n",
    "Variaciones_NGPL = Variaciones_NGPL.set_index(\"Country\").stack().reset_index()\n",
    "Variaciones_Others = Variaciones_Others.set_index(\"Country\").stack().reset_index()\n",
    "Variaciones_Refinado = Variaciones_Refinado.set_index(\"Country\").stack().reset_index()"
   ]
  },
  {
   "cell_type": "code",
   "execution_count": 21,
   "metadata": {
    "tags": []
   },
   "outputs": [
    {
     "output_type": "execute_result",
     "data": {
      "text/plain": "{'var': ['Burma', 'Congo-Brazzaville', 'Congo-Kinshasa', 'Russia', 'Yemen'],\n 'exp': ['Brunei Darussalam',\n  'Bolivia, Plurinational State of',\n  'Iran, Islamic Republic of',\n  'Myanmar',\n  'Russian Federation',\n  'Venezuela, Bolivarian Republic of',\n  'Viet Nam',\n  'Yemen'],\n 'inc': ['Congo', 'DR Congo (Zaire)'],\n 'ter': ['Myanmar', 'Yemen', 'Russia']}"
     },
     "metadata": {},
     "execution_count": 21
    }
   ],
   "source": [
    "###Create a list with definitive countries names \n",
    "#Problematic contries names are marked with a variant in parenthesis\n",
    "countries = ['Albania','Algeria','Angola','Argentina','Azerbaijan','Benin','Bolivia','Brazil','Brunei','Cameroon','Canada','China','Colombia','Republic of the Congo', 'Democratic Republic of the Congo', 'Denmark','Ecuador','Egypt','Estonia','Gabon','Georgia','Ghana','Guatemala','Indonesia','Iran','Iraq','Kazakhstan','Kuwait','Kyrgyzstan','Libya','Malaysia','Mexico','Mongolia', 'Myanmar (Burma)','Nigeria','Norway','Oman','Qatar','Russia (Soviet Union)','Saudi Arabia','South Sudan','Sudan','Trinidad and Tobago','Tunisia','Turkmenistan','United Arab Emirates','United Kingdom','Venezuela','Vietnam','Yemen (North Yemen)']\n",
    "\n",
    "#### Create a dictionary of countries names who may be replaced\n",
    "#First create a dictionary with countries in each db\n",
    "db_countries = { \"var\" : Variaciones_crudo[\"Country\"].unique().tolist(),\n",
    "                \"exp\" : Exportaciones_netas['Country'].unique().tolist(),\n",
    "                \"inc\" : Incidentes_geopoliticos['country'].unique().tolist(),\n",
    "                \"ter\" : Terrorismo['country_txt'].unique().tolist() }\n",
    "\n",
    "#Then for each db_list check which countries do not match with our list and put them in a dictionary\n",
    "to_change = {'var' : [x for x in db_countries[\"var\"] if x not in countries], \n",
    "                    'exp' : [x for x in db_countries[\"exp\"] if x not in countries],\n",
    "                    'inc' : [x for x in db_countries[\"inc\"] if x not in countries],\n",
    "                    'ter' : [x for x in db_countries[\"ter\"] if x not in countries] }\n",
    "\n",
    "#Print the dictionary in order to find which names need to be replaced\n",
    "to_change"
   ]
  },
  {
   "cell_type": "code",
   "execution_count": 22,
   "metadata": {},
   "outputs": [],
   "source": [
    "#Now replace the names in each db\n",
    "\n",
    "#Exportaciones netas\n",
    "Exportaciones_netas[\"Country\"] = Exportaciones_netas[\"Country\"].replace({'Brunei Darussalam' : 'Brunei',\n",
    "  'Bolivia, Plurinational State of' : 'Bolivia',\n",
    "  'Iran, Islamic Republic of' : 'Iran' ,\n",
    "  'Myanmar' : 'Myanmar (Burma)',\n",
    "  'Russian Federation' : 'Russia (Soviet Union)',\n",
    "  'Venezuela, Bolivarian Republic of' : 'Venezuela',\n",
    "  'Viet Nam' : 'Vietnam',\n",
    "  'Yemen' : 'Yemen (North Yemen)'}) \n",
    "\n",
    "#Incidentes geopoliticos\n",
    "Incidentes_geopoliticos[\"country\"] = Incidentes_geopoliticos[\"country\"].replace({'Congo' : 'Republic of the Congo', 'DR Congo (Zaire)' : 'Democratic Republic of the Congo'})\n",
    "\n",
    "#Terrorismo\n",
    "Terrorismo[\"country_txt\"] = Terrorismo[\"country_txt\"].replace({'Myanmar' : 'Myanmar (Burma)', 'Yemen' : 'Yemen (North Yemen)' , 'Russia' : 'Russia (Soviet Union)', 'South Vietnam' : 'Vietnam' })\n",
    "\n",
    "#Variaciones en el valor \n",
    "Variaciones_crudo[\"Country\"] = Variaciones_crudo[\"Country\"].replace({'Burma' : 'Myanmar (Burma)', 'Congo-Brazzaville' : 'Republic of the Congo', 'Congo-Kinshasa' : 'Democratic Republic of the Congo', 'Russia' : 'Russia (Soviet Union)' , 'Yemen' : 'Yemen (North Yemen)'})\n",
    "Variaciones_NGPL[\"Country\"] = Variaciones_NGPL[\"Country\"].replace({'Burma' : 'Myanmar (Burma)', 'Congo-Brazzaville' : 'Republic of the Congo', 'Congo-Kinshasa' : 'Democratic Republic of the Congo', 'Russia' : 'Russia (Soviet Union)' , 'Yemen' : 'Yemen (North Yemen)'})\n",
    "Variaciones_Others[\"Country\"] = Variaciones_Others[\"Country\"].replace({'Burma' : 'Myanmar (Burma)', 'Congo-Brazzaville' : 'Republic of the Congo', 'Congo-Kinshasa' : 'Democratic Republic of the Congo', 'Russia' : 'Russia (Soviet Union)' , 'Yemen' : 'Yemen (North Yemen)'})\n",
    "Variaciones_Refinado[\"Country\"] = Variaciones_Refinado[\"Country\"].replace({'Burma' : 'Myanmar (Burma)', 'Congo-Brazzaville' : 'Republic of the Congo', 'Congo-Kinshasa' : 'Democratic Republic of the Congo', 'Russia' : 'Russia (Soviet Union)' , 'Yemen' : 'Yemen (North Yemen)'})\n"
   ]
  },
  {
   "cell_type": "code",
   "execution_count": 25,
   "metadata": {
    "tags": []
   },
   "outputs": [
    {
     "output_type": "stream",
     "name": "stdout",
     "text": " exp: 9102, inc: 52989, Ter: 1605, var_crud: 42400, var_ngp: 32800, var_otr: 32800, var_ref: 32800\n"
    }
   ],
   "source": [
    "#Now lets check lenght of periods of each database\n",
    "\n",
    "print( f' exp: {len(Exportaciones_netas)}, inc: {len(Incidentes_geopoliticos)}, Ter: {len(Terrorismo)}, var_crud: {len(Variaciones_crudo)}, var_ngp: {len(Variaciones_NGPL)}, var_otr: {len(Variaciones_Others)}, var_ref: {len(Variaciones_Refinado)}')"
   ]
  },
  {
   "source": [
    "Next spets:\n",
    "\n",
    "\n",
    "- Check lenght on period or month of each database "
   ],
   "cell_type": "markdown",
   "metadata": {}
  },
  {
   "source": [
    "# Yearly Data"
   ],
   "cell_type": "markdown",
   "metadata": {}
  }
 ]
}