{
 "metadata": {
  "language_info": {
   "codemirror_mode": {
    "name": "ipython",
    "version": 3
   },
   "file_extension": ".py",
   "mimetype": "text/x-python",
   "name": "python",
   "nbconvert_exporter": "python",
   "pygments_lexer": "ipython3",
   "version": "3.7.7-final"
  },
  "orig_nbformat": 2,
  "kernelspec": {
   "name": "Python 3.7.7 64-bit ('base': conda)",
   "display_name": "Python 3.7.7 64-bit ('base': conda)",
   "metadata": {
    "interpreter": {
     "hash": "aa7583ab6350143d4e9d2780c62a9c5e1694c574a0517b8a7c25e1096bbf9afb"
    }
   }
  }
 },
 "nbformat": 4,
 "nbformat_minor": 2,
 "cells": [
  {
   "cell_type": "code",
   "execution_count": 1,
   "metadata": {},
   "outputs": [],
   "source": [
    "import pandas as pd \n",
    "import numpy as np \n",
    "import matplotlib.pyplot as plt"
   ]
  },
  {
   "source": [
    "# Monthly Data"
   ],
   "cell_type": "markdown",
   "metadata": {}
  },
  {
   "cell_type": "code",
   "execution_count": 2,
   "metadata": {},
   "outputs": [],
   "source": [
    "#Read Data\n",
    "Exportaciones_netas = pd.read_csv(\"../csv_results/Exportaciones_Mensuales_Netas.csv\")\n",
    "Incidentes_geopoliticos = pd.read_csv('../csv_results/incidentes_geopoliticos.csv')\n",
    "Terrorismo = pd.read_csv(\"../csv_results/Terrorism.csv\")\n",
    "\n",
    "Variaciones_crudo = pd.read_csv(\"../csv_results/Variaciones_Crudo_Mensual\")\n",
    "Variaciones_NGPL = pd.read_csv('../csv_results/Variaciones_NGPL_Mensual')\n",
    "Variaciones_Others = pd.read_csv('../csv_results/Variaciones_Others_Mensual')\n",
    "Variaciones_Refinado = pd.read_csv('../csv_results/Variaciones_Refinery_Mensual')\n",
    "\n",
    "#Delete unnecesary columns in the variaciones Data set\n",
    "del Variaciones_crudo['Unnamed: 0']\n",
    "del Variaciones_NGPL['Unnamed: 0']\n",
    "del Variaciones_Others['Unnamed: 0']\n",
    "del Variaciones_Refinado['Unnamed: 0']\n",
    "\n",
    "#Delete unnecesary columns in the Incidentes geopoliticos DB\n",
    "del Incidentes_geopoliticos[\"Unnamed: 0\"]\n",
    "\n",
    "#Delete unnecesary columns in the Expotaciones_netas DB\n",
    "Exportaciones_netas = Exportaciones_netas.drop(columns=[\"Unnamed: 0\", \"Exp_notes\", 'Imp_notes'])\n",
    "\n",
    "#Delete unnecesary columns in the Terrorismo DB\n",
    "Terrorismo = Terrorismo.drop(columns=['Unnamed: 0', 'imonth', 'approxdate', 'targtype1', 'targsubtype1', 'doubtterr', 'alternative', 'propextent'])"
   ]
  },
  {
   "cell_type": "code",
   "execution_count": 3,
   "metadata": {},
   "outputs": [],
   "source": []
  },
  {
   "cell_type": "code",
   "execution_count": 4,
   "metadata": {
    "tags": []
   },
   "outputs": [
    {
     "output_type": "execute_result",
     "data": {
      "text/plain": "{'var': ['Burma', 'Congo-Brazzaville', 'Congo-Kinshasa', 'Russia', 'Yemen'],\n 'exp': ['Brunei Darussalam',\n  'Bolivia, Plurinational State of',\n  'Iran, Islamic Republic of',\n  'Myanmar',\n  'Russian Federation',\n  'Venezuela, Bolivarian Republic of',\n  'Viet Nam',\n  'Yemen'],\n 'inc': ['Congo', 'DR Congo (Zaire)'],\n 'ter': ['Myanmar', 'Yemen', 'Russia']}"
     },
     "metadata": {},
     "execution_count": 4
    }
   ],
   "source": [
    "###Create a list with definitive countries names \n",
    "#Problematic countries names are marked with a variant in parenthesis\n",
    "countries = ['Albania','Algeria','Angola','Argentina','Azerbaijan','Benin','Bolivia','Brazil','Brunei','Cameroon','Canada','China','Colombia','Republic of the Congo', 'Democratic Republic of the Congo', 'Denmark','Ecuador','Egypt','Estonia','Gabon','Georgia','Ghana','Guatemala','Indonesia','Iran','Iraq','Kazakhstan','Kuwait','Kyrgyzstan','Libya','Malaysia','Mexico','Mongolia', 'Myanmar (Burma)','Nigeria','Norway','Oman','Qatar','Russia (Soviet Union)','Saudi Arabia','South Sudan','Sudan','Trinidad and Tobago','Tunisia','Turkmenistan','United Arab Emirates','United Kingdom','Venezuela','Vietnam','Yemen (North Yemen)']\n",
    "\n",
    "#### Create a dictionary of countries names who may be replaced\n",
    "#First create a dictionary with countries in each db\n",
    "db_countries = { \"var\" : Variaciones_crudo[\"Country\"].unique().tolist(),\n",
    "                \"exp\" : Exportaciones_netas['Country'].unique().tolist(),\n",
    "                \"inc\" : Incidentes_geopoliticos['country'].unique().tolist(),\n",
    "                \"ter\" : Terrorismo['country_txt'].unique().tolist() }\n",
    "\n",
    "#Then for each db_list check which countries do not match with our list and put them in a dictionary\n",
    "to_change = {'var' : [x for x in db_countries[\"var\"] if x not in countries], \n",
    "                    'exp' : [x for x in db_countries[\"exp\"] if x not in countries],\n",
    "                    'inc' : [x for x in db_countries[\"inc\"] if x not in countries],\n",
    "                    'ter' : [x for x in db_countries[\"ter\"] if x not in countries] }\n",
    "\n",
    "#Print the dictionary in order to find which names need to be replaced\n",
    "to_change"
   ]
  },
  {
   "cell_type": "code",
   "execution_count": 29,
   "metadata": {},
   "outputs": [],
   "source": [
    "#Now replace the names in each db\n",
    "\n",
    "#Exportaciones netas\n",
    "Exportaciones_netas[\"Country\"] = Exportaciones_netas[\"Country\"].replace({'Brunei Darussalam' : 'Brunei',\n",
    "  'Bolivia, Plurinational State of' : 'Bolivia',\n",
    "  'Iran, Islamic Republic of' : 'Iran' ,\n",
    "  'Myanmar' : 'Myanmar (Burma)',\n",
    "  'Russian Federation' : 'Russia (Soviet Union)',\n",
    "  'Venezuela, Bolivarian Republic of' : 'Venezuela',\n",
    "  'Viet Nam' : 'Vietnam',\n",
    "  'Yemen' : 'Yemen (North Yemen)'}) \n",
    "\n",
    "#Incidentes geopoliticos\n",
    "Incidentes_geopoliticos[\"country\"] = Incidentes_geopoliticos[\"country\"].replace({'Congo' : 'Republic of the Congo', 'DR Congo (Zaire)' : 'Democratic Republic of the Congo'})\n",
    "\n",
    "#Terrorismo\n",
    "Terrorismo[\"country_txt\"] = Terrorismo[\"country_txt\"].replace({'Myanmar' : 'Myanmar (Burma)', 'Yemen' : 'Yemen (North Yemen)' , 'Russia' : 'Russia (Soviet Union)', 'South Vietnam' : 'Vietnam' })\n",
    "\n",
    "#Variaciones en el valor \n",
    "Variaciones_crudo[\"Country\"] = Variaciones_crudo[\"Country\"].replace({'Burma' : 'Myanmar (Burma)', 'Congo-Brazzaville' : 'Republic of the Congo', 'Congo-Kinshasa' : 'Democratic Republic of the Congo', 'Russia' : 'Russia (Soviet Union)' , 'Yemen' : 'Yemen (North Yemen)'})\n",
    "Variaciones_NGPL[\"Country\"] = Variaciones_NGPL[\"Country\"].replace({'Burma' : 'Myanmar (Burma)', 'Congo-Brazzaville' : 'Republic of the Congo', 'Congo-Kinshasa' : 'Democratic Republic of the Congo', 'Russia' : 'Russia (Soviet Union)' , 'Yemen' : 'Yemen (North Yemen)'})\n",
    "Variaciones_Others[\"Country\"] = Variaciones_Others[\"Country\"].replace({'Burma' : 'Myanmar (Burma)', 'Congo-Brazzaville' : 'Republic of the Congo', 'Congo-Kinshasa' : 'Democratic Republic of the Congo', 'Russia' : 'Russia (Soviet Union)' , 'Yemen' : 'Yemen (North Yemen)'})\n",
    "Variaciones_Refinado[\"Country\"] = Variaciones_Refinado[\"Country\"].replace({'Burma' : 'Myanmar (Burma)', 'Congo-Brazzaville' : 'Republic of the Congo', 'Congo-Kinshasa' : 'Democratic Republic of the Congo', 'Russia' : 'Russia (Soviet Union)' , 'Yemen' : 'Yemen (North Yemen)'})\n"
   ]
  },
  {
   "cell_type": "code",
   "execution_count": 6,
   "metadata": {
    "tags": []
   },
   "outputs": [
    {
     "output_type": "execute_result",
     "data": {
      "text/plain": "                   nombres  extension    maxima    minima\n2               Terrorismo       1605   2018-12   1972-01\n1  Incidentes_geopoliticos      52989   2019-12   1989-01\n0      Exportaciones_netas       9102   2020-06   2002-01\n3        Variaciones_crudo      21200  Sep 2019  Apr 1973\n4         Variaciones_NGPL      16400  Sep 2019  Apr 1993\n5       Variaciones_Others      16400  Sep 2019  Apr 1993\n6     Variaciones_Refinado      16400  Sep 2019  Apr 1993",
      "text/html": "<div>\n<style scoped>\n    .dataframe tbody tr th:only-of-type {\n        vertical-align: middle;\n    }\n\n    .dataframe tbody tr th {\n        vertical-align: top;\n    }\n\n    .dataframe thead th {\n        text-align: right;\n    }\n</style>\n<table border=\"1\" class=\"dataframe\">\n  <thead>\n    <tr style=\"text-align: right;\">\n      <th></th>\n      <th>nombres</th>\n      <th>extension</th>\n      <th>maxima</th>\n      <th>minima</th>\n    </tr>\n  </thead>\n  <tbody>\n    <tr>\n      <th>2</th>\n      <td>Terrorismo</td>\n      <td>1605</td>\n      <td>2018-12</td>\n      <td>1972-01</td>\n    </tr>\n    <tr>\n      <th>1</th>\n      <td>Incidentes_geopoliticos</td>\n      <td>52989</td>\n      <td>2019-12</td>\n      <td>1989-01</td>\n    </tr>\n    <tr>\n      <th>0</th>\n      <td>Exportaciones_netas</td>\n      <td>9102</td>\n      <td>2020-06</td>\n      <td>2002-01</td>\n    </tr>\n    <tr>\n      <th>3</th>\n      <td>Variaciones_crudo</td>\n      <td>21200</td>\n      <td>Sep 2019</td>\n      <td>Apr 1973</td>\n    </tr>\n    <tr>\n      <th>4</th>\n      <td>Variaciones_NGPL</td>\n      <td>16400</td>\n      <td>Sep 2019</td>\n      <td>Apr 1993</td>\n    </tr>\n    <tr>\n      <th>5</th>\n      <td>Variaciones_Others</td>\n      <td>16400</td>\n      <td>Sep 2019</td>\n      <td>Apr 1993</td>\n    </tr>\n    <tr>\n      <th>6</th>\n      <td>Variaciones_Refinado</td>\n      <td>16400</td>\n      <td>Sep 2019</td>\n      <td>Apr 1993</td>\n    </tr>\n  </tbody>\n</table>\n</div>"
     },
     "metadata": {},
     "execution_count": 6
    }
   ],
   "source": [
    "#Analicemos las distintas bases de datos\n",
    "periods = [Exportaciones_netas['Month'], Incidentes_geopoliticos['Start_month'], Terrorismo['period'], Variaciones_crudo['level_1'], Variaciones_NGPL['level_1'],Variaciones_Others['level_1'], Variaciones_Refinado['level_1']]\n",
    "\n",
    "\n",
    "analisis = pd.DataFrame({'nombres' : ['Exportaciones_netas', 'Incidentes_geopoliticos', 'Terrorismo', 'Variaciones_crudo', 'Variaciones_NGPL', 'Variaciones_Others', 'Variaciones_Refinado'],\n",
    "                                'extension' : [len(x) for x in periods],\n",
    "                                'maxima' : [np.max(x) for x in periods],\n",
    "                                'minima' : [np.min(x) for x in periods] }, \n",
    "                                columns=[\"nombres\",'extension','maxima', 'minima'])\n",
    "analisis.sort_values(\"minima\")"
   ]
  },
  {
   "source": [
    "# Next spets:\n",
    "### DataFrames Globales\n",
    "- Una tabla de terrorismo vs valores de crudo desde abril del 73 hasta diciembre de 2018\n",
    "- Una tabla de terrorismo e incidentes vs todas las variaciones de valores dede abril del 92 hasta diciembre de 2018\n",
    "- Una tabla de exportaciones netas vs valores, incidentes y terroismo desde enero 2002 hasta diciembre de 2018\n",
    "- Un tabla de exportaciones netas vs valores e incidentes desde enero 2002 hasta septiembre de 2019\n",
    "\n",
    "### DataFrames por paises\n",
    "- Pendiente de como se va hacer\n",
    "\n"
   ],
   "cell_type": "markdown",
   "metadata": {}
  },
  {
   "cell_type": "code",
   "execution_count": 7,
   "metadata": {},
   "outputs": [
    {
     "output_type": "execute_result",
     "data": {
      "text/plain": "   iyear  iday  extended  resolution country_txt                  region_txt  \\\n0   1972     1         0         NaN      Kuwait  Middle East & North Africa   \n1   1972    14         0         NaN        Iran  Middle East & North Africa   \n2   1972    23         0         NaN        Iran  Middle East & North Africa   \n3   1973    24         0         NaN   Venezuela               South America   \n4   1973     6         1  1974-04-20   Argentina               South America   \n\n  targtype1_txt  targsubtype1_txt alternative_txt  multiple  success motive  \\\n0      Business  Gas/Oil/Electric             NaN         0        1    NaN   \n1      Business  Gas/Oil/Electric             NaN         0        0    NaN   \n2     Utilities               Oil             NaN         0        0    NaN   \n3     Utilities               Oil             NaN         0        1    NaN   \n4      Business  Gas/Oil/Electric             NaN         0        1    NaN   \n\n   nkill  nwound  property propextent_txt  propvalue   latitude  longitude  \\\n0    0.0     0.0         1        Unknown        NaN        NaN        NaN   \n1    0.0     0.0         1            NaN        NaN  35.724533  51.405190   \n2    0.0     0.0         0            NaN        NaN  30.345997  48.287136   \n3    NaN     NaN         1            NaN        NaN        NaN        NaN   \n4    0.0     0.0         0            NaN        NaN -34.617680 -58.444435   \n\n    period  \n0  1972-01  \n1  1972-08  \n2  1972-08  \n3  1973-11  \n4  1973-12  ",
      "text/html": "<div>\n<style scoped>\n    .dataframe tbody tr th:only-of-type {\n        vertical-align: middle;\n    }\n\n    .dataframe tbody tr th {\n        vertical-align: top;\n    }\n\n    .dataframe thead th {\n        text-align: right;\n    }\n</style>\n<table border=\"1\" class=\"dataframe\">\n  <thead>\n    <tr style=\"text-align: right;\">\n      <th></th>\n      <th>iyear</th>\n      <th>iday</th>\n      <th>extended</th>\n      <th>resolution</th>\n      <th>country_txt</th>\n      <th>region_txt</th>\n      <th>targtype1_txt</th>\n      <th>targsubtype1_txt</th>\n      <th>alternative_txt</th>\n      <th>multiple</th>\n      <th>success</th>\n      <th>motive</th>\n      <th>nkill</th>\n      <th>nwound</th>\n      <th>property</th>\n      <th>propextent_txt</th>\n      <th>propvalue</th>\n      <th>latitude</th>\n      <th>longitude</th>\n      <th>period</th>\n    </tr>\n  </thead>\n  <tbody>\n    <tr>\n      <th>0</th>\n      <td>1972</td>\n      <td>1</td>\n      <td>0</td>\n      <td>NaN</td>\n      <td>Kuwait</td>\n      <td>Middle East &amp; North Africa</td>\n      <td>Business</td>\n      <td>Gas/Oil/Electric</td>\n      <td>NaN</td>\n      <td>0</td>\n      <td>1</td>\n      <td>NaN</td>\n      <td>0.0</td>\n      <td>0.0</td>\n      <td>1</td>\n      <td>Unknown</td>\n      <td>NaN</td>\n      <td>NaN</td>\n      <td>NaN</td>\n      <td>1972-01</td>\n    </tr>\n    <tr>\n      <th>1</th>\n      <td>1972</td>\n      <td>14</td>\n      <td>0</td>\n      <td>NaN</td>\n      <td>Iran</td>\n      <td>Middle East &amp; North Africa</td>\n      <td>Business</td>\n      <td>Gas/Oil/Electric</td>\n      <td>NaN</td>\n      <td>0</td>\n      <td>0</td>\n      <td>NaN</td>\n      <td>0.0</td>\n      <td>0.0</td>\n      <td>1</td>\n      <td>NaN</td>\n      <td>NaN</td>\n      <td>35.724533</td>\n      <td>51.405190</td>\n      <td>1972-08</td>\n    </tr>\n    <tr>\n      <th>2</th>\n      <td>1972</td>\n      <td>23</td>\n      <td>0</td>\n      <td>NaN</td>\n      <td>Iran</td>\n      <td>Middle East &amp; North Africa</td>\n      <td>Utilities</td>\n      <td>Oil</td>\n      <td>NaN</td>\n      <td>0</td>\n      <td>0</td>\n      <td>NaN</td>\n      <td>0.0</td>\n      <td>0.0</td>\n      <td>0</td>\n      <td>NaN</td>\n      <td>NaN</td>\n      <td>30.345997</td>\n      <td>48.287136</td>\n      <td>1972-08</td>\n    </tr>\n    <tr>\n      <th>3</th>\n      <td>1973</td>\n      <td>24</td>\n      <td>0</td>\n      <td>NaN</td>\n      <td>Venezuela</td>\n      <td>South America</td>\n      <td>Utilities</td>\n      <td>Oil</td>\n      <td>NaN</td>\n      <td>0</td>\n      <td>1</td>\n      <td>NaN</td>\n      <td>NaN</td>\n      <td>NaN</td>\n      <td>1</td>\n      <td>NaN</td>\n      <td>NaN</td>\n      <td>NaN</td>\n      <td>NaN</td>\n      <td>1973-11</td>\n    </tr>\n    <tr>\n      <th>4</th>\n      <td>1973</td>\n      <td>6</td>\n      <td>1</td>\n      <td>1974-04-20</td>\n      <td>Argentina</td>\n      <td>South America</td>\n      <td>Business</td>\n      <td>Gas/Oil/Electric</td>\n      <td>NaN</td>\n      <td>0</td>\n      <td>1</td>\n      <td>NaN</td>\n      <td>0.0</td>\n      <td>0.0</td>\n      <td>0</td>\n      <td>NaN</td>\n      <td>NaN</td>\n      <td>-34.617680</td>\n      <td>-58.444435</td>\n      <td>1973-12</td>\n    </tr>\n  </tbody>\n</table>\n</div>"
     },
     "metadata": {},
     "execution_count": 7
    }
   ],
   "source": [
    "Terrorismo.head()"
   ]
  },
  {
   "cell_type": "code",
   "execution_count": 36,
   "metadata": {},
   "outputs": [
    {
     "output_type": "execute_result",
     "data": {
      "text/plain": "level_1\nApr 1973    1142.0162.01787.01012.035.0120.0206.3740000000...\nApr 1974    1089.0169.01644.01165.061.0255.0105.147202.061...\nApr 1975    1010.0165.01197.01335.037.0208.0191.604223.054...\nApr 1976    1071.0108.01117.01667.039.0200.0320.156223.055...\nApr 1977    1230.0194.01223.01841.033.0179.807000000000024...\n                                  ...                        \nSep 2015                                              68594.6\nSep 2016                                                69275\nSep 2017                                              69182.7\nSep 2018                                              69311.7\nSep 2019                                              65719.6\nName: 0, Length: 568, dtype: object"
     },
     "metadata": {},
     "execution_count": 36
    }
   ],
   "source": [
    "#Variaciones_crudo[\"Country\"]\n",
    "#Variaciones_NGPL.head()\n",
    "Variaciones_crudo.groupby(Variaciones_crudo[\"level_1\"]).sum()[0]\n",
    "#Variaciones_NGPL['level_1'],Variaciones_Others['level_1'], Variaciones_Refinado['level_1']"
   ]
  },
  {
   "cell_type": "code",
   "execution_count": 9,
   "metadata": {},
   "outputs": [
    {
     "output_type": "execute_result",
     "data": {
      "text/plain": "   iyear  iday  extended  resolution country_txt                  region_txt  \\\n0   1972     1         0         NaN      Kuwait  Middle East & North Africa   \n1   1972    14         0         NaN        Iran  Middle East & North Africa   \n2   1972    23         0         NaN        Iran  Middle East & North Africa   \n3   1973    24         0         NaN   Venezuela               South America   \n4   1973     6         1  1974-04-20   Argentina               South America   \n\n  targtype1_txt  targsubtype1_txt alternative_txt  multiple  success motive  \\\n0      Business  Gas/Oil/Electric             NaN         0        1    NaN   \n1      Business  Gas/Oil/Electric             NaN         0        0    NaN   \n2     Utilities               Oil             NaN         0        0    NaN   \n3     Utilities               Oil             NaN         0        1    NaN   \n4      Business  Gas/Oil/Electric             NaN         0        1    NaN   \n\n   nkill  nwound  property propextent_txt  propvalue   latitude  longitude  \\\n0    0.0     0.0         1        Unknown        NaN        NaN        NaN   \n1    0.0     0.0         1            NaN        NaN  35.724533  51.405190   \n2    0.0     0.0         0            NaN        NaN  30.345997  48.287136   \n3    NaN     NaN         1            NaN        NaN        NaN        NaN   \n4    0.0     0.0         0            NaN        NaN -34.617680 -58.444435   \n\n    period  \n0  1972-01  \n1  1972-08  \n2  1972-08  \n3  1973-11  \n4  1973-12  ",
      "text/html": "<div>\n<style scoped>\n    .dataframe tbody tr th:only-of-type {\n        vertical-align: middle;\n    }\n\n    .dataframe tbody tr th {\n        vertical-align: top;\n    }\n\n    .dataframe thead th {\n        text-align: right;\n    }\n</style>\n<table border=\"1\" class=\"dataframe\">\n  <thead>\n    <tr style=\"text-align: right;\">\n      <th></th>\n      <th>iyear</th>\n      <th>iday</th>\n      <th>extended</th>\n      <th>resolution</th>\n      <th>country_txt</th>\n      <th>region_txt</th>\n      <th>targtype1_txt</th>\n      <th>targsubtype1_txt</th>\n      <th>alternative_txt</th>\n      <th>multiple</th>\n      <th>success</th>\n      <th>motive</th>\n      <th>nkill</th>\n      <th>nwound</th>\n      <th>property</th>\n      <th>propextent_txt</th>\n      <th>propvalue</th>\n      <th>latitude</th>\n      <th>longitude</th>\n      <th>period</th>\n    </tr>\n  </thead>\n  <tbody>\n    <tr>\n      <th>0</th>\n      <td>1972</td>\n      <td>1</td>\n      <td>0</td>\n      <td>NaN</td>\n      <td>Kuwait</td>\n      <td>Middle East &amp; North Africa</td>\n      <td>Business</td>\n      <td>Gas/Oil/Electric</td>\n      <td>NaN</td>\n      <td>0</td>\n      <td>1</td>\n      <td>NaN</td>\n      <td>0.0</td>\n      <td>0.0</td>\n      <td>1</td>\n      <td>Unknown</td>\n      <td>NaN</td>\n      <td>NaN</td>\n      <td>NaN</td>\n      <td>1972-01</td>\n    </tr>\n    <tr>\n      <th>1</th>\n      <td>1972</td>\n      <td>14</td>\n      <td>0</td>\n      <td>NaN</td>\n      <td>Iran</td>\n      <td>Middle East &amp; North Africa</td>\n      <td>Business</td>\n      <td>Gas/Oil/Electric</td>\n      <td>NaN</td>\n      <td>0</td>\n      <td>0</td>\n      <td>NaN</td>\n      <td>0.0</td>\n      <td>0.0</td>\n      <td>1</td>\n      <td>NaN</td>\n      <td>NaN</td>\n      <td>35.724533</td>\n      <td>51.405190</td>\n      <td>1972-08</td>\n    </tr>\n    <tr>\n      <th>2</th>\n      <td>1972</td>\n      <td>23</td>\n      <td>0</td>\n      <td>NaN</td>\n      <td>Iran</td>\n      <td>Middle East &amp; North Africa</td>\n      <td>Utilities</td>\n      <td>Oil</td>\n      <td>NaN</td>\n      <td>0</td>\n      <td>0</td>\n      <td>NaN</td>\n      <td>0.0</td>\n      <td>0.0</td>\n      <td>0</td>\n      <td>NaN</td>\n      <td>NaN</td>\n      <td>30.345997</td>\n      <td>48.287136</td>\n      <td>1972-08</td>\n    </tr>\n    <tr>\n      <th>3</th>\n      <td>1973</td>\n      <td>24</td>\n      <td>0</td>\n      <td>NaN</td>\n      <td>Venezuela</td>\n      <td>South America</td>\n      <td>Utilities</td>\n      <td>Oil</td>\n      <td>NaN</td>\n      <td>0</td>\n      <td>1</td>\n      <td>NaN</td>\n      <td>NaN</td>\n      <td>NaN</td>\n      <td>1</td>\n      <td>NaN</td>\n      <td>NaN</td>\n      <td>NaN</td>\n      <td>NaN</td>\n      <td>1973-11</td>\n    </tr>\n    <tr>\n      <th>4</th>\n      <td>1973</td>\n      <td>6</td>\n      <td>1</td>\n      <td>1974-04-20</td>\n      <td>Argentina</td>\n      <td>South America</td>\n      <td>Business</td>\n      <td>Gas/Oil/Electric</td>\n      <td>NaN</td>\n      <td>0</td>\n      <td>1</td>\n      <td>NaN</td>\n      <td>0.0</td>\n      <td>0.0</td>\n      <td>0</td>\n      <td>NaN</td>\n      <td>NaN</td>\n      <td>-34.617680</td>\n      <td>-58.444435</td>\n      <td>1973-12</td>\n    </tr>\n  </tbody>\n</table>\n</div>"
     },
     "metadata": {},
     "execution_count": 9
    }
   ],
   "source": [
    "Terrorismo[\"country_txt\", \"region_txt\", ]"
   ]
  },
  {
   "source": [
    "# Yearly Data"
   ],
   "cell_type": "markdown",
   "metadata": {}
  }
 ]
}