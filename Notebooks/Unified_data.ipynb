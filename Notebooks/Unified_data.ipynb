{
 "metadata": {
  "language_info": {
   "codemirror_mode": {
    "name": "ipython",
    "version": 3
   },
   "file_extension": ".py",
   "mimetype": "text/x-python",
   "name": "python",
   "nbconvert_exporter": "python",
   "pygments_lexer": "ipython3",
   "version": "3.7.7-final"
  },
  "orig_nbformat": 2,
  "kernelspec": {
   "name": "python_defaultSpec_1600868661614",
   "display_name": "Python 3.7.7 64-bit ('base': conda)"
  }
 },
 "nbformat": 4,
 "nbformat_minor": 2,
 "cells": [
  {
   "cell_type": "code",
   "execution_count": 156,
   "metadata": {},
   "outputs": [],
   "source": [
    "import pandas as pd \n",
    "import numpy as np \n",
    "import matplotlib.pyplot as plt"
   ]
  },
  {
   "source": [
    "# Monthly Data"
   ],
   "cell_type": "markdown",
   "metadata": {}
  },
  {
   "cell_type": "code",
   "execution_count": 273,
   "metadata": {},
   "outputs": [],
   "source": [
    "#Read Data\n",
    "Exportaciones_netas = pd.read_csv(\"../csv_results/Exportaciones_Mensuales_Netas.csv\")\n",
    "Incidentes_geopoliticos = pd.read_csv('../csv_results/incidentes_geopoliticos.csv')\n",
    "Terrorismo = pd.read_csv(\"../csv_results/Terrorism.csv\")\n",
    "\n",
    "Variaciones_crudo = pd.read_csv(\"../csv_results/Variaciones_Crudo_Mensual\")\n",
    "Variaciones_NGPL = pd.read_csv('../csv_results/Variaciones_NGPL_Mensual')\n",
    "Variaciones_Others = pd.read_csv('../csv_results/Variaciones_Others_Mensual')\n",
    "Variaciones_Refinado = pd.read_csv('../csv_results/Variaciones_Refinery_Mensual')\n",
    "\n",
    "#Delete unnecesary columns\n",
    "del Variaciones_crudo['Unnamed: 0']\n",
    "del Variaciones_NGPL['Unnamed: 0']\n",
    "del Variaciones_Others['Unnamed: 0']\n",
    "del Variaciones_Refinado['Unnamed: 0']\n"
   ]
  },
  {
   "cell_type": "code",
   "execution_count": 275,
   "metadata": {},
   "outputs": [],
   "source": [
    "#Undo pivot tables\n",
    "Variaciones_crudo = Variaciones_crudo.set_index(\"Country\").stack().reset_index()\n",
    "Variaciones_NGPL = Variaciones_NGPL.set_index(\"Country\").stack().reset_index()\n",
    "Variaciones_Others = Variaciones_Others.set_index(\"Country\").stack().reset_index()\n",
    "Variaciones_Refinado = Variaciones_Refinado.set_index(\"Country\").stack().reset_index()"
   ]
  },
  {
   "cell_type": "code",
   "execution_count": 282,
   "metadata": {},
   "outputs": [],
   "source": [
    "var_co = Variaciones_crudo[\"Country\"].unique().tolist()\n",
    "exp_co = Exportaciones_netas['Country'].unique().tolist()\n",
    "inc_co = Incidentes_geopoliticos['country'].unique().tolist()\n",
    "ter_co = Terrorismo['country_txt'].unique().tolist()"
   ]
  },
  {
   "cell_type": "code",
   "execution_count": 301,
   "metadata": {
    "tags": []
   },
   "outputs": [
    {
     "output_type": "error",
     "ename": "SyntaxError",
     "evalue": "invalid syntax (<ipython-input-301-14e389b28fed>, line 6)",
     "traceback": [
      "\u001b[0;36m  File \u001b[0;32m\"<ipython-input-301-14e389b28fed>\"\u001b[0;36m, line \u001b[0;32m6\u001b[0m\n\u001b[0;31m    if x not in ver_co or not in exp_co or not in inc_co or not in var_co:\u001b[0m\n\u001b[0m                               ^\u001b[0m\n\u001b[0;31mSyntaxError\u001b[0m\u001b[0;31m:\u001b[0m invalid syntax\n"
     ]
    }
   ],
   "source": [
    "countries = ['Albania','Algeria','Angola','Argentina','Azerbaijan','Benin','Bolivia','Brazil','Brunei','Cameroon','Canada','China','Colombia','Republic of the Congo', 'Democratic Republic of the Congo', 'Denmark','Ecuador','Egypt','Estonia','Gabon','Georgia','Ghana','Guatemala','Indonesia','Iran','Iraq','Kazakhstan','Kuwait','Kyrgyzstan','Libya','Malaysia','Mexico','Mongolia', 'Myanmar(Burma)','Nigeria','Norway','Oman','Qatar','Russia','Saudi Arabia','South Sudan','Sudan','Trinidad and Tobago','Tunisia','Turkmenistan','United Arab Emirates','United Kingdom','Venezuela','Vietnam','Yemen']\n",
    "\n",
    "extrange_names = []\n",
    "\n",
    "\n",
    "for x in countries:\n",
    "    if x in var_co\n",
    "\n",
    "    "
   ]
  },
  {
   "cell_type": "code",
   "execution_count": 299,
   "metadata": {},
   "outputs": [
    {
     "output_type": "execute_result",
     "data": {
      "text/plain": "['Burma', 'Congo-Brazzaville', 'Congo-Kinshasa']"
     },
     "metadata": {},
     "execution_count": 299
    }
   ],
   "source": [
    "extrange_names"
   ]
  },
  {
   "source": [
    "# Yearly Data"
   ],
   "cell_type": "markdown",
   "metadata": {}
  }
 ]
}