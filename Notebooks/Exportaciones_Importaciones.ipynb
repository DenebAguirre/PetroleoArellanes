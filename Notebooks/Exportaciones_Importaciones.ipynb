{
 "metadata": {
  "language_info": {
   "codemirror_mode": {
    "name": "ipython",
    "version": 3
   },
   "file_extension": ".py",
   "mimetype": "text/x-python",
   "name": "python",
   "nbconvert_exporter": "python",
   "pygments_lexer": "ipython3",
   "version": "3.7.6-final"
  },
  "orig_nbformat": 2,
  "kernelspec": {
   "name": "python3",
   "display_name": "Python 3"
  }
 },
 "nbformat": 4,
 "nbformat_minor": 2,
 "cells": [
  {
   "cell_type": "code",
   "execution_count": 19,
   "metadata": {},
   "outputs": [],
   "source": [
    "import pandas as pd"
   ]
  },
  {
   "cell_type": "code",
   "execution_count": 20,
   "metadata": {},
   "outputs": [],
   "source": [
    "\n",
    "#Leer la direccion, luego el archivo csv, luego transformalo en un DataFrame \n",
    "imports = \"/Users/Deneb/git/Independent_Projects/PetroleoArellanes/Databases/UNSD/UNdata_Export_20200724_213546535.csv\"\n",
    "exports = \"/Users/Deneb/git/Independent_Projects/PetroleoArellanes/Databases/UNSD/UNdata_Export_20200724_213715549.csv\"\n",
    "\n",
    "imports = pd.read_csv(imports)\n",
    "exports = pd.read_csv(exports)\n",
    "\n",
    "imports = pd.DataFrame(imports)\n",
    "exports = pd.DataFrame(exports)"
   ]
  },
  {
   "cell_type": "code",
   "execution_count": 21,
   "metadata": {},
   "outputs": [],
   "source": [
    "# #Obtener lista de exportadores del archivo proporcionadp\n",
    "# exp_netos = pd.read_excel(\"../Exportadores netos 1990-2015.xlsx\",  sheet_name=\"Lista 2\", header=None)\n",
    "# exp_netos = exp_netos[1].to_list()\n",
    "# #Elimina los primeros tres, porque son NaN\n",
    "# del exp_netos[0:3]\n",
    "\n",
    "##Para conincidir con la base de datos traduje con google traslate los nombres de los paises\n",
    "#exp_netos = ['Albania','Angola','Saudi Arabia','Algeria','Argentina','Benin','Azerbaijan','Bolivia','Brazil','Brunei','Cameroon','Canada','China','Colombia','Congo','Denmark','Ecuador','Egypt','UAE','Estonia','Gabon','Indonesia','Georgia','Ghana','Guatemala','Iran','Iraq','Kazakhstan','Kyrgyzstan','Kuwait','Libya','Malaysia','Mexico','Mongolia','Myanmar','Nigeria','Norway','Oman','Qatar','UK','RD of the Congo','Russia','Trinidad and Tobago','Sudan','South Sudan','Tunisia','Turkmenistan','Vietnam','Venezuela','Yemen']\n",
    "\n",
    "\n",
    "##### Estos paises tenian nombres diferentes a los de la lista original\n",
    "        # Bolivia = Bolivia (Plur. State of)\n",
    "        # Brunei = Brunei Darussalam\n",
    "        # UAE = United Arab Emirates\n",
    "    # Estonia = no aparece en la base de datos ni como exportador ni como importador\n",
    "        # Iran =  Iran (Islamic Rep. of)\n",
    "        # UK = United Kingdom\n",
    "        # RD of the Congo = Dem. Rep. of the Congo\n",
    "        # Russia = Russian Federation \n",
    "        # Vietnam = Viet Nam\n",
    "        # Venezuela = Venezuela (Bolivar. Rep.)\n",
    "\n",
    "\n",
    "####Use este codigo para identificar cualese estaban y cuales no\n",
    "# exporters_list = imports[\"Country or Area\"].to_list()\n",
    "# for x in netos:\n",
    "#     if x not in exporters_list:\n",
    "#         print(x)\n",
    "\n",
    "\n",
    "##### Lista adecuada a la base de datos\n",
    "netos = ['Albania','Angola','Saudi Arabia','Algeria','Argentina','Benin','Azerbaijan','Bolivia (Plur. State of)','Brazil','Brunei Darussalam','Cameroon','Canada','China','Colombia','Congo','Denmark','Ecuador','Egypt','United Arab Emirates','Estonia','Gabon','Indonesia','Georgia','Ghana','Guatemala','Iran (Islamic Rep. of)','Iraq','Kazakhstan','Kyrgyzstan','Kuwait','Libya','Malaysia','Mexico','Mongolia','Myanmar','Nigeria','Norway','Oman','Qatar','United Kingdom','Dem. Rep. of the Congo','Russian Federation','Trinidad and Tobago','Sudan','South Sudan','Tunisia','Turkmenistan','Viet Nam','Venezuela (Bolivar. Rep.)','Yemen']\n",
    "\n",
    "### Estos 18 paises no aparecen en la base de deatos de importadores \n",
    "#['Angola', 'Saudi Arabia', 'Benin', 'Bolivia (Plur. State of)', 'Brunei Darussalam', 'Congo', 'United Arab Emirates', 'Estonia', 'Gabon', 'Iran (Islamic Rep. of)', 'Iraq', 'Kuwait', 'Libya', 'Mongolia', 'Nigeria', 'Oman', 'Qatar', 'South Sudan']\n",
    "\n",
    "###Estos paises no aparecen en la base de datos de exportadores \n",
    "# ['Estonia']\n"
   ]
  },
  {
   "cell_type": "markdown",
   "metadata": {},
   "source": [
    "En la lista de importadores hay: 32 paises con 658 registros \n",
    "\n",
    "En la lista de exportadores hay: 49 paises con 1240 registros"
   ]
  },
  {
   "cell_type": "code",
   "execution_count": 55,
   "metadata": {},
   "outputs": [],
   "source": [
    "importers = imports.loc[imports[\"Country or Area\"].isin(netos)]\n",
    "\n",
    "exporters = exports.loc[exports[\"Country or Area\"].isin(netos)]\n",
    "\n",
    "\n"
   ]
  },
  {
   "cell_type": "code",
   "execution_count": 58,
   "metadata": {
    "tags": []
   },
   "outputs": [
    {
     "output_type": "execute_result",
     "data": {
      "text/plain": "  Country or Area           Commodity - Transaction    Year  \\\n0         Albania  Conventional crude oil - imports  1999.0   \n1         Albania  Conventional crude oil - imports  1998.0   \n2         Albania  Conventional crude oil - imports  1997.0   \n3         Albania  Conventional crude oil - imports  1996.0   \n4         Albania  Conventional crude oil - imports  1995.0   \n\n                     Unit  Quantity  Quantity Footnotes  \n0  Metric tons,  thousand       0.0                 NaN  \n1  Metric tons,  thousand       5.0                 NaN  \n2  Metric tons,  thousand       6.0                 NaN  \n3  Metric tons,  thousand       5.0                 NaN  \n4  Metric tons,  thousand       0.0                 NaN  ",
      "text/html": "<div>\n<style scoped>\n    .dataframe tbody tr th:only-of-type {\n        vertical-align: middle;\n    }\n\n    .dataframe tbody tr th {\n        vertical-align: top;\n    }\n\n    .dataframe thead th {\n        text-align: right;\n    }\n</style>\n<table border=\"1\" class=\"dataframe\">\n  <thead>\n    <tr style=\"text-align: right;\">\n      <th></th>\n      <th>Country or Area</th>\n      <th>Commodity - Transaction</th>\n      <th>Year</th>\n      <th>Unit</th>\n      <th>Quantity</th>\n      <th>Quantity Footnotes</th>\n    </tr>\n  </thead>\n  <tbody>\n    <tr>\n      <th>0</th>\n      <td>Albania</td>\n      <td>Conventional crude oil - imports</td>\n      <td>1999.0</td>\n      <td>Metric tons,  thousand</td>\n      <td>0.0</td>\n      <td>NaN</td>\n    </tr>\n    <tr>\n      <th>1</th>\n      <td>Albania</td>\n      <td>Conventional crude oil - imports</td>\n      <td>1998.0</td>\n      <td>Metric tons,  thousand</td>\n      <td>5.0</td>\n      <td>NaN</td>\n    </tr>\n    <tr>\n      <th>2</th>\n      <td>Albania</td>\n      <td>Conventional crude oil - imports</td>\n      <td>1997.0</td>\n      <td>Metric tons,  thousand</td>\n      <td>6.0</td>\n      <td>NaN</td>\n    </tr>\n    <tr>\n      <th>3</th>\n      <td>Albania</td>\n      <td>Conventional crude oil - imports</td>\n      <td>1996.0</td>\n      <td>Metric tons,  thousand</td>\n      <td>5.0</td>\n      <td>NaN</td>\n    </tr>\n    <tr>\n      <th>4</th>\n      <td>Albania</td>\n      <td>Conventional crude oil - imports</td>\n      <td>1995.0</td>\n      <td>Metric tons,  thousand</td>\n      <td>0.0</td>\n      <td>NaN</td>\n    </tr>\n  </tbody>\n</table>\n</div>"
     },
     "metadata": {},
     "execution_count": 58
    }
   ],
   "source": [
    "importers.head()\n",
    "\n"
   ]
  },
  {
   "cell_type": "code",
   "execution_count": 59,
   "metadata": {},
   "outputs": [
    {
     "output_type": "execute_result",
     "data": {
      "text/plain": "  Country or Area           Commodity - Transaction    Year  \\\n0         Albania  Conventional crude oil - exports  2017.0   \n1         Albania  Conventional crude oil - exports  2016.0   \n2         Albania  Conventional crude oil - exports  2015.0   \n3         Albania  Conventional crude oil - exports  2014.0   \n4         Albania  Conventional crude oil - exports  2013.0   \n\n                     Unit  Quantity  Quantity Footnotes  \n0  Metric tons,  thousand    488.00                 NaN  \n1  Metric tons,  thousand    888.00                 NaN  \n2  Metric tons,  thousand    987.00                 NaN  \n3  Metric tons,  thousand   1007.22                 NaN  \n4  Metric tons,  thousand   1167.00                 NaN  ",
      "text/html": "<div>\n<style scoped>\n    .dataframe tbody tr th:only-of-type {\n        vertical-align: middle;\n    }\n\n    .dataframe tbody tr th {\n        vertical-align: top;\n    }\n\n    .dataframe thead th {\n        text-align: right;\n    }\n</style>\n<table border=\"1\" class=\"dataframe\">\n  <thead>\n    <tr style=\"text-align: right;\">\n      <th></th>\n      <th>Country or Area</th>\n      <th>Commodity - Transaction</th>\n      <th>Year</th>\n      <th>Unit</th>\n      <th>Quantity</th>\n      <th>Quantity Footnotes</th>\n    </tr>\n  </thead>\n  <tbody>\n    <tr>\n      <th>0</th>\n      <td>Albania</td>\n      <td>Conventional crude oil - exports</td>\n      <td>2017.0</td>\n      <td>Metric tons,  thousand</td>\n      <td>488.00</td>\n      <td>NaN</td>\n    </tr>\n    <tr>\n      <th>1</th>\n      <td>Albania</td>\n      <td>Conventional crude oil - exports</td>\n      <td>2016.0</td>\n      <td>Metric tons,  thousand</td>\n      <td>888.00</td>\n      <td>NaN</td>\n    </tr>\n    <tr>\n      <th>2</th>\n      <td>Albania</td>\n      <td>Conventional crude oil - exports</td>\n      <td>2015.0</td>\n      <td>Metric tons,  thousand</td>\n      <td>987.00</td>\n      <td>NaN</td>\n    </tr>\n    <tr>\n      <th>3</th>\n      <td>Albania</td>\n      <td>Conventional crude oil - exports</td>\n      <td>2014.0</td>\n      <td>Metric tons,  thousand</td>\n      <td>1007.22</td>\n      <td>NaN</td>\n    </tr>\n    <tr>\n      <th>4</th>\n      <td>Albania</td>\n      <td>Conventional crude oil - exports</td>\n      <td>2013.0</td>\n      <td>Metric tons,  thousand</td>\n      <td>1167.00</td>\n      <td>NaN</td>\n    </tr>\n  </tbody>\n</table>\n</div>"
     },
     "metadata": {},
     "execution_count": 59
    }
   ],
   "source": [
    "exporters.head()"
   ]
  }
 ]
}