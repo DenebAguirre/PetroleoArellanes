{
 "metadata": {
  "language_info": {
   "codemirror_mode": {
    "name": "ipython",
    "version": 3
   },
   "file_extension": ".py",
   "mimetype": "text/x-python",
   "name": "python",
   "nbconvert_exporter": "python",
   "pygments_lexer": "ipython3",
   "version": "3.7.6-final"
  },
  "orig_nbformat": 2,
  "kernelspec": {
   "name": "python3",
   "display_name": "Python 3"
  }
 },
 "nbformat": 4,
 "nbformat_minor": 2,
 "cells": [
  {
   "cell_type": "code",
   "execution_count": 1,
   "metadata": {},
   "outputs": [],
   "source": [
    "import pandas as pd"
   ]
  },
  {
   "cell_type": "code",
   "execution_count": 2,
   "metadata": {},
   "outputs": [],
   "source": [
    "\n",
    "#Leer la direccion, luego el archivo csv, luego transformalo en un DataFrame \n",
    "imports = \"/Users/Deneb/git/Independent_Projects/PetroleoArellanes/Databases/UNSD/UNdata_Export_20200724_213546535.csv\"\n",
    "exports = \"/Users/Deneb/git/Independent_Projects/PetroleoArellanes/Databases/UNSD/UNdata_Export_20200724_213715549.csv\"\n",
    "\n",
    "imports = pd.read_csv(imports)\n",
    "exports = pd.read_csv(exports)\n",
    "\n",
    "imports = pd.DataFrame(imports)\n",
    "exports = pd.DataFrame(exports)"
   ]
  },
  {
   "cell_type": "code",
   "execution_count": 3,
   "metadata": {},
   "outputs": [],
   "source": [
    "# #Obtener lista de exportadores del archivo proporcionadp\n",
    "# exp_netos = pd.read_excel(\"../Exportadores netos 1990-2015.xlsx\",  sheet_name=\"Lista 2\", header=None)\n",
    "# exp_netos = exp_netos[1].to_list()\n",
    "# #Elimina los primeros tres, porque son NaN\n",
    "# del exp_netos[0:3]\n",
    "\n",
    "##Para conincidir con la base de datos traduje con google traslate los nombres de los paises\n",
    "#exp_netos = ['Albania','Angola','Saudi Arabia','Algeria','Argentina','Benin','Azerbaijan','Bolivia','Brazil','Brunei','Cameroon','Canada','China','Colombia','Congo','Denmark','Ecuador','Egypt','UAE','Estonia','Gabon','Indonesia','Georgia','Ghana','Guatemala','Iran','Iraq','Kazakhstan','Kyrgyzstan','Kuwait','Libya','Malaysia','Mexico','Mongolia','Myanmar','Nigeria','Norway','Oman','Qatar','UK','RD of the Congo','Russia','Trinidad and Tobago','Sudan','South Sudan','Tunisia','Turkmenistan','Vietnam','Venezuela','Yemen']\n",
    "\n",
    "\n",
    "##### Estos paises tenian nombres diferentes a los de la lista original\n",
    "        # Bolivia = Bolivia (Plur. State of)\n",
    "        # Brunei = Brunei Darussalam\n",
    "        # UAE = United Arab Emirates\n",
    "    # Estonia = no aparece en la base de datos ni como exportador ni como importador\n",
    "        # Iran =  Iran (Islamic Rep. of)\n",
    "        # UK = United Kingdom\n",
    "        # RD of the Congo = Dem. Rep. of the Congo\n",
    "        # Russia = Russian Federation \n",
    "        # Vietnam = Viet Nam\n",
    "        # Venezuela = Venezuela (Bolivar. Rep.)\n",
    "\n",
    "\n",
    "####Use este codigo para identificar cualese estaban y cuales no\n",
    "# exporters_list = imports[\"Country or Area\"].to_list()\n",
    "# for x in netos:\n",
    "#     if x not in exporters_list:\n",
    "#         print(x)\n",
    "\n",
    "\n",
    "##### Lista de productores netos adecuada a como aparecen los nombres en la base de datos\n",
    "netos = ['Albania','Angola','Saudi Arabia','Algeria','Argentina','Benin','Azerbaijan','Bolivia (Plur. State of)','Brazil','Brunei Darussalam','Cameroon','Canada','China','Colombia','Congo','Denmark','Ecuador','Egypt','United Arab Emirates','Estonia','Gabon','Indonesia','Georgia','Ghana','Guatemala','Iran (Islamic Rep. of)','Iraq','Kazakhstan','Kyrgyzstan','Kuwait','Libya','Malaysia','Mexico','Mongolia','Myanmar','Nigeria','Norway','Oman','Qatar','United Kingdom','Dem. Rep. of the Congo','Russian Federation','Trinidad and Tobago','Sudan','South Sudan','Tunisia','Turkmenistan','Viet Nam','Venezuela (Bolivar. Rep.)','Yemen']\n",
    "\n",
    "### Estos 18 paises no aparecen en la base de datos de importadores \n",
    "#['Angola', 'Saudi Arabia', 'Benin', 'Bolivia (Plur. State of)', 'Brunei Darussalam', 'Congo', 'United Arab Emirates', 'Estonia', 'Gabon', 'Iran (Islamic Rep. of)', 'Iraq', 'Kuwait', 'Libya', 'Mongolia', 'Nigeria', 'Oman', 'Qatar', 'South Sudan']\n",
    "\n",
    "###Estos paises no aparecen en la base de datos de exportadores \n",
    "# ['Estonia']"
   ]
  },
  {
   "cell_type": "markdown",
   "metadata": {},
   "source": [
    "En la lista de importadores hay: 32 paises con 658 registros \n",
    "\n",
    "En la lista de exportadores hay: 49 paises con 1240 registros"
   ]
  },
  {
   "cell_type": "code",
   "execution_count": 79,
   "metadata": {},
   "outputs": [],
   "source": [
    "#Filtra en la base de datos (BD) solo los países que esten en la lista de productores netos\n",
    "importers = imports.loc[imports[\"Country or Area\"].isin(netos)]\n",
    "exporters = exports.loc[exports[\"Country or Area\"].isin(netos)]\n",
    "\n",
    "#En ambas BD castea el valor de año, \n",
    "importers = importers.astype({\"Year\" : \"int32\"})\n",
    "exporters = exporters.astype({\"Year\" : \"int32\"})\n",
    "\n",
    "#En ambas BD elimina las columnas de unidad y transacción\n",
    "importers = importers.drop(columns=[\"Commodity - Transaction\", \"Unit\"])\n",
    "exporters = exporters.drop(columns=[\"Commodity - Transaction\", \"Unit\"])\n",
    "\n",
    "#En ambas BD agrega la unidad al nombre de la columna, y cambia el nombre de las notas y pais\n",
    "importers = importers.rename(columns={\"Quantity Footnotes\" : \"imp_notes\", \"Quantity\" : \"Imports (Metric tons, thousand)\", \"Country or Area\" : \"Country\"})\n",
    "exporters = exporters.rename(columns={\"Quantity Footnotes\" : \"exp_notes\", \"Quantity\" : \"Exports (Metric tons, thousand)\", \"Country or Area\" : \"Country\"})"
   ]
  },
  {
   "cell_type": "code",
   "execution_count": 83,
   "metadata": {},
   "outputs": [
    {
     "output_type": "execute_result",
     "data": {
      "text/plain": "0"
     },
     "metadata": {},
     "execution_count": 83
    }
   ],
   "source": [
    "#Combina las dos BD en una sola\n",
    "exp_imp = exporters.merge(importers, how=\"left\", on=[\"Country\", \"Year\"])  \n",
    "#Transforma los valores Nan en la columna de importaciones en valores de 0\n",
    "exp_imp[\"Imports (Metric tons, thousand)\"] = exp_imp[\"Imports (Metric tons, thousand)\"].fillna(0)\n",
    "#Verifica que no se haya perdido ningun dato, comparando la extension de exportadores vs nueva BD\n",
    "len(exporters) - len(exp_imp)"
   ]
  },
  {
   "cell_type": "code",
   "execution_count": 84,
   "metadata": {
    "tags": []
   },
   "outputs": [],
   "source": [
    "#Create a new column which substract imports to exports to get net exports\n",
    "exp_imp[\"Net exports\"] =  (exp_imp[\"Exports (Metric tons, thousand)\"] - exp_imp[\"Imports (Metric tons, thousand)\"])\n"
   ]
  },
  {
   "cell_type": "code",
   "execution_count": 92,
   "metadata": {},
   "outputs": [
    {
     "output_type": "execute_result",
     "data": {
      "text/plain": "   Country  Year  Exports (Metric tons, thousand)  exp_notes  \\\n0  Albania  2017                           488.00        NaN   \n1  Albania  2016                           888.00        NaN   \n2  Albania  2015                           987.00        NaN   \n3  Albania  2014                          1007.22        NaN   \n4  Albania  2013                          1167.00        NaN   \n\n   Imports (Metric tons, thousand)  imp_notes  Net exports  \n0                              0.0        NaN       488.00  \n1                              0.0        NaN       888.00  \n2                              0.0        NaN       987.00  \n3                              0.0        NaN      1007.22  \n4                              0.0        NaN      1167.00  ",
      "text/html": "<div>\n<style scoped>\n    .dataframe tbody tr th:only-of-type {\n        vertical-align: middle;\n    }\n\n    .dataframe tbody tr th {\n        vertical-align: top;\n    }\n\n    .dataframe thead th {\n        text-align: right;\n    }\n</style>\n<table border=\"1\" class=\"dataframe\">\n  <thead>\n    <tr style=\"text-align: right;\">\n      <th></th>\n      <th>Country</th>\n      <th>Year</th>\n      <th>Exports (Metric tons, thousand)</th>\n      <th>exp_notes</th>\n      <th>Imports (Metric tons, thousand)</th>\n      <th>imp_notes</th>\n      <th>Net exports</th>\n    </tr>\n  </thead>\n  <tbody>\n    <tr>\n      <th>0</th>\n      <td>Albania</td>\n      <td>2017</td>\n      <td>488.00</td>\n      <td>NaN</td>\n      <td>0.0</td>\n      <td>NaN</td>\n      <td>488.00</td>\n    </tr>\n    <tr>\n      <th>1</th>\n      <td>Albania</td>\n      <td>2016</td>\n      <td>888.00</td>\n      <td>NaN</td>\n      <td>0.0</td>\n      <td>NaN</td>\n      <td>888.00</td>\n    </tr>\n    <tr>\n      <th>2</th>\n      <td>Albania</td>\n      <td>2015</td>\n      <td>987.00</td>\n      <td>NaN</td>\n      <td>0.0</td>\n      <td>NaN</td>\n      <td>987.00</td>\n    </tr>\n    <tr>\n      <th>3</th>\n      <td>Albania</td>\n      <td>2014</td>\n      <td>1007.22</td>\n      <td>NaN</td>\n      <td>0.0</td>\n      <td>NaN</td>\n      <td>1007.22</td>\n    </tr>\n    <tr>\n      <th>4</th>\n      <td>Albania</td>\n      <td>2013</td>\n      <td>1167.00</td>\n      <td>NaN</td>\n      <td>0.0</td>\n      <td>NaN</td>\n      <td>1167.00</td>\n    </tr>\n  </tbody>\n</table>\n</div>"
     },
     "metadata": {},
     "execution_count": 92
    }
   ],
   "source": [
    "exp_imp.head()"
   ]
  },
  {
   "cell_type": "code",
   "execution_count": 91,
   "metadata": {},
   "outputs": [],
   "source": [
    "exp_imp.to_excel(\"../Excel_reports/Exportaciones_netas.xlsx\")"
   ]
  }
 ]
}