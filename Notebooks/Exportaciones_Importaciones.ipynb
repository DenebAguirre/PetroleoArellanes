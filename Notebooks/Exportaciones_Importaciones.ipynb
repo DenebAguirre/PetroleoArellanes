{
 "metadata": {
  "language_info": {
   "codemirror_mode": {
    "name": "ipython",
    "version": 3
   },
   "file_extension": ".py",
   "mimetype": "text/x-python",
   "name": "python",
   "nbconvert_exporter": "python",
   "pygments_lexer": "ipython3",
   "version": "3.7.6-final"
  },
  "orig_nbformat": 2,
  "kernelspec": {
   "name": "python3",
   "display_name": "Python 3"
  }
 },
 "nbformat": 4,
 "nbformat_minor": 2,
 "cells": [
  {
   "cell_type": "code",
   "execution_count": 1,
   "metadata": {},
   "outputs": [],
   "source": [
    "import pandas as pd"
   ]
  },
  {
   "cell_type": "code",
   "execution_count": 5,
   "metadata": {},
   "outputs": [],
   "source": [
    "#Obtener lista de exportadores del archivo proporcionadp\n",
    "exp_netos = pd.read_excel(\"../Exportadores netos 1990-2015.xlsx\",  sheet_name=\"Lista 2\", header=None)\n",
    "exp_netos = exp_netos[1].to_list()\n",
    "#Elimina los primeros tres, porque son NaN\n",
    "del exp_netos[0:3]\n"
   ]
  },
  {
   "cell_type": "code",
   "execution_count": null,
   "metadata": {},
   "outputs": [],
   "source": [
    "How to translate: https://www.youtube.com/watch?v=yRFkI8miPHA"
   ]
  }
 ]
}